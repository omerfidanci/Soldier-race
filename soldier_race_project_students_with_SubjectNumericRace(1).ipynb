{
  "cells": [
    {
      "cell_type": "markdown",
      "metadata": {
        "id": "rfUdHCfe1b6v"
      },
      "source": [
        "___\n",
        "\n",
        "<p style=\"text-align: center;\"><img src=\"https://docs.google.com/uc?id=1lY0Uj5R04yMY3-ZppPWxqCr5pvBLYPnV\" class=\"img-fluid\" alt=\"CLRSWY\"></p>\n",
        "\n",
        "___"
      ]
    },
    {
      "cell_type": "markdown",
      "metadata": {
        "cell_style": "split",
        "heading_collapsed": true,
        "id": "CvFxPmf41b6y"
      },
      "source": [
        "# WELCOME!"
      ]
    },
    {
      "cell_type": "markdown",
      "metadata": {
        "cell_style": "split",
        "hidden": true,
        "id": "WZUMKNQY1b6y"
      },
      "source": [
        "In this project, you must apply EDA processes for the development of predictive models. Handling outliers, domain knowledge and feature engineering will be challenges.\n",
        "\n",
        "Also, this project aims to improve your ability to implement algorithms for Multi-Class Classification. Thus, you will have the opportunity to implement many algorithms commonly used for Multi-Class Classification problems.\n",
        "\n",
        "Before diving into the project, please take a look at the determines and tasks."
      ]
    },
    {
      "cell_type": "markdown",
      "metadata": {
        "cell_style": "split",
        "heading_collapsed": true,
        "id": "laCRtJs51b6z"
      },
      "source": [
        "# Determines"
      ]
    },
    {
      "cell_type": "markdown",
      "metadata": {
        "cell_style": "split",
        "hidden": true,
        "id": "iixh9Bej1b6z"
      },
      "source": [
        "The 2012 US Army Anthropometric Survey (ANSUR II) was executed by the Natick Soldier Research, Development and Engineering Center (NSRDEC) from October 2010 to April 2012 and is comprised of personnel representing the total US Army force to include the US Army Active Duty, Reserves, and National Guard. In addition to the anthropometric and demographic data described below, the ANSUR II database also consists of 3D whole body, foot, and head scans of Soldier participants. These 3D data are not publicly available out of respect for the privacy of ANSUR II participants. The data from this survey are used for a wide range of equipment design, sizing, and tariffing applications within the military and has many potential commercial, industrial, and academic applications.\n",
        "\n",
        "The ANSUR II working databases contain 93 anthropometric measurements which were directly measured, and 15 demographic/administrative variables explained below. The ANSUR II Male working database contains a total sample of 4,082 subjects. The ANSUR II Female working database contains a total sample of 1,986 subjects.\n",
        "\n",
        "\n",
        "DATA DICT:\n",
        "https://data.world/datamil/ansur-ii-data-dictionary/workspace/file?filename=ANSUR+II+Databases+Overview.pdf\n",
        "\n",
        "---\n",
        "\n",
        "To achieve high prediction success, you must understand the data well and develop different approaches that can affect the dependent variable.\n",
        "\n",
        "Firstly, try to understand the dataset column by column using pandas module. Do research within the scope of domain (body scales, and race characteristics) knowledge on the internet to get to know the data set in the fastest way. \n",
        "\n",
        "You will implement ***Logistic Regression, Support Vector Machine, XGBoost, Random Forest*** algorithms. Also, evaluate the success of your models with appropriate performance metrics.\n",
        "\n",
        "At the end of the project, choose the most successful model and try to enhance the scores with ***SMOTE*** make it ready to deploy. Furthermore, use ***SHAP*** to explain how the best model you choose works."
      ]
    },
    {
      "cell_type": "markdown",
      "metadata": {
        "cell_style": "split",
        "heading_collapsed": true,
        "id": "P2UckCvP1b60"
      },
      "source": [
        "# Tasks"
      ]
    },
    {
      "cell_type": "markdown",
      "metadata": {
        "cell_style": "split",
        "hidden": true,
        "id": "gCVDEsGB1b60"
      },
      "source": [
        "#### 1. Exploratory Data Analysis (EDA)\n",
        "- Import Libraries, Load Dataset, Exploring Data\n",
        "\n",
        "    *i. Import Libraries*\n",
        "    \n",
        "    *ii. Ingest Data *\n",
        "    \n",
        "    *iii. Explore Data*\n",
        "    \n",
        "    *iv. Outlier Detection*\n",
        "    \n",
        "    *v.  Drop unnecessary features*\n",
        "\n",
        "#### 2. Data Preprocessing\n",
        "- Scale (if needed)\n",
        "- Separete the data frame for evaluation purposes\n",
        "\n",
        "#### 3. Multi-class Classification\n",
        "- Import libraries\n",
        "- Implement SVM Classifer\n",
        "- Implement Decision Tree Classifier\n",
        "- Implement Random Forest Classifer\n",
        "- Implement XGBoost Classifer\n",
        "- Compare The Models\n",
        "\n"
      ]
    },
    {
      "cell_type": "markdown",
      "metadata": {
        "heading_collapsed": true,
        "id": "Y5-Kay1Eqvdj"
      },
      "source": [
        "# EDA\n",
        "- Drop unnecessary colums\n",
        "- Drop DODRace class if value count below 500 (we assume that our data model can't learn if it is below 500)"
      ]
    },
    {
      "cell_type": "markdown",
      "metadata": {
        "heading_collapsed": true,
        "hidden": true,
        "id": "K7UZHtvu1b62"
      },
      "source": [
        "## Import Libraries\n",
        "Besides Numpy and Pandas, you need to import the necessary modules for data visualization, data preprocessing, Model building and tuning.\n",
        "\n",
        "*Note: Check out the course materials.*"
      ]
    },
    {
      "cell_type": "code",
      "execution_count": null,
      "metadata": {
        "hidden": true,
        "id": "OqnRjwHB1b64",
        "outputId": "5ed5b543-da84-475d-b4da-a1117fad094d"
      },
      "outputs": [
        {
          "data": {
            "text/html": [
              "        <script type=\"text/javascript\">\n",
              "        window.PlotlyConfig = {MathJaxConfig: 'local'};\n",
              "        if (window.MathJax && window.MathJax.Hub && window.MathJax.Hub.Config) {window.MathJax.Hub.Config({SVG: {font: \"STIX-Web\"}});}\n",
              "        if (typeof require !== 'undefined') {\n",
              "        require.undef(\"plotly\");\n",
              "        requirejs.config({\n",
              "            paths: {\n",
              "                'plotly': ['https://cdn.plot.ly/plotly-2.12.1.min']\n",
              "            }\n",
              "        });\n",
              "        require(['plotly'], function(Plotly) {\n",
              "            window._Plotly = Plotly;\n",
              "        });\n",
              "        }\n",
              "        </script>\n",
              "        "
            ]
          },
          "metadata": {},
          "output_type": "display_data"
        },
        {
          "data": {
            "text/html": [
              "        <script type=\"text/javascript\">\n",
              "        window.PlotlyConfig = {MathJaxConfig: 'local'};\n",
              "        if (window.MathJax && window.MathJax.Hub && window.MathJax.Hub.Config) {window.MathJax.Hub.Config({SVG: {font: \"STIX-Web\"}});}\n",
              "        if (typeof require !== 'undefined') {\n",
              "        require.undef(\"plotly\");\n",
              "        requirejs.config({\n",
              "            paths: {\n",
              "                'plotly': ['https://cdn.plot.ly/plotly-2.12.1.min']\n",
              "            }\n",
              "        });\n",
              "        require(['plotly'], function(Plotly) {\n",
              "            window._Plotly = Plotly;\n",
              "        });\n",
              "        }\n",
              "        </script>\n",
              "        "
            ]
          },
          "metadata": {},
          "output_type": "display_data"
        }
      ],
      "source": [
        "# libraries for EDA\n",
        "import numpy as np\n",
        "import pandas as pd\n",
        "import matplotlib.pyplot as plt\n",
        "import seaborn as sns\n",
        "import plotly\n",
        "import plotly.express as px\n",
        "import cufflinks as cf\n",
        "#Enabling the offline mode for interactive plotting locally\n",
        "from plotly.offline import download_plotlyjs,init_notebook_mode,plot,iplot\n",
        "init_notebook_mode(connected=True)\n",
        "cf.go_offline()\n",
        "#To display the plots\n",
        "%matplotlib inline\n",
        "\n",
        "# sklearn library for machine learning algorithms, data preprocessing, and evaluation\n",
        "from sklearn.preprocessing import StandardScaler, MinMaxScaler, RobustScaler\n",
        "from sklearn.model_selection import train_test_split, GridSearchCV, cross_validate\n",
        "from sklearn.neighbors import KNeighborsClassifier\n",
        "from sklearn.linear_model import LogisticRegression\n",
        "from sklearn.metrics import classification_report, confusion_matrix, log_loss, recall_score, accuracy_score, precision_score, f1_score\n",
        "\n",
        "# yellowbrick library for visualizing the model performance\n",
        "from yellowbrick.classifier import ConfusionMatrix\n",
        "from yellowbrick.cluster import KElbowVisualizer \n",
        "\n",
        "from sklearn.pipeline import Pipeline\n",
        "# to get rid of the warnings\n",
        "import warnings\n",
        "warnings.filterwarnings(\"ignore\")\n",
        "warnings.warn(\"this will not show\")\n",
        "\n",
        "\n",
        "# to display mac columns and rows\n",
        "pd.set_option('display.max_columns', None)\n",
        "pd.set_option('display.max_rows', None)"
      ]
    },
    {
      "cell_type": "code",
      "execution_count": null,
      "metadata": {
        "id": "Iqo8N7MYP5Os"
      },
      "outputs": [],
      "source": [
        "# !pip install cufflinks"
      ]
    },
    {
      "cell_type": "markdown",
      "metadata": {
        "heading_collapsed": true,
        "hidden": true,
        "id": "C5lJeTBu1b65"
      },
      "source": [
        "## Ingest Data from links below and make a dataframe\n",
        "- Soldiers Male : https://query.data.world/s/h3pbhckz5ck4rc7qmt2wlknlnn7esr\n",
        "- Soldiers Female : https://query.data.world/s/sq27zz4hawg32yfxksqwijxmpwmynq"
      ]
    },
    {
      "cell_type": "code",
      "execution_count": null,
      "metadata": {
        "hidden": true,
        "id": "tG5BsWraqX_y"
      },
      "outputs": [],
      "source": [
        "import pandas as pd\n",
        "df_male = pd.read_csv('https://query.data.world/s/c52mdq465v77acbuyoxdq4cctjrfye?dws=00000', encoding='latin-1')\n",
        "df_female = pd.read_csv('https://query.data.world/s/bydb7flh376go6ao5maitsbfzyuukl?dws=00000', encoding='latin-1')\n"
      ]
    },
    {
      "cell_type": "code",
      "execution_count": null,
      "metadata": {
        "id": "zutkNrgNP5Ou",
        "outputId": "dbe62544-c6d7-4794-efdb-70db60317b90"
      },
      "outputs": [
        {
          "data": {
            "text/plain": [
              "(4082, 108)"
            ]
          },
          "metadata": {},
          "output_type": "display_data"
        },
        {
          "data": {
            "text/plain": [
              "(1986, 108)"
            ]
          },
          "metadata": {},
          "output_type": "display_data"
        }
      ],
      "source": [
        "# check the dataset\n",
        "display(df_male.shape, df_female.shape)"
      ]
    },
    {
      "cell_type": "code",
      "execution_count": null,
      "metadata": {
        "id": "Q81OtgR-P5Ov",
        "outputId": "48702a84-90e4-4de6-fd63-02a527b45f58"
      },
      "outputs": [
        {
          "data": {
            "text/html": [
              "<div>\n",
              "<style scoped>\n",
              "    .dataframe tbody tr th:only-of-type {\n",
              "        vertical-align: middle;\n",
              "    }\n",
              "\n",
              "    .dataframe tbody tr th {\n",
              "        vertical-align: top;\n",
              "    }\n",
              "\n",
              "    .dataframe thead th {\n",
              "        text-align: right;\n",
              "    }\n",
              "</style>\n",
              "<table border=\"1\" class=\"dataframe\">\n",
              "  <thead>\n",
              "    <tr style=\"text-align: right;\">\n",
              "      <th></th>\n",
              "      <th>subjectid</th>\n",
              "      <th>abdominalextensiondepthsitting</th>\n",
              "      <th>acromialheight</th>\n",
              "      <th>acromionradialelength</th>\n",
              "      <th>anklecircumference</th>\n",
              "      <th>axillaheight</th>\n",
              "      <th>balloffootcircumference</th>\n",
              "      <th>balloffootlength</th>\n",
              "      <th>biacromialbreadth</th>\n",
              "      <th>bicepscircumferenceflexed</th>\n",
              "      <th>bicristalbreadth</th>\n",
              "      <th>bideltoidbreadth</th>\n",
              "      <th>bimalleolarbreadth</th>\n",
              "      <th>bitragionchinarc</th>\n",
              "      <th>bitragionsubmandibulararc</th>\n",
              "      <th>bizygomaticbreadth</th>\n",
              "      <th>buttockcircumference</th>\n",
              "      <th>buttockdepth</th>\n",
              "      <th>buttockheight</th>\n",
              "      <th>buttockkneelength</th>\n",
              "      <th>buttockpopliteallength</th>\n",
              "      <th>calfcircumference</th>\n",
              "      <th>cervicaleheight</th>\n",
              "      <th>chestbreadth</th>\n",
              "      <th>chestcircumference</th>\n",
              "      <th>chestdepth</th>\n",
              "      <th>chestheight</th>\n",
              "      <th>crotchheight</th>\n",
              "      <th>crotchlengthomphalion</th>\n",
              "      <th>crotchlengthposterioromphalion</th>\n",
              "      <th>earbreadth</th>\n",
              "      <th>earlength</th>\n",
              "      <th>earprotrusion</th>\n",
              "      <th>elbowrestheight</th>\n",
              "      <th>eyeheightsitting</th>\n",
              "      <th>footbreadthhorizontal</th>\n",
              "      <th>footlength</th>\n",
              "      <th>forearmcenterofgriplength</th>\n",
              "      <th>forearmcircumferenceflexed</th>\n",
              "      <th>forearmforearmbreadth</th>\n",
              "      <th>forearmhandlength</th>\n",
              "      <th>functionalleglength</th>\n",
              "      <th>handbreadth</th>\n",
              "      <th>handcircumference</th>\n",
              "      <th>handlength</th>\n",
              "      <th>headbreadth</th>\n",
              "      <th>headcircumference</th>\n",
              "      <th>headlength</th>\n",
              "      <th>heelanklecircumference</th>\n",
              "      <th>heelbreadth</th>\n",
              "      <th>hipbreadth</th>\n",
              "      <th>hipbreadthsitting</th>\n",
              "      <th>iliocristaleheight</th>\n",
              "      <th>interpupillarybreadth</th>\n",
              "      <th>interscyei</th>\n",
              "      <th>interscyeii</th>\n",
              "      <th>kneeheightmidpatella</th>\n",
              "      <th>kneeheightsitting</th>\n",
              "      <th>lateralfemoralepicondyleheight</th>\n",
              "      <th>lateralmalleolusheight</th>\n",
              "      <th>lowerthighcircumference</th>\n",
              "      <th>mentonsellionlength</th>\n",
              "      <th>neckcircumference</th>\n",
              "      <th>neckcircumferencebase</th>\n",
              "      <th>overheadfingertipreachsitting</th>\n",
              "      <th>palmlength</th>\n",
              "      <th>poplitealheight</th>\n",
              "      <th>radialestylionlength</th>\n",
              "      <th>shouldercircumference</th>\n",
              "      <th>shoulderelbowlength</th>\n",
              "      <th>shoulderlength</th>\n",
              "      <th>sittingheight</th>\n",
              "      <th>sleevelengthspinewrist</th>\n",
              "      <th>sleeveoutseam</th>\n",
              "      <th>span</th>\n",
              "      <th>stature</th>\n",
              "      <th>suprasternaleheight</th>\n",
              "      <th>tenthribheight</th>\n",
              "      <th>thighcircumference</th>\n",
              "      <th>thighclearance</th>\n",
              "      <th>thumbtipreach</th>\n",
              "      <th>tibialheight</th>\n",
              "      <th>tragiontopofhead</th>\n",
              "      <th>trochanterionheight</th>\n",
              "      <th>verticaltrunkcircumferenceusa</th>\n",
              "      <th>waistbacklength</th>\n",
              "      <th>waistbreadth</th>\n",
              "      <th>waistcircumference</th>\n",
              "      <th>waistdepth</th>\n",
              "      <th>waistfrontlengthsitting</th>\n",
              "      <th>waistheightomphalion</th>\n",
              "      <th>weightkg</th>\n",
              "      <th>wristcircumference</th>\n",
              "      <th>wristheight</th>\n",
              "      <th>Gender</th>\n",
              "      <th>Date</th>\n",
              "      <th>Installation</th>\n",
              "      <th>Component</th>\n",
              "      <th>Branch</th>\n",
              "      <th>PrimaryMOS</th>\n",
              "      <th>SubjectsBirthLocation</th>\n",
              "      <th>SubjectNumericRace</th>\n",
              "      <th>Ethnicity</th>\n",
              "      <th>DODRace</th>\n",
              "      <th>Age</th>\n",
              "      <th>Heightin</th>\n",
              "      <th>Weightlbs</th>\n",
              "      <th>WritingPreference</th>\n",
              "    </tr>\n",
              "  </thead>\n",
              "  <tbody>\n",
              "    <tr>\n",
              "      <th>0</th>\n",
              "      <td>10027</td>\n",
              "      <td>266</td>\n",
              "      <td>1467</td>\n",
              "      <td>337</td>\n",
              "      <td>222</td>\n",
              "      <td>1347</td>\n",
              "      <td>253</td>\n",
              "      <td>202</td>\n",
              "      <td>401</td>\n",
              "      <td>369</td>\n",
              "      <td>274</td>\n",
              "      <td>493</td>\n",
              "      <td>71</td>\n",
              "      <td>319</td>\n",
              "      <td>291</td>\n",
              "      <td>142</td>\n",
              "      <td>979</td>\n",
              "      <td>240</td>\n",
              "      <td>882</td>\n",
              "      <td>619</td>\n",
              "      <td>509</td>\n",
              "      <td>373</td>\n",
              "      <td>1535</td>\n",
              "      <td>291</td>\n",
              "      <td>1074</td>\n",
              "      <td>259</td>\n",
              "      <td>1292</td>\n",
              "      <td>877</td>\n",
              "      <td>607</td>\n",
              "      <td>351</td>\n",
              "      <td>36</td>\n",
              "      <td>71</td>\n",
              "      <td>19</td>\n",
              "      <td>247</td>\n",
              "      <td>802</td>\n",
              "      <td>101</td>\n",
              "      <td>273</td>\n",
              "      <td>349</td>\n",
              "      <td>299</td>\n",
              "      <td>575</td>\n",
              "      <td>477</td>\n",
              "      <td>1136</td>\n",
              "      <td>90</td>\n",
              "      <td>214</td>\n",
              "      <td>193</td>\n",
              "      <td>150</td>\n",
              "      <td>583</td>\n",
              "      <td>206</td>\n",
              "      <td>326</td>\n",
              "      <td>70</td>\n",
              "      <td>332</td>\n",
              "      <td>366</td>\n",
              "      <td>1071</td>\n",
              "      <td>685</td>\n",
              "      <td>422</td>\n",
              "      <td>441</td>\n",
              "      <td>502</td>\n",
              "      <td>560</td>\n",
              "      <td>500</td>\n",
              "      <td>77</td>\n",
              "      <td>391</td>\n",
              "      <td>118</td>\n",
              "      <td>400</td>\n",
              "      <td>436</td>\n",
              "      <td>1447</td>\n",
              "      <td>113</td>\n",
              "      <td>437</td>\n",
              "      <td>273</td>\n",
              "      <td>1151</td>\n",
              "      <td>368</td>\n",
              "      <td>145</td>\n",
              "      <td>928</td>\n",
              "      <td>883</td>\n",
              "      <td>600</td>\n",
              "      <td>1782</td>\n",
              "      <td>1776</td>\n",
              "      <td>1449</td>\n",
              "      <td>1092</td>\n",
              "      <td>610</td>\n",
              "      <td>164</td>\n",
              "      <td>786</td>\n",
              "      <td>491</td>\n",
              "      <td>140</td>\n",
              "      <td>919</td>\n",
              "      <td>1700</td>\n",
              "      <td>501</td>\n",
              "      <td>329</td>\n",
              "      <td>933</td>\n",
              "      <td>240</td>\n",
              "      <td>440</td>\n",
              "      <td>1054</td>\n",
              "      <td>815</td>\n",
              "      <td>175</td>\n",
              "      <td>853</td>\n",
              "      <td>Male</td>\n",
              "      <td>4-Oct-10</td>\n",
              "      <td>Fort Hood</td>\n",
              "      <td>Regular Army</td>\n",
              "      <td>Combat Arms</td>\n",
              "      <td>19D</td>\n",
              "      <td>North Dakota</td>\n",
              "      <td>1</td>\n",
              "      <td>NaN</td>\n",
              "      <td>1</td>\n",
              "      <td>41</td>\n",
              "      <td>71</td>\n",
              "      <td>180</td>\n",
              "      <td>Right hand</td>\n",
              "    </tr>\n",
              "    <tr>\n",
              "      <th>1</th>\n",
              "      <td>10032</td>\n",
              "      <td>233</td>\n",
              "      <td>1395</td>\n",
              "      <td>326</td>\n",
              "      <td>220</td>\n",
              "      <td>1293</td>\n",
              "      <td>245</td>\n",
              "      <td>193</td>\n",
              "      <td>394</td>\n",
              "      <td>338</td>\n",
              "      <td>257</td>\n",
              "      <td>479</td>\n",
              "      <td>67</td>\n",
              "      <td>344</td>\n",
              "      <td>320</td>\n",
              "      <td>135</td>\n",
              "      <td>944</td>\n",
              "      <td>232</td>\n",
              "      <td>870</td>\n",
              "      <td>584</td>\n",
              "      <td>468</td>\n",
              "      <td>357</td>\n",
              "      <td>1471</td>\n",
              "      <td>269</td>\n",
              "      <td>1021</td>\n",
              "      <td>253</td>\n",
              "      <td>1244</td>\n",
              "      <td>851</td>\n",
              "      <td>615</td>\n",
              "      <td>376</td>\n",
              "      <td>33</td>\n",
              "      <td>62</td>\n",
              "      <td>18</td>\n",
              "      <td>232</td>\n",
              "      <td>781</td>\n",
              "      <td>98</td>\n",
              "      <td>263</td>\n",
              "      <td>348</td>\n",
              "      <td>289</td>\n",
              "      <td>523</td>\n",
              "      <td>476</td>\n",
              "      <td>1096</td>\n",
              "      <td>86</td>\n",
              "      <td>203</td>\n",
              "      <td>195</td>\n",
              "      <td>146</td>\n",
              "      <td>568</td>\n",
              "      <td>201</td>\n",
              "      <td>334</td>\n",
              "      <td>72</td>\n",
              "      <td>312</td>\n",
              "      <td>356</td>\n",
              "      <td>1046</td>\n",
              "      <td>620</td>\n",
              "      <td>441</td>\n",
              "      <td>447</td>\n",
              "      <td>490</td>\n",
              "      <td>540</td>\n",
              "      <td>488</td>\n",
              "      <td>73</td>\n",
              "      <td>371</td>\n",
              "      <td>131</td>\n",
              "      <td>380</td>\n",
              "      <td>420</td>\n",
              "      <td>1380</td>\n",
              "      <td>118</td>\n",
              "      <td>417</td>\n",
              "      <td>254</td>\n",
              "      <td>1119</td>\n",
              "      <td>353</td>\n",
              "      <td>141</td>\n",
              "      <td>884</td>\n",
              "      <td>868</td>\n",
              "      <td>564</td>\n",
              "      <td>1745</td>\n",
              "      <td>1702</td>\n",
              "      <td>1387</td>\n",
              "      <td>1076</td>\n",
              "      <td>572</td>\n",
              "      <td>169</td>\n",
              "      <td>822</td>\n",
              "      <td>476</td>\n",
              "      <td>120</td>\n",
              "      <td>918</td>\n",
              "      <td>1627</td>\n",
              "      <td>432</td>\n",
              "      <td>316</td>\n",
              "      <td>870</td>\n",
              "      <td>225</td>\n",
              "      <td>371</td>\n",
              "      <td>1054</td>\n",
              "      <td>726</td>\n",
              "      <td>167</td>\n",
              "      <td>815</td>\n",
              "      <td>Male</td>\n",
              "      <td>4-Oct-10</td>\n",
              "      <td>Fort Hood</td>\n",
              "      <td>Regular Army</td>\n",
              "      <td>Combat Support</td>\n",
              "      <td>68W</td>\n",
              "      <td>New York</td>\n",
              "      <td>1</td>\n",
              "      <td>NaN</td>\n",
              "      <td>1</td>\n",
              "      <td>35</td>\n",
              "      <td>68</td>\n",
              "      <td>160</td>\n",
              "      <td>Left hand</td>\n",
              "    </tr>\n",
              "    <tr>\n",
              "      <th>2</th>\n",
              "      <td>10033</td>\n",
              "      <td>287</td>\n",
              "      <td>1430</td>\n",
              "      <td>341</td>\n",
              "      <td>230</td>\n",
              "      <td>1327</td>\n",
              "      <td>256</td>\n",
              "      <td>196</td>\n",
              "      <td>427</td>\n",
              "      <td>408</td>\n",
              "      <td>261</td>\n",
              "      <td>544</td>\n",
              "      <td>75</td>\n",
              "      <td>345</td>\n",
              "      <td>330</td>\n",
              "      <td>135</td>\n",
              "      <td>1054</td>\n",
              "      <td>258</td>\n",
              "      <td>901</td>\n",
              "      <td>623</td>\n",
              "      <td>506</td>\n",
              "      <td>412</td>\n",
              "      <td>1501</td>\n",
              "      <td>288</td>\n",
              "      <td>1120</td>\n",
              "      <td>267</td>\n",
              "      <td>1288</td>\n",
              "      <td>854</td>\n",
              "      <td>636</td>\n",
              "      <td>359</td>\n",
              "      <td>40</td>\n",
              "      <td>61</td>\n",
              "      <td>23</td>\n",
              "      <td>237</td>\n",
              "      <td>810</td>\n",
              "      <td>103</td>\n",
              "      <td>270</td>\n",
              "      <td>355</td>\n",
              "      <td>357</td>\n",
              "      <td>575</td>\n",
              "      <td>491</td>\n",
              "      <td>1115</td>\n",
              "      <td>93</td>\n",
              "      <td>220</td>\n",
              "      <td>203</td>\n",
              "      <td>148</td>\n",
              "      <td>573</td>\n",
              "      <td>202</td>\n",
              "      <td>356</td>\n",
              "      <td>70</td>\n",
              "      <td>349</td>\n",
              "      <td>393</td>\n",
              "      <td>1053</td>\n",
              "      <td>665</td>\n",
              "      <td>462</td>\n",
              "      <td>475</td>\n",
              "      <td>496</td>\n",
              "      <td>556</td>\n",
              "      <td>482</td>\n",
              "      <td>72</td>\n",
              "      <td>409</td>\n",
              "      <td>123</td>\n",
              "      <td>403</td>\n",
              "      <td>434</td>\n",
              "      <td>1447</td>\n",
              "      <td>121</td>\n",
              "      <td>431</td>\n",
              "      <td>268</td>\n",
              "      <td>1276</td>\n",
              "      <td>367</td>\n",
              "      <td>167</td>\n",
              "      <td>917</td>\n",
              "      <td>910</td>\n",
              "      <td>604</td>\n",
              "      <td>1867</td>\n",
              "      <td>1735</td>\n",
              "      <td>1438</td>\n",
              "      <td>1105</td>\n",
              "      <td>685</td>\n",
              "      <td>198</td>\n",
              "      <td>807</td>\n",
              "      <td>477</td>\n",
              "      <td>125</td>\n",
              "      <td>918</td>\n",
              "      <td>1678</td>\n",
              "      <td>472</td>\n",
              "      <td>329</td>\n",
              "      <td>964</td>\n",
              "      <td>255</td>\n",
              "      <td>411</td>\n",
              "      <td>1041</td>\n",
              "      <td>929</td>\n",
              "      <td>180</td>\n",
              "      <td>831</td>\n",
              "      <td>Male</td>\n",
              "      <td>4-Oct-10</td>\n",
              "      <td>Fort Hood</td>\n",
              "      <td>Regular Army</td>\n",
              "      <td>Combat Support</td>\n",
              "      <td>68W</td>\n",
              "      <td>New York</td>\n",
              "      <td>2</td>\n",
              "      <td>NaN</td>\n",
              "      <td>2</td>\n",
              "      <td>42</td>\n",
              "      <td>68</td>\n",
              "      <td>205</td>\n",
              "      <td>Left hand</td>\n",
              "    </tr>\n",
              "    <tr>\n",
              "      <th>3</th>\n",
              "      <td>10092</td>\n",
              "      <td>234</td>\n",
              "      <td>1347</td>\n",
              "      <td>310</td>\n",
              "      <td>230</td>\n",
              "      <td>1239</td>\n",
              "      <td>262</td>\n",
              "      <td>199</td>\n",
              "      <td>401</td>\n",
              "      <td>359</td>\n",
              "      <td>262</td>\n",
              "      <td>518</td>\n",
              "      <td>73</td>\n",
              "      <td>328</td>\n",
              "      <td>309</td>\n",
              "      <td>143</td>\n",
              "      <td>991</td>\n",
              "      <td>242</td>\n",
              "      <td>821</td>\n",
              "      <td>560</td>\n",
              "      <td>437</td>\n",
              "      <td>395</td>\n",
              "      <td>1423</td>\n",
              "      <td>296</td>\n",
              "      <td>1114</td>\n",
              "      <td>262</td>\n",
              "      <td>1205</td>\n",
              "      <td>769</td>\n",
              "      <td>590</td>\n",
              "      <td>341</td>\n",
              "      <td>39</td>\n",
              "      <td>66</td>\n",
              "      <td>25</td>\n",
              "      <td>272</td>\n",
              "      <td>794</td>\n",
              "      <td>106</td>\n",
              "      <td>267</td>\n",
              "      <td>352</td>\n",
              "      <td>318</td>\n",
              "      <td>593</td>\n",
              "      <td>467</td>\n",
              "      <td>1034</td>\n",
              "      <td>91</td>\n",
              "      <td>217</td>\n",
              "      <td>194</td>\n",
              "      <td>158</td>\n",
              "      <td>576</td>\n",
              "      <td>199</td>\n",
              "      <td>341</td>\n",
              "      <td>68</td>\n",
              "      <td>338</td>\n",
              "      <td>367</td>\n",
              "      <td>986</td>\n",
              "      <td>640</td>\n",
              "      <td>458</td>\n",
              "      <td>461</td>\n",
              "      <td>460</td>\n",
              "      <td>511</td>\n",
              "      <td>452</td>\n",
              "      <td>76</td>\n",
              "      <td>393</td>\n",
              "      <td>106</td>\n",
              "      <td>407</td>\n",
              "      <td>446</td>\n",
              "      <td>1357</td>\n",
              "      <td>118</td>\n",
              "      <td>393</td>\n",
              "      <td>249</td>\n",
              "      <td>1155</td>\n",
              "      <td>330</td>\n",
              "      <td>148</td>\n",
              "      <td>903</td>\n",
              "      <td>848</td>\n",
              "      <td>550</td>\n",
              "      <td>1708</td>\n",
              "      <td>1655</td>\n",
              "      <td>1346</td>\n",
              "      <td>1021</td>\n",
              "      <td>604</td>\n",
              "      <td>180</td>\n",
              "      <td>803</td>\n",
              "      <td>445</td>\n",
              "      <td>127</td>\n",
              "      <td>847</td>\n",
              "      <td>1625</td>\n",
              "      <td>461</td>\n",
              "      <td>315</td>\n",
              "      <td>857</td>\n",
              "      <td>205</td>\n",
              "      <td>399</td>\n",
              "      <td>968</td>\n",
              "      <td>794</td>\n",
              "      <td>176</td>\n",
              "      <td>793</td>\n",
              "      <td>Male</td>\n",
              "      <td>12-Oct-10</td>\n",
              "      <td>Fort Hood</td>\n",
              "      <td>Regular Army</td>\n",
              "      <td>Combat Service Support</td>\n",
              "      <td>88M</td>\n",
              "      <td>Wisconsin</td>\n",
              "      <td>1</td>\n",
              "      <td>NaN</td>\n",
              "      <td>1</td>\n",
              "      <td>31</td>\n",
              "      <td>66</td>\n",
              "      <td>175</td>\n",
              "      <td>Right hand</td>\n",
              "    </tr>\n",
              "    <tr>\n",
              "      <th>4</th>\n",
              "      <td>10093</td>\n",
              "      <td>250</td>\n",
              "      <td>1585</td>\n",
              "      <td>372</td>\n",
              "      <td>247</td>\n",
              "      <td>1478</td>\n",
              "      <td>267</td>\n",
              "      <td>224</td>\n",
              "      <td>435</td>\n",
              "      <td>356</td>\n",
              "      <td>263</td>\n",
              "      <td>524</td>\n",
              "      <td>80</td>\n",
              "      <td>340</td>\n",
              "      <td>310</td>\n",
              "      <td>138</td>\n",
              "      <td>1029</td>\n",
              "      <td>275</td>\n",
              "      <td>1080</td>\n",
              "      <td>706</td>\n",
              "      <td>567</td>\n",
              "      <td>425</td>\n",
              "      <td>1684</td>\n",
              "      <td>304</td>\n",
              "      <td>1048</td>\n",
              "      <td>232</td>\n",
              "      <td>1452</td>\n",
              "      <td>1014</td>\n",
              "      <td>682</td>\n",
              "      <td>382</td>\n",
              "      <td>32</td>\n",
              "      <td>56</td>\n",
              "      <td>19</td>\n",
              "      <td>188</td>\n",
              "      <td>814</td>\n",
              "      <td>111</td>\n",
              "      <td>305</td>\n",
              "      <td>399</td>\n",
              "      <td>324</td>\n",
              "      <td>605</td>\n",
              "      <td>550</td>\n",
              "      <td>1279</td>\n",
              "      <td>94</td>\n",
              "      <td>222</td>\n",
              "      <td>218</td>\n",
              "      <td>153</td>\n",
              "      <td>566</td>\n",
              "      <td>197</td>\n",
              "      <td>374</td>\n",
              "      <td>69</td>\n",
              "      <td>332</td>\n",
              "      <td>372</td>\n",
              "      <td>1251</td>\n",
              "      <td>675</td>\n",
              "      <td>481</td>\n",
              "      <td>505</td>\n",
              "      <td>612</td>\n",
              "      <td>666</td>\n",
              "      <td>585</td>\n",
              "      <td>85</td>\n",
              "      <td>458</td>\n",
              "      <td>135</td>\n",
              "      <td>398</td>\n",
              "      <td>430</td>\n",
              "      <td>1572</td>\n",
              "      <td>132</td>\n",
              "      <td>523</td>\n",
              "      <td>302</td>\n",
              "      <td>1231</td>\n",
              "      <td>400</td>\n",
              "      <td>180</td>\n",
              "      <td>919</td>\n",
              "      <td>995</td>\n",
              "      <td>641</td>\n",
              "      <td>2035</td>\n",
              "      <td>1914</td>\n",
              "      <td>1596</td>\n",
              "      <td>1292</td>\n",
              "      <td>672</td>\n",
              "      <td>194</td>\n",
              "      <td>962</td>\n",
              "      <td>584</td>\n",
              "      <td>122</td>\n",
              "      <td>1090</td>\n",
              "      <td>1679</td>\n",
              "      <td>467</td>\n",
              "      <td>303</td>\n",
              "      <td>868</td>\n",
              "      <td>214</td>\n",
              "      <td>379</td>\n",
              "      <td>1245</td>\n",
              "      <td>946</td>\n",
              "      <td>188</td>\n",
              "      <td>954</td>\n",
              "      <td>Male</td>\n",
              "      <td>12-Oct-10</td>\n",
              "      <td>Fort Hood</td>\n",
              "      <td>Regular Army</td>\n",
              "      <td>Combat Service Support</td>\n",
              "      <td>92G</td>\n",
              "      <td>North Carolina</td>\n",
              "      <td>2</td>\n",
              "      <td>NaN</td>\n",
              "      <td>2</td>\n",
              "      <td>21</td>\n",
              "      <td>77</td>\n",
              "      <td>213</td>\n",
              "      <td>Right hand</td>\n",
              "    </tr>\n",
              "  </tbody>\n",
              "</table>\n",
              "</div>"
            ],
            "text/plain": [
              "   subjectid  abdominalextensiondepthsitting  acromialheight   \n",
              "0      10027                             266            1467  \\\n",
              "1      10032                             233            1395   \n",
              "2      10033                             287            1430   \n",
              "3      10092                             234            1347   \n",
              "4      10093                             250            1585   \n",
              "\n",
              "   acromionradialelength  anklecircumference  axillaheight   \n",
              "0                    337                 222          1347  \\\n",
              "1                    326                 220          1293   \n",
              "2                    341                 230          1327   \n",
              "3                    310                 230          1239   \n",
              "4                    372                 247          1478   \n",
              "\n",
              "   balloffootcircumference  balloffootlength  biacromialbreadth   \n",
              "0                      253               202                401  \\\n",
              "1                      245               193                394   \n",
              "2                      256               196                427   \n",
              "3                      262               199                401   \n",
              "4                      267               224                435   \n",
              "\n",
              "   bicepscircumferenceflexed  bicristalbreadth  bideltoidbreadth   \n",
              "0                        369               274               493  \\\n",
              "1                        338               257               479   \n",
              "2                        408               261               544   \n",
              "3                        359               262               518   \n",
              "4                        356               263               524   \n",
              "\n",
              "   bimalleolarbreadth  bitragionchinarc  bitragionsubmandibulararc   \n",
              "0                  71               319                        291  \\\n",
              "1                  67               344                        320   \n",
              "2                  75               345                        330   \n",
              "3                  73               328                        309   \n",
              "4                  80               340                        310   \n",
              "\n",
              "   bizygomaticbreadth  buttockcircumference  buttockdepth  buttockheight   \n",
              "0                 142                   979           240            882  \\\n",
              "1                 135                   944           232            870   \n",
              "2                 135                  1054           258            901   \n",
              "3                 143                   991           242            821   \n",
              "4                 138                  1029           275           1080   \n",
              "\n",
              "   buttockkneelength  buttockpopliteallength  calfcircumference   \n",
              "0                619                     509                373  \\\n",
              "1                584                     468                357   \n",
              "2                623                     506                412   \n",
              "3                560                     437                395   \n",
              "4                706                     567                425   \n",
              "\n",
              "   cervicaleheight  chestbreadth  chestcircumference  chestdepth  chestheight   \n",
              "0             1535           291                1074         259         1292  \\\n",
              "1             1471           269                1021         253         1244   \n",
              "2             1501           288                1120         267         1288   \n",
              "3             1423           296                1114         262         1205   \n",
              "4             1684           304                1048         232         1452   \n",
              "\n",
              "   crotchheight  crotchlengthomphalion  crotchlengthposterioromphalion   \n",
              "0           877                    607                             351  \\\n",
              "1           851                    615                             376   \n",
              "2           854                    636                             359   \n",
              "3           769                    590                             341   \n",
              "4          1014                    682                             382   \n",
              "\n",
              "   earbreadth  earlength  earprotrusion  elbowrestheight  eyeheightsitting   \n",
              "0          36         71             19              247               802  \\\n",
              "1          33         62             18              232               781   \n",
              "2          40         61             23              237               810   \n",
              "3          39         66             25              272               794   \n",
              "4          32         56             19              188               814   \n",
              "\n",
              "   footbreadthhorizontal  footlength  forearmcenterofgriplength   \n",
              "0                    101         273                        349  \\\n",
              "1                     98         263                        348   \n",
              "2                    103         270                        355   \n",
              "3                    106         267                        352   \n",
              "4                    111         305                        399   \n",
              "\n",
              "   forearmcircumferenceflexed  forearmforearmbreadth  forearmhandlength   \n",
              "0                         299                    575                477  \\\n",
              "1                         289                    523                476   \n",
              "2                         357                    575                491   \n",
              "3                         318                    593                467   \n",
              "4                         324                    605                550   \n",
              "\n",
              "   functionalleglength  handbreadth  handcircumference  handlength   \n",
              "0                 1136           90                214         193  \\\n",
              "1                 1096           86                203         195   \n",
              "2                 1115           93                220         203   \n",
              "3                 1034           91                217         194   \n",
              "4                 1279           94                222         218   \n",
              "\n",
              "   headbreadth  headcircumference  headlength  heelanklecircumference   \n",
              "0          150                583         206                     326  \\\n",
              "1          146                568         201                     334   \n",
              "2          148                573         202                     356   \n",
              "3          158                576         199                     341   \n",
              "4          153                566         197                     374   \n",
              "\n",
              "   heelbreadth  hipbreadth  hipbreadthsitting  iliocristaleheight   \n",
              "0           70         332                366                1071  \\\n",
              "1           72         312                356                1046   \n",
              "2           70         349                393                1053   \n",
              "3           68         338                367                 986   \n",
              "4           69         332                372                1251   \n",
              "\n",
              "   interpupillarybreadth  interscyei  interscyeii  kneeheightmidpatella   \n",
              "0                    685         422          441                   502  \\\n",
              "1                    620         441          447                   490   \n",
              "2                    665         462          475                   496   \n",
              "3                    640         458          461                   460   \n",
              "4                    675         481          505                   612   \n",
              "\n",
              "   kneeheightsitting  lateralfemoralepicondyleheight  lateralmalleolusheight   \n",
              "0                560                             500                      77  \\\n",
              "1                540                             488                      73   \n",
              "2                556                             482                      72   \n",
              "3                511                             452                      76   \n",
              "4                666                             585                      85   \n",
              "\n",
              "   lowerthighcircumference  mentonsellionlength  neckcircumference   \n",
              "0                      391                  118                400  \\\n",
              "1                      371                  131                380   \n",
              "2                      409                  123                403   \n",
              "3                      393                  106                407   \n",
              "4                      458                  135                398   \n",
              "\n",
              "   neckcircumferencebase  overheadfingertipreachsitting  palmlength   \n",
              "0                    436                           1447         113  \\\n",
              "1                    420                           1380         118   \n",
              "2                    434                           1447         121   \n",
              "3                    446                           1357         118   \n",
              "4                    430                           1572         132   \n",
              "\n",
              "   poplitealheight  radialestylionlength  shouldercircumference   \n",
              "0              437                   273                   1151  \\\n",
              "1              417                   254                   1119   \n",
              "2              431                   268                   1276   \n",
              "3              393                   249                   1155   \n",
              "4              523                   302                   1231   \n",
              "\n",
              "   shoulderelbowlength  shoulderlength  sittingheight  sleevelengthspinewrist   \n",
              "0                  368             145            928                     883  \\\n",
              "1                  353             141            884                     868   \n",
              "2                  367             167            917                     910   \n",
              "3                  330             148            903                     848   \n",
              "4                  400             180            919                     995   \n",
              "\n",
              "   sleeveoutseam  span  stature  suprasternaleheight  tenthribheight   \n",
              "0            600  1782     1776                 1449            1092  \\\n",
              "1            564  1745     1702                 1387            1076   \n",
              "2            604  1867     1735                 1438            1105   \n",
              "3            550  1708     1655                 1346            1021   \n",
              "4            641  2035     1914                 1596            1292   \n",
              "\n",
              "   thighcircumference  thighclearance  thumbtipreach  tibialheight   \n",
              "0                 610             164            786           491  \\\n",
              "1                 572             169            822           476   \n",
              "2                 685             198            807           477   \n",
              "3                 604             180            803           445   \n",
              "4                 672             194            962           584   \n",
              "\n",
              "   tragiontopofhead  trochanterionheight  verticaltrunkcircumferenceusa   \n",
              "0               140                  919                           1700  \\\n",
              "1               120                  918                           1627   \n",
              "2               125                  918                           1678   \n",
              "3               127                  847                           1625   \n",
              "4               122                 1090                           1679   \n",
              "\n",
              "   waistbacklength  waistbreadth  waistcircumference  waistdepth   \n",
              "0              501           329                 933         240  \\\n",
              "1              432           316                 870         225   \n",
              "2              472           329                 964         255   \n",
              "3              461           315                 857         205   \n",
              "4              467           303                 868         214   \n",
              "\n",
              "   waistfrontlengthsitting  waistheightomphalion  weightkg   \n",
              "0                      440                  1054       815  \\\n",
              "1                      371                  1054       726   \n",
              "2                      411                  1041       929   \n",
              "3                      399                   968       794   \n",
              "4                      379                  1245       946   \n",
              "\n",
              "   wristcircumference  wristheight Gender       Date Installation   \n",
              "0                 175          853   Male   4-Oct-10    Fort Hood  \\\n",
              "1                 167          815   Male   4-Oct-10    Fort Hood   \n",
              "2                 180          831   Male   4-Oct-10    Fort Hood   \n",
              "3                 176          793   Male  12-Oct-10    Fort Hood   \n",
              "4                 188          954   Male  12-Oct-10    Fort Hood   \n",
              "\n",
              "      Component                  Branch PrimaryMOS SubjectsBirthLocation   \n",
              "0  Regular Army             Combat Arms        19D          North Dakota  \\\n",
              "1  Regular Army          Combat Support        68W              New York   \n",
              "2  Regular Army          Combat Support        68W              New York   \n",
              "3  Regular Army  Combat Service Support        88M             Wisconsin   \n",
              "4  Regular Army  Combat Service Support        92G        North Carolina   \n",
              "\n",
              "   SubjectNumericRace Ethnicity  DODRace  Age  Heightin  Weightlbs   \n",
              "0                   1       NaN        1   41        71        180  \\\n",
              "1                   1       NaN        1   35        68        160   \n",
              "2                   2       NaN        2   42        68        205   \n",
              "3                   1       NaN        1   31        66        175   \n",
              "4                   2       NaN        2   21        77        213   \n",
              "\n",
              "  WritingPreference  \n",
              "0        Right hand  \n",
              "1         Left hand  \n",
              "2         Left hand  \n",
              "3        Right hand  \n",
              "4        Right hand  "
            ]
          },
          "execution_count": 48,
          "metadata": {},
          "output_type": "execute_result"
        }
      ],
      "source": [
        "df_male.head()"
      ]
    },
    {
      "cell_type": "code",
      "execution_count": null,
      "metadata": {
        "id": "TA9MA-nIP5Ow",
        "outputId": "ca9d83e4-bf39-4d44-d92e-afdda26ffc29"
      },
      "outputs": [
        {
          "data": {
            "text/html": [
              "<div>\n",
              "<style scoped>\n",
              "    .dataframe tbody tr th:only-of-type {\n",
              "        vertical-align: middle;\n",
              "    }\n",
              "\n",
              "    .dataframe tbody tr th {\n",
              "        vertical-align: top;\n",
              "    }\n",
              "\n",
              "    .dataframe thead th {\n",
              "        text-align: right;\n",
              "    }\n",
              "</style>\n",
              "<table border=\"1\" class=\"dataframe\">\n",
              "  <thead>\n",
              "    <tr style=\"text-align: right;\">\n",
              "      <th></th>\n",
              "      <th>SubjectId</th>\n",
              "      <th>abdominalextensiondepthsitting</th>\n",
              "      <th>acromialheight</th>\n",
              "      <th>acromionradialelength</th>\n",
              "      <th>anklecircumference</th>\n",
              "      <th>axillaheight</th>\n",
              "      <th>balloffootcircumference</th>\n",
              "      <th>balloffootlength</th>\n",
              "      <th>biacromialbreadth</th>\n",
              "      <th>bicepscircumferenceflexed</th>\n",
              "      <th>bicristalbreadth</th>\n",
              "      <th>bideltoidbreadth</th>\n",
              "      <th>bimalleolarbreadth</th>\n",
              "      <th>bitragionchinarc</th>\n",
              "      <th>bitragionsubmandibulararc</th>\n",
              "      <th>bizygomaticbreadth</th>\n",
              "      <th>buttockcircumference</th>\n",
              "      <th>buttockdepth</th>\n",
              "      <th>buttockheight</th>\n",
              "      <th>buttockkneelength</th>\n",
              "      <th>buttockpopliteallength</th>\n",
              "      <th>calfcircumference</th>\n",
              "      <th>cervicaleheight</th>\n",
              "      <th>chestbreadth</th>\n",
              "      <th>chestcircumference</th>\n",
              "      <th>chestdepth</th>\n",
              "      <th>chestheight</th>\n",
              "      <th>crotchheight</th>\n",
              "      <th>crotchlengthomphalion</th>\n",
              "      <th>crotchlengthposterioromphalion</th>\n",
              "      <th>earbreadth</th>\n",
              "      <th>earlength</th>\n",
              "      <th>earprotrusion</th>\n",
              "      <th>elbowrestheight</th>\n",
              "      <th>eyeheightsitting</th>\n",
              "      <th>footbreadthhorizontal</th>\n",
              "      <th>footlength</th>\n",
              "      <th>forearmcenterofgriplength</th>\n",
              "      <th>forearmcircumferenceflexed</th>\n",
              "      <th>forearmforearmbreadth</th>\n",
              "      <th>forearmhandlength</th>\n",
              "      <th>functionalleglength</th>\n",
              "      <th>handbreadth</th>\n",
              "      <th>handcircumference</th>\n",
              "      <th>handlength</th>\n",
              "      <th>headbreadth</th>\n",
              "      <th>headcircumference</th>\n",
              "      <th>headlength</th>\n",
              "      <th>heelanklecircumference</th>\n",
              "      <th>heelbreadth</th>\n",
              "      <th>hipbreadth</th>\n",
              "      <th>hipbreadthsitting</th>\n",
              "      <th>iliocristaleheight</th>\n",
              "      <th>interpupillarybreadth</th>\n",
              "      <th>interscyei</th>\n",
              "      <th>interscyeii</th>\n",
              "      <th>kneeheightmidpatella</th>\n",
              "      <th>kneeheightsitting</th>\n",
              "      <th>lateralfemoralepicondyleheight</th>\n",
              "      <th>lateralmalleolusheight</th>\n",
              "      <th>lowerthighcircumference</th>\n",
              "      <th>mentonsellionlength</th>\n",
              "      <th>neckcircumference</th>\n",
              "      <th>neckcircumferencebase</th>\n",
              "      <th>overheadfingertipreachsitting</th>\n",
              "      <th>palmlength</th>\n",
              "      <th>poplitealheight</th>\n",
              "      <th>radialestylionlength</th>\n",
              "      <th>shouldercircumference</th>\n",
              "      <th>shoulderelbowlength</th>\n",
              "      <th>shoulderlength</th>\n",
              "      <th>sittingheight</th>\n",
              "      <th>sleevelengthspinewrist</th>\n",
              "      <th>sleeveoutseam</th>\n",
              "      <th>span</th>\n",
              "      <th>stature</th>\n",
              "      <th>suprasternaleheight</th>\n",
              "      <th>tenthribheight</th>\n",
              "      <th>thighcircumference</th>\n",
              "      <th>thighclearance</th>\n",
              "      <th>thumbtipreach</th>\n",
              "      <th>tibialheight</th>\n",
              "      <th>tragiontopofhead</th>\n",
              "      <th>trochanterionheight</th>\n",
              "      <th>verticaltrunkcircumferenceusa</th>\n",
              "      <th>waistbacklength</th>\n",
              "      <th>waistbreadth</th>\n",
              "      <th>waistcircumference</th>\n",
              "      <th>waistdepth</th>\n",
              "      <th>waistfrontlengthsitting</th>\n",
              "      <th>waistheightomphalion</th>\n",
              "      <th>weightkg</th>\n",
              "      <th>wristcircumference</th>\n",
              "      <th>wristheight</th>\n",
              "      <th>Gender</th>\n",
              "      <th>Date</th>\n",
              "      <th>Installation</th>\n",
              "      <th>Component</th>\n",
              "      <th>Branch</th>\n",
              "      <th>PrimaryMOS</th>\n",
              "      <th>SubjectsBirthLocation</th>\n",
              "      <th>SubjectNumericRace</th>\n",
              "      <th>Ethnicity</th>\n",
              "      <th>DODRace</th>\n",
              "      <th>Age</th>\n",
              "      <th>Heightin</th>\n",
              "      <th>Weightlbs</th>\n",
              "      <th>WritingPreference</th>\n",
              "    </tr>\n",
              "  </thead>\n",
              "  <tbody>\n",
              "    <tr>\n",
              "      <th>0</th>\n",
              "      <td>10037</td>\n",
              "      <td>231</td>\n",
              "      <td>1282</td>\n",
              "      <td>301</td>\n",
              "      <td>204</td>\n",
              "      <td>1180</td>\n",
              "      <td>222</td>\n",
              "      <td>177</td>\n",
              "      <td>373</td>\n",
              "      <td>315</td>\n",
              "      <td>263</td>\n",
              "      <td>466</td>\n",
              "      <td>65</td>\n",
              "      <td>338</td>\n",
              "      <td>301</td>\n",
              "      <td>141</td>\n",
              "      <td>1011</td>\n",
              "      <td>223</td>\n",
              "      <td>836</td>\n",
              "      <td>587</td>\n",
              "      <td>476</td>\n",
              "      <td>360</td>\n",
              "      <td>1336</td>\n",
              "      <td>274</td>\n",
              "      <td>922</td>\n",
              "      <td>245</td>\n",
              "      <td>1095</td>\n",
              "      <td>759</td>\n",
              "      <td>557</td>\n",
              "      <td>310</td>\n",
              "      <td>35</td>\n",
              "      <td>65</td>\n",
              "      <td>16</td>\n",
              "      <td>220</td>\n",
              "      <td>713</td>\n",
              "      <td>91</td>\n",
              "      <td>246</td>\n",
              "      <td>316</td>\n",
              "      <td>265</td>\n",
              "      <td>517</td>\n",
              "      <td>432</td>\n",
              "      <td>1028</td>\n",
              "      <td>75</td>\n",
              "      <td>182</td>\n",
              "      <td>184</td>\n",
              "      <td>141</td>\n",
              "      <td>548</td>\n",
              "      <td>191</td>\n",
              "      <td>314</td>\n",
              "      <td>69</td>\n",
              "      <td>345</td>\n",
              "      <td>388</td>\n",
              "      <td>966</td>\n",
              "      <td>645</td>\n",
              "      <td>363</td>\n",
              "      <td>399</td>\n",
              "      <td>435</td>\n",
              "      <td>496</td>\n",
              "      <td>447</td>\n",
              "      <td>55</td>\n",
              "      <td>404</td>\n",
              "      <td>118</td>\n",
              "      <td>335</td>\n",
              "      <td>368</td>\n",
              "      <td>1268</td>\n",
              "      <td>113</td>\n",
              "      <td>362</td>\n",
              "      <td>235</td>\n",
              "      <td>1062</td>\n",
              "      <td>327</td>\n",
              "      <td>148</td>\n",
              "      <td>803</td>\n",
              "      <td>809</td>\n",
              "      <td>513</td>\n",
              "      <td>1647</td>\n",
              "      <td>1560</td>\n",
              "      <td>1280</td>\n",
              "      <td>1013</td>\n",
              "      <td>622</td>\n",
              "      <td>174</td>\n",
              "      <td>736</td>\n",
              "      <td>430</td>\n",
              "      <td>110</td>\n",
              "      <td>844</td>\n",
              "      <td>1488</td>\n",
              "      <td>406</td>\n",
              "      <td>295</td>\n",
              "      <td>850</td>\n",
              "      <td>217</td>\n",
              "      <td>345</td>\n",
              "      <td>942</td>\n",
              "      <td>657</td>\n",
              "      <td>152</td>\n",
              "      <td>756</td>\n",
              "      <td>Female</td>\n",
              "      <td>5-Oct-10</td>\n",
              "      <td>Fort Hood</td>\n",
              "      <td>Regular Army</td>\n",
              "      <td>Combat Support</td>\n",
              "      <td>92Y</td>\n",
              "      <td>Germany</td>\n",
              "      <td>2</td>\n",
              "      <td>NaN</td>\n",
              "      <td>2</td>\n",
              "      <td>26</td>\n",
              "      <td>61</td>\n",
              "      <td>142</td>\n",
              "      <td>Right hand</td>\n",
              "    </tr>\n",
              "    <tr>\n",
              "      <th>1</th>\n",
              "      <td>10038</td>\n",
              "      <td>194</td>\n",
              "      <td>1379</td>\n",
              "      <td>320</td>\n",
              "      <td>207</td>\n",
              "      <td>1292</td>\n",
              "      <td>225</td>\n",
              "      <td>178</td>\n",
              "      <td>372</td>\n",
              "      <td>272</td>\n",
              "      <td>250</td>\n",
              "      <td>430</td>\n",
              "      <td>64</td>\n",
              "      <td>294</td>\n",
              "      <td>270</td>\n",
              "      <td>126</td>\n",
              "      <td>893</td>\n",
              "      <td>186</td>\n",
              "      <td>900</td>\n",
              "      <td>583</td>\n",
              "      <td>483</td>\n",
              "      <td>350</td>\n",
              "      <td>1440</td>\n",
              "      <td>261</td>\n",
              "      <td>839</td>\n",
              "      <td>206</td>\n",
              "      <td>1234</td>\n",
              "      <td>835</td>\n",
              "      <td>549</td>\n",
              "      <td>329</td>\n",
              "      <td>32</td>\n",
              "      <td>60</td>\n",
              "      <td>23</td>\n",
              "      <td>208</td>\n",
              "      <td>726</td>\n",
              "      <td>91</td>\n",
              "      <td>249</td>\n",
              "      <td>341</td>\n",
              "      <td>247</td>\n",
              "      <td>468</td>\n",
              "      <td>463</td>\n",
              "      <td>1117</td>\n",
              "      <td>78</td>\n",
              "      <td>187</td>\n",
              "      <td>189</td>\n",
              "      <td>138</td>\n",
              "      <td>535</td>\n",
              "      <td>180</td>\n",
              "      <td>307</td>\n",
              "      <td>60</td>\n",
              "      <td>315</td>\n",
              "      <td>335</td>\n",
              "      <td>1048</td>\n",
              "      <td>595</td>\n",
              "      <td>340</td>\n",
              "      <td>375</td>\n",
              "      <td>483</td>\n",
              "      <td>532</td>\n",
              "      <td>492</td>\n",
              "      <td>69</td>\n",
              "      <td>334</td>\n",
              "      <td>115</td>\n",
              "      <td>302</td>\n",
              "      <td>345</td>\n",
              "      <td>1389</td>\n",
              "      <td>110</td>\n",
              "      <td>426</td>\n",
              "      <td>259</td>\n",
              "      <td>1014</td>\n",
              "      <td>346</td>\n",
              "      <td>142</td>\n",
              "      <td>835</td>\n",
              "      <td>810</td>\n",
              "      <td>575</td>\n",
              "      <td>1751</td>\n",
              "      <td>1665</td>\n",
              "      <td>1372</td>\n",
              "      <td>1107</td>\n",
              "      <td>524</td>\n",
              "      <td>152</td>\n",
              "      <td>771</td>\n",
              "      <td>475</td>\n",
              "      <td>125</td>\n",
              "      <td>901</td>\n",
              "      <td>1470</td>\n",
              "      <td>422</td>\n",
              "      <td>254</td>\n",
              "      <td>708</td>\n",
              "      <td>168</td>\n",
              "      <td>329</td>\n",
              "      <td>1032</td>\n",
              "      <td>534</td>\n",
              "      <td>155</td>\n",
              "      <td>815</td>\n",
              "      <td>Female</td>\n",
              "      <td>5-Oct-10</td>\n",
              "      <td>Fort Hood</td>\n",
              "      <td>Regular Army</td>\n",
              "      <td>Combat Service Support</td>\n",
              "      <td>25U</td>\n",
              "      <td>California</td>\n",
              "      <td>3</td>\n",
              "      <td>Mexican</td>\n",
              "      <td>3</td>\n",
              "      <td>21</td>\n",
              "      <td>64</td>\n",
              "      <td>120</td>\n",
              "      <td>Right hand</td>\n",
              "    </tr>\n",
              "    <tr>\n",
              "      <th>2</th>\n",
              "      <td>10042</td>\n",
              "      <td>183</td>\n",
              "      <td>1369</td>\n",
              "      <td>329</td>\n",
              "      <td>233</td>\n",
              "      <td>1271</td>\n",
              "      <td>237</td>\n",
              "      <td>196</td>\n",
              "      <td>397</td>\n",
              "      <td>300</td>\n",
              "      <td>276</td>\n",
              "      <td>450</td>\n",
              "      <td>69</td>\n",
              "      <td>309</td>\n",
              "      <td>270</td>\n",
              "      <td>128</td>\n",
              "      <td>987</td>\n",
              "      <td>204</td>\n",
              "      <td>861</td>\n",
              "      <td>583</td>\n",
              "      <td>466</td>\n",
              "      <td>384</td>\n",
              "      <td>1451</td>\n",
              "      <td>287</td>\n",
              "      <td>874</td>\n",
              "      <td>223</td>\n",
              "      <td>1226</td>\n",
              "      <td>821</td>\n",
              "      <td>643</td>\n",
              "      <td>374</td>\n",
              "      <td>36</td>\n",
              "      <td>65</td>\n",
              "      <td>26</td>\n",
              "      <td>204</td>\n",
              "      <td>790</td>\n",
              "      <td>100</td>\n",
              "      <td>265</td>\n",
              "      <td>343</td>\n",
              "      <td>262</td>\n",
              "      <td>488</td>\n",
              "      <td>469</td>\n",
              "      <td>1060</td>\n",
              "      <td>84</td>\n",
              "      <td>198</td>\n",
              "      <td>195</td>\n",
              "      <td>146</td>\n",
              "      <td>588</td>\n",
              "      <td>207</td>\n",
              "      <td>331</td>\n",
              "      <td>70</td>\n",
              "      <td>356</td>\n",
              "      <td>399</td>\n",
              "      <td>1043</td>\n",
              "      <td>655</td>\n",
              "      <td>345</td>\n",
              "      <td>399</td>\n",
              "      <td>470</td>\n",
              "      <td>530</td>\n",
              "      <td>469</td>\n",
              "      <td>64</td>\n",
              "      <td>401</td>\n",
              "      <td>135</td>\n",
              "      <td>325</td>\n",
              "      <td>369</td>\n",
              "      <td>1414</td>\n",
              "      <td>122</td>\n",
              "      <td>398</td>\n",
              "      <td>258</td>\n",
              "      <td>1049</td>\n",
              "      <td>362</td>\n",
              "      <td>164</td>\n",
              "      <td>904</td>\n",
              "      <td>855</td>\n",
              "      <td>568</td>\n",
              "      <td>1779</td>\n",
              "      <td>1711</td>\n",
              "      <td>1383</td>\n",
              "      <td>1089</td>\n",
              "      <td>577</td>\n",
              "      <td>164</td>\n",
              "      <td>814</td>\n",
              "      <td>458</td>\n",
              "      <td>129</td>\n",
              "      <td>882</td>\n",
              "      <td>1542</td>\n",
              "      <td>419</td>\n",
              "      <td>269</td>\n",
              "      <td>727</td>\n",
              "      <td>159</td>\n",
              "      <td>367</td>\n",
              "      <td>1035</td>\n",
              "      <td>663</td>\n",
              "      <td>162</td>\n",
              "      <td>799</td>\n",
              "      <td>Female</td>\n",
              "      <td>5-Oct-10</td>\n",
              "      <td>Fort Hood</td>\n",
              "      <td>Regular Army</td>\n",
              "      <td>Combat Service Support</td>\n",
              "      <td>35D</td>\n",
              "      <td>Texas</td>\n",
              "      <td>1</td>\n",
              "      <td>NaN</td>\n",
              "      <td>1</td>\n",
              "      <td>23</td>\n",
              "      <td>68</td>\n",
              "      <td>147</td>\n",
              "      <td>Right hand</td>\n",
              "    </tr>\n",
              "    <tr>\n",
              "      <th>3</th>\n",
              "      <td>10043</td>\n",
              "      <td>261</td>\n",
              "      <td>1356</td>\n",
              "      <td>306</td>\n",
              "      <td>214</td>\n",
              "      <td>1250</td>\n",
              "      <td>240</td>\n",
              "      <td>188</td>\n",
              "      <td>384</td>\n",
              "      <td>364</td>\n",
              "      <td>276</td>\n",
              "      <td>484</td>\n",
              "      <td>68</td>\n",
              "      <td>340</td>\n",
              "      <td>294</td>\n",
              "      <td>144</td>\n",
              "      <td>1012</td>\n",
              "      <td>253</td>\n",
              "      <td>897</td>\n",
              "      <td>599</td>\n",
              "      <td>471</td>\n",
              "      <td>372</td>\n",
              "      <td>1430</td>\n",
              "      <td>269</td>\n",
              "      <td>1008</td>\n",
              "      <td>285</td>\n",
              "      <td>1170</td>\n",
              "      <td>804</td>\n",
              "      <td>640</td>\n",
              "      <td>351</td>\n",
              "      <td>38</td>\n",
              "      <td>62</td>\n",
              "      <td>22</td>\n",
              "      <td>244</td>\n",
              "      <td>775</td>\n",
              "      <td>97</td>\n",
              "      <td>265</td>\n",
              "      <td>331</td>\n",
              "      <td>309</td>\n",
              "      <td>529</td>\n",
              "      <td>455</td>\n",
              "      <td>1069</td>\n",
              "      <td>80</td>\n",
              "      <td>192</td>\n",
              "      <td>186</td>\n",
              "      <td>153</td>\n",
              "      <td>593</td>\n",
              "      <td>206</td>\n",
              "      <td>332</td>\n",
              "      <td>68</td>\n",
              "      <td>337</td>\n",
              "      <td>402</td>\n",
              "      <td>1029</td>\n",
              "      <td>655</td>\n",
              "      <td>392</td>\n",
              "      <td>435</td>\n",
              "      <td>469</td>\n",
              "      <td>520</td>\n",
              "      <td>478</td>\n",
              "      <td>67</td>\n",
              "      <td>402</td>\n",
              "      <td>118</td>\n",
              "      <td>357</td>\n",
              "      <td>386</td>\n",
              "      <td>1329</td>\n",
              "      <td>115</td>\n",
              "      <td>394</td>\n",
              "      <td>250</td>\n",
              "      <td>1121</td>\n",
              "      <td>333</td>\n",
              "      <td>157</td>\n",
              "      <td>875</td>\n",
              "      <td>815</td>\n",
              "      <td>536</td>\n",
              "      <td>1708</td>\n",
              "      <td>1660</td>\n",
              "      <td>1358</td>\n",
              "      <td>1065</td>\n",
              "      <td>679</td>\n",
              "      <td>187</td>\n",
              "      <td>736</td>\n",
              "      <td>463</td>\n",
              "      <td>125</td>\n",
              "      <td>866</td>\n",
              "      <td>1627</td>\n",
              "      <td>451</td>\n",
              "      <td>302</td>\n",
              "      <td>923</td>\n",
              "      <td>235</td>\n",
              "      <td>371</td>\n",
              "      <td>999</td>\n",
              "      <td>782</td>\n",
              "      <td>173</td>\n",
              "      <td>818</td>\n",
              "      <td>Female</td>\n",
              "      <td>5-Oct-10</td>\n",
              "      <td>Fort Hood</td>\n",
              "      <td>Regular Army</td>\n",
              "      <td>Combat Service Support</td>\n",
              "      <td>25U</td>\n",
              "      <td>District of Columbia</td>\n",
              "      <td>8</td>\n",
              "      <td>Caribbean Islander</td>\n",
              "      <td>2</td>\n",
              "      <td>22</td>\n",
              "      <td>66</td>\n",
              "      <td>175</td>\n",
              "      <td>Right hand</td>\n",
              "    </tr>\n",
              "    <tr>\n",
              "      <th>4</th>\n",
              "      <td>10051</td>\n",
              "      <td>309</td>\n",
              "      <td>1303</td>\n",
              "      <td>308</td>\n",
              "      <td>214</td>\n",
              "      <td>1210</td>\n",
              "      <td>217</td>\n",
              "      <td>182</td>\n",
              "      <td>378</td>\n",
              "      <td>320</td>\n",
              "      <td>336</td>\n",
              "      <td>525</td>\n",
              "      <td>67</td>\n",
              "      <td>300</td>\n",
              "      <td>295</td>\n",
              "      <td>135</td>\n",
              "      <td>1281</td>\n",
              "      <td>284</td>\n",
              "      <td>811</td>\n",
              "      <td>607</td>\n",
              "      <td>467</td>\n",
              "      <td>433</td>\n",
              "      <td>1362</td>\n",
              "      <td>305</td>\n",
              "      <td>1089</td>\n",
              "      <td>290</td>\n",
              "      <td>1112</td>\n",
              "      <td>726</td>\n",
              "      <td>686</td>\n",
              "      <td>356</td>\n",
              "      <td>34</td>\n",
              "      <td>65</td>\n",
              "      <td>18</td>\n",
              "      <td>233</td>\n",
              "      <td>732</td>\n",
              "      <td>88</td>\n",
              "      <td>247</td>\n",
              "      <td>339</td>\n",
              "      <td>260</td>\n",
              "      <td>596</td>\n",
              "      <td>447</td>\n",
              "      <td>1039</td>\n",
              "      <td>78</td>\n",
              "      <td>183</td>\n",
              "      <td>187</td>\n",
              "      <td>140</td>\n",
              "      <td>522</td>\n",
              "      <td>181</td>\n",
              "      <td>308</td>\n",
              "      <td>63</td>\n",
              "      <td>448</td>\n",
              "      <td>499</td>\n",
              "      <td>964</td>\n",
              "      <td>635</td>\n",
              "      <td>428</td>\n",
              "      <td>435</td>\n",
              "      <td>440</td>\n",
              "      <td>491</td>\n",
              "      <td>441</td>\n",
              "      <td>63</td>\n",
              "      <td>479</td>\n",
              "      <td>114</td>\n",
              "      <td>340</td>\n",
              "      <td>358</td>\n",
              "      <td>1350</td>\n",
              "      <td>116</td>\n",
              "      <td>345</td>\n",
              "      <td>242</td>\n",
              "      <td>1151</td>\n",
              "      <td>329</td>\n",
              "      <td>156</td>\n",
              "      <td>824</td>\n",
              "      <td>810</td>\n",
              "      <td>559</td>\n",
              "      <td>1702</td>\n",
              "      <td>1572</td>\n",
              "      <td>1292</td>\n",
              "      <td>1030</td>\n",
              "      <td>766</td>\n",
              "      <td>197</td>\n",
              "      <td>766</td>\n",
              "      <td>429</td>\n",
              "      <td>116</td>\n",
              "      <td>800</td>\n",
              "      <td>1698</td>\n",
              "      <td>452</td>\n",
              "      <td>405</td>\n",
              "      <td>1163</td>\n",
              "      <td>300</td>\n",
              "      <td>380</td>\n",
              "      <td>911</td>\n",
              "      <td>886</td>\n",
              "      <td>152</td>\n",
              "      <td>762</td>\n",
              "      <td>Female</td>\n",
              "      <td>5-Oct-10</td>\n",
              "      <td>Fort Hood</td>\n",
              "      <td>Regular Army</td>\n",
              "      <td>Combat Arms</td>\n",
              "      <td>42A</td>\n",
              "      <td>Texas</td>\n",
              "      <td>1</td>\n",
              "      <td>NaN</td>\n",
              "      <td>1</td>\n",
              "      <td>45</td>\n",
              "      <td>63</td>\n",
              "      <td>195</td>\n",
              "      <td>Right hand</td>\n",
              "    </tr>\n",
              "  </tbody>\n",
              "</table>\n",
              "</div>"
            ],
            "text/plain": [
              "   SubjectId  abdominalextensiondepthsitting  acromialheight   \n",
              "0      10037                             231            1282  \\\n",
              "1      10038                             194            1379   \n",
              "2      10042                             183            1369   \n",
              "3      10043                             261            1356   \n",
              "4      10051                             309            1303   \n",
              "\n",
              "   acromionradialelength  anklecircumference  axillaheight   \n",
              "0                    301                 204          1180  \\\n",
              "1                    320                 207          1292   \n",
              "2                    329                 233          1271   \n",
              "3                    306                 214          1250   \n",
              "4                    308                 214          1210   \n",
              "\n",
              "   balloffootcircumference  balloffootlength  biacromialbreadth   \n",
              "0                      222               177                373  \\\n",
              "1                      225               178                372   \n",
              "2                      237               196                397   \n",
              "3                      240               188                384   \n",
              "4                      217               182                378   \n",
              "\n",
              "   bicepscircumferenceflexed  bicristalbreadth  bideltoidbreadth   \n",
              "0                        315               263               466  \\\n",
              "1                        272               250               430   \n",
              "2                        300               276               450   \n",
              "3                        364               276               484   \n",
              "4                        320               336               525   \n",
              "\n",
              "   bimalleolarbreadth  bitragionchinarc  bitragionsubmandibulararc   \n",
              "0                  65               338                        301  \\\n",
              "1                  64               294                        270   \n",
              "2                  69               309                        270   \n",
              "3                  68               340                        294   \n",
              "4                  67               300                        295   \n",
              "\n",
              "   bizygomaticbreadth  buttockcircumference  buttockdepth  buttockheight   \n",
              "0                 141                  1011           223            836  \\\n",
              "1                 126                   893           186            900   \n",
              "2                 128                   987           204            861   \n",
              "3                 144                  1012           253            897   \n",
              "4                 135                  1281           284            811   \n",
              "\n",
              "   buttockkneelength  buttockpopliteallength  calfcircumference   \n",
              "0                587                     476                360  \\\n",
              "1                583                     483                350   \n",
              "2                583                     466                384   \n",
              "3                599                     471                372   \n",
              "4                607                     467                433   \n",
              "\n",
              "   cervicaleheight  chestbreadth  chestcircumference  chestdepth  chestheight   \n",
              "0             1336           274                 922         245         1095  \\\n",
              "1             1440           261                 839         206         1234   \n",
              "2             1451           287                 874         223         1226   \n",
              "3             1430           269                1008         285         1170   \n",
              "4             1362           305                1089         290         1112   \n",
              "\n",
              "   crotchheight  crotchlengthomphalion  crotchlengthposterioromphalion   \n",
              "0           759                    557                             310  \\\n",
              "1           835                    549                             329   \n",
              "2           821                    643                             374   \n",
              "3           804                    640                             351   \n",
              "4           726                    686                             356   \n",
              "\n",
              "   earbreadth  earlength  earprotrusion  elbowrestheight  eyeheightsitting   \n",
              "0          35         65             16              220               713  \\\n",
              "1          32         60             23              208               726   \n",
              "2          36         65             26              204               790   \n",
              "3          38         62             22              244               775   \n",
              "4          34         65             18              233               732   \n",
              "\n",
              "   footbreadthhorizontal  footlength  forearmcenterofgriplength   \n",
              "0                     91         246                        316  \\\n",
              "1                     91         249                        341   \n",
              "2                    100         265                        343   \n",
              "3                     97         265                        331   \n",
              "4                     88         247                        339   \n",
              "\n",
              "   forearmcircumferenceflexed  forearmforearmbreadth  forearmhandlength   \n",
              "0                         265                    517                432  \\\n",
              "1                         247                    468                463   \n",
              "2                         262                    488                469   \n",
              "3                         309                    529                455   \n",
              "4                         260                    596                447   \n",
              "\n",
              "   functionalleglength  handbreadth  handcircumference  handlength   \n",
              "0                 1028           75                182         184  \\\n",
              "1                 1117           78                187         189   \n",
              "2                 1060           84                198         195   \n",
              "3                 1069           80                192         186   \n",
              "4                 1039           78                183         187   \n",
              "\n",
              "   headbreadth  headcircumference  headlength  heelanklecircumference   \n",
              "0          141                548         191                     314  \\\n",
              "1          138                535         180                     307   \n",
              "2          146                588         207                     331   \n",
              "3          153                593         206                     332   \n",
              "4          140                522         181                     308   \n",
              "\n",
              "   heelbreadth  hipbreadth  hipbreadthsitting  iliocristaleheight   \n",
              "0           69         345                388                 966  \\\n",
              "1           60         315                335                1048   \n",
              "2           70         356                399                1043   \n",
              "3           68         337                402                1029   \n",
              "4           63         448                499                 964   \n",
              "\n",
              "   interpupillarybreadth  interscyei  interscyeii  kneeheightmidpatella   \n",
              "0                    645         363          399                   435  \\\n",
              "1                    595         340          375                   483   \n",
              "2                    655         345          399                   470   \n",
              "3                    655         392          435                   469   \n",
              "4                    635         428          435                   440   \n",
              "\n",
              "   kneeheightsitting  lateralfemoralepicondyleheight  lateralmalleolusheight   \n",
              "0                496                             447                      55  \\\n",
              "1                532                             492                      69   \n",
              "2                530                             469                      64   \n",
              "3                520                             478                      67   \n",
              "4                491                             441                      63   \n",
              "\n",
              "   lowerthighcircumference  mentonsellionlength  neckcircumference   \n",
              "0                      404                  118                335  \\\n",
              "1                      334                  115                302   \n",
              "2                      401                  135                325   \n",
              "3                      402                  118                357   \n",
              "4                      479                  114                340   \n",
              "\n",
              "   neckcircumferencebase  overheadfingertipreachsitting  palmlength   \n",
              "0                    368                           1268         113  \\\n",
              "1                    345                           1389         110   \n",
              "2                    369                           1414         122   \n",
              "3                    386                           1329         115   \n",
              "4                    358                           1350         116   \n",
              "\n",
              "   poplitealheight  radialestylionlength  shouldercircumference   \n",
              "0              362                   235                   1062  \\\n",
              "1              426                   259                   1014   \n",
              "2              398                   258                   1049   \n",
              "3              394                   250                   1121   \n",
              "4              345                   242                   1151   \n",
              "\n",
              "   shoulderelbowlength  shoulderlength  sittingheight  sleevelengthspinewrist   \n",
              "0                  327             148            803                     809  \\\n",
              "1                  346             142            835                     810   \n",
              "2                  362             164            904                     855   \n",
              "3                  333             157            875                     815   \n",
              "4                  329             156            824                     810   \n",
              "\n",
              "   sleeveoutseam  span  stature  suprasternaleheight  tenthribheight   \n",
              "0            513  1647     1560                 1280            1013  \\\n",
              "1            575  1751     1665                 1372            1107   \n",
              "2            568  1779     1711                 1383            1089   \n",
              "3            536  1708     1660                 1358            1065   \n",
              "4            559  1702     1572                 1292            1030   \n",
              "\n",
              "   thighcircumference  thighclearance  thumbtipreach  tibialheight   \n",
              "0                 622             174            736           430  \\\n",
              "1                 524             152            771           475   \n",
              "2                 577             164            814           458   \n",
              "3                 679             187            736           463   \n",
              "4                 766             197            766           429   \n",
              "\n",
              "   tragiontopofhead  trochanterionheight  verticaltrunkcircumferenceusa   \n",
              "0               110                  844                           1488  \\\n",
              "1               125                  901                           1470   \n",
              "2               129                  882                           1542   \n",
              "3               125                  866                           1627   \n",
              "4               116                  800                           1698   \n",
              "\n",
              "   waistbacklength  waistbreadth  waistcircumference  waistdepth   \n",
              "0              406           295                 850         217  \\\n",
              "1              422           254                 708         168   \n",
              "2              419           269                 727         159   \n",
              "3              451           302                 923         235   \n",
              "4              452           405                1163         300   \n",
              "\n",
              "   waistfrontlengthsitting  waistheightomphalion  weightkg   \n",
              "0                      345                   942       657  \\\n",
              "1                      329                  1032       534   \n",
              "2                      367                  1035       663   \n",
              "3                      371                   999       782   \n",
              "4                      380                   911       886   \n",
              "\n",
              "   wristcircumference  wristheight  Gender      Date Installation   \n",
              "0                 152          756  Female  5-Oct-10    Fort Hood  \\\n",
              "1                 155          815  Female  5-Oct-10    Fort Hood   \n",
              "2                 162          799  Female  5-Oct-10    Fort Hood   \n",
              "3                 173          818  Female  5-Oct-10    Fort Hood   \n",
              "4                 152          762  Female  5-Oct-10    Fort Hood   \n",
              "\n",
              "      Component                  Branch PrimaryMOS SubjectsBirthLocation   \n",
              "0  Regular Army          Combat Support        92Y               Germany  \\\n",
              "1  Regular Army  Combat Service Support        25U            California   \n",
              "2  Regular Army  Combat Service Support        35D                 Texas   \n",
              "3  Regular Army  Combat Service Support        25U  District of Columbia   \n",
              "4  Regular Army             Combat Arms        42A                 Texas   \n",
              "\n",
              "   SubjectNumericRace           Ethnicity  DODRace  Age  Heightin  Weightlbs   \n",
              "0                   2                 NaN        2   26        61        142  \\\n",
              "1                   3             Mexican        3   21        64        120   \n",
              "2                   1                 NaN        1   23        68        147   \n",
              "3                   8  Caribbean Islander        2   22        66        175   \n",
              "4                   1                 NaN        1   45        63        195   \n",
              "\n",
              "  WritingPreference  \n",
              "0        Right hand  \n",
              "1        Right hand  \n",
              "2        Right hand  \n",
              "3        Right hand  \n",
              "4        Right hand  "
            ]
          },
          "execution_count": 49,
          "metadata": {},
          "output_type": "execute_result"
        }
      ],
      "source": [
        "df_female.head()"
      ]
    },
    {
      "cell_type": "code",
      "execution_count": null,
      "metadata": {
        "scrolled": true,
        "tags": [],
        "id": "k7OWnp0AP5Ox"
      },
      "outputs": [],
      "source": [
        "# Concat the 2 datasets\n",
        "# since the subjectid column is written differently in the datasets, this prevents concating properly. \n",
        "# They will be edited first\n",
        "df_male.columns.to_list()"
      ]
    },
    {
      "cell_type": "code",
      "execution_count": null,
      "metadata": {
        "scrolled": true,
        "tags": [],
        "id": "x81Gp2b4P5Oy"
      },
      "outputs": [],
      "source": [
        "df_female.columns.to_list()"
      ]
    },
    {
      "cell_type": "code",
      "execution_count": null,
      "metadata": {
        "id": "yIf9jogoP5Oy",
        "outputId": "2686ea0c-3c0d-469a-bd8f-5a81013e2757"
      },
      "outputs": [
        {
          "name": "stdout",
          "output_type": "stream",
          "text": [
            "{'subjectid'}\n",
            "{'SubjectId'}\n"
          ]
        }
      ],
      "source": [
        "# Column names >> list >> set and print the different column names in both datasets\n",
        "print(set(df_male.columns.to_list()) - set(df_female.columns.to_list()))\n",
        "print(set(df_female.columns.to_list()) - set(df_male.columns.to_list()))\n"
      ]
    },
    {
      "cell_type": "code",
      "execution_count": null,
      "metadata": {
        "id": "mFACMXOmP5Oz"
      },
      "outputs": [],
      "source": [
        "df_female.rename(columns = {'SubjectId':'subjectid'}, inplace = True)"
      ]
    },
    {
      "cell_type": "code",
      "execution_count": null,
      "metadata": {
        "id": "2j_AP1DRP5Oz",
        "outputId": "e01c1d91-31db-4e6d-f55e-ef17a38cfacb"
      },
      "outputs": [
        {
          "data": {
            "text/html": [
              "<div>\n",
              "<style scoped>\n",
              "    .dataframe tbody tr th:only-of-type {\n",
              "        vertical-align: middle;\n",
              "    }\n",
              "\n",
              "    .dataframe tbody tr th {\n",
              "        vertical-align: top;\n",
              "    }\n",
              "\n",
              "    .dataframe thead th {\n",
              "        text-align: right;\n",
              "    }\n",
              "</style>\n",
              "<table border=\"1\" class=\"dataframe\">\n",
              "  <thead>\n",
              "    <tr style=\"text-align: right;\">\n",
              "      <th></th>\n",
              "      <th>subjectid</th>\n",
              "      <th>abdominalextensiondepthsitting</th>\n",
              "      <th>acromialheight</th>\n",
              "      <th>acromionradialelength</th>\n",
              "      <th>anklecircumference</th>\n",
              "      <th>axillaheight</th>\n",
              "      <th>balloffootcircumference</th>\n",
              "      <th>balloffootlength</th>\n",
              "      <th>biacromialbreadth</th>\n",
              "      <th>bicepscircumferenceflexed</th>\n",
              "      <th>bicristalbreadth</th>\n",
              "      <th>bideltoidbreadth</th>\n",
              "      <th>bimalleolarbreadth</th>\n",
              "      <th>bitragionchinarc</th>\n",
              "      <th>bitragionsubmandibulararc</th>\n",
              "      <th>bizygomaticbreadth</th>\n",
              "      <th>buttockcircumference</th>\n",
              "      <th>buttockdepth</th>\n",
              "      <th>buttockheight</th>\n",
              "      <th>buttockkneelength</th>\n",
              "      <th>buttockpopliteallength</th>\n",
              "      <th>calfcircumference</th>\n",
              "      <th>cervicaleheight</th>\n",
              "      <th>chestbreadth</th>\n",
              "      <th>chestcircumference</th>\n",
              "      <th>chestdepth</th>\n",
              "      <th>chestheight</th>\n",
              "      <th>crotchheight</th>\n",
              "      <th>crotchlengthomphalion</th>\n",
              "      <th>crotchlengthposterioromphalion</th>\n",
              "      <th>earbreadth</th>\n",
              "      <th>earlength</th>\n",
              "      <th>earprotrusion</th>\n",
              "      <th>elbowrestheight</th>\n",
              "      <th>eyeheightsitting</th>\n",
              "      <th>footbreadthhorizontal</th>\n",
              "      <th>footlength</th>\n",
              "      <th>forearmcenterofgriplength</th>\n",
              "      <th>forearmcircumferenceflexed</th>\n",
              "      <th>forearmforearmbreadth</th>\n",
              "      <th>forearmhandlength</th>\n",
              "      <th>functionalleglength</th>\n",
              "      <th>handbreadth</th>\n",
              "      <th>handcircumference</th>\n",
              "      <th>handlength</th>\n",
              "      <th>headbreadth</th>\n",
              "      <th>headcircumference</th>\n",
              "      <th>headlength</th>\n",
              "      <th>heelanklecircumference</th>\n",
              "      <th>heelbreadth</th>\n",
              "      <th>hipbreadth</th>\n",
              "      <th>hipbreadthsitting</th>\n",
              "      <th>iliocristaleheight</th>\n",
              "      <th>interpupillarybreadth</th>\n",
              "      <th>interscyei</th>\n",
              "      <th>interscyeii</th>\n",
              "      <th>kneeheightmidpatella</th>\n",
              "      <th>kneeheightsitting</th>\n",
              "      <th>lateralfemoralepicondyleheight</th>\n",
              "      <th>lateralmalleolusheight</th>\n",
              "      <th>lowerthighcircumference</th>\n",
              "      <th>mentonsellionlength</th>\n",
              "      <th>neckcircumference</th>\n",
              "      <th>neckcircumferencebase</th>\n",
              "      <th>overheadfingertipreachsitting</th>\n",
              "      <th>palmlength</th>\n",
              "      <th>poplitealheight</th>\n",
              "      <th>radialestylionlength</th>\n",
              "      <th>shouldercircumference</th>\n",
              "      <th>shoulderelbowlength</th>\n",
              "      <th>shoulderlength</th>\n",
              "      <th>sittingheight</th>\n",
              "      <th>sleevelengthspinewrist</th>\n",
              "      <th>sleeveoutseam</th>\n",
              "      <th>span</th>\n",
              "      <th>stature</th>\n",
              "      <th>suprasternaleheight</th>\n",
              "      <th>tenthribheight</th>\n",
              "      <th>thighcircumference</th>\n",
              "      <th>thighclearance</th>\n",
              "      <th>thumbtipreach</th>\n",
              "      <th>tibialheight</th>\n",
              "      <th>tragiontopofhead</th>\n",
              "      <th>trochanterionheight</th>\n",
              "      <th>verticaltrunkcircumferenceusa</th>\n",
              "      <th>waistbacklength</th>\n",
              "      <th>waistbreadth</th>\n",
              "      <th>waistcircumference</th>\n",
              "      <th>waistdepth</th>\n",
              "      <th>waistfrontlengthsitting</th>\n",
              "      <th>waistheightomphalion</th>\n",
              "      <th>weightkg</th>\n",
              "      <th>wristcircumference</th>\n",
              "      <th>wristheight</th>\n",
              "      <th>Gender</th>\n",
              "      <th>Date</th>\n",
              "      <th>Installation</th>\n",
              "      <th>Component</th>\n",
              "      <th>Branch</th>\n",
              "      <th>PrimaryMOS</th>\n",
              "      <th>SubjectsBirthLocation</th>\n",
              "      <th>SubjectNumericRace</th>\n",
              "      <th>Ethnicity</th>\n",
              "      <th>DODRace</th>\n",
              "      <th>Age</th>\n",
              "      <th>Heightin</th>\n",
              "      <th>Weightlbs</th>\n",
              "      <th>WritingPreference</th>\n",
              "    </tr>\n",
              "  </thead>\n",
              "  <tbody>\n",
              "    <tr>\n",
              "      <th>0</th>\n",
              "      <td>10027</td>\n",
              "      <td>266</td>\n",
              "      <td>1467</td>\n",
              "      <td>337</td>\n",
              "      <td>222</td>\n",
              "      <td>1347</td>\n",
              "      <td>253</td>\n",
              "      <td>202</td>\n",
              "      <td>401</td>\n",
              "      <td>369</td>\n",
              "      <td>274</td>\n",
              "      <td>493</td>\n",
              "      <td>71</td>\n",
              "      <td>319</td>\n",
              "      <td>291</td>\n",
              "      <td>142</td>\n",
              "      <td>979</td>\n",
              "      <td>240</td>\n",
              "      <td>882</td>\n",
              "      <td>619</td>\n",
              "      <td>509</td>\n",
              "      <td>373</td>\n",
              "      <td>1535</td>\n",
              "      <td>291</td>\n",
              "      <td>1074</td>\n",
              "      <td>259</td>\n",
              "      <td>1292</td>\n",
              "      <td>877</td>\n",
              "      <td>607</td>\n",
              "      <td>351</td>\n",
              "      <td>36</td>\n",
              "      <td>71</td>\n",
              "      <td>19</td>\n",
              "      <td>247</td>\n",
              "      <td>802</td>\n",
              "      <td>101</td>\n",
              "      <td>273</td>\n",
              "      <td>349</td>\n",
              "      <td>299</td>\n",
              "      <td>575</td>\n",
              "      <td>477</td>\n",
              "      <td>1136</td>\n",
              "      <td>90</td>\n",
              "      <td>214</td>\n",
              "      <td>193</td>\n",
              "      <td>150</td>\n",
              "      <td>583</td>\n",
              "      <td>206</td>\n",
              "      <td>326</td>\n",
              "      <td>70</td>\n",
              "      <td>332</td>\n",
              "      <td>366</td>\n",
              "      <td>1071</td>\n",
              "      <td>685</td>\n",
              "      <td>422</td>\n",
              "      <td>441</td>\n",
              "      <td>502</td>\n",
              "      <td>560</td>\n",
              "      <td>500</td>\n",
              "      <td>77</td>\n",
              "      <td>391</td>\n",
              "      <td>118</td>\n",
              "      <td>400</td>\n",
              "      <td>436</td>\n",
              "      <td>1447</td>\n",
              "      <td>113</td>\n",
              "      <td>437</td>\n",
              "      <td>273</td>\n",
              "      <td>1151</td>\n",
              "      <td>368</td>\n",
              "      <td>145</td>\n",
              "      <td>928</td>\n",
              "      <td>883</td>\n",
              "      <td>600</td>\n",
              "      <td>1782</td>\n",
              "      <td>1776</td>\n",
              "      <td>1449</td>\n",
              "      <td>1092</td>\n",
              "      <td>610</td>\n",
              "      <td>164</td>\n",
              "      <td>786</td>\n",
              "      <td>491</td>\n",
              "      <td>140</td>\n",
              "      <td>919</td>\n",
              "      <td>1700</td>\n",
              "      <td>501</td>\n",
              "      <td>329</td>\n",
              "      <td>933</td>\n",
              "      <td>240</td>\n",
              "      <td>440</td>\n",
              "      <td>1054</td>\n",
              "      <td>815</td>\n",
              "      <td>175</td>\n",
              "      <td>853</td>\n",
              "      <td>Male</td>\n",
              "      <td>4-Oct-10</td>\n",
              "      <td>Fort Hood</td>\n",
              "      <td>Regular Army</td>\n",
              "      <td>Combat Arms</td>\n",
              "      <td>19D</td>\n",
              "      <td>North Dakota</td>\n",
              "      <td>1</td>\n",
              "      <td>NaN</td>\n",
              "      <td>1</td>\n",
              "      <td>41</td>\n",
              "      <td>71</td>\n",
              "      <td>180</td>\n",
              "      <td>Right hand</td>\n",
              "    </tr>\n",
              "  </tbody>\n",
              "</table>\n",
              "</div>"
            ],
            "text/plain": [
              "   subjectid  abdominalextensiondepthsitting  acromialheight   \n",
              "0      10027                             266            1467  \\\n",
              "\n",
              "   acromionradialelength  anklecircumference  axillaheight   \n",
              "0                    337                 222          1347  \\\n",
              "\n",
              "   balloffootcircumference  balloffootlength  biacromialbreadth   \n",
              "0                      253               202                401  \\\n",
              "\n",
              "   bicepscircumferenceflexed  bicristalbreadth  bideltoidbreadth   \n",
              "0                        369               274               493  \\\n",
              "\n",
              "   bimalleolarbreadth  bitragionchinarc  bitragionsubmandibulararc   \n",
              "0                  71               319                        291  \\\n",
              "\n",
              "   bizygomaticbreadth  buttockcircumference  buttockdepth  buttockheight   \n",
              "0                 142                   979           240            882  \\\n",
              "\n",
              "   buttockkneelength  buttockpopliteallength  calfcircumference   \n",
              "0                619                     509                373  \\\n",
              "\n",
              "   cervicaleheight  chestbreadth  chestcircumference  chestdepth  chestheight   \n",
              "0             1535           291                1074         259         1292  \\\n",
              "\n",
              "   crotchheight  crotchlengthomphalion  crotchlengthposterioromphalion   \n",
              "0           877                    607                             351  \\\n",
              "\n",
              "   earbreadth  earlength  earprotrusion  elbowrestheight  eyeheightsitting   \n",
              "0          36         71             19              247               802  \\\n",
              "\n",
              "   footbreadthhorizontal  footlength  forearmcenterofgriplength   \n",
              "0                    101         273                        349  \\\n",
              "\n",
              "   forearmcircumferenceflexed  forearmforearmbreadth  forearmhandlength   \n",
              "0                         299                    575                477  \\\n",
              "\n",
              "   functionalleglength  handbreadth  handcircumference  handlength   \n",
              "0                 1136           90                214         193  \\\n",
              "\n",
              "   headbreadth  headcircumference  headlength  heelanklecircumference   \n",
              "0          150                583         206                     326  \\\n",
              "\n",
              "   heelbreadth  hipbreadth  hipbreadthsitting  iliocristaleheight   \n",
              "0           70         332                366                1071  \\\n",
              "\n",
              "   interpupillarybreadth  interscyei  interscyeii  kneeheightmidpatella   \n",
              "0                    685         422          441                   502  \\\n",
              "\n",
              "   kneeheightsitting  lateralfemoralepicondyleheight  lateralmalleolusheight   \n",
              "0                560                             500                      77  \\\n",
              "\n",
              "   lowerthighcircumference  mentonsellionlength  neckcircumference   \n",
              "0                      391                  118                400  \\\n",
              "\n",
              "   neckcircumferencebase  overheadfingertipreachsitting  palmlength   \n",
              "0                    436                           1447         113  \\\n",
              "\n",
              "   poplitealheight  radialestylionlength  shouldercircumference   \n",
              "0              437                   273                   1151  \\\n",
              "\n",
              "   shoulderelbowlength  shoulderlength  sittingheight  sleevelengthspinewrist   \n",
              "0                  368             145            928                     883  \\\n",
              "\n",
              "   sleeveoutseam  span  stature  suprasternaleheight  tenthribheight   \n",
              "0            600  1782     1776                 1449            1092  \\\n",
              "\n",
              "   thighcircumference  thighclearance  thumbtipreach  tibialheight   \n",
              "0                 610             164            786           491  \\\n",
              "\n",
              "   tragiontopofhead  trochanterionheight  verticaltrunkcircumferenceusa   \n",
              "0               140                  919                           1700  \\\n",
              "\n",
              "   waistbacklength  waistbreadth  waistcircumference  waistdepth   \n",
              "0              501           329                 933         240  \\\n",
              "\n",
              "   waistfrontlengthsitting  waistheightomphalion  weightkg   \n",
              "0                      440                  1054       815  \\\n",
              "\n",
              "   wristcircumference  wristheight Gender      Date Installation   \n",
              "0                 175          853   Male  4-Oct-10    Fort Hood  \\\n",
              "\n",
              "      Component       Branch PrimaryMOS SubjectsBirthLocation   \n",
              "0  Regular Army  Combat Arms        19D          North Dakota  \\\n",
              "\n",
              "   SubjectNumericRace Ethnicity  DODRace  Age  Heightin  Weightlbs   \n",
              "0                   1       NaN        1   41        71        180  \\\n",
              "\n",
              "  WritingPreference  \n",
              "0        Right hand  "
            ]
          },
          "execution_count": 54,
          "metadata": {},
          "output_type": "execute_result"
        }
      ],
      "source": [
        "# create a new dataset by merging both and get a deep copy\n",
        "df0 = pd.concat([df_male, df_female], ignore_index=True)\n",
        "df= df0.copy()\n",
        "df.head(1)"
      ]
    },
    {
      "cell_type": "code",
      "execution_count": null,
      "metadata": {
        "id": "UBSPFFgaP5O0",
        "outputId": "cda3eb21-25ff-4707-8249-080c475e8cfe"
      },
      "outputs": [
        {
          "data": {
            "text/plain": [
              "(6068, 108)"
            ]
          },
          "execution_count": 55,
          "metadata": {},
          "output_type": "execute_result"
        }
      ],
      "source": [
        "df.shape"
      ]
    },
    {
      "cell_type": "code",
      "execution_count": null,
      "metadata": {
        "id": "Ij719ZaEP5O0"
      },
      "outputs": [],
      "source": [
        "# drop wieghtkg since we have weightlbs\n",
        "df.drop(\"weightkg\", inplace=True, axis=1)"
      ]
    },
    {
      "cell_type": "code",
      "execution_count": null,
      "metadata": {
        "id": "9zRRsBaLP5O1",
        "outputId": "1aa8e1d2-867a-43f6-c77c-3eaabbd59c11"
      },
      "outputs": [
        {
          "data": {
            "text/plain": [
              "(6068, 107)"
            ]
          },
          "execution_count": 57,
          "metadata": {},
          "output_type": "execute_result"
        }
      ],
      "source": [
        "df.shape"
      ]
    },
    {
      "cell_type": "markdown",
      "metadata": {
        "heading_collapsed": true,
        "hidden": true,
        "id": "TMjCTEG51b67"
      },
      "source": [
        "## Explore Data"
      ]
    },
    {
      "cell_type": "markdown",
      "metadata": {
        "id": "Y8PVM59xP5O2"
      },
      "source": [
        "\n",
        "\n",
        "\n",
        "columns to be engineered:\n",
        "\n",
        "- bmi from height weight???\n"
      ]
    },
    {
      "cell_type": "markdown",
      "metadata": {
        "id": "tvS_jpksP5O3"
      },
      "source": [
        "**1. Drop the unnecessary columns**\n",
        "\n",
        "columns to be dropped:\n",
        "\n",
        "- subjectid\n",
        "- SubjectNumericRace\n",
        "- Ethnicity\n",
        "- Date\n",
        "- 'Installation',\n",
        "- 'Component'\n",
        "- 'Branch'\n",
        "- SubjectsBirthLocation: cok daginik, farkli irklarin karisik yasadigi yerler. 100 alti kategori cok fazla. model ogrenemeyecegi icin drop.\n",
        "- WritingPreference: bilimsel calismalara gore etkisi yok.\n",
        "- PrimaryMOS\n"
      ]
    },
    {
      "cell_type": "code",
      "execution_count": null,
      "metadata": {
        "scrolled": true,
        "tags": [],
        "id": "n60l3oCFP5O3",
        "outputId": "9b6f8622-c982-4744-c7a5-d34d61ec60fd"
      },
      "outputs": [
        {
          "data": {
            "text/plain": [
              "PrimaryMOS\n",
              "11B     671\n",
              "88M     320\n",
              "92A     288\n",
              "91B     230\n",
              "68W     222\n",
              "92Y     211\n",
              "42A     201\n",
              "25U     196\n",
              "31B     191\n",
              "25B     176\n",
              "12B     160\n",
              "13B     139\n",
              "35D     131\n",
              "35M     128\n",
              "74D     126\n",
              "19D     123\n",
              "92G     123\n",
              "92F     119\n",
              "25Q     113\n",
              "35F      82\n",
              "91D      73\n",
              "25S      66\n",
              "25L      62\n",
              "11C      55\n",
              "25A      53\n",
              "19K      50\n",
              "25N      49\n",
              "12N      39\n",
              "13D      39\n",
              "11A      38\n",
              "13F      38\n",
              "91C      38\n",
              "35G      36\n",
              "92W      34\n",
              "94F      33\n",
              "90A      31\n",
              "91J      30\n",
              "91A      30\n",
              "94E      29\n",
              "89B      28\n",
              "36B      27\n",
              "91H      25\n",
              "92S      24\n",
              "21B      24\n",
              "91L      23\n",
              "35T      21\n",
              "68A      20\n",
              "88N      19\n",
              "27D      19\n",
              "11Z      19\n",
              "68E      18\n",
              "25W      18\n",
              "92M      18\n",
              "12C      17\n",
              "12W      17\n",
              "56M      17\n",
              "15T      16\n",
              "25P      15\n",
              "13A      15\n",
              "70B      15\n",
              "91X      15\n",
              "68J      15\n",
              "35N      15\n",
              "68K      14\n",
              "35P      14\n",
              "31E      14\n",
              "13R      14\n",
              "14J      14\n",
              "66H      14\n",
              "88Z      13\n",
              "35L      13\n",
              "88A      13\n",
              "15W      13\n",
              "15P      12\n",
              "35X      12\n",
              "25C      12\n",
              "91E      12\n",
              "13Z      11\n",
              "351L     11\n",
              "31A      11\n",
              "14Z      10\n",
              "12R      10\n",
              "14T      10\n",
              "14E      10\n",
              "12Y      10\n",
              "12H      10\n",
              "351M     10\n",
              "251A      9\n",
              "42B       9\n",
              "56A       9\n",
              "350F      9\n",
              "68P       9\n",
              "19Z       9\n",
              "91F       9\n",
              "92R       9\n",
              "92Z       9\n",
              "12M       9\n",
              "21C       9\n",
              "14S       8\n",
              "35Z       8\n",
              "91K       8\n",
              "68X       8\n",
              "25X       7\n",
              "89A       6\n",
              "25F       6\n",
              "21E       6\n",
              "915A      6\n",
              "27A       6\n",
              "13M       6\n",
              "94R       6\n",
              "91P       6\n",
              "91Z       6\n",
              "15G       5\n",
              "79S       5\n",
              "94M       5\n",
              "12K       5\n",
              "15E       5\n",
              "920A      5\n",
              "12A       5\n",
              "91M       5\n",
              "46Q       5\n",
              "63B       5\n",
              "68S       5\n",
              "12Z       5\n",
              "42F       5\n",
              "94A       5\n",
              "38B       5\n",
              "68G       5\n",
              "51C       5\n",
              "13T       4\n",
              "74A       4\n",
              "65D       4\n",
              "19A       4\n",
              "25E       4\n",
              "15N       4\n",
              "68D       4\n",
              "13P       4\n",
              "254A      4\n",
              "920B      4\n",
              "91G       4\n",
              "15U       4\n",
              "15Z       4\n",
              "09L       4\n",
              "42R       3\n",
              "25M       3\n",
              "46Z       3\n",
              "25V       3\n",
              "35S       3\n",
              "35E       3\n",
              "15R       3\n",
              "00Z       3\n",
              "91W       3\n",
              "21H       3\n",
              "35Y       3\n",
              "12T       3\n",
              "350G      3\n",
              "250N      3\n",
              "94W       3\n",
              "36A       3\n",
              "15Q       3\n",
              "19C       3\n",
              "420A      3\n",
              "94D       3\n",
              "14A       3\n",
              "922A      3\n",
              "21A       2\n",
              "21N       2\n",
              "13S       2\n",
              "25D       2\n",
              "79R       2\n",
              "352N      2\n",
              "353T      2\n",
              "42H       2\n",
              "21V       2\n",
              "35W       2\n",
              "44C       2\n",
              "68Q       2\n",
              "68Z       2\n",
              "18Z       2\n",
              "70K       2\n",
              "94Y       2\n",
              "21W       2\n",
              "92D       2\n",
              "66C       2\n",
              "71E       2\n",
              "74B       2\n",
              "15Y       2\n",
              "35B       2\n",
              "15F       2\n",
              "63J       2\n",
              "25H       2\n",
              "919A      2\n",
              "131A      2\n",
              "25Z       2\n",
              "12P       1\n",
              "72D       1\n",
              "89E       1\n",
              "86W       1\n",
              "270A      1\n",
              "910A      1\n",
              "36F       1\n",
              "356H      1\n",
              "70F       1\n",
              "46A       1\n",
              "65C       1\n",
              "351       1\n",
              "35Q       1\n",
              "66W       1\n",
              "70H       1\n",
              "60N       1\n",
              "88D       1\n",
              "14H       1\n",
              "140E      1\n",
              "61F       1\n",
              "66E       1\n",
              "92H       1\n",
              "821A      1\n",
              "57A       1\n",
              "94X       1\n",
              "65A       1\n",
              "120A      1\n",
              "92L       1\n",
              "20B       1\n",
              "88H       1\n",
              "51A       1\n",
              "94J       1\n",
              "923A      1\n",
              "53A       1\n",
              "70E       1\n",
              "94S       1\n",
              "64N       1\n",
              "94K       1\n",
              "68T       1\n",
              "13E       1\n",
              "67A       1\n",
              "15B       1\n",
              "913A      1\n",
              "63A       1\n",
              "67D       1\n",
              "52A       1\n",
              "21R       1\n",
              "12E       1\n",
              "16G       1\n",
              "21J       1\n",
              "882A      1\n",
              "91S       1\n",
              "94T       1\n",
              "921A      1\n",
              "11H       1\n",
              "18A       1\n",
              "18F       1\n",
              "92B       1\n",
              "21Z       1\n",
              "21X       1\n",
              "19X       1\n",
              "43B       1\n",
              "68H       1\n",
              "77F       1\n",
              "15S       1\n",
              "68R       1\n",
              "52D       1\n",
              "93J       1\n",
              "91l       1\n",
              "45B       1\n",
              "15V       1\n",
              "29E       1\n",
              "93W       1\n",
              "18C       1\n",
              "21T       1\n",
              "12V       1\n",
              "79T       1\n",
              "352P      1\n",
              "351B      1\n",
              "34A       1\n",
              "948E      1\n",
              "25T       1\n",
              "34F       1\n",
              "64A       1\n",
              "38A       1\n",
              "26U       1\n",
              "15D       1\n",
              "25G       1\n",
              "915E      1\n",
              "19B       1\n",
              "76B       1\n",
              "Name: count, dtype: int64"
            ]
          },
          "execution_count": 58,
          "metadata": {},
          "output_type": "execute_result"
        }
      ],
      "source": [
        "# primaryMOS check\n",
        "df.PrimaryMOS.value_counts()"
      ]
    },
    {
      "cell_type": "code",
      "execution_count": null,
      "metadata": {
        "scrolled": true,
        "tags": [],
        "id": "4FJvoYQcP5O3",
        "outputId": "c750d113-0ca5-4583-916f-3b6ff56f7c85"
      },
      "outputs": [
        {
          "data": {
            "text/plain": [
              "SubjectsBirthLocation\n",
              "California                  446\n",
              "New York                    420\n",
              "Texas                       397\n",
              "Indiana                     266\n",
              "Oklahoma                    221\n",
              "Illinois                    216\n",
              "Florida                     210\n",
              "Minnesota                   200\n",
              "Michigan                    196\n",
              "Mississippi                 194\n",
              "Georgia                     170\n",
              "Alabama                     164\n",
              "South Carolina              161\n",
              "North Carolina              149\n",
              "Ohio                        142\n",
              "Louisiana                   137\n",
              "Pennsylvania                132\n",
              "Virginia                    118\n",
              "Massachusetts               112\n",
              "Wisconsin                   102\n",
              "Germany                      92\n",
              "New Jersey                   89\n",
              "Puerto Rico                  88\n",
              "Arizona                      84\n",
              "Missouri                     84\n",
              "Colorado                     81\n",
              "Maryland                     80\n",
              "Tennessee                    74\n",
              "Kentucky                     69\n",
              "Washington                   66\n",
              "Kansas                       63\n",
              "South Dakota                 56\n",
              "Iowa                         55\n",
              "Arkansas                     54\n",
              "Philippines                  46\n",
              "Oregon                       42\n",
              "Mexico                       39\n",
              "Connecticut                  36\n",
              "Jamaica                      35\n",
              "South Korea                  31\n",
              "Nebraska                     31\n",
              "Hawaii                       29\n",
              "Utah                         28\n",
              "West Virginia                26\n",
              "Nevada                       24\n",
              "Idaho                        20\n",
              "Rhode Island                 19\n",
              "District of Columbia         19\n",
              "North Dakota                 18\n",
              "Maine                        18\n",
              "Delaware                     17\n",
              "Dominican Republic           17\n",
              "New Mexico                   17\n",
              "New Hampshire                14\n",
              "Vermont                      13\n",
              "Vietnam                      13\n",
              "Colombia                     13\n",
              "Haiti                        12\n",
              "Montana                      12\n",
              "Japan                        11\n",
              "United Kingdom               11\n",
              "Panama                       10\n",
              "Guam                         10\n",
              "Guyana                        9\n",
              "Canada                        9\n",
              "Alaska                        8\n",
              "Russia                        8\n",
              "Peru                          8\n",
              "China                         8\n",
              "American Samoa                8\n",
              "Wyoming                       7\n",
              "US Virgin Islands             7\n",
              "Ukraine                       7\n",
              "Trinidad and Tobago           7\n",
              "India                         6\n",
              "Liberia                       6\n",
              "Ecuador                       5\n",
              "El Salvador                   5\n",
              "Poland                        5\n",
              "Barbados                      5\n",
              "Grenada                       4\n",
              "Honduras                      4\n",
              "Thailand                      4\n",
              "South Africa                  4\n",
              "Nigeria                       4\n",
              "Portugal                      4\n",
              "Nicaragua                     4\n",
              "Cuba                          4\n",
              "Romania                       3\n",
              "Israel                        3\n",
              "Laos                          3\n",
              "Belgium                       3\n",
              "Morocco                       3\n",
              "Kenya                         3\n",
              "France                        3\n",
              "Nepal                         3\n",
              "United States                 2\n",
              "Turkey                        2\n",
              "Sudan                         2\n",
              "Antigua and Barbuda           2\n",
              "Ghana                         2\n",
              "Netherlands                   2\n",
              "Belize                        2\n",
              "Taiwan                        2\n",
              "Italy                         2\n",
              "Iraq                          2\n",
              "Burma                         2\n",
              "Micronesia                    2\n",
              "Lebanon                       2\n",
              "Bolivia                       2\n",
              "Iceland                       2\n",
              "Sierra Leone                  2\n",
              "Costa Rica                    2\n",
              "Palau                         2\n",
              "Cameroon                      2\n",
              "Zambia                        1\n",
              "Paraguay                      1\n",
              "Serbia                        1\n",
              "Chile                         1\n",
              "Sri Lanka                     1\n",
              "Bulgaria                      1\n",
              "Korea                         1\n",
              "Saint Lucia                   1\n",
              "Bangladesh                    1\n",
              "Azerbaijan                    1\n",
              "Venezuela                     1\n",
              "Fiji                          1\n",
              "Northern Mariana Islands      1\n",
              "Iran                          1\n",
              "Bosnia and Herzegovina        1\n",
              "Bermuda                       1\n",
              "Dominica                      1\n",
              "Cambodia                      1\n",
              "Argentina                     1\n",
              "British Virgin Islands        1\n",
              "Guadalupe                     1\n",
              "Bahamas                       1\n",
              "Senegal                       1\n",
              "Brazil                        1\n",
              "Cape Verde                    1\n",
              "Syria                         1\n",
              "Singapore                     1\n",
              "French Guiana                 1\n",
              "Guatemala                     1\n",
              "Ethiopia                      1\n",
              "Egypt                         1\n",
              "Togo                          1\n",
              "Ivory Coast                   1\n",
              "Belarus                       1\n",
              "New Zealand                   1\n",
              "South America                 1\n",
              "Denmark                       1\n",
              "Name: count, dtype: int64"
            ]
          },
          "execution_count": 59,
          "metadata": {},
          "output_type": "execute_result"
        }
      ],
      "source": [
        "# check SubjectsBirthLocation\n",
        "df.SubjectsBirthLocation.value_counts()\n",
        "# categories are too small and scattered for the model learning. drop"
      ]
    },
    {
      "cell_type": "code",
      "execution_count": null,
      "metadata": {
        "colab": {
          "base_uri": "https://localhost:8080/",
          "height": 17
        },
        "hidden": true,
        "id": "SnlGRPWbrNAj",
        "outputId": "29ed8227-1450-4213-e9d1-a2953167d415",
        "scrolled": true,
        "tags": []
      },
      "outputs": [
        {
          "data": {
            "text/plain": [
              "SubjectNumericRace\n",
              "1        3561\n",
              "2        1026\n",
              "3         541\n",
              "31        160\n",
              "51        126\n",
              "8         116\n",
              "4         109\n",
              "21         60\n",
              "6          59\n",
              "41         46\n",
              "61         35\n",
              "23         34\n",
              "28         26\n",
              "251        20\n",
              "5          18\n",
              "18         18\n",
              "25         14\n",
              "351        10\n",
              "38          9\n",
              "64          8\n",
              "62          8\n",
              "35          8\n",
              "42          7\n",
              "63          7\n",
              "231         6\n",
              "43          5\n",
              "235         4\n",
              "218         3\n",
              "651         2\n",
              "2351        2\n",
              "318         2\n",
              "641         2\n",
              "451         2\n",
              "423         2\n",
              "431         2\n",
              "2518        2\n",
              "48          1\n",
              "631         1\n",
              "4251        1\n",
              "428         1\n",
              "238         1\n",
              "358         1\n",
              "425         1\n",
              "42351       1\n",
              "Name: count, dtype: int64"
            ]
          },
          "execution_count": 60,
          "metadata": {},
          "output_type": "execute_result"
        }
      ],
      "source": [
        "# check SubjectNumericRace\n",
        "df.SubjectNumericRace.value_counts()\n",
        "# similar to DODrace target label. can be dropped"
      ]
    },
    {
      "cell_type": "code",
      "execution_count": null,
      "metadata": {
        "id": "YXnu_HxgP5O4",
        "outputId": "0fc365fd-1c61-4ba2-b60b-6acb3d01aa96"
      },
      "outputs": [
        {
          "data": {
            "text/plain": [
              "DODRace\n",
              "1    3792\n",
              "2    1298\n",
              "3     679\n",
              "4     188\n",
              "6      59\n",
              "5      49\n",
              "8       3\n",
              "Name: count, dtype: int64"
            ]
          },
          "execution_count": 61,
          "metadata": {},
          "output_type": "execute_result"
        }
      ],
      "source": [
        "# check DODrace- Target\n",
        "df.DODRace.value_counts()"
      ]
    },
    {
      "cell_type": "code",
      "execution_count": null,
      "metadata": {
        "scrolled": true,
        "tags": [],
        "id": "Lf2C4EZwP5O5"
      },
      "outputs": [],
      "source": [
        "# drop the DODrace below 500 bec model can not learn from small groups and can be subject to the misclassification\n",
        "df = df[df.DODRace<=3]"
      ]
    },
    {
      "cell_type": "code",
      "execution_count": null,
      "metadata": {
        "scrolled": true,
        "tags": [],
        "id": "Y1WvLxfVP5O5",
        "outputId": "05ef87fe-627c-4e6c-afa4-fad1ef78062d"
      },
      "outputs": [
        {
          "data": {
            "text/plain": [
              "0.9756985313158812"
            ]
          },
          "execution_count": 63,
          "metadata": {},
          "output_type": "execute_result"
        }
      ],
      "source": [
        "df0[df0.SubjectNumericRace <= 3][\"SubjectNumericRace\"].corr(df0[\"DODRace\"])"
      ]
    },
    {
      "cell_type": "code",
      "execution_count": null,
      "metadata": {
        "id": "VIws_G2QP5O6",
        "outputId": "645253dd-fdc0-49fe-9b31-31bf6be829f9"
      },
      "outputs": [
        {
          "data": {
            "text/plain": [
              "DODRace\n",
              "1    213\n",
              "2    171\n",
              "3    152\n",
              "4     49\n",
              "5     30\n",
              "6     20\n",
              "8      3\n",
              "Name: count, dtype: int64"
            ]
          },
          "execution_count": 64,
          "metadata": {},
          "output_type": "execute_result"
        }
      ],
      "source": [
        "df0[df0[\"SubjectNumericRace\"] >8][\"DODRace\"].value_counts()"
      ]
    },
    {
      "cell_type": "code",
      "execution_count": null,
      "metadata": {
        "id": "GNfUuwGsP5O7",
        "outputId": "0f2dc346-9567-4f16-9324-42415ae4e0ff"
      },
      "outputs": [
        {
          "data": {
            "text/plain": [
              "0.01798744618675959"
            ]
          },
          "execution_count": 65,
          "metadata": {},
          "output_type": "execute_result"
        }
      ],
      "source": [
        "df0.SubjectNumericRace.corr(df0[\"DODRace\"])"
      ]
    },
    {
      "cell_type": "code",
      "execution_count": null,
      "metadata": {
        "id": "A3ohU9raP5O7",
        "outputId": "57aea28f-2944-4eef-97ef-467b4d089d5d"
      },
      "outputs": [
        {
          "data": {
            "text/plain": [
              "0"
            ]
          },
          "execution_count": 66,
          "metadata": {},
          "output_type": "execute_result"
        }
      ],
      "source": [
        "df0[\"SubjectNumericRace\"].isnull().sum()"
      ]
    },
    {
      "cell_type": "code",
      "execution_count": null,
      "metadata": {
        "scrolled": true,
        "tags": [],
        "id": "qNFCU8BhP5O8",
        "outputId": "cee13bfb-8e2b-4e62-d72b-b4f90b5eff25"
      },
      "outputs": [
        {
          "data": {
            "text/plain": [
              "Ethnicity\n",
              "Mexican                                               356\n",
              "Puerto Rican                                          183\n",
              "Caribbean Islander                                    123\n",
              "Cherokee                                               60\n",
              "Dominican                                              32\n",
              "Colombian                                              17\n",
              "Cuban                                                  17\n",
              "Salvadoran                                             16\n",
              "Arab or Middle Eastern                                 16\n",
              "Filipino                                               14\n",
              "Japanese                                               12\n",
              "Mexican Puerto Rican                                   10\n",
              "Peruvian                                                9\n",
              "Honduran                                                9\n",
              "Panamanian                                              9\n",
              "Dominican Puerto Rican                                  8\n",
              "Ecuadorian                                              7\n",
              "Nicaraguan                                              6\n",
              "Blackfoot                                               6\n",
              "Korean                                                  5\n",
              "East/Asian Indian                                       5\n",
              "Creek                                                   5\n",
              "Guatemalan Mexican                                      4\n",
              "Cherokee Puerto Rican                                   4\n",
              "Japanese Mexican                                        4\n",
              "Cuban Puerto Rican                                      4\n",
              "Chippewa                                                4\n",
              "Guatemalan                                              4\n",
              "Chinese                                                 4\n",
              "Mexican Salvadoran                                      4\n",
              "Cree                                                    3\n",
              "Lumbee                                                  3\n",
              "Chilean Mexican                                         3\n",
              "Cherokee Mexican                                        3\n",
              "Apache Cherokee                                         3\n",
              "Blackfoot Cherokee                                      3\n",
              "Filipino Mexican                                        3\n",
              "Choctaw                                                 3\n",
              "Ojibwe                                                  3\n",
              "Caribbean Islander Panamanian                           2\n",
              "Cherokee Comanche                                       2\n",
              "Bolivian                                                2\n",
              "Comanche                                                2\n",
              "Caribbean Islander Puerto Rican                         2\n",
              "Kiowa                                                   2\n",
              "Colombian Ecuadorian                                    2\n",
              "Apache Blackfoot                                        2\n",
              "Thai                                                    2\n",
              "Guamanian/Chamorro                                      2\n",
              "Panamanian Puerto Rican                                 2\n",
              "Cherokee Choctaw                                        2\n",
              "Brazilian                                               2\n",
              "Hawaiian                                                2\n",
              "Belizean                                                2\n",
              "Caribbean Islander East/Asian Indian                    2\n",
              "Cuban Mexican                                           2\n",
              "Honduran Nicaraguan                                     2\n",
              "Ecuadorian Puerto Rican                                 2\n",
              "Apache                                                  2\n",
              "Samoan                                                  2\n",
              "Potawatomi                                              2\n",
              "Cherokee Japanese                                       2\n",
              "Chickasaw Choctaw                                       1\n",
              "Armenian                                                1\n",
              "Argentine                                               1\n",
              "Miami                                                   1\n",
              "Caribbean Islander Cherokee                             1\n",
              "Dominican Salvadoran                                    1\n",
              "Cochiti Pueblo Mexican                                  1\n",
              "Algonquin Navajo Penobscot                              1\n",
              "Chickasaw                                               1\n",
              "Colombian Cuban                                         1\n",
              "Blackfoot Shawnee                                       1\n",
              "Choctaw Sioux                                           1\n",
              "Guatemalan Salvadoran                                   1\n",
              "Blackfoot Cherokee Choctaw                              1\n",
              "Western Cherokee                                        1\n",
              "Belizean Dominican                                      1\n",
              "Mexican Yaqui                                           1\n",
              "Puerto Rican Seneca                                     1\n",
              "Hawaiian Polynesian                                     1\n",
              "Chinese Puerto Rican Seminole                           1\n",
              "Chinese Vietnamese                                      1\n",
              "Undisclosed Native American Tribe                       1\n",
              "Cherokee Yaqui                                          1\n",
              "Aztec Mexican                                           1\n",
              "Lenape Puerto Rican                                     1\n",
              "Cuban Venezuelan                                        1\n",
              "Peruvian Salvadoran                                     1\n",
              "Blackfoot Puerto Rican                                  1\n",
              "Cheyenne                                                1\n",
              "Arab or Middle Eastern Caribbean Islander Cherokee      1\n",
              "Chippewa Narragansett                                   1\n",
              "Cherokee Sioux                                          1\n",
              "Arab or Middle Eastern Venezuelan                       1\n",
              "Sri Lankan                                              1\n",
              "Mexican Venezuelan                                      1\n",
              "Puerto Rican Vietnamese                                 1\n",
              "Muscogee                                                1\n",
              "Caribbean Islander Cuban                                1\n",
              "Paraguayan                                              1\n",
              "Choctaw Cherokee                                        1\n",
              "Cherokee Hawaiian                                       1\n",
              "Caribbean Islander Chinese East/Asian Indian            1\n",
              "Seminole                                                1\n",
              "Honduran Panamanian                                     1\n",
              "Cherokee Choctaw Mexican                                1\n",
              "Chilean                                                 1\n",
              "Costa Rican Cuban                                       1\n",
              "Arab or Middle Eastern Cuban                            1\n",
              "Dominican Ecuadorian Puerto Rican                       1\n",
              "Cherokee Korean                                         1\n",
              "Argentine Brazilian                                     1\n",
              "Sioux                                                   1\n",
              "Dominican Guyanese                                      1\n",
              "Cherokee Iroquois                                       1\n",
              "Argentine Mexican                                       1\n",
              "Shawnee                                                 1\n",
              "Salvadoran Venezuelan                                   1\n",
              "Navajo                                                  1\n",
              "Mexican Nicaraguan                                      1\n",
              "Aboriginal Guyanese                                     1\n",
              "Mescalero Apache                                        1\n",
              "Mexican Pima                                            1\n",
              "Houma                                                   1\n",
              "Guatemalan Honduran                                     1\n",
              "Costa Rican Salvadoran                                  1\n",
              "Azorean                                                 1\n",
              "Turkish                                                 1\n",
              "Mexican Turkish                                         1\n",
              "Arab or Middle Eastern Honduran                         1\n",
              "Nicaraguan Salvadoran                                   1\n",
              "Cape Verdean                                            1\n",
              "Guatemalan Puerto Rican                                 1\n",
              "Dominican Korean                                        1\n",
              "Cuban Salvadoran                                        1\n",
              "Malaysian                                               1\n",
              "Cuban Laotian                                           1\n",
              "Vietnamese                                              1\n",
              "Cherokee Osage                                          1\n",
              "Mexican Panamanian                                      1\n",
              "Colombian Puerto Rican                                  1\n",
              "Costa Rican                                             1\n",
              "Hmong                                                   1\n",
              "Blackfoot Mexican                                       1\n",
              "Caribbean Islander Dominican                            1\n",
              "Hunkpapa Lakota                                         1\n",
              "Indonesian Puerto Rican                                 1\n",
              "Chippewa Mexican                                        1\n",
              "Chinook                                                 1\n",
              "Apache Kiowa Mexican                                    1\n",
              "Blackfoot Choctaw Sioux                                 1\n",
              "Blackfoot Caribbean Islander Puerto Rican               1\n",
              "Cuban Unreadable Native American Tribe                  1\n",
              "Ute                                                     1\n",
              "Mexican Zuni                                            1\n",
              "Apache Blackfoot Cherokee Crow                          1\n",
              "Name: count, dtype: int64"
            ]
          },
          "execution_count": 67,
          "metadata": {},
          "output_type": "execute_result"
        }
      ],
      "source": [
        "# check ethnicity\n",
        "df.Ethnicity.value_counts()"
      ]
    },
    {
      "cell_type": "markdown",
      "metadata": {
        "id": "Rg6RGCc7P5O8"
      },
      "source": [
        "## ! SubjectNumericRace drop edilmedi"
      ]
    },
    {
      "cell_type": "code",
      "execution_count": null,
      "metadata": {
        "id": "HcUCU3RhP5O8"
      },
      "outputs": [],
      "source": [
        "# drop unnecessary attributes\n",
        "df.drop(columns=[\"subjectid\",\"Ethnicity\",\"Date\",'Installation','Component','Branch',\n",
        "                 \"SubjectsBirthLocation\", \"WritingPreference\",\"PrimaryMOS\"], axis=1, inplace=True)"
      ]
    },
    {
      "cell_type": "code",
      "execution_count": null,
      "metadata": {
        "id": "bSZ9Y0EfP5O9"
      },
      "outputs": [],
      "source": []
    },
    {
      "cell_type": "code",
      "execution_count": null,
      "metadata": {
        "id": "oaqNAiKXP5O9",
        "outputId": "5b5a2626-cbeb-415e-a953-44c96c68d539"
      },
      "outputs": [
        {
          "data": {
            "text/plain": [
              "Gender\n",
              "Male      3899\n",
              "Female    1870\n",
              "Name: count, dtype: int64"
            ]
          },
          "execution_count": 69,
          "metadata": {},
          "output_type": "execute_result"
        }
      ],
      "source": [
        "# the only object attribute is Gender and it has only two categories. It will be converted to numerical\n",
        "df.Gender.value_counts()"
      ]
    },
    {
      "cell_type": "code",
      "execution_count": null,
      "metadata": {
        "scrolled": true,
        "tags": [],
        "id": "IFthOCCtP5O9"
      },
      "outputs": [],
      "source": [
        "df.Gender = df.Gender.replace(\"Male\", 0).replace(\"Female\", 1)"
      ]
    },
    {
      "cell_type": "code",
      "execution_count": null,
      "metadata": {
        "id": "TlIwrenwP5O-",
        "outputId": "073c9a2a-6235-4809-84ed-91d6f4ee0b7f"
      },
      "outputs": [
        {
          "data": {
            "text/plain": [
              "(5769, 98)"
            ]
          },
          "execution_count": 71,
          "metadata": {},
          "output_type": "execute_result"
        }
      ],
      "source": [
        "# check updated df\n",
        "df.shape"
      ]
    },
    {
      "cell_type": "code",
      "execution_count": null,
      "metadata": {
        "scrolled": true,
        "tags": [],
        "id": "2oSHgOvdP5O-"
      },
      "outputs": [],
      "source": [
        "df.info()"
      ]
    },
    {
      "cell_type": "markdown",
      "metadata": {
        "id": "kf2kc9OzP5O_"
      },
      "source": [
        "**Duplicate control**"
      ]
    },
    {
      "cell_type": "code",
      "execution_count": null,
      "metadata": {
        "id": "X93enqQXP5O_",
        "outputId": "040e5e46-37bd-484b-f0fe-b80f0a864512"
      },
      "outputs": [
        {
          "data": {
            "text/plain": [
              "0"
            ]
          },
          "execution_count": 73,
          "metadata": {},
          "output_type": "execute_result"
        }
      ],
      "source": [
        "# check duplicated values\n",
        "df.duplicated().sum()"
      ]
    },
    {
      "cell_type": "markdown",
      "metadata": {
        "id": "qlHmETxUP5PA"
      },
      "source": [
        "**Null Values control**"
      ]
    },
    {
      "cell_type": "code",
      "execution_count": null,
      "metadata": {
        "scrolled": true,
        "tags": [],
        "id": "0Zbx751qP5PA"
      },
      "outputs": [],
      "source": [
        "# check null values\n",
        "df.isnull().sum()\n",
        "# any null values"
      ]
    },
    {
      "cell_type": "markdown",
      "metadata": {
        "id": "bmyEOwerP5PA"
      },
      "source": [
        "**main statistical insights**"
      ]
    },
    {
      "cell_type": "code",
      "execution_count": null,
      "metadata": {
        "id": "aXMXEp5_P5PB"
      },
      "outputs": [],
      "source": [
        "# check main statistics and distribution of the data\n",
        "df.describe().T\n",
        "# first insight from the mean and std show that there are not many outliers. will be checked with boxplots again."
      ]
    },
    {
      "cell_type": "code",
      "execution_count": null,
      "metadata": {
        "scrolled": true,
        "tags": [],
        "id": "k25HRZl9P5PC"
      },
      "outputs": [],
      "source": [
        "# check the correlation of features with DOD race\n",
        "df.corr()[\"DODRace\"]"
      ]
    },
    {
      "cell_type": "code",
      "execution_count": null,
      "metadata": {
        "id": "mSQBCL4nP5PD"
      },
      "outputs": [],
      "source": [
        "# check the correlation of the features with target throguh a barplot\n",
        "plt.figure(figsize=(20,25))\n",
        "ax = df.corr()[\"DODRace\"].drop(\"DODRace\").sort_values().plot.barh()\n",
        "ax.bar_label(ax.containers[0], fmt='%.2f');"
      ]
    },
    {
      "cell_type": "markdown",
      "metadata": {
        "id": "Zz7Sa0jzP5PD"
      },
      "source": [
        "**OUTLIERS CHECK**"
      ]
    },
    {
      "cell_type": "code",
      "execution_count": null,
      "metadata": {
        "id": "DSzwMhmyP5PD"
      },
      "outputs": [],
      "source": [
        "plt.figure(figsize=(30,50))\n",
        "fig = px.box(df, color=\"DODRace\", color_discrete_map={1:'#FF0000',2:'#00FF00', 3:'#000FF0'})\n",
        "fig.show()"
      ]
    },
    {
      "cell_type": "code",
      "execution_count": null,
      "metadata": {
        "id": "OkmoHv6QP5PD"
      },
      "outputs": [],
      "source": [
        "def count_outliers(data):\n",
        "    \"\"\"\n",
        "    This function counts the number of outliers in each numeric feature of a given dataset\n",
        "    using Tukey's method.\n",
        "    \n",
        "    Parameters:\n",
        "    -----------\n",
        "    data : pandas DataFrame\n",
        "        The dataset to analyze\n",
        "    \n",
        "    Returns:\n",
        "    --------\n",
        "    outlier_counts : pandas DataFrame\n",
        "        A DataFrame containing the count of outliers for each numeric feature\n",
        "    \"\"\"\n",
        "    # Create an empty DataFrame to store the outlier counts\n",
        "    outlier_counts = pd.DataFrame(columns=['feature', 'count'])\n",
        "    \n",
        "    # Loop through each numeric feature in the dataset\n",
        "    for feature in data.select_dtypes(include=np.number):\n",
        "        # Calculate the first and third quartiles and the interquartile range\n",
        "        q1 = data[feature].quantile(0.25)\n",
        "        q3 = data[feature].quantile(0.75)\n",
        "        iqr = q3 - q1\n",
        "        \n",
        "        # Calculate the lower and upper bounds for outliers\n",
        "        lower_bound = q1 - 1.5 * iqr\n",
        "        upper_bound = q3 + 1.5 * iqr\n",
        "        \n",
        "        # Count the number of outliers\n",
        "        num_outliers = len(data[(data[feature] < lower_bound) | (data[feature] > upper_bound)])\n",
        "        \n",
        "        # Add the outlier count to the DataFrame\n",
        "        outlier_counts = outlier_counts.append({'feature': feature, 'count': num_outliers}, ignore_index=True)\n",
        "    \n",
        "    # Return the DataFrame of outlier counts\n",
        "    return outlier_counts"
      ]
    },
    {
      "cell_type": "code",
      "execution_count": null,
      "metadata": {
        "scrolled": true,
        "tags": [],
        "id": "6yUFatbbP5PE"
      },
      "outputs": [],
      "source": [
        "count_outliers(df)"
      ]
    },
    {
      "cell_type": "code",
      "execution_count": null,
      "metadata": {
        "id": "Q1Ffw43wP5PE"
      },
      "outputs": [],
      "source": [
        "help(count_outliers)"
      ]
    },
    {
      "cell_type": "markdown",
      "metadata": {
        "id": "-ts1zrfKP5PG"
      },
      "source": [
        "**Multicolinearity** Scaling sonrası???"
      ]
    },
    {
      "cell_type": "code",
      "execution_count": null,
      "metadata": {
        "id": "dficj27iP5PG"
      },
      "outputs": [],
      "source": [
        "def color_red(val):\n",
        "    \n",
        "    if (val > 0.90 and val < 1) or (val < -0.90 and val > -1):\n",
        "        color = 'red'\n",
        "    else:\n",
        "        color = 'black'\n",
        "    return f'color: {color}'\n",
        "# pd.DataFrame(df).corr().style.applymap(color_red)"
      ]
    },
    {
      "cell_type": "code",
      "execution_count": null,
      "metadata": {
        "scrolled": true,
        "tags": [],
        "id": "G9CESwxsP5PH"
      },
      "outputs": [],
      "source": [
        "df.corr()[(abs(df.corr())>= 0.9) & (abs(df.corr()) < 1)].any()"
      ]
    },
    {
      "cell_type": "code",
      "execution_count": null,
      "metadata": {
        "id": "9WG9XawuP5PH",
        "outputId": "51194172-a37a-419f-af4a-5ac7f3711ff7"
      },
      "outputs": [
        {
          "data": {
            "text/plain": [
              "DODRace\n",
              "1    3792\n",
              "2    1298\n",
              "3     679\n",
              "Name: count, dtype: int64"
            ]
          },
          "execution_count": 84,
          "metadata": {},
          "output_type": "execute_result"
        }
      ],
      "source": [
        "df.DODRace.value_counts()"
      ]
    },
    {
      "cell_type": "code",
      "execution_count": null,
      "metadata": {
        "id": "SJKdalJDP5PH",
        "outputId": "15351ca3-7caa-4b0a-cda5-37a91cacbd4c"
      },
      "outputs": [
        {
          "data": {
            "image/png": "[encoded data removed]",
            "text/plain": [
              "<Figure size 800x550 with 1 Axes>"
            ]
          },
          "metadata": {},
          "output_type": "display_data"
        }
      ],
      "source": [
        "ax = sns.countplot(x='DODRace', data=df)\n",
        "ax.bar_label(ax.containers[0]);\n",
        "# imbalance "
      ]
    },
    {
      "cell_type": "markdown",
      "metadata": {
        "id": "KQYZL4tJP5PH"
      },
      "source": [
        "# WITH SUBJECT RACE\n",
        "\n",
        "**yaplacaklar:**\n",
        "\n",
        "- SubjectNumericRace >8 olanlardf1[\"SubjectNumericRace\"] <= 3] olanların DODRace ile degiecek\n",
        "- artik SubjectNumericRace race en buyuk 8. dolayısıyla 3'ten buyuklaeri dusecek. yanşi \n",
        "- df1 = df1[df.SubjectNumericRace<=3]"
      ]
    },
    {
      "cell_type": "markdown",
      "metadata": {
        "id": "AaybLmi3P5PI"
      },
      "source": [
        "**Buradan itibaren df1 ile calisildi**"
      ]
    },
    {
      "cell_type": "code",
      "execution_count": null,
      "metadata": {
        "id": "6cbtL8PEP5PI"
      },
      "outputs": [],
      "source": [
        "df1 = df.copy()\n",
        "df2 = df.copy() ## ihtiyat amacli"
      ]
    },
    {
      "cell_type": "code",
      "execution_count": null,
      "metadata": {
        "id": "NiM0DNaCP5PI",
        "outputId": "30925bc2-640b-4376-bf0e-49ab387e9ce4"
      },
      "outputs": [
        {
          "name": "stdout",
          "output_type": "stream",
          "text": [
            "<class 'pandas.core.series.Series'>\n",
            "Index: 5769 entries, 0 to 6067\n",
            "Series name: SubjectNumericRace\n",
            "Non-Null Count  Dtype\n",
            "--------------  -----\n",
            "5769 non-null   int64\n",
            "dtypes: int64(1)\n",
            "memory usage: 90.1 KB\n"
          ]
        }
      ],
      "source": [
        "df1.SubjectNumericRace.info()"
      ]
    },
    {
      "cell_type": "code",
      "execution_count": null,
      "metadata": {
        "id": "ZNJyXm0LP5PI"
      },
      "outputs": [],
      "source": [
        "df1.SubjectNumericRace.value_counts()"
      ]
    },
    {
      "cell_type": "code",
      "execution_count": null,
      "metadata": {
        "id": "b_aNNgHbP5PJ",
        "outputId": "01d6cf8d-978d-4567-e9b4-e76dbd0e20cc"
      },
      "outputs": [
        {
          "data": {
            "text/plain": [
              "644"
            ]
          },
          "execution_count": 89,
          "metadata": {},
          "output_type": "execute_result"
        }
      ],
      "source": [
        "df1.SubjectNumericRace[df[\"SubjectNumericRace\"] > 3].count()"
      ]
    },
    {
      "cell_type": "markdown",
      "metadata": {
        "id": "Lj0rxqE5P5PJ"
      },
      "source": [
        "**SubjectNumericRace >8 olanlar df[df.SubjectNumericRace >8] olanların DODRace ile degiecek**"
      ]
    },
    {
      "cell_type": "code",
      "execution_count": null,
      "metadata": {
        "id": "pWRLrrHcP5PK",
        "outputId": "1b20cdf1-339f-4e15-afea-9bb0ea1930f0"
      },
      "outputs": [
        {
          "data": {
            "text/plain": [
              "536"
            ]
          },
          "execution_count": 90,
          "metadata": {},
          "output_type": "execute_result"
        }
      ],
      "source": [
        "df1.SubjectNumericRace[df[\"SubjectNumericRace\"] > 8].count()"
      ]
    },
    {
      "cell_type": "code",
      "execution_count": null,
      "metadata": {
        "id": "dfX-UuP7P5PK",
        "outputId": "347e2f73-25cc-4e47-b643-394d8b671e24"
      },
      "outputs": [
        {
          "data": {
            "text/html": [
              "<div>\n",
              "<style scoped>\n",
              "    .dataframe tbody tr th:only-of-type {\n",
              "        vertical-align: middle;\n",
              "    }\n",
              "\n",
              "    .dataframe tbody tr th {\n",
              "        vertical-align: top;\n",
              "    }\n",
              "\n",
              "    .dataframe thead th {\n",
              "        text-align: right;\n",
              "    }\n",
              "</style>\n",
              "<table border=\"1\" class=\"dataframe\">\n",
              "  <thead>\n",
              "    <tr style=\"text-align: right;\">\n",
              "      <th></th>\n",
              "      <th>abdominalextensiondepthsitting</th>\n",
              "      <th>acromialheight</th>\n",
              "      <th>acromionradialelength</th>\n",
              "      <th>anklecircumference</th>\n",
              "      <th>axillaheight</th>\n",
              "      <th>balloffootcircumference</th>\n",
              "      <th>balloffootlength</th>\n",
              "      <th>biacromialbreadth</th>\n",
              "      <th>bicepscircumferenceflexed</th>\n",
              "      <th>bicristalbreadth</th>\n",
              "      <th>bideltoidbreadth</th>\n",
              "      <th>bimalleolarbreadth</th>\n",
              "      <th>bitragionchinarc</th>\n",
              "      <th>bitragionsubmandibulararc</th>\n",
              "      <th>bizygomaticbreadth</th>\n",
              "      <th>buttockcircumference</th>\n",
              "      <th>buttockdepth</th>\n",
              "      <th>buttockheight</th>\n",
              "      <th>buttockkneelength</th>\n",
              "      <th>buttockpopliteallength</th>\n",
              "      <th>calfcircumference</th>\n",
              "      <th>cervicaleheight</th>\n",
              "      <th>chestbreadth</th>\n",
              "      <th>chestcircumference</th>\n",
              "      <th>chestdepth</th>\n",
              "      <th>chestheight</th>\n",
              "      <th>crotchheight</th>\n",
              "      <th>crotchlengthomphalion</th>\n",
              "      <th>crotchlengthposterioromphalion</th>\n",
              "      <th>earbreadth</th>\n",
              "      <th>earlength</th>\n",
              "      <th>earprotrusion</th>\n",
              "      <th>elbowrestheight</th>\n",
              "      <th>eyeheightsitting</th>\n",
              "      <th>footbreadthhorizontal</th>\n",
              "      <th>footlength</th>\n",
              "      <th>forearmcenterofgriplength</th>\n",
              "      <th>forearmcircumferenceflexed</th>\n",
              "      <th>forearmforearmbreadth</th>\n",
              "      <th>forearmhandlength</th>\n",
              "      <th>functionalleglength</th>\n",
              "      <th>handbreadth</th>\n",
              "      <th>handcircumference</th>\n",
              "      <th>handlength</th>\n",
              "      <th>headbreadth</th>\n",
              "      <th>headcircumference</th>\n",
              "      <th>headlength</th>\n",
              "      <th>heelanklecircumference</th>\n",
              "      <th>heelbreadth</th>\n",
              "      <th>hipbreadth</th>\n",
              "      <th>hipbreadthsitting</th>\n",
              "      <th>iliocristaleheight</th>\n",
              "      <th>interpupillarybreadth</th>\n",
              "      <th>interscyei</th>\n",
              "      <th>interscyeii</th>\n",
              "      <th>kneeheightmidpatella</th>\n",
              "      <th>kneeheightsitting</th>\n",
              "      <th>lateralfemoralepicondyleheight</th>\n",
              "      <th>lateralmalleolusheight</th>\n",
              "      <th>lowerthighcircumference</th>\n",
              "      <th>mentonsellionlength</th>\n",
              "      <th>neckcircumference</th>\n",
              "      <th>neckcircumferencebase</th>\n",
              "      <th>overheadfingertipreachsitting</th>\n",
              "      <th>palmlength</th>\n",
              "      <th>poplitealheight</th>\n",
              "      <th>radialestylionlength</th>\n",
              "      <th>shouldercircumference</th>\n",
              "      <th>shoulderelbowlength</th>\n",
              "      <th>shoulderlength</th>\n",
              "      <th>sittingheight</th>\n",
              "      <th>sleevelengthspinewrist</th>\n",
              "      <th>sleeveoutseam</th>\n",
              "      <th>span</th>\n",
              "      <th>stature</th>\n",
              "      <th>suprasternaleheight</th>\n",
              "      <th>tenthribheight</th>\n",
              "      <th>thighcircumference</th>\n",
              "      <th>thighclearance</th>\n",
              "      <th>thumbtipreach</th>\n",
              "      <th>tibialheight</th>\n",
              "      <th>tragiontopofhead</th>\n",
              "      <th>trochanterionheight</th>\n",
              "      <th>verticaltrunkcircumferenceusa</th>\n",
              "      <th>waistbacklength</th>\n",
              "      <th>waistbreadth</th>\n",
              "      <th>waistcircumference</th>\n",
              "      <th>waistdepth</th>\n",
              "      <th>waistfrontlengthsitting</th>\n",
              "      <th>waistheightomphalion</th>\n",
              "      <th>wristcircumference</th>\n",
              "      <th>wristheight</th>\n",
              "      <th>Gender</th>\n",
              "      <th>SubjectNumericRace</th>\n",
              "      <th>DODRace</th>\n",
              "      <th>Age</th>\n",
              "      <th>Heightin</th>\n",
              "      <th>Weightlbs</th>\n",
              "    </tr>\n",
              "  </thead>\n",
              "  <tbody>\n",
              "    <tr>\n",
              "      <th>10</th>\n",
              "      <td>272</td>\n",
              "      <td>1450</td>\n",
              "      <td>339</td>\n",
              "      <td>218</td>\n",
              "      <td>1353</td>\n",
              "      <td>244</td>\n",
              "      <td>189</td>\n",
              "      <td>412</td>\n",
              "      <td>351</td>\n",
              "      <td>278</td>\n",
              "      <td>523</td>\n",
              "      <td>68</td>\n",
              "      <td>357</td>\n",
              "      <td>337</td>\n",
              "      <td>150</td>\n",
              "      <td>1027</td>\n",
              "      <td>261</td>\n",
              "      <td>879</td>\n",
              "      <td>578</td>\n",
              "      <td>468</td>\n",
              "      <td>377</td>\n",
              "      <td>1527</td>\n",
              "      <td>293</td>\n",
              "      <td>1117</td>\n",
              "      <td>270</td>\n",
              "      <td>1311</td>\n",
              "      <td>839</td>\n",
              "      <td>659</td>\n",
              "      <td>352</td>\n",
              "      <td>37</td>\n",
              "      <td>74</td>\n",
              "      <td>21</td>\n",
              "      <td>300</td>\n",
              "      <td>845</td>\n",
              "      <td>101</td>\n",
              "      <td>265</td>\n",
              "      <td>350</td>\n",
              "      <td>304</td>\n",
              "      <td>589</td>\n",
              "      <td>488</td>\n",
              "      <td>1093</td>\n",
              "      <td>89</td>\n",
              "      <td>212</td>\n",
              "      <td>200</td>\n",
              "      <td>155</td>\n",
              "      <td>578</td>\n",
              "      <td>200</td>\n",
              "      <td>330</td>\n",
              "      <td>71</td>\n",
              "      <td>352</td>\n",
              "      <td>374</td>\n",
              "      <td>1055</td>\n",
              "      <td>685</td>\n",
              "      <td>510</td>\n",
              "      <td>483</td>\n",
              "      <td>502</td>\n",
              "      <td>556</td>\n",
              "      <td>493</td>\n",
              "      <td>79</td>\n",
              "      <td>391</td>\n",
              "      <td>137</td>\n",
              "      <td>445</td>\n",
              "      <td>473</td>\n",
              "      <td>1487</td>\n",
              "      <td>117</td>\n",
              "      <td>435</td>\n",
              "      <td>263</td>\n",
              "      <td>1203</td>\n",
              "      <td>362</td>\n",
              "      <td>144</td>\n",
              "      <td>969</td>\n",
              "      <td>915</td>\n",
              "      <td>580</td>\n",
              "      <td>1840</td>\n",
              "      <td>1780</td>\n",
              "      <td>1464</td>\n",
              "      <td>1108</td>\n",
              "      <td>624</td>\n",
              "      <td>183</td>\n",
              "      <td>844</td>\n",
              "      <td>487</td>\n",
              "      <td>142</td>\n",
              "      <td>918</td>\n",
              "      <td>1775</td>\n",
              "      <td>512</td>\n",
              "      <td>334</td>\n",
              "      <td>994</td>\n",
              "      <td>254</td>\n",
              "      <td>454</td>\n",
              "      <td>1033</td>\n",
              "      <td>174</td>\n",
              "      <td>863</td>\n",
              "      <td>0</td>\n",
              "      <td>351</td>\n",
              "      <td>1</td>\n",
              "      <td>32</td>\n",
              "      <td>70</td>\n",
              "      <td>195</td>\n",
              "    </tr>\n",
              "    <tr>\n",
              "      <th>27</th>\n",
              "      <td>247</td>\n",
              "      <td>1469</td>\n",
              "      <td>335</td>\n",
              "      <td>219</td>\n",
              "      <td>1363</td>\n",
              "      <td>224</td>\n",
              "      <td>205</td>\n",
              "      <td>395</td>\n",
              "      <td>330</td>\n",
              "      <td>272</td>\n",
              "      <td>480</td>\n",
              "      <td>75</td>\n",
              "      <td>327</td>\n",
              "      <td>310</td>\n",
              "      <td>140</td>\n",
              "      <td>996</td>\n",
              "      <td>250</td>\n",
              "      <td>896</td>\n",
              "      <td>610</td>\n",
              "      <td>498</td>\n",
              "      <td>370</td>\n",
              "      <td>1550</td>\n",
              "      <td>280</td>\n",
              "      <td>964</td>\n",
              "      <td>224</td>\n",
              "      <td>1316</td>\n",
              "      <td>857</td>\n",
              "      <td>635</td>\n",
              "      <td>370</td>\n",
              "      <td>36</td>\n",
              "      <td>60</td>\n",
              "      <td>25</td>\n",
              "      <td>273</td>\n",
              "      <td>856</td>\n",
              "      <td>94</td>\n",
              "      <td>275</td>\n",
              "      <td>336</td>\n",
              "      <td>281</td>\n",
              "      <td>555</td>\n",
              "      <td>470</td>\n",
              "      <td>1132</td>\n",
              "      <td>84</td>\n",
              "      <td>197</td>\n",
              "      <td>192</td>\n",
              "      <td>155</td>\n",
              "      <td>575</td>\n",
              "      <td>196</td>\n",
              "      <td>337</td>\n",
              "      <td>67</td>\n",
              "      <td>337</td>\n",
              "      <td>395</td>\n",
              "      <td>1073</td>\n",
              "      <td>625</td>\n",
              "      <td>358</td>\n",
              "      <td>394</td>\n",
              "      <td>505</td>\n",
              "      <td>559</td>\n",
              "      <td>501</td>\n",
              "      <td>74</td>\n",
              "      <td>412</td>\n",
              "      <td>122</td>\n",
              "      <td>365</td>\n",
              "      <td>404</td>\n",
              "      <td>1507</td>\n",
              "      <td>115</td>\n",
              "      <td>431</td>\n",
              "      <td>246</td>\n",
              "      <td>1095</td>\n",
              "      <td>362</td>\n",
              "      <td>151</td>\n",
              "      <td>958</td>\n",
              "      <td>875</td>\n",
              "      <td>582</td>\n",
              "      <td>1828</td>\n",
              "      <td>1795</td>\n",
              "      <td>1478</td>\n",
              "      <td>1140</td>\n",
              "      <td>621</td>\n",
              "      <td>172</td>\n",
              "      <td>775</td>\n",
              "      <td>495</td>\n",
              "      <td>115</td>\n",
              "      <td>946</td>\n",
              "      <td>1705</td>\n",
              "      <td>483</td>\n",
              "      <td>323</td>\n",
              "      <td>912</td>\n",
              "      <td>229</td>\n",
              "      <td>424</td>\n",
              "      <td>1070</td>\n",
              "      <td>180</td>\n",
              "      <td>873</td>\n",
              "      <td>0</td>\n",
              "      <td>61</td>\n",
              "      <td>1</td>\n",
              "      <td>36</td>\n",
              "      <td>71</td>\n",
              "      <td>176</td>\n",
              "    </tr>\n",
              "    <tr>\n",
              "      <th>36</th>\n",
              "      <td>261</td>\n",
              "      <td>1386</td>\n",
              "      <td>334</td>\n",
              "      <td>193</td>\n",
              "      <td>1282</td>\n",
              "      <td>227</td>\n",
              "      <td>175</td>\n",
              "      <td>361</td>\n",
              "      <td>325</td>\n",
              "      <td>268</td>\n",
              "      <td>440</td>\n",
              "      <td>66</td>\n",
              "      <td>318</td>\n",
              "      <td>275</td>\n",
              "      <td>139</td>\n",
              "      <td>941</td>\n",
              "      <td>238</td>\n",
              "      <td>862</td>\n",
              "      <td>598</td>\n",
              "      <td>493</td>\n",
              "      <td>340</td>\n",
              "      <td>1452</td>\n",
              "      <td>251</td>\n",
              "      <td>951</td>\n",
              "      <td>239</td>\n",
              "      <td>1227</td>\n",
              "      <td>815</td>\n",
              "      <td>600</td>\n",
              "      <td>355</td>\n",
              "      <td>35</td>\n",
              "      <td>58</td>\n",
              "      <td>22</td>\n",
              "      <td>218</td>\n",
              "      <td>765</td>\n",
              "      <td>95</td>\n",
              "      <td>236</td>\n",
              "      <td>346</td>\n",
              "      <td>265</td>\n",
              "      <td>513</td>\n",
              "      <td>470</td>\n",
              "      <td>1124</td>\n",
              "      <td>79</td>\n",
              "      <td>188</td>\n",
              "      <td>183</td>\n",
              "      <td>150</td>\n",
              "      <td>562</td>\n",
              "      <td>193</td>\n",
              "      <td>310</td>\n",
              "      <td>78</td>\n",
              "      <td>315</td>\n",
              "      <td>377</td>\n",
              "      <td>1016</td>\n",
              "      <td>645</td>\n",
              "      <td>351</td>\n",
              "      <td>375</td>\n",
              "      <td>479</td>\n",
              "      <td>526</td>\n",
              "      <td>470</td>\n",
              "      <td>78</td>\n",
              "      <td>396</td>\n",
              "      <td>111</td>\n",
              "      <td>357</td>\n",
              "      <td>389</td>\n",
              "      <td>1372</td>\n",
              "      <td>110</td>\n",
              "      <td>402</td>\n",
              "      <td>261</td>\n",
              "      <td>1013</td>\n",
              "      <td>356</td>\n",
              "      <td>138</td>\n",
              "      <td>882</td>\n",
              "      <td>842</td>\n",
              "      <td>586</td>\n",
              "      <td>1757</td>\n",
              "      <td>1685</td>\n",
              "      <td>1383</td>\n",
              "      <td>1067</td>\n",
              "      <td>637</td>\n",
              "      <td>172</td>\n",
              "      <td>784</td>\n",
              "      <td>459</td>\n",
              "      <td>138</td>\n",
              "      <td>887</td>\n",
              "      <td>1593</td>\n",
              "      <td>458</td>\n",
              "      <td>318</td>\n",
              "      <td>895</td>\n",
              "      <td>225</td>\n",
              "      <td>374</td>\n",
              "      <td>1012</td>\n",
              "      <td>155</td>\n",
              "      <td>789</td>\n",
              "      <td>0</td>\n",
              "      <td>61</td>\n",
              "      <td>1</td>\n",
              "      <td>20</td>\n",
              "      <td>68</td>\n",
              "      <td>150</td>\n",
              "    </tr>\n",
              "    <tr>\n",
              "      <th>56</th>\n",
              "      <td>212</td>\n",
              "      <td>1496</td>\n",
              "      <td>347</td>\n",
              "      <td>208</td>\n",
              "      <td>1395</td>\n",
              "      <td>235</td>\n",
              "      <td>208</td>\n",
              "      <td>394</td>\n",
              "      <td>320</td>\n",
              "      <td>258</td>\n",
              "      <td>475</td>\n",
              "      <td>75</td>\n",
              "      <td>327</td>\n",
              "      <td>290</td>\n",
              "      <td>140</td>\n",
              "      <td>897</td>\n",
              "      <td>211</td>\n",
              "      <td>973</td>\n",
              "      <td>625</td>\n",
              "      <td>511</td>\n",
              "      <td>373</td>\n",
              "      <td>1543</td>\n",
              "      <td>256</td>\n",
              "      <td>901</td>\n",
              "      <td>205</td>\n",
              "      <td>1343</td>\n",
              "      <td>911</td>\n",
              "      <td>578</td>\n",
              "      <td>360</td>\n",
              "      <td>36</td>\n",
              "      <td>61</td>\n",
              "      <td>22</td>\n",
              "      <td>230</td>\n",
              "      <td>779</td>\n",
              "      <td>94</td>\n",
              "      <td>282</td>\n",
              "      <td>386</td>\n",
              "      <td>291</td>\n",
              "      <td>516</td>\n",
              "      <td>513</td>\n",
              "      <td>1140</td>\n",
              "      <td>89</td>\n",
              "      <td>208</td>\n",
              "      <td>196</td>\n",
              "      <td>151</td>\n",
              "      <td>568</td>\n",
              "      <td>193</td>\n",
              "      <td>330</td>\n",
              "      <td>64</td>\n",
              "      <td>312</td>\n",
              "      <td>332</td>\n",
              "      <td>1103</td>\n",
              "      <td>650</td>\n",
              "      <td>359</td>\n",
              "      <td>387</td>\n",
              "      <td>521</td>\n",
              "      <td>570</td>\n",
              "      <td>512</td>\n",
              "      <td>69</td>\n",
              "      <td>359</td>\n",
              "      <td>120</td>\n",
              "      <td>368</td>\n",
              "      <td>398</td>\n",
              "      <td>1502</td>\n",
              "      <td>120</td>\n",
              "      <td>453</td>\n",
              "      <td>304</td>\n",
              "      <td>1093</td>\n",
              "      <td>376</td>\n",
              "      <td>142</td>\n",
              "      <td>879</td>\n",
              "      <td>924</td>\n",
              "      <td>647</td>\n",
              "      <td>1922</td>\n",
              "      <td>1783</td>\n",
              "      <td>1474</td>\n",
              "      <td>1157</td>\n",
              "      <td>532</td>\n",
              "      <td>165</td>\n",
              "      <td>827</td>\n",
              "      <td>501</td>\n",
              "      <td>126</td>\n",
              "      <td>984</td>\n",
              "      <td>1587</td>\n",
              "      <td>425</td>\n",
              "      <td>265</td>\n",
              "      <td>750</td>\n",
              "      <td>192</td>\n",
              "      <td>377</td>\n",
              "      <td>1113</td>\n",
              "      <td>177</td>\n",
              "      <td>856</td>\n",
              "      <td>0</td>\n",
              "      <td>28</td>\n",
              "      <td>2</td>\n",
              "      <td>26</td>\n",
              "      <td>71</td>\n",
              "      <td>147</td>\n",
              "    </tr>\n",
              "    <tr>\n",
              "      <th>71</th>\n",
              "      <td>218</td>\n",
              "      <td>1384</td>\n",
              "      <td>338</td>\n",
              "      <td>201</td>\n",
              "      <td>1287</td>\n",
              "      <td>234</td>\n",
              "      <td>201</td>\n",
              "      <td>372</td>\n",
              "      <td>349</td>\n",
              "      <td>224</td>\n",
              "      <td>454</td>\n",
              "      <td>73</td>\n",
              "      <td>305</td>\n",
              "      <td>276</td>\n",
              "      <td>131</td>\n",
              "      <td>823</td>\n",
              "      <td>215</td>\n",
              "      <td>922</td>\n",
              "      <td>620</td>\n",
              "      <td>519</td>\n",
              "      <td>330</td>\n",
              "      <td>1460</td>\n",
              "      <td>263</td>\n",
              "      <td>939</td>\n",
              "      <td>230</td>\n",
              "      <td>1279</td>\n",
              "      <td>874</td>\n",
              "      <td>554</td>\n",
              "      <td>345</td>\n",
              "      <td>33</td>\n",
              "      <td>59</td>\n",
              "      <td>19</td>\n",
              "      <td>156</td>\n",
              "      <td>729</td>\n",
              "      <td>100</td>\n",
              "      <td>278</td>\n",
              "      <td>364</td>\n",
              "      <td>282</td>\n",
              "      <td>510</td>\n",
              "      <td>497</td>\n",
              "      <td>1147</td>\n",
              "      <td>84</td>\n",
              "      <td>200</td>\n",
              "      <td>203</td>\n",
              "      <td>154</td>\n",
              "      <td>574</td>\n",
              "      <td>200</td>\n",
              "      <td>324</td>\n",
              "      <td>66</td>\n",
              "      <td>268</td>\n",
              "      <td>314</td>\n",
              "      <td>1068</td>\n",
              "      <td>620</td>\n",
              "      <td>385</td>\n",
              "      <td>399</td>\n",
              "      <td>523</td>\n",
              "      <td>555</td>\n",
              "      <td>504</td>\n",
              "      <td>64</td>\n",
              "      <td>341</td>\n",
              "      <td>133</td>\n",
              "      <td>346</td>\n",
              "      <td>388</td>\n",
              "      <td>1418</td>\n",
              "      <td>119</td>\n",
              "      <td>440</td>\n",
              "      <td>275</td>\n",
              "      <td>1067</td>\n",
              "      <td>359</td>\n",
              "      <td>132</td>\n",
              "      <td>834</td>\n",
              "      <td>885</td>\n",
              "      <td>600</td>\n",
              "      <td>1832</td>\n",
              "      <td>1705</td>\n",
              "      <td>1405</td>\n",
              "      <td>1106</td>\n",
              "      <td>498</td>\n",
              "      <td>149</td>\n",
              "      <td>823</td>\n",
              "      <td>489</td>\n",
              "      <td>125</td>\n",
              "      <td>948</td>\n",
              "      <td>1441</td>\n",
              "      <td>396</td>\n",
              "      <td>252</td>\n",
              "      <td>743</td>\n",
              "      <td>193</td>\n",
              "      <td>345</td>\n",
              "      <td>1062</td>\n",
              "      <td>162</td>\n",
              "      <td>778</td>\n",
              "      <td>0</td>\n",
              "      <td>28</td>\n",
              "      <td>2</td>\n",
              "      <td>28</td>\n",
              "      <td>68</td>\n",
              "      <td>140</td>\n",
              "    </tr>\n",
              "    <tr>\n",
              "      <th>79</th>\n",
              "      <td>267</td>\n",
              "      <td>1472</td>\n",
              "      <td>338</td>\n",
              "      <td>263</td>\n",
              "      <td>1362</td>\n",
              "      <td>268</td>\n",
              "      <td>224</td>\n",
              "      <td>431</td>\n",
              "      <td>390</td>\n",
              "      <td>273</td>\n",
              "      <td>520</td>\n",
              "      <td>83</td>\n",
              "      <td>360</td>\n",
              "      <td>318</td>\n",
              "      <td>156</td>\n",
              "      <td>1022</td>\n",
              "      <td>253</td>\n",
              "      <td>957</td>\n",
              "      <td>656</td>\n",
              "      <td>516</td>\n",
              "      <td>436</td>\n",
              "      <td>1551</td>\n",
              "      <td>282</td>\n",
              "      <td>1063</td>\n",
              "      <td>265</td>\n",
              "      <td>1326</td>\n",
              "      <td>915</td>\n",
              "      <td>630</td>\n",
              "      <td>381</td>\n",
              "      <td>38</td>\n",
              "      <td>64</td>\n",
              "      <td>21</td>\n",
              "      <td>210</td>\n",
              "      <td>783</td>\n",
              "      <td>109</td>\n",
              "      <td>297</td>\n",
              "      <td>364</td>\n",
              "      <td>334</td>\n",
              "      <td>584</td>\n",
              "      <td>502</td>\n",
              "      <td>1207</td>\n",
              "      <td>94</td>\n",
              "      <td>230</td>\n",
              "      <td>208</td>\n",
              "      <td>168</td>\n",
              "      <td>628</td>\n",
              "      <td>218</td>\n",
              "      <td>383</td>\n",
              "      <td>80</td>\n",
              "      <td>354</td>\n",
              "      <td>386</td>\n",
              "      <td>1125</td>\n",
              "      <td>680</td>\n",
              "      <td>411</td>\n",
              "      <td>434</td>\n",
              "      <td>524</td>\n",
              "      <td>588</td>\n",
              "      <td>518</td>\n",
              "      <td>69</td>\n",
              "      <td>463</td>\n",
              "      <td>136</td>\n",
              "      <td>411</td>\n",
              "      <td>446</td>\n",
              "      <td>1450</td>\n",
              "      <td>121</td>\n",
              "      <td>438</td>\n",
              "      <td>276</td>\n",
              "      <td>1189</td>\n",
              "      <td>363</td>\n",
              "      <td>144</td>\n",
              "      <td>910</td>\n",
              "      <td>924</td>\n",
              "      <td>605</td>\n",
              "      <td>1894</td>\n",
              "      <td>1799</td>\n",
              "      <td>1472</td>\n",
              "      <td>1165</td>\n",
              "      <td>669</td>\n",
              "      <td>192</td>\n",
              "      <td>848</td>\n",
              "      <td>516</td>\n",
              "      <td>149</td>\n",
              "      <td>972</td>\n",
              "      <td>1681</td>\n",
              "      <td>459</td>\n",
              "      <td>330</td>\n",
              "      <td>969</td>\n",
              "      <td>254</td>\n",
              "      <td>382</td>\n",
              "      <td>1108</td>\n",
              "      <td>185</td>\n",
              "      <td>861</td>\n",
              "      <td>0</td>\n",
              "      <td>21</td>\n",
              "      <td>2</td>\n",
              "      <td>19</td>\n",
              "      <td>72</td>\n",
              "      <td>216</td>\n",
              "    </tr>\n",
              "    <tr>\n",
              "      <th>118</th>\n",
              "      <td>404</td>\n",
              "      <td>1568</td>\n",
              "      <td>352</td>\n",
              "      <td>274</td>\n",
              "      <td>1427</td>\n",
              "      <td>297</td>\n",
              "      <td>215</td>\n",
              "      <td>447</td>\n",
              "      <td>445</td>\n",
              "      <td>310</td>\n",
              "      <td>607</td>\n",
              "      <td>87</td>\n",
              "      <td>363</td>\n",
              "      <td>356</td>\n",
              "      <td>154</td>\n",
              "      <td>1234</td>\n",
              "      <td>338</td>\n",
              "      <td>1011</td>\n",
              "      <td>690</td>\n",
              "      <td>550</td>\n",
              "      <td>443</td>\n",
              "      <td>1627</td>\n",
              "      <td>363</td>\n",
              "      <td>1358</td>\n",
              "      <td>315</td>\n",
              "      <td>1411</td>\n",
              "      <td>920</td>\n",
              "      <td>737</td>\n",
              "      <td>408</td>\n",
              "      <td>41</td>\n",
              "      <td>73</td>\n",
              "      <td>21</td>\n",
              "      <td>289</td>\n",
              "      <td>823</td>\n",
              "      <td>117</td>\n",
              "      <td>294</td>\n",
              "      <td>376</td>\n",
              "      <td>361</td>\n",
              "      <td>728</td>\n",
              "      <td>511</td>\n",
              "      <td>1275</td>\n",
              "      <td>98</td>\n",
              "      <td>233</td>\n",
              "      <td>208</td>\n",
              "      <td>160</td>\n",
              "      <td>594</td>\n",
              "      <td>207</td>\n",
              "      <td>385</td>\n",
              "      <td>76</td>\n",
              "      <td>402</td>\n",
              "      <td>462</td>\n",
              "      <td>1115</td>\n",
              "      <td>700</td>\n",
              "      <td>536</td>\n",
              "      <td>536</td>\n",
              "      <td>550</td>\n",
              "      <td>612</td>\n",
              "      <td>548</td>\n",
              "      <td>75</td>\n",
              "      <td>502</td>\n",
              "      <td>129</td>\n",
              "      <td>464</td>\n",
              "      <td>466</td>\n",
              "      <td>1552</td>\n",
              "      <td>129</td>\n",
              "      <td>459</td>\n",
              "      <td>278</td>\n",
              "      <td>1368</td>\n",
              "      <td>381</td>\n",
              "      <td>160</td>\n",
              "      <td>927</td>\n",
              "      <td>997</td>\n",
              "      <td>615</td>\n",
              "      <td>1919</td>\n",
              "      <td>1846</td>\n",
              "      <td>1544</td>\n",
              "      <td>1202</td>\n",
              "      <td>797</td>\n",
              "      <td>222</td>\n",
              "      <td>839</td>\n",
              "      <td>526</td>\n",
              "      <td>130</td>\n",
              "      <td>1011</td>\n",
              "      <td>1940</td>\n",
              "      <td>543</td>\n",
              "      <td>406</td>\n",
              "      <td>1330</td>\n",
              "      <td>373</td>\n",
              "      <td>440</td>\n",
              "      <td>1114</td>\n",
              "      <td>200</td>\n",
              "      <td>935</td>\n",
              "      <td>0</td>\n",
              "      <td>31</td>\n",
              "      <td>3</td>\n",
              "      <td>28</td>\n",
              "      <td>74</td>\n",
              "      <td>315</td>\n",
              "    </tr>\n",
              "    <tr>\n",
              "      <th>126</th>\n",
              "      <td>236</td>\n",
              "      <td>1474</td>\n",
              "      <td>361</td>\n",
              "      <td>213</td>\n",
              "      <td>1368</td>\n",
              "      <td>243</td>\n",
              "      <td>208</td>\n",
              "      <td>426</td>\n",
              "      <td>367</td>\n",
              "      <td>265</td>\n",
              "      <td>506</td>\n",
              "      <td>76</td>\n",
              "      <td>345</td>\n",
              "      <td>317</td>\n",
              "      <td>133</td>\n",
              "      <td>984</td>\n",
              "      <td>250</td>\n",
              "      <td>988</td>\n",
              "      <td>657</td>\n",
              "      <td>540</td>\n",
              "      <td>387</td>\n",
              "      <td>1561</td>\n",
              "      <td>287</td>\n",
              "      <td>1035</td>\n",
              "      <td>245</td>\n",
              "      <td>1327</td>\n",
              "      <td>905</td>\n",
              "      <td>601</td>\n",
              "      <td>333</td>\n",
              "      <td>39</td>\n",
              "      <td>61</td>\n",
              "      <td>26</td>\n",
              "      <td>185</td>\n",
              "      <td>797</td>\n",
              "      <td>98</td>\n",
              "      <td>280</td>\n",
              "      <td>376</td>\n",
              "      <td>334</td>\n",
              "      <td>549</td>\n",
              "      <td>502</td>\n",
              "      <td>1142</td>\n",
              "      <td>87</td>\n",
              "      <td>210</td>\n",
              "      <td>196</td>\n",
              "      <td>147</td>\n",
              "      <td>557</td>\n",
              "      <td>193</td>\n",
              "      <td>355</td>\n",
              "      <td>73</td>\n",
              "      <td>328</td>\n",
              "      <td>367</td>\n",
              "      <td>1130</td>\n",
              "      <td>640</td>\n",
              "      <td>434</td>\n",
              "      <td>456</td>\n",
              "      <td>520</td>\n",
              "      <td>583</td>\n",
              "      <td>518</td>\n",
              "      <td>74</td>\n",
              "      <td>403</td>\n",
              "      <td>127</td>\n",
              "      <td>393</td>\n",
              "      <td>446</td>\n",
              "      <td>1477</td>\n",
              "      <td>124</td>\n",
              "      <td>460</td>\n",
              "      <td>289</td>\n",
              "      <td>1201</td>\n",
              "      <td>391</td>\n",
              "      <td>149</td>\n",
              "      <td>903</td>\n",
              "      <td>945</td>\n",
              "      <td>628</td>\n",
              "      <td>1917</td>\n",
              "      <td>1793</td>\n",
              "      <td>1476</td>\n",
              "      <td>1160</td>\n",
              "      <td>620</td>\n",
              "      <td>178</td>\n",
              "      <td>882</td>\n",
              "      <td>509</td>\n",
              "      <td>122</td>\n",
              "      <td>997</td>\n",
              "      <td>1611</td>\n",
              "      <td>477</td>\n",
              "      <td>296</td>\n",
              "      <td>843</td>\n",
              "      <td>214</td>\n",
              "      <td>368</td>\n",
              "      <td>1115</td>\n",
              "      <td>172</td>\n",
              "      <td>833</td>\n",
              "      <td>0</td>\n",
              "      <td>23</td>\n",
              "      <td>2</td>\n",
              "      <td>26</td>\n",
              "      <td>71</td>\n",
              "      <td>183</td>\n",
              "    </tr>\n",
              "    <tr>\n",
              "      <th>150</th>\n",
              "      <td>252</td>\n",
              "      <td>1448</td>\n",
              "      <td>334</td>\n",
              "      <td>248</td>\n",
              "      <td>1341</td>\n",
              "      <td>266</td>\n",
              "      <td>205</td>\n",
              "      <td>461</td>\n",
              "      <td>348</td>\n",
              "      <td>282</td>\n",
              "      <td>547</td>\n",
              "      <td>80</td>\n",
              "      <td>335</td>\n",
              "      <td>322</td>\n",
              "      <td>143</td>\n",
              "      <td>1058</td>\n",
              "      <td>271</td>\n",
              "      <td>944</td>\n",
              "      <td>617</td>\n",
              "      <td>481</td>\n",
              "      <td>451</td>\n",
              "      <td>1539</td>\n",
              "      <td>324</td>\n",
              "      <td>1126</td>\n",
              "      <td>260</td>\n",
              "      <td>1298</td>\n",
              "      <td>860</td>\n",
              "      <td>668</td>\n",
              "      <td>407</td>\n",
              "      <td>33</td>\n",
              "      <td>70</td>\n",
              "      <td>25</td>\n",
              "      <td>235</td>\n",
              "      <td>833</td>\n",
              "      <td>108</td>\n",
              "      <td>275</td>\n",
              "      <td>362</td>\n",
              "      <td>321</td>\n",
              "      <td>605</td>\n",
              "      <td>479</td>\n",
              "      <td>1160</td>\n",
              "      <td>91</td>\n",
              "      <td>220</td>\n",
              "      <td>192</td>\n",
              "      <td>148</td>\n",
              "      <td>576</td>\n",
              "      <td>203</td>\n",
              "      <td>345</td>\n",
              "      <td>65</td>\n",
              "      <td>356</td>\n",
              "      <td>411</td>\n",
              "      <td>1074</td>\n",
              "      <td>655</td>\n",
              "      <td>460</td>\n",
              "      <td>480</td>\n",
              "      <td>513</td>\n",
              "      <td>577</td>\n",
              "      <td>511</td>\n",
              "      <td>75</td>\n",
              "      <td>445</td>\n",
              "      <td>120</td>\n",
              "      <td>415</td>\n",
              "      <td>455</td>\n",
              "      <td>1516</td>\n",
              "      <td>115</td>\n",
              "      <td>433</td>\n",
              "      <td>269</td>\n",
              "      <td>1235</td>\n",
              "      <td>361</td>\n",
              "      <td>165</td>\n",
              "      <td>952</td>\n",
              "      <td>894</td>\n",
              "      <td>600</td>\n",
              "      <td>1857</td>\n",
              "      <td>1789</td>\n",
              "      <td>1459</td>\n",
              "      <td>1130</td>\n",
              "      <td>658</td>\n",
              "      <td>194</td>\n",
              "      <td>864</td>\n",
              "      <td>496</td>\n",
              "      <td>138</td>\n",
              "      <td>962</td>\n",
              "      <td>1724</td>\n",
              "      <td>466</td>\n",
              "      <td>348</td>\n",
              "      <td>963</td>\n",
              "      <td>244</td>\n",
              "      <td>396</td>\n",
              "      <td>1075</td>\n",
              "      <td>188</td>\n",
              "      <td>848</td>\n",
              "      <td>0</td>\n",
              "      <td>31</td>\n",
              "      <td>1</td>\n",
              "      <td>26</td>\n",
              "      <td>72</td>\n",
              "      <td>210</td>\n",
              "    </tr>\n",
              "    <tr>\n",
              "      <th>151</th>\n",
              "      <td>310</td>\n",
              "      <td>1501</td>\n",
              "      <td>341</td>\n",
              "      <td>227</td>\n",
              "      <td>1385</td>\n",
              "      <td>266</td>\n",
              "      <td>208</td>\n",
              "      <td>445</td>\n",
              "      <td>395</td>\n",
              "      <td>278</td>\n",
              "      <td>562</td>\n",
              "      <td>77</td>\n",
              "      <td>360</td>\n",
              "      <td>356</td>\n",
              "      <td>140</td>\n",
              "      <td>1078</td>\n",
              "      <td>302</td>\n",
              "      <td>953</td>\n",
              "      <td>647</td>\n",
              "      <td>527</td>\n",
              "      <td>427</td>\n",
              "      <td>1575</td>\n",
              "      <td>302</td>\n",
              "      <td>1225</td>\n",
              "      <td>303</td>\n",
              "      <td>1365</td>\n",
              "      <td>883</td>\n",
              "      <td>685</td>\n",
              "      <td>395</td>\n",
              "      <td>36</td>\n",
              "      <td>69</td>\n",
              "      <td>24</td>\n",
              "      <td>284</td>\n",
              "      <td>848</td>\n",
              "      <td>108</td>\n",
              "      <td>281</td>\n",
              "      <td>362</td>\n",
              "      <td>338</td>\n",
              "      <td>662</td>\n",
              "      <td>483</td>\n",
              "      <td>1156</td>\n",
              "      <td>92</td>\n",
              "      <td>222</td>\n",
              "      <td>195</td>\n",
              "      <td>152</td>\n",
              "      <td>584</td>\n",
              "      <td>204</td>\n",
              "      <td>355</td>\n",
              "      <td>71</td>\n",
              "      <td>357</td>\n",
              "      <td>401</td>\n",
              "      <td>1079</td>\n",
              "      <td>605</td>\n",
              "      <td>475</td>\n",
              "      <td>486</td>\n",
              "      <td>495</td>\n",
              "      <td>560</td>\n",
              "      <td>495</td>\n",
              "      <td>75</td>\n",
              "      <td>429</td>\n",
              "      <td>129</td>\n",
              "      <td>447</td>\n",
              "      <td>473</td>\n",
              "      <td>1563</td>\n",
              "      <td>116</td>\n",
              "      <td>425</td>\n",
              "      <td>272</td>\n",
              "      <td>1295</td>\n",
              "      <td>367</td>\n",
              "      <td>157</td>\n",
              "      <td>955</td>\n",
              "      <td>931</td>\n",
              "      <td>595</td>\n",
              "      <td>1875</td>\n",
              "      <td>1819</td>\n",
              "      <td>1511</td>\n",
              "      <td>1167</td>\n",
              "      <td>687</td>\n",
              "      <td>197</td>\n",
              "      <td>899</td>\n",
              "      <td>481</td>\n",
              "      <td>133</td>\n",
              "      <td>943</td>\n",
              "      <td>1841</td>\n",
              "      <td>510</td>\n",
              "      <td>371</td>\n",
              "      <td>1100</td>\n",
              "      <td>301</td>\n",
              "      <td>465</td>\n",
              "      <td>1084</td>\n",
              "      <td>181</td>\n",
              "      <td>889</td>\n",
              "      <td>0</td>\n",
              "      <td>251</td>\n",
              "      <td>2</td>\n",
              "      <td>36</td>\n",
              "      <td>72</td>\n",
              "      <td>236</td>\n",
              "    </tr>\n",
              "  </tbody>\n",
              "</table>\n",
              "</div>"
            ],
            "text/plain": [
              "     abdominalextensiondepthsitting  acromialheight  acromionradialelength   \n",
              "10                              272            1450                    339  \\\n",
              "27                              247            1469                    335   \n",
              "36                              261            1386                    334   \n",
              "56                              212            1496                    347   \n",
              "71                              218            1384                    338   \n",
              "79                              267            1472                    338   \n",
              "118                             404            1568                    352   \n",
              "126                             236            1474                    361   \n",
              "150                             252            1448                    334   \n",
              "151                             310            1501                    341   \n",
              "\n",
              "     anklecircumference  axillaheight  balloffootcircumference   \n",
              "10                  218          1353                      244  \\\n",
              "27                  219          1363                      224   \n",
              "36                  193          1282                      227   \n",
              "56                  208          1395                      235   \n",
              "71                  201          1287                      234   \n",
              "79                  263          1362                      268   \n",
              "118                 274          1427                      297   \n",
              "126                 213          1368                      243   \n",
              "150                 248          1341                      266   \n",
              "151                 227          1385                      266   \n",
              "\n",
              "     balloffootlength  biacromialbreadth  bicepscircumferenceflexed   \n",
              "10                189                412                        351  \\\n",
              "27                205                395                        330   \n",
              "36                175                361                        325   \n",
              "56                208                394                        320   \n",
              "71                201                372                        349   \n",
              "79                224                431                        390   \n",
              "118               215                447                        445   \n",
              "126               208                426                        367   \n",
              "150               205                461                        348   \n",
              "151               208                445                        395   \n",
              "\n",
              "     bicristalbreadth  bideltoidbreadth  bimalleolarbreadth  bitragionchinarc   \n",
              "10                278               523                  68               357  \\\n",
              "27                272               480                  75               327   \n",
              "36                268               440                  66               318   \n",
              "56                258               475                  75               327   \n",
              "71                224               454                  73               305   \n",
              "79                273               520                  83               360   \n",
              "118               310               607                  87               363   \n",
              "126               265               506                  76               345   \n",
              "150               282               547                  80               335   \n",
              "151               278               562                  77               360   \n",
              "\n",
              "     bitragionsubmandibulararc  bizygomaticbreadth  buttockcircumference   \n",
              "10                         337                 150                  1027  \\\n",
              "27                         310                 140                   996   \n",
              "36                         275                 139                   941   \n",
              "56                         290                 140                   897   \n",
              "71                         276                 131                   823   \n",
              "79                         318                 156                  1022   \n",
              "118                        356                 154                  1234   \n",
              "126                        317                 133                   984   \n",
              "150                        322                 143                  1058   \n",
              "151                        356                 140                  1078   \n",
              "\n",
              "     buttockdepth  buttockheight  buttockkneelength  buttockpopliteallength   \n",
              "10            261            879                578                     468  \\\n",
              "27            250            896                610                     498   \n",
              "36            238            862                598                     493   \n",
              "56            211            973                625                     511   \n",
              "71            215            922                620                     519   \n",
              "79            253            957                656                     516   \n",
              "118           338           1011                690                     550   \n",
              "126           250            988                657                     540   \n",
              "150           271            944                617                     481   \n",
              "151           302            953                647                     527   \n",
              "\n",
              "     calfcircumference  cervicaleheight  chestbreadth  chestcircumference   \n",
              "10                 377             1527           293                1117  \\\n",
              "27                 370             1550           280                 964   \n",
              "36                 340             1452           251                 951   \n",
              "56                 373             1543           256                 901   \n",
              "71                 330             1460           263                 939   \n",
              "79                 436             1551           282                1063   \n",
              "118                443             1627           363                1358   \n",
              "126                387             1561           287                1035   \n",
              "150                451             1539           324                1126   \n",
              "151                427             1575           302                1225   \n",
              "\n",
              "     chestdepth  chestheight  crotchheight  crotchlengthomphalion   \n",
              "10          270         1311           839                    659  \\\n",
              "27          224         1316           857                    635   \n",
              "36          239         1227           815                    600   \n",
              "56          205         1343           911                    578   \n",
              "71          230         1279           874                    554   \n",
              "79          265         1326           915                    630   \n",
              "118         315         1411           920                    737   \n",
              "126         245         1327           905                    601   \n",
              "150         260         1298           860                    668   \n",
              "151         303         1365           883                    685   \n",
              "\n",
              "     crotchlengthposterioromphalion  earbreadth  earlength  earprotrusion   \n",
              "10                              352          37         74             21  \\\n",
              "27                              370          36         60             25   \n",
              "36                              355          35         58             22   \n",
              "56                              360          36         61             22   \n",
              "71                              345          33         59             19   \n",
              "79                              381          38         64             21   \n",
              "118                             408          41         73             21   \n",
              "126                             333          39         61             26   \n",
              "150                             407          33         70             25   \n",
              "151                             395          36         69             24   \n",
              "\n",
              "     elbowrestheight  eyeheightsitting  footbreadthhorizontal  footlength   \n",
              "10               300               845                    101         265  \\\n",
              "27               273               856                     94         275   \n",
              "36               218               765                     95         236   \n",
              "56               230               779                     94         282   \n",
              "71               156               729                    100         278   \n",
              "79               210               783                    109         297   \n",
              "118              289               823                    117         294   \n",
              "126              185               797                     98         280   \n",
              "150              235               833                    108         275   \n",
              "151              284               848                    108         281   \n",
              "\n",
              "     forearmcenterofgriplength  forearmcircumferenceflexed   \n",
              "10                         350                         304  \\\n",
              "27                         336                         281   \n",
              "36                         346                         265   \n",
              "56                         386                         291   \n",
              "71                         364                         282   \n",
              "79                         364                         334   \n",
              "118                        376                         361   \n",
              "126                        376                         334   \n",
              "150                        362                         321   \n",
              "151                        362                         338   \n",
              "\n",
              "     forearmforearmbreadth  forearmhandlength  functionalleglength   \n",
              "10                     589                488                 1093  \\\n",
              "27                     555                470                 1132   \n",
              "36                     513                470                 1124   \n",
              "56                     516                513                 1140   \n",
              "71                     510                497                 1147   \n",
              "79                     584                502                 1207   \n",
              "118                    728                511                 1275   \n",
              "126                    549                502                 1142   \n",
              "150                    605                479                 1160   \n",
              "151                    662                483                 1156   \n",
              "\n",
              "     handbreadth  handcircumference  handlength  headbreadth   \n",
              "10            89                212         200          155  \\\n",
              "27            84                197         192          155   \n",
              "36            79                188         183          150   \n",
              "56            89                208         196          151   \n",
              "71            84                200         203          154   \n",
              "79            94                230         208          168   \n",
              "118           98                233         208          160   \n",
              "126           87                210         196          147   \n",
              "150           91                220         192          148   \n",
              "151           92                222         195          152   \n",
              "\n",
              "     headcircumference  headlength  heelanklecircumference  heelbreadth   \n",
              "10                 578         200                     330           71  \\\n",
              "27                 575         196                     337           67   \n",
              "36                 562         193                     310           78   \n",
              "56                 568         193                     330           64   \n",
              "71                 574         200                     324           66   \n",
              "79                 628         218                     383           80   \n",
              "118                594         207                     385           76   \n",
              "126                557         193                     355           73   \n",
              "150                576         203                     345           65   \n",
              "151                584         204                     355           71   \n",
              "\n",
              "     hipbreadth  hipbreadthsitting  iliocristaleheight  interpupillarybreadth   \n",
              "10          352                374                1055                    685  \\\n",
              "27          337                395                1073                    625   \n",
              "36          315                377                1016                    645   \n",
              "56          312                332                1103                    650   \n",
              "71          268                314                1068                    620   \n",
              "79          354                386                1125                    680   \n",
              "118         402                462                1115                    700   \n",
              "126         328                367                1130                    640   \n",
              "150         356                411                1074                    655   \n",
              "151         357                401                1079                    605   \n",
              "\n",
              "     interscyei  interscyeii  kneeheightmidpatella  kneeheightsitting   \n",
              "10          510          483                   502                556  \\\n",
              "27          358          394                   505                559   \n",
              "36          351          375                   479                526   \n",
              "56          359          387                   521                570   \n",
              "71          385          399                   523                555   \n",
              "79          411          434                   524                588   \n",
              "118         536          536                   550                612   \n",
              "126         434          456                   520                583   \n",
              "150         460          480                   513                577   \n",
              "151         475          486                   495                560   \n",
              "\n",
              "     lateralfemoralepicondyleheight  lateralmalleolusheight   \n",
              "10                              493                      79  \\\n",
              "27                              501                      74   \n",
              "36                              470                      78   \n",
              "56                              512                      69   \n",
              "71                              504                      64   \n",
              "79                              518                      69   \n",
              "118                             548                      75   \n",
              "126                             518                      74   \n",
              "150                             511                      75   \n",
              "151                             495                      75   \n",
              "\n",
              "     lowerthighcircumference  mentonsellionlength  neckcircumference   \n",
              "10                       391                  137                445  \\\n",
              "27                       412                  122                365   \n",
              "36                       396                  111                357   \n",
              "56                       359                  120                368   \n",
              "71                       341                  133                346   \n",
              "79                       463                  136                411   \n",
              "118                      502                  129                464   \n",
              "126                      403                  127                393   \n",
              "150                      445                  120                415   \n",
              "151                      429                  129                447   \n",
              "\n",
              "     neckcircumferencebase  overheadfingertipreachsitting  palmlength   \n",
              "10                     473                           1487         117  \\\n",
              "27                     404                           1507         115   \n",
              "36                     389                           1372         110   \n",
              "56                     398                           1502         120   \n",
              "71                     388                           1418         119   \n",
              "79                     446                           1450         121   \n",
              "118                    466                           1552         129   \n",
              "126                    446                           1477         124   \n",
              "150                    455                           1516         115   \n",
              "151                    473                           1563         116   \n",
              "\n",
              "     poplitealheight  radialestylionlength  shouldercircumference   \n",
              "10               435                   263                   1203  \\\n",
              "27               431                   246                   1095   \n",
              "36               402                   261                   1013   \n",
              "56               453                   304                   1093   \n",
              "71               440                   275                   1067   \n",
              "79               438                   276                   1189   \n",
              "118              459                   278                   1368   \n",
              "126              460                   289                   1201   \n",
              "150              433                   269                   1235   \n",
              "151              425                   272                   1295   \n",
              "\n",
              "     shoulderelbowlength  shoulderlength  sittingheight   \n",
              "10                   362             144            969  \\\n",
              "27                   362             151            958   \n",
              "36                   356             138            882   \n",
              "56                   376             142            879   \n",
              "71                   359             132            834   \n",
              "79                   363             144            910   \n",
              "118                  381             160            927   \n",
              "126                  391             149            903   \n",
              "150                  361             165            952   \n",
              "151                  367             157            955   \n",
              "\n",
              "     sleevelengthspinewrist  sleeveoutseam  span  stature   \n",
              "10                      915            580  1840     1780  \\\n",
              "27                      875            582  1828     1795   \n",
              "36                      842            586  1757     1685   \n",
              "56                      924            647  1922     1783   \n",
              "71                      885            600  1832     1705   \n",
              "79                      924            605  1894     1799   \n",
              "118                     997            615  1919     1846   \n",
              "126                     945            628  1917     1793   \n",
              "150                     894            600  1857     1789   \n",
              "151                     931            595  1875     1819   \n",
              "\n",
              "     suprasternaleheight  tenthribheight  thighcircumference  thighclearance   \n",
              "10                  1464            1108                 624             183  \\\n",
              "27                  1478            1140                 621             172   \n",
              "36                  1383            1067                 637             172   \n",
              "56                  1474            1157                 532             165   \n",
              "71                  1405            1106                 498             149   \n",
              "79                  1472            1165                 669             192   \n",
              "118                 1544            1202                 797             222   \n",
              "126                 1476            1160                 620             178   \n",
              "150                 1459            1130                 658             194   \n",
              "151                 1511            1167                 687             197   \n",
              "\n",
              "     thumbtipreach  tibialheight  tragiontopofhead  trochanterionheight   \n",
              "10             844           487               142                  918  \\\n",
              "27             775           495               115                  946   \n",
              "36             784           459               138                  887   \n",
              "56             827           501               126                  984   \n",
              "71             823           489               125                  948   \n",
              "79             848           516               149                  972   \n",
              "118            839           526               130                 1011   \n",
              "126            882           509               122                  997   \n",
              "150            864           496               138                  962   \n",
              "151            899           481               133                  943   \n",
              "\n",
              "     verticaltrunkcircumferenceusa  waistbacklength  waistbreadth   \n",
              "10                            1775              512           334  \\\n",
              "27                            1705              483           323   \n",
              "36                            1593              458           318   \n",
              "56                            1587              425           265   \n",
              "71                            1441              396           252   \n",
              "79                            1681              459           330   \n",
              "118                           1940              543           406   \n",
              "126                           1611              477           296   \n",
              "150                           1724              466           348   \n",
              "151                           1841              510           371   \n",
              "\n",
              "     waistcircumference  waistdepth  waistfrontlengthsitting   \n",
              "10                  994         254                      454  \\\n",
              "27                  912         229                      424   \n",
              "36                  895         225                      374   \n",
              "56                  750         192                      377   \n",
              "71                  743         193                      345   \n",
              "79                  969         254                      382   \n",
              "118                1330         373                      440   \n",
              "126                 843         214                      368   \n",
              "150                 963         244                      396   \n",
              "151                1100         301                      465   \n",
              "\n",
              "     waistheightomphalion  wristcircumference  wristheight  Gender   \n",
              "10                   1033                 174          863       0  \\\n",
              "27                   1070                 180          873       0   \n",
              "36                   1012                 155          789       0   \n",
              "56                   1113                 177          856       0   \n",
              "71                   1062                 162          778       0   \n",
              "79                   1108                 185          861       0   \n",
              "118                  1114                 200          935       0   \n",
              "126                  1115                 172          833       0   \n",
              "150                  1075                 188          848       0   \n",
              "151                  1084                 181          889       0   \n",
              "\n",
              "     SubjectNumericRace  DODRace  Age  Heightin  Weightlbs  \n",
              "10                  351        1   32        70        195  \n",
              "27                   61        1   36        71        176  \n",
              "36                   61        1   20        68        150  \n",
              "56                   28        2   26        71        147  \n",
              "71                   28        2   28        68        140  \n",
              "79                   21        2   19        72        216  \n",
              "118                  31        3   28        74        315  \n",
              "126                  23        2   26        71        183  \n",
              "150                  31        1   26        72        210  \n",
              "151                 251        2   36        72        236  "
            ]
          },
          "execution_count": 91,
          "metadata": {},
          "output_type": "execute_result"
        }
      ],
      "source": [
        "df1[(df1[\"SubjectNumericRace\"] > 8)].head(10)"
      ]
    },
    {
      "cell_type": "code",
      "execution_count": null,
      "metadata": {
        "id": "OFHsPuLFP5PK",
        "outputId": "bc5b18ea-16da-427f-a629-dbde5d01bb8a"
      },
      "outputs": [
        {
          "data": {
            "text/plain": [
              "DODRace\n",
              "1    3792\n",
              "2    1298\n",
              "3     679\n",
              "Name: count, dtype: int64"
            ]
          },
          "execution_count": 92,
          "metadata": {},
          "output_type": "execute_result"
        }
      ],
      "source": [
        "df1[\"DODRace\"].value_counts()"
      ]
    },
    {
      "cell_type": "code",
      "execution_count": null,
      "metadata": {
        "id": "q-iardv0P5PK"
      },
      "outputs": [],
      "source": [
        "# df1.loc[df1[\"SubjectNumericRace\"] > 8]"
      ]
    },
    {
      "cell_type": "code",
      "execution_count": null,
      "metadata": {
        "id": "hhbjRzSxP5PL",
        "outputId": "5314b8b0-fe1c-4d07-e978-739b66cc035c"
      },
      "outputs": [
        {
          "data": {
            "text/plain": [
              "SubjectNumericRace\n",
              "1        3559\n",
              "2        1025\n",
              "3         541\n",
              "31        159\n",
              "8         106\n",
              "51        102\n",
              "21         60\n",
              "23         34\n",
              "28         26\n",
              "251        20\n",
              "41         19\n",
              "18         16\n",
              "61         15\n",
              "25         13\n",
              "38          9\n",
              "351         9\n",
              "231         6\n",
              "42          6\n",
              "62          6\n",
              "35          5\n",
              "235         4\n",
              "43          3\n",
              "63          3\n",
              "218         3\n",
              "431         2\n",
              "2351        2\n",
              "423         2\n",
              "2518        2\n",
              "4251        1\n",
              "238         1\n",
              "318         1\n",
              "451         1\n",
              "4           1\n",
              "425         1\n",
              "428         1\n",
              "651         1\n",
              "6           1\n",
              "631         1\n",
              "358         1\n",
              "42351       1\n",
              "Name: count, dtype: int64"
            ]
          },
          "execution_count": 94,
          "metadata": {},
          "output_type": "execute_result"
        }
      ],
      "source": [
        "df1[\"SubjectNumericRace\"].value_counts()"
      ]
    },
    {
      "cell_type": "code",
      "execution_count": null,
      "metadata": {
        "id": "jGjh3bfkP5PL"
      },
      "outputs": [],
      "source": [
        "df1.loc[df1[\"SubjectNumericRace\"]>8, \"SubjectNumericRace\"] = df1[\"DODRace\"]"
      ]
    },
    {
      "cell_type": "code",
      "execution_count": null,
      "metadata": {
        "id": "svcHFTl2P5PL",
        "outputId": "3fea286c-ef4d-4585-bded-bafc9163f0e8"
      },
      "outputs": [
        {
          "data": {
            "text/plain": [
              "SubjectNumericRace\n",
              "1    3772\n",
              "2    1196\n",
              "3     693\n",
              "8     106\n",
              "4       1\n",
              "6       1\n",
              "Name: count, dtype: int64"
            ]
          },
          "execution_count": 96,
          "metadata": {},
          "output_type": "execute_result"
        }
      ],
      "source": [
        "df1[\"SubjectNumericRace\"].value_counts()"
      ]
    },
    {
      "cell_type": "code",
      "execution_count": null,
      "metadata": {
        "id": "ofu7vDL6P5PL",
        "outputId": "4e15ab91-a0ed-4192-f12d-9903509c2453"
      },
      "outputs": [
        {
          "data": {
            "text/plain": [
              "abdominalextensiondepthsitting    108\n",
              "acromialheight                    108\n",
              "acromionradialelength             108\n",
              "anklecircumference                108\n",
              "axillaheight                      108\n",
              "balloffootcircumference           108\n",
              "balloffootlength                  108\n",
              "biacromialbreadth                 108\n",
              "bicepscircumferenceflexed         108\n",
              "bicristalbreadth                  108\n",
              "bideltoidbreadth                  108\n",
              "bimalleolarbreadth                108\n",
              "bitragionchinarc                  108\n",
              "bitragionsubmandibulararc         108\n",
              "bizygomaticbreadth                108\n",
              "buttockcircumference              108\n",
              "buttockdepth                      108\n",
              "buttockheight                     108\n",
              "buttockkneelength                 108\n",
              "buttockpopliteallength            108\n",
              "calfcircumference                 108\n",
              "cervicaleheight                   108\n",
              "chestbreadth                      108\n",
              "chestcircumference                108\n",
              "chestdepth                        108\n",
              "chestheight                       108\n",
              "crotchheight                      108\n",
              "crotchlengthomphalion             108\n",
              "crotchlengthposterioromphalion    108\n",
              "earbreadth                        108\n",
              "earlength                         108\n",
              "earprotrusion                     108\n",
              "elbowrestheight                   108\n",
              "eyeheightsitting                  108\n",
              "footbreadthhorizontal             108\n",
              "footlength                        108\n",
              "forearmcenterofgriplength         108\n",
              "forearmcircumferenceflexed        108\n",
              "forearmforearmbreadth             108\n",
              "forearmhandlength                 108\n",
              "functionalleglength               108\n",
              "handbreadth                       108\n",
              "handcircumference                 108\n",
              "handlength                        108\n",
              "headbreadth                       108\n",
              "headcircumference                 108\n",
              "headlength                        108\n",
              "heelanklecircumference            108\n",
              "heelbreadth                       108\n",
              "hipbreadth                        108\n",
              "hipbreadthsitting                 108\n",
              "iliocristaleheight                108\n",
              "interpupillarybreadth             108\n",
              "interscyei                        108\n",
              "interscyeii                       108\n",
              "kneeheightmidpatella              108\n",
              "kneeheightsitting                 108\n",
              "lateralfemoralepicondyleheight    108\n",
              "lateralmalleolusheight            108\n",
              "lowerthighcircumference           108\n",
              "mentonsellionlength               108\n",
              "neckcircumference                 108\n",
              "neckcircumferencebase             108\n",
              "overheadfingertipreachsitting     108\n",
              "palmlength                        108\n",
              "poplitealheight                   108\n",
              "radialestylionlength              108\n",
              "shouldercircumference             108\n",
              "shoulderelbowlength               108\n",
              "shoulderlength                    108\n",
              "sittingheight                     108\n",
              "sleevelengthspinewrist            108\n",
              "sleeveoutseam                     108\n",
              "span                              108\n",
              "stature                           108\n",
              "suprasternaleheight               108\n",
              "tenthribheight                    108\n",
              "thighcircumference                108\n",
              "thighclearance                    108\n",
              "thumbtipreach                     108\n",
              "tibialheight                      108\n",
              "tragiontopofhead                  108\n",
              "trochanterionheight               108\n",
              "verticaltrunkcircumferenceusa     108\n",
              "waistbacklength                   108\n",
              "waistbreadth                      108\n",
              "waistcircumference                108\n",
              "waistdepth                        108\n",
              "waistfrontlengthsitting           108\n",
              "waistheightomphalion              108\n",
              "wristcircumference                108\n",
              "wristheight                       108\n",
              "Gender                            108\n",
              "SubjectNumericRace                108\n",
              "DODRace                           108\n",
              "Age                               108\n",
              "Heightin                          108\n",
              "Weightlbs                         108\n",
              "dtype: int64"
            ]
          },
          "execution_count": 97,
          "metadata": {},
          "output_type": "execute_result"
        }
      ],
      "source": [
        "df1[df1[\"SubjectNumericRace\"] > 3].count()"
      ]
    },
    {
      "cell_type": "code",
      "execution_count": null,
      "metadata": {
        "id": "IxmXvwIwP5PM",
        "outputId": "b04e09f1-04fd-44b6-aced-dd74386c9e34"
      },
      "outputs": [
        {
          "data": {
            "text/plain": [
              "108"
            ]
          },
          "execution_count": 98,
          "metadata": {},
          "output_type": "execute_result"
        }
      ],
      "source": [
        "df1.SubjectNumericRace[df1[\"SubjectNumericRace\"] > 3].count()"
      ]
    },
    {
      "cell_type": "markdown",
      "metadata": {
        "id": "bQVhnc4YP5PM"
      },
      "source": [
        "**df1[\"SubjectNumericRace\"] <= 3] degerleri drop edildi**"
      ]
    },
    {
      "cell_type": "code",
      "execution_count": null,
      "metadata": {
        "id": "Mx5lORGhP5PN"
      },
      "outputs": [],
      "source": [
        "df1 = df1[df1['SubjectNumericRace'] <= 3]"
      ]
    },
    {
      "cell_type": "code",
      "execution_count": null,
      "metadata": {
        "scrolled": true,
        "tags": [],
        "id": "ULPGEbVuP5PN"
      },
      "outputs": [],
      "source": [
        "df1.reset_index()"
      ]
    },
    {
      "cell_type": "code",
      "execution_count": null,
      "metadata": {
        "id": "dBGZ0K-fP5PN",
        "outputId": "f8ab556d-327f-4ebd-de2a-71e37be11a79"
      },
      "outputs": [
        {
          "data": {
            "text/plain": [
              "0"
            ]
          },
          "execution_count": 100,
          "metadata": {},
          "output_type": "execute_result"
        }
      ],
      "source": [
        "df1.SubjectNumericRace[df1[\"SubjectNumericRace\"] > 3].count()"
      ]
    },
    {
      "cell_type": "code",
      "execution_count": null,
      "metadata": {
        "id": "6MukDkcEP5PO",
        "outputId": "848f8c06-1818-4ff4-845a-9f1a36a7970f"
      },
      "outputs": [
        {
          "data": {
            "text/plain": [
              "SubjectNumericRace\n",
              "1    3772\n",
              "2    1196\n",
              "3     693\n",
              "Name: count, dtype: int64"
            ]
          },
          "execution_count": 101,
          "metadata": {},
          "output_type": "execute_result"
        }
      ],
      "source": [
        "df1[\"SubjectNumericRace\"].value_counts()"
      ]
    },
    {
      "cell_type": "code",
      "execution_count": null,
      "metadata": {
        "id": "sTrmvbNZP5PP",
        "outputId": "b6b85608-481d-4ce0-ad4e-fe14c3e910ff"
      },
      "outputs": [
        {
          "data": {
            "text/plain": [
              "DODRace\n",
              "1    3780\n",
              "2    1204\n",
              "3     677\n",
              "Name: count, dtype: int64"
            ]
          },
          "execution_count": 118,
          "metadata": {},
          "output_type": "execute_result"
        }
      ],
      "source": [
        "df[\"DODRace\"].value_counts()"
      ]
    },
    {
      "cell_type": "code",
      "execution_count": null,
      "metadata": {
        "id": "vWdfjNaKP5PQ",
        "outputId": "83922f2d-bd67-4133-b19c-02e21120d6ca"
      },
      "outputs": [
        {
          "data": {
            "text/plain": [
              "(5661, 98)"
            ]
          },
          "execution_count": 102,
          "metadata": {},
          "output_type": "execute_result"
        }
      ],
      "source": [
        "df1.shape"
      ]
    },
    {
      "cell_type": "code",
      "execution_count": null,
      "metadata": {
        "id": "_1KvlNpKP5PR"
      },
      "outputs": [],
      "source": [
        "df1.info()"
      ]
    },
    {
      "cell_type": "code",
      "execution_count": null,
      "metadata": {
        "id": "CrABZRwPP5PR",
        "outputId": "702e78ae-cc89-4cfb-86a8-df451426f3a6"
      },
      "outputs": [
        {
          "data": {
            "text/plain": [
              "(5769, 98)"
            ]
          },
          "execution_count": 103,
          "metadata": {},
          "output_type": "execute_result"
        }
      ],
      "source": [
        "df.shape ## 108 deger düsüldü"
      ]
    },
    {
      "cell_type": "code",
      "execution_count": null,
      "metadata": {
        "id": "ZY9o82pEP5PR"
      },
      "outputs": [],
      "source": [
        "df.info()"
      ]
    },
    {
      "cell_type": "markdown",
      "metadata": {
        "heading_collapsed": true,
        "id": "CS5-GZy0sl4s"
      },
      "source": [
        "# DATA Preprocessing\n",
        "- In this step we divide our data to X(Features) and y(Target) then ,\n",
        "- To train and evaluation purposes we create train and test sets,\n",
        "- Lastly, scale our data if features not in same scale. Why?"
      ]
    },
    {
      "cell_type": "markdown",
      "metadata": {
        "id": "4PiDTSo-P5PS"
      },
      "source": [
        "#### orjinal df df3 e kopyalandi"
      ]
    },
    {
      "cell_type": "code",
      "execution_count": null,
      "metadata": {
        "id": "4cywSz-rP5PS"
      },
      "outputs": [],
      "source": [
        "df3 = df.copy()"
      ]
    },
    {
      "cell_type": "markdown",
      "metadata": {
        "id": "4DoC81UaP5PS"
      },
      "source": [
        "**df, df1'e kopyalandi, bu satirdan itibaren df ile yapilan calismalar df1 deki SubjectNumericRace 'in 8' den büyük degerlerinin DODRace ile degistikten sonra (SubjectNumericRace'in) 3'ten kücük degerlerinin drop edilmis  haliyle calisilacak**"
      ]
    },
    {
      "cell_type": "code",
      "execution_count": null,
      "metadata": {
        "id": "nYskOhH0P5PT"
      },
      "outputs": [],
      "source": [
        "df = df1.copy()"
      ]
    },
    {
      "cell_type": "markdown",
      "metadata": {
        "hidden": true,
        "id": "fr2wgpvk1b7B"
      },
      "source": [
        "**split the data**"
      ]
    },
    {
      "cell_type": "code",
      "execution_count": null,
      "metadata": {
        "id": "4CXlWYt0P5PT"
      },
      "outputs": [],
      "source": [
        "X=df.drop([\"DODRace\"], axis=1)\n",
        "y=df[\"DODRace\"]"
      ]
    },
    {
      "cell_type": "code",
      "execution_count": null,
      "metadata": {
        "id": "OVpbSskOP5PT",
        "outputId": "e59282d6-328d-4ef0-d76f-c96fbc8c4333"
      },
      "outputs": [
        {
          "data": {
            "text/plain": [
              "DODRace\n",
              "1    3780\n",
              "2    1204\n",
              "3     677\n",
              "Name: count, dtype: int64"
            ]
          },
          "execution_count": 116,
          "metadata": {},
          "output_type": "execute_result"
        }
      ],
      "source": [
        "df.DODRace.value_counts()"
      ]
    },
    {
      "cell_type": "code",
      "execution_count": null,
      "metadata": {
        "id": "af7V4Z8hP5PT"
      },
      "outputs": [],
      "source": [
        "from sklearn.model_selection import train_test_split\n",
        "\n",
        "# stratify=y : the data is imbalanced\n",
        "\n",
        "X_train, X_test, y_train, y_test = train_test_split(X, y, test_size=0.20, stratify=y, random_state=42)\n"
      ]
    },
    {
      "cell_type": "code",
      "execution_count": null,
      "metadata": {
        "id": "7uWpGGcYP5PT",
        "outputId": "c809d9b9-5297-424f-bb58-bdcc0b0c4d93"
      },
      "outputs": [
        {
          "name": "stdout",
          "output_type": "stream",
          "text": [
            "DODRace\n",
            "1    0.667727\n",
            "2    0.212683\n",
            "3    0.119590\n",
            "Name: proportion, dtype: float64\n",
            "\n",
            "DODRace\n",
            "1    0.667624\n",
            "2    0.212677\n",
            "3    0.119700\n",
            "Name: proportion, dtype: float64\n",
            "\n",
            "DODRace\n",
            "1    0.668138\n",
            "2    0.212710\n",
            "3    0.119153\n",
            "Name: proportion, dtype: float64\n"
          ]
        }
      ],
      "source": [
        "print(y.value_counts(normalize=True))\n",
        "print()\n",
        "print(y_train.value_counts(normalize=True))\n",
        "print()\n",
        "print(y_test.value_counts(normalize=True))"
      ]
    },
    {
      "cell_type": "markdown",
      "metadata": {
        "heading_collapsed": true,
        "id": "zfi_NOw0s2fM"
      },
      "source": [
        "# Modelling\n",
        "- Fit the model with train dataset\n",
        "- Get predict from vanilla model on both train and test sets to examine if there is over/underfitting   \n",
        "- Apply GridseachCV for both hyperparemeter tuning and sanity test of our model.\n",
        "- Use hyperparameters that you find from gridsearch and make final prediction and evaluate the result according to chosen metric."
      ]
    },
    {
      "cell_type": "markdown",
      "metadata": {
        "heading_collapsed": true,
        "hidden": true,
        "id": "N1cviBuh1b7C"
      },
      "source": [
        "## 1. Logistic model"
      ]
    },
    {
      "cell_type": "markdown",
      "metadata": {
        "heading_collapsed": true,
        "hidden": true,
        "id": "0rSJ5hxp1b7C"
      },
      "source": [
        "### Vanilla Logistic Model"
      ]
    },
    {
      "cell_type": "code",
      "execution_count": null,
      "metadata": {
        "id": "qV49kZZfP5PX",
        "outputId": "d04878b2-5248-406c-fc2c-62a2f7decf75"
      },
      "outputs": [
        {
          "data": {
            "text/html": [
              "<style>#sk-container-id-1 {color: black;background-color: white;}#sk-container-id-1 pre{padding: 0;}#sk-container-id-1 div.sk-toggleable {background-color: white;}#sk-container-id-1 label.sk-toggleable__label {cursor: pointer;display: block;width: 100%;margin-bottom: 0;padding: 0.3em;box-sizing: border-box;text-align: center;}#sk-container-id-1 label.sk-toggleable__label-arrow:before {content: \"▸\";float: left;margin-right: 0.25em;color: #696969;}#sk-container-id-1 label.sk-toggleable__label-arrow:hover:before {color: black;}#sk-container-id-1 div.sk-estimator:hover label.sk-toggleable__label-arrow:before {color: black;}#sk-container-id-1 div.sk-toggleable__content {max-height: 0;max-width: 0;overflow: hidden;text-align: left;background-color: #f0f8ff;}#sk-container-id-1 div.sk-toggleable__content pre {margin: 0.2em;color: black;border-radius: 0.25em;background-color: #f0f8ff;}#sk-container-id-1 input.sk-toggleable__control:checked~div.sk-toggleable__content {max-height: 200px;max-width: 100%;overflow: auto;}#sk-container-id-1 input.sk-toggleable__control:checked~label.sk-toggleable__label-arrow:before {content: \"▾\";}#sk-container-id-1 div.sk-estimator input.sk-toggleable__control:checked~label.sk-toggleable__label {background-color: #d4ebff;}#sk-container-id-1 div.sk-label input.sk-toggleable__control:checked~label.sk-toggleable__label {background-color: #d4ebff;}#sk-container-id-1 input.sk-hidden--visually {border: 0;clip: rect(1px 1px 1px 1px);clip: rect(1px, 1px, 1px, 1px);height: 1px;margin: -1px;overflow: hidden;padding: 0;position: absolute;width: 1px;}#sk-container-id-1 div.sk-estimator {font-family: monospace;background-color: #f0f8ff;border: 1px dotted black;border-radius: 0.25em;box-sizing: border-box;margin-bottom: 0.5em;}#sk-container-id-1 div.sk-estimator:hover {background-color: #d4ebff;}#sk-container-id-1 div.sk-parallel-item::after {content: \"\";width: 100%;border-bottom: 1px solid gray;flex-grow: 1;}#sk-container-id-1 div.sk-label:hover label.sk-toggleable__label {background-color: #d4ebff;}#sk-container-id-1 div.sk-serial::before {content: \"\";position: absolute;border-left: 1px solid gray;box-sizing: border-box;top: 0;bottom: 0;left: 50%;z-index: 0;}#sk-container-id-1 div.sk-serial {display: flex;flex-direction: column;align-items: center;background-color: white;padding-right: 0.2em;padding-left: 0.2em;position: relative;}#sk-container-id-1 div.sk-item {position: relative;z-index: 1;}#sk-container-id-1 div.sk-parallel {display: flex;align-items: stretch;justify-content: center;background-color: white;position: relative;}#sk-container-id-1 div.sk-item::before, #sk-container-id-1 div.sk-parallel-item::before {content: \"\";position: absolute;border-left: 1px solid gray;box-sizing: border-box;top: 0;bottom: 0;left: 50%;z-index: -1;}#sk-container-id-1 div.sk-parallel-item {display: flex;flex-direction: column;z-index: 1;position: relative;background-color: white;}#sk-container-id-1 div.sk-parallel-item:first-child::after {align-self: flex-end;width: 50%;}#sk-container-id-1 div.sk-parallel-item:last-child::after {align-self: flex-start;width: 50%;}#sk-container-id-1 div.sk-parallel-item:only-child::after {width: 0;}#sk-container-id-1 div.sk-dashed-wrapped {border: 1px dashed gray;margin: 0 0.4em 0.5em 0.4em;box-sizing: border-box;padding-bottom: 0.4em;background-color: white;}#sk-container-id-1 div.sk-label label {font-family: monospace;font-weight: bold;display: inline-block;line-height: 1.2em;}#sk-container-id-1 div.sk-label-container {text-align: center;}#sk-container-id-1 div.sk-container {/* jupyter's `normalize.less` sets `[hidden] { display: none; }` but bootstrap.min.css set `[hidden] { display: none !important; }` so we also need the `!important` here to be able to override the default hidden behavior on the sphinx rendered scikit-learn.org. See: https://github.com/scikit-learn/scikit-learn/issues/21755 */display: inline-block !important;position: relative;}#sk-container-id-1 div.sk-text-repr-fallback {display: none;}</style><div id=\"sk-container-id-1\" class=\"sk-top-container\"><div class=\"sk-text-repr-fallback\"><pre>Pipeline(steps=[(&#x27;scaler&#x27;, StandardScaler()),\n",
              "                (&#x27;logistic&#x27;, LogisticRegression())])</pre><b>In a Jupyter environment, please rerun this cell to show the HTML representation or trust the notebook. <br />On GitHub, the HTML representation is unable to render, please try loading this page with nbviewer.org.</b></div><div class=\"sk-container\" hidden><div class=\"sk-item sk-dashed-wrapped\"><div class=\"sk-label-container\"><div class=\"sk-label sk-toggleable\"><input class=\"sk-toggleable__control sk-hidden--visually\" id=\"sk-estimator-id-1\" type=\"checkbox\" ><label for=\"sk-estimator-id-1\" class=\"sk-toggleable__label sk-toggleable__label-arrow\">Pipeline</label><div class=\"sk-toggleable__content\"><pre>Pipeline(steps=[(&#x27;scaler&#x27;, StandardScaler()),\n",
              "                (&#x27;logistic&#x27;, LogisticRegression())])</pre></div></div></div><div class=\"sk-serial\"><div class=\"sk-item\"><div class=\"sk-estimator sk-toggleable\"><input class=\"sk-toggleable__control sk-hidden--visually\" id=\"sk-estimator-id-2\" type=\"checkbox\" ><label for=\"sk-estimator-id-2\" class=\"sk-toggleable__label sk-toggleable__label-arrow\">StandardScaler</label><div class=\"sk-toggleable__content\"><pre>StandardScaler()</pre></div></div></div><div class=\"sk-item\"><div class=\"sk-estimator sk-toggleable\"><input class=\"sk-toggleable__control sk-hidden--visually\" id=\"sk-estimator-id-3\" type=\"checkbox\" ><label for=\"sk-estimator-id-3\" class=\"sk-toggleable__label sk-toggleable__label-arrow\">LogisticRegression</label><div class=\"sk-toggleable__content\"><pre>LogisticRegression()</pre></div></div></div></div></div></div></div>"
            ],
            "text/plain": [
              "Pipeline(steps=[('scaler', StandardScaler()),\n",
              "                ('logistic', LogisticRegression())])"
            ]
          },
          "execution_count": 137,
          "metadata": {},
          "output_type": "execute_result"
        }
      ],
      "source": [
        "from sklearn.linear_model import LogisticRegression\n",
        "from sklearn.preprocessing import StandardScaler\n",
        "from sklearn.pipeline import Pipeline\n",
        "\n",
        "operations = [(\"scaler\", StandardScaler()), (\"logistic\", LogisticRegression())]\n",
        "\n",
        "pipe_model = Pipeline(steps=operations)\n",
        "\n",
        "pipe_model.fit(X_train, y_train)\n"
      ]
    },
    {
      "cell_type": "code",
      "execution_count": null,
      "metadata": {
        "id": "OEqkL-cuP5PX"
      },
      "outputs": [],
      "source": [
        "y_pred = pipe_model.predict(X_test)"
      ]
    },
    {
      "cell_type": "code",
      "execution_count": null,
      "metadata": {
        "id": "jc2syJWyP5PX"
      },
      "outputs": [],
      "source": [
        "from sklearn.model_selection import GridSearchCV\n",
        "from sklearn.metrics import accuracy_score, confusion_matrix, classification_report, ConfusionMatrixDisplay"
      ]
    },
    {
      "cell_type": "code",
      "execution_count": null,
      "metadata": {
        "id": "KYpGvGubP5PY",
        "outputId": "8d8e4639-2382-4d87-b399-9798bb74b333"
      },
      "outputs": [
        {
          "data": {
            "image/png": "[encoded data removed]",
            "text/plain": [
              "<Figure size 800x550 with 2 Axes>"
            ]
          },
          "metadata": {},
          "output_type": "display_data"
        }
      ],
      "source": [
        "ConfusionMatrixDisplay.from_estimator(pipe_model, X_test, y_test);"
      ]
    },
    {
      "cell_type": "code",
      "execution_count": null,
      "metadata": {
        "id": "NiIX9CS2P5PY"
      },
      "outputs": [],
      "source": [
        "def eval_metric(model, X_train, y_train, X_test, y_test):\n",
        "    y_train_pred = model.predict(X_train)\n",
        "    y_pred = model.predict(X_test)\n",
        "    \n",
        "    print(\"Test_Set\")\n",
        "    print(confusion_matrix(y_test, y_pred))\n",
        "    print(classification_report(y_test, y_pred))\n",
        "    print()\n",
        "    print(\"Train_Set\")\n",
        "    print(confusion_matrix(y_train, y_train_pred))\n",
        "    print(classification_report(y_train, y_train_pred))"
      ]
    },
    {
      "cell_type": "code",
      "execution_count": null,
      "metadata": {
        "id": "yht7ouWNP5PZ",
        "outputId": "725f400f-61b9-474e-862a-68d97511d181"
      },
      "outputs": [
        {
          "name": "stdout",
          "output_type": "stream",
          "text": [
            "Test_Set\n",
            "[[751   1   5]\n",
            " [  6 234   1]\n",
            " [  0   2 133]]\n",
            "              precision    recall  f1-score   support\n",
            "\n",
            "           1       0.99      0.99      0.99       757\n",
            "           2       0.99      0.97      0.98       241\n",
            "           3       0.96      0.99      0.97       135\n",
            "\n",
            "    accuracy                           0.99      1133\n",
            "   macro avg       0.98      0.98      0.98      1133\n",
            "weighted avg       0.99      0.99      0.99      1133\n",
            "\n",
            "\n",
            "Train_Set\n",
            "[[3014    2    7]\n",
            " [   4  957    2]\n",
            " [   3    1  538]]\n",
            "              precision    recall  f1-score   support\n",
            "\n",
            "           1       1.00      1.00      1.00      3023\n",
            "           2       1.00      0.99      1.00       963\n",
            "           3       0.98      0.99      0.99       542\n",
            "\n",
            "    accuracy                           1.00      4528\n",
            "   macro avg       0.99      0.99      0.99      4528\n",
            "weighted avg       1.00      1.00      1.00      4528\n",
            "\n"
          ]
        }
      ],
      "source": [
        "eval_metric(pipe_model, X_train, y_train, X_test, y_test)\n",
        "\n",
        "# genel olarak overfitting yok\n",
        "# ancak model ozellikle 3. sinif icin cok dusuk performans gosteriyor. recall ve precision degerleri cok dusuk\n",
        "# CV ile asagida overfitting kontrolü yapilacak\n",
        "# gridsearch ile bet parameters ile tekrar denenecek"
      ]
    },
    {
      "cell_type": "markdown",
      "metadata": {
        "id": "q9OXOccZP5PZ"
      },
      "source": [
        "Without SubjectNumericRace\n",
        "\n",
        "Test_Set\n",
        "[[725  12  21]\n",
        " [ 19 232   9]\n",
        " [ 72  14  50]]\n",
        "              precision    recall  f1-score   support\n",
        "\n",
        "           1       0.89      0.96      0.92       758\n",
        "           2       0.90      0.89      0.90       260\n",
        "           3       0.62      0.37      0.46       136\n",
        "\n",
        "    accuracy                           0.87      1154\n",
        "   macro avg       0.80      0.74      0.76      1154\n",
        "weighted avg       0.86      0.87      0.86      1154\n",
        "\n",
        "\n",
        "Train_Set\n",
        "[[2924   26   84]\n",
        " [  57  961   20]\n",
        " [ 268   58  217]]\n",
        "              precision    recall  f1-score   support\n",
        "\n",
        "           1       0.90      0.96      0.93      3034\n",
        "           2       0.92      0.93      0.92      1038\n",
        "           3       0.68      0.40      0.50       543\n",
        "\n",
        "    accuracy                           0.89      4615\n",
        "   macro avg       0.83      0.76      0.79      4615\n",
        "weighted avg       0.88      0.89      0.88      4615\n"
      ]
    },
    {
      "cell_type": "code",
      "execution_count": null,
      "metadata": {
        "id": "AloCu5oiP5PZ",
        "outputId": "1f8dbab1-dc24-4a4c-ce4f-af4b4d9a9326"
      },
      "outputs": [
        {
          "data": {
            "text/plain": [
              "test_accuracy               0.990723\n",
              "train_accuracy              0.995730\n",
              "test_precision_weighted     0.990743\n",
              "train_precision_weighted    0.995745\n",
              "test_recall_weighted        0.990723\n",
              "train_recall_weighted       0.995730\n",
              "test_f1_weighted            0.990697\n",
              "train_f1_weighted           0.995734\n",
              "dtype: float64"
            ]
          },
          "execution_count": 143,
          "metadata": {},
          "output_type": "execute_result"
        }
      ],
      "source": [
        "# CV\n",
        "\n",
        "from sklearn.model_selection import cross_validate\n",
        "\n",
        "operations = [(\"scaler\", StandardScaler()), (\"logistic\", LogisticRegression())]\n",
        "\n",
        "model = Pipeline(steps=operations)\n",
        "\n",
        "scores = cross_validate(model, X_train, y_train, scoring = ['accuracy', 'precision_weighted','recall_weighted',\n",
        "                                                                   'f1_weighted'], cv = 10, return_train_score=True)\n",
        "df_scores = pd.DataFrame(scores, index = range(1, 11))\n",
        "df_scores.mean()[2:]"
      ]
    },
    {
      "cell_type": "markdown",
      "metadata": {
        "id": "gKvFEj_PP5PZ"
      },
      "source": [
        "Without SubjectNumericRace\n",
        "\n",
        "test_accuracy               0.874973\n",
        "train_accuracy              0.889948\n",
        "test_precision_weighted     0.861964\n",
        "train_precision_weighted    0.879708\n",
        "test_recall_weighted        0.874973\n",
        "train_recall_weighted       0.889948\n",
        "test_f1_weighted            0.863388\n",
        "train_f1_weighted           0.880241\n",
        "dtype: float64"
      ]
    },
    {
      "cell_type": "code",
      "execution_count": null,
      "metadata": {
        "id": "u141l5p-P5PZ"
      },
      "outputs": [],
      "source": [
        "# class prediction\n",
        "\n",
        "y_pred=pipe_model.predict(X_test)\n",
        "y_pred_proba = pipe_model.predict_proba(X_test)\n",
        "\n",
        "test_data = pd.concat([X_test, y_test], axis=1)\n",
        "test_data[\"pred\"] = y_pred\n",
        "test_data[\"pred_proba_1\"] = y_pred_proba[:,0]\n",
        "test_data[\"pred_proba_2\"] = y_pred_proba[:,1]\n",
        "test_data[\"pred_proba_3\"] = y_pred_proba[:,2]\n",
        "test_data[test_data.DODRace ==3].sample(10)"
      ]
    },
    {
      "cell_type": "code",
      "execution_count": null,
      "metadata": {
        "id": "rbKDDck012BS"
      },
      "outputs": [],
      "source": []
    },
    {
      "cell_type": "markdown",
      "metadata": {
        "heading_collapsed": true,
        "hidden": true,
        "id": "lPelWxsU1b7C"
      },
      "source": [
        "### Logistic Model GridsearchCV"
      ]
    },
    {
      "cell_type": "code",
      "execution_count": null,
      "metadata": {
        "id": "PNZyqeNY15nP"
      },
      "outputs": [],
      "source": [
        "operations = [(\"scaler\", StandardScaler()), (\"logistic\", LogisticRegression(max_iter=5000))]\n",
        " \n",
        "model = Pipeline(steps=operations)"
      ]
    },
    {
      "cell_type": "code",
      "execution_count": null,
      "metadata": {
        "id": "cqgcj8lfP5Pa",
        "outputId": "ae43f097-867c-4452-efb7-8615968b3a57"
      },
      "outputs": [
        {
          "data": {
            "text/plain": [
              "{'memory': None,\n",
              " 'steps': [('scaler', StandardScaler()),\n",
              "  ('logistic', LogisticRegression(max_iter=5000))],\n",
              " 'verbose': False,\n",
              " 'scaler': StandardScaler(),\n",
              " 'logistic': LogisticRegression(max_iter=5000),\n",
              " 'scaler__copy': True,\n",
              " 'scaler__with_mean': True,\n",
              " 'scaler__with_std': True,\n",
              " 'logistic__C': 1.0,\n",
              " 'logistic__class_weight': None,\n",
              " 'logistic__dual': False,\n",
              " 'logistic__fit_intercept': True,\n",
              " 'logistic__intercept_scaling': 1,\n",
              " 'logistic__l1_ratio': None,\n",
              " 'logistic__max_iter': 5000,\n",
              " 'logistic__multi_class': 'auto',\n",
              " 'logistic__n_jobs': None,\n",
              " 'logistic__penalty': 'l2',\n",
              " 'logistic__random_state': None,\n",
              " 'logistic__solver': 'lbfgs',\n",
              " 'logistic__tol': 0.0001,\n",
              " 'logistic__verbose': 0,\n",
              " 'logistic__warm_start': False}"
            ]
          },
          "execution_count": 145,
          "metadata": {},
          "output_type": "execute_result"
        }
      ],
      "source": [
        "model.get_params()"
      ]
    },
    {
      "cell_type": "code",
      "execution_count": null,
      "metadata": {
        "id": "Yf1xYx2DP5Pa"
      },
      "outputs": [],
      "source": [
        "# imabalanced datada en kotu performmans calss 3. bu nedenle class 3 recall'u ana hedefimiz\n",
        "# gridsearche recall_3 verilir\n",
        "from sklearn.metrics import make_scorer\n",
        "from sklearn.metrics import precision_score, recall_score, accuracy_score, f1_score\n",
        "\n",
        "f1_3 = make_scorer(f1_score, labels =[3], average = None)\n",
        "precision_3 = make_scorer(precision_score, labels =[3], average = None)\n",
        "recall_3 = make_scorer(recall_score, labels =[3], average = None)\n",
        "\n",
        "# Cv'de kullanmak üzere her metric icin label:\n",
        "# gridsearch sadece 1 skora gore optimizasyon yapacagi icin, altta scoringde recall_macro ile belirtecegiz\n",
        "scoring = {\"precision_3\":precision_3, \"recall_3\":recall_3, \"f1_3\":f1_3}"
      ]
    },
    {
      "cell_type": "code",
      "execution_count": null,
      "metadata": {
        "id": "GYf7zfiAP5Pb"
      },
      "outputs": [],
      "source": [
        "penalty = [\"l1\", \"l2\"]\n",
        "C = [0.01, 0.1, 1, 5, 16, 19, 22, 25]\n",
        "solver = ['lbfgs', 'liblinear', 'newton-cg', 'newton-cholesky', 'sag', 'saga']\n",
        "\n",
        "param_grid = {\"logistic__penalty\" : penalty,\n",
        "             \"logistic__C\" : C,\n",
        "             \"logistic__solver\" : solver}"
      ]
    },
    {
      "cell_type": "code",
      "execution_count": null,
      "metadata": {
        "id": "-GZ8NBuhP5Pb"
      },
      "outputs": [],
      "source": [
        "# from sklearn.model_selection import RandomizedSearchCV"
      ]
    },
    {
      "cell_type": "code",
      "execution_count": null,
      "metadata": {
        "id": "gUk8nt3MP5Pb"
      },
      "outputs": [],
      "source": [
        "# computational costs nedeniyle gridsearch yerine randomizedsearch deneyecegiz\n",
        "grid_model = GridSearchCV(model, param_grid = param_grid, cv=5, n_jobs=-1, scoring=\"recall_macro\",return_train_score=True) "
      ]
    },
    {
      "cell_type": "code",
      "execution_count": null,
      "metadata": {
        "id": "M7IB-IpVP5Pb"
      },
      "outputs": [],
      "source": [
        "# grid_model = GridSearchCV(model, param_grid = param_grid, cv=5, n_jobs=-1, return_train_score=True) "
      ]
    },
    {
      "cell_type": "code",
      "execution_count": null,
      "metadata": {
        "id": "_rae3IMyP5Pb"
      },
      "outputs": [],
      "source": [
        "#!pip install scikit-learn-intelex"
      ]
    },
    {
      "cell_type": "code",
      "execution_count": null,
      "metadata": {
        "id": "NmK1Q7rOP5Pc"
      },
      "outputs": [],
      "source": [
        "# conda install scikit-learn-intelex -c conda-"
      ]
    },
    {
      "cell_type": "code",
      "execution_count": null,
      "metadata": {
        "id": "shuGHxLjP5Pc"
      },
      "outputs": [],
      "source": [
        "# pip install scikit-learn-intelex --progress-bar off >> /tmp/pip_sklearnex.log"
      ]
    },
    {
      "cell_type": "code",
      "execution_count": null,
      "metadata": {
        "id": "xOOn-kNqP5Pc"
      },
      "outputs": [],
      "source": [
        "# from sklearnex import patch_sklearn\n",
        "# patch_sklearn()"
      ]
    },
    {
      "cell_type": "code",
      "execution_count": null,
      "metadata": {
        "scrolled": true,
        "tags": [],
        "id": "PTcMpQJhP5Pd"
      },
      "outputs": [],
      "source": [
        "grid_model.fit(X_train,y_train)"
      ]
    },
    {
      "cell_type": "code",
      "execution_count": null,
      "metadata": {
        "id": "EkIdT-4tP5Pe"
      },
      "outputs": [],
      "source": []
    },
    {
      "cell_type": "code",
      "execution_count": null,
      "metadata": {
        "id": "w8LJIuf1P5Pe"
      },
      "outputs": [],
      "source": [
        "grid_model.best_params_"
      ]
    },
    {
      "cell_type": "code",
      "execution_count": null,
      "metadata": {
        "id": "06Wbw9-FP5Pe"
      },
      "outputs": [],
      "source": [
        "2+2"
      ]
    },
    {
      "cell_type": "code",
      "execution_count": null,
      "metadata": {
        "id": "15BmV2VBP5Pe"
      },
      "outputs": [],
      "source": [
        "grid_model.best_estimator_"
      ]
    },
    {
      "cell_type": "code",
      "execution_count": null,
      "metadata": {
        "id": "TZvhcx2rP5Pf"
      },
      "outputs": [],
      "source": [
        "pd.DataFrame(grid_model.cv_results_).loc[grid_model.best_index_, [\"mean_test_score\", \"mean_train_score\"]]"
      ]
    },
    {
      "cell_type": "code",
      "execution_count": null,
      "metadata": {
        "id": "dV7icwq8P5Pf"
      },
      "outputs": [],
      "source": [
        "y_pred = grid_model.predict(X_test)\n",
        "y_pred"
      ]
    },
    {
      "cell_type": "code",
      "execution_count": null,
      "metadata": {
        "id": "BRu0FmY3P5Pf"
      },
      "outputs": [],
      "source": [
        "ConfusionMatrixDisplay.from_estimator(grid_model, X_test, y_test);\n",
        "# total number of false predictions for sclass 3 has increased. Vanilla performs better"
      ]
    },
    {
      "cell_type": "code",
      "execution_count": null,
      "metadata": {
        "scrolled": true,
        "id": "nxv8r5u_P5Pf"
      },
      "outputs": [],
      "source": [
        "eval_metric(grid_model, X_train, y_train, X_test, y_test)\n",
        "# test scores has decreased"
      ]
    },
    {
      "cell_type": "markdown",
      "metadata": {
        "id": "JVIOGzPtP5Pg"
      },
      "source": [
        "Without SubjectNumericTace\n",
        "\n",
        "Test_Set\n",
        "[[724  11  23]\n",
        " [ 18 233   9]\n",
        " [ 74  14  48]]\n",
        "              precision    recall  f1-score   support\n",
        "\n",
        "           1       0.89      0.96      0.92       758\n",
        "           2       0.90      0.90      0.90       260\n",
        "           3       0.60      0.35      0.44       136\n",
        "\n",
        "    accuracy                           0.87      1154\n",
        "   macro avg       0.80      0.73      0.75      1154\n",
        "weighted avg       0.86      0.87      0.86      1154\n",
        "\n",
        "\n",
        "Train_Set\n",
        "[[2925   24   85]\n",
        " [  55  962   21]\n",
        " [ 265   58  220]]\n",
        "              precision    recall  f1-score   support\n",
        "\n",
        "           1       0.90      0.96      0.93      3034\n",
        "           2       0.92      0.93      0.92      1038\n",
        "           3       0.67      0.41      0.51       543\n",
        "\n",
        "    accuracy                           0.89      4615\n",
        "   macro avg       0.83      0.77      0.79      4615\n",
        "weighted avg       0.88      0.89      0.88      4615"
      ]
    },
    {
      "cell_type": "raw",
      "metadata": {
        "id": "ewi1ySNUP5Ph"
      },
      "source": [
        "\n"
      ]
    },
    {
      "cell_type": "markdown",
      "metadata": {
        "id": "6I5ifBTFP5Ph"
      },
      "source": [
        "**ROC (Receiver Operating Curve) and AUC (Area Under Curve)**"
      ]
    },
    {
      "cell_type": "code",
      "execution_count": null,
      "metadata": {
        "id": "VtaZW5UkP5Ph"
      },
      "outputs": [],
      "source": [
        "from sklearn.metrics import RocCurveDisplay, PrecisionRecallDisplay"
      ]
    },
    {
      "cell_type": "code",
      "execution_count": null,
      "metadata": {
        "id": "y9cYQNY6P5Pi",
        "outputId": "fb6fcfc3-880b-4550-a31f-98a9c1ce240d"
      },
      "outputs": [
        {
          "data": {
            "image/png": "[encoded data removed]",
            "text/plain": [
              "<Figure size 800x550 with 1 Axes>"
            ]
          },
          "metadata": {},
          "output_type": "display_data"
        }
      ],
      "source": [
        "from scikitplot.metrics import plot_roc, precision_recall_curve\n",
        "from scikitplot.metrics import plot_precision_recall\n",
        "\n",
        "\n",
        "operations = [(\"scaler\", StandardScaler()), (\"logistic\", LogisticRegression(C=19, max_iter=5000))]\n",
        "\n",
        "model = Pipeline(steps=operations)\n",
        "\n",
        "model.fit(X_train, y_train)\n",
        "\n",
        "y_pred_proba = model.predict_proba(X_test)\n",
        "    \n",
        "plot_roc(y_test, y_pred_proba)\n",
        "plt.show();\n",
        "\n",
        "# high performance for class 1 and class 2; slightly lower performance for class 3"
      ]
    },
    {
      "cell_type": "markdown",
      "metadata": {
        "id": "7bDJJlIRP5Pi"
      },
      "source": [
        "Without SubjectNumericTace\n",
        "\n",
        "Result: There is nor overfitting for the log regression model. However, the prediction performance of the model decreases sharply for the class 3. In the same way, ROC curve AUC also decreases significantly for the class 3."
      ]
    },
    {
      "cell_type": "markdown",
      "metadata": {
        "id": "E7MIBFixP5Pi"
      },
      "source": [
        "![download.png](attachment:download.png)\n"
      ]
    },
    {
      "cell_type": "markdown",
      "metadata": {
        "heading_collapsed": true,
        "hidden": true,
        "id": "GM0PL5eZ1b7E"
      },
      "source": [
        "## 2. SVC"
      ]
    },
    {
      "cell_type": "markdown",
      "metadata": {
        "heading_collapsed": true,
        "hidden": true,
        "id": "P3j_Xk1L1b7E"
      },
      "source": [
        "### Vanilla SVC model "
      ]
    },
    {
      "cell_type": "code",
      "execution_count": null,
      "metadata": {
        "id": "pro8T6CM19vX"
      },
      "outputs": [],
      "source": [
        "from sklearn.svm import SVC\n",
        "from sklearn.metrics import classification_report,confusion_matrix"
      ]
    },
    {
      "cell_type": "code",
      "execution_count": null,
      "metadata": {
        "id": "oHRnUh6zP5Pj"
      },
      "outputs": [],
      "source": [
        "# scaling and pipeline\n",
        "\n",
        "operations = [(\"scaler\", StandardScaler()), (\"SVC\", SVC())]\n",
        "pipe_model = Pipeline(steps=operations)"
      ]
    },
    {
      "cell_type": "code",
      "execution_count": null,
      "metadata": {
        "id": "r0Gr7pEkP5Pj",
        "outputId": "6cf9941c-66d1-4f2b-cd94-adc57f471805"
      },
      "outputs": [
        {
          "name": "stdout",
          "output_type": "stream",
          "text": [
            "Test_Set\n",
            "[[752   0   5]\n",
            " [  9 230   2]\n",
            " [  3  10 122]]\n",
            "              precision    recall  f1-score   support\n",
            "\n",
            "           1       0.98      0.99      0.99       757\n",
            "           2       0.96      0.95      0.96       241\n",
            "           3       0.95      0.90      0.92       135\n",
            "\n",
            "    accuracy                           0.97      1133\n",
            "   macro avg       0.96      0.95      0.96      1133\n",
            "weighted avg       0.97      0.97      0.97      1133\n",
            "\n",
            "\n",
            "Train_Set\n",
            "[[3023    0    0]\n",
            " [   0  963    0]\n",
            " [   0    0  542]]\n",
            "              precision    recall  f1-score   support\n",
            "\n",
            "           1       1.00      1.00      1.00      3023\n",
            "           2       1.00      1.00      1.00       963\n",
            "           3       1.00      1.00      1.00       542\n",
            "\n",
            "    accuracy                           1.00      4528\n",
            "   macro avg       1.00      1.00      1.00      4528\n",
            "weighted avg       1.00      1.00      1.00      4528\n",
            "\n"
          ]
        }
      ],
      "source": [
        "pipe_model.fit(X_train, y_train)\n",
        "eval_metric(pipe_model, X_train, y_train, X_test, y_test)\n",
        "\n",
        "# compared to logistic regression, SVC performs worse for all classes.\n",
        "# overfitting"
      ]
    },
    {
      "cell_type": "code",
      "execution_count": null,
      "metadata": {
        "id": "Jpd5nnCtP5Pk"
      },
      "outputs": [],
      "source": [
        "Test_Set\n",
        "[[605  16 137]\n",
        " [  9 232  19]\n",
        " [ 38  11  87]]\n",
        "              precision    recall  f1-score   support\n",
        "\n",
        "           1       0.93      0.80      0.86       758\n",
        "           2       0.90      0.89      0.89       260\n",
        "           3       0.36      0.64      0.46       136\n",
        "\n",
        "    accuracy                           0.80      1154\n",
        "   macro avg       0.73      0.78      0.74      1154\n",
        "weighted avg       0.85      0.80      0.82      1154\n",
        "\n",
        "\n",
        "Train_Set\n",
        "[[2454   56  524]\n",
        " [  29  939   70]\n",
        " [  96   45  402]]\n",
        "              precision    recall  f1-score   support\n",
        "\n",
        "           1       0.95      0.81      0.87      3034\n",
        "           2       0.90      0.90      0.90      1038\n",
        "           3       0.40      0.74      0.52       543\n",
        "\n",
        "    accuracy                           0.82      4615\n",
        "   macro avg       0.75      0.82      0.77      4615\n",
        "weighted avg       0.88      0.82      0.84      4615"
      ]
    },
    {
      "cell_type": "code",
      "execution_count": null,
      "metadata": {
        "id": "vyjLQ7clP5Pk",
        "outputId": "9fa8ccc1-bd48-499c-e523-d6d68340d3d8"
      },
      "outputs": [
        {
          "data": {
            "text/plain": [
              "test_accuracy      0.994258\n",
              "train_accuracy     0.996516\n",
              "test_precision          NaN\n",
              "train_precision         NaN\n",
              "test_recall             NaN\n",
              "train_recall            NaN\n",
              "test_f1                 NaN\n",
              "train_f1                NaN\n",
              "dtype: float64"
            ]
          },
          "execution_count": 144,
          "metadata": {},
          "output_type": "execute_result"
        }
      ],
      "source": [
        "# check with cross validation\n",
        "\n",
        "operations = [(\"scaler\", StandardScaler()), (\"SVC\", SVC())]\n",
        "pipe_model = Pipeline(steps=operations)\n",
        "\n",
        "scores = cross_validate(pipe_model, \n",
        "                        X_train, \n",
        "                        y_train, \n",
        "                        scoring=['accuracy', 'precision','recall','f1'],\n",
        "                        cv = 10,\n",
        "                        return_train_score=True)\n",
        "df_scores = pd.DataFrame(scores, index = range(1, 11))\n",
        "df_scores.mean()[2:]"
      ]
    },
    {
      "cell_type": "code",
      "execution_count": null,
      "metadata": {
        "id": "VTErTW3dP5Pk"
      },
      "outputs": [],
      "source": [
        "Without SNR\n",
        "\n",
        "test_accuracy      0.869338\n",
        "train_accuracy     0.896039\n",
        "test_precision          NaN\n",
        "train_precision         NaN\n",
        "test_recall             NaN\n",
        "train_recall            NaN\n",
        "test_f1                 NaN\n",
        "train_f1                NaN\n",
        "dtype: float64"
      ]
    },
    {
      "cell_type": "markdown",
      "metadata": {
        "heading_collapsed": true,
        "hidden": true,
        "id": "28y9nWxG1b7E"
      },
      "source": [
        "###  SVC Model GridsearchCV"
      ]
    },
    {
      "cell_type": "code",
      "execution_count": null,
      "metadata": {
        "id": "4dFocgCo1-0Z"
      },
      "outputs": [],
      "source": [
        "# define the space for hyperparameters\n",
        "param_grid = {'SVC__C': [0.001, 0.05, 0.01, 0.1],\n",
        "              'SVC__gamma': [\"scale\", \"auto\", 0.2, 0.3],\n",
        "              'SVC__kernel': ['rbf', 'linear'], \n",
        "              'SVC__class_weight': [\"balanced\", None]}"
      ]
    },
    {
      "cell_type": "code",
      "execution_count": null,
      "metadata": {
        "id": "DgVZvRKqP5Pl"
      },
      "outputs": [],
      "source": [
        "# set the operator order including scaler for pipeline and build SVC model by using pipeline\n",
        "operations = [(\"scaler\", StandardScaler()), (\"SVC\", SVC(probability=True))]\n",
        "pipe_model = Pipeline(steps=operations)\n",
        "\n",
        "# scores for imbalanced multiclass dataset-for CV\n",
        "scoring = {\n",
        "    'weighted_precision': make_scorer(precision_score, average='weighted'),\n",
        "    'weighted_recall': make_scorer(recall_score, average='weighted'),\n",
        "    'weighted_f1': make_scorer(f1_score, average='weighted'),\n",
        "    'macro_f1': make_scorer(f1_score, average='macro')\n",
        "}\n",
        "\n",
        "# model\n",
        "svm_model_grid = GridSearchCV(pipe_model, \n",
        "                              param_grid, \n",
        "                              scoring=\"recall_macro\",\n",
        "                              cv=10, \n",
        "                              n_jobs=-1,\n",
        "                              return_train_score=True)"
      ]
    },
    {
      "cell_type": "code",
      "execution_count": null,
      "metadata": {
        "id": "mOOXXIDUP5Pl"
      },
      "outputs": [],
      "source": [
        "# fit the train data\n",
        "svm_model_grid.fit(X_train, y_train)\n"
      ]
    },
    {
      "cell_type": "code",
      "execution_count": null,
      "metadata": {
        "id": "FEqPPF5fP5Pl",
        "outputId": "6771a8d7-5d1a-4930-bea2-7963587d68a5"
      },
      "outputs": [
        {
          "data": {
            "text/html": [
              "<style>#sk-container-id-6 {color: black;background-color: white;}#sk-container-id-6 pre{padding: 0;}#sk-container-id-6 div.sk-toggleable {background-color: white;}#sk-container-id-6 label.sk-toggleable__label {cursor: pointer;display: block;width: 100%;margin-bottom: 0;padding: 0.3em;box-sizing: border-box;text-align: center;}#sk-container-id-6 label.sk-toggleable__label-arrow:before {content: \"▸\";float: left;margin-right: 0.25em;color: #696969;}#sk-container-id-6 label.sk-toggleable__label-arrow:hover:before {color: black;}#sk-container-id-6 div.sk-estimator:hover label.sk-toggleable__label-arrow:before {color: black;}#sk-container-id-6 div.sk-toggleable__content {max-height: 0;max-width: 0;overflow: hidden;text-align: left;background-color: #f0f8ff;}#sk-container-id-6 div.sk-toggleable__content pre {margin: 0.2em;color: black;border-radius: 0.25em;background-color: #f0f8ff;}#sk-container-id-6 input.sk-toggleable__control:checked~div.sk-toggleable__content {max-height: 200px;max-width: 100%;overflow: auto;}#sk-container-id-6 input.sk-toggleable__control:checked~label.sk-toggleable__label-arrow:before {content: \"▾\";}#sk-container-id-6 div.sk-estimator input.sk-toggleable__control:checked~label.sk-toggleable__label {background-color: #d4ebff;}#sk-container-id-6 div.sk-label input.sk-toggleable__control:checked~label.sk-toggleable__label {background-color: #d4ebff;}#sk-container-id-6 input.sk-hidden--visually {border: 0;clip: rect(1px 1px 1px 1px);clip: rect(1px, 1px, 1px, 1px);height: 1px;margin: -1px;overflow: hidden;padding: 0;position: absolute;width: 1px;}#sk-container-id-6 div.sk-estimator {font-family: monospace;background-color: #f0f8ff;border: 1px dotted black;border-radius: 0.25em;box-sizing: border-box;margin-bottom: 0.5em;}#sk-container-id-6 div.sk-estimator:hover {background-color: #d4ebff;}#sk-container-id-6 div.sk-parallel-item::after {content: \"\";width: 100%;border-bottom: 1px solid gray;flex-grow: 1;}#sk-container-id-6 div.sk-label:hover label.sk-toggleable__label {background-color: #d4ebff;}#sk-container-id-6 div.sk-serial::before {content: \"\";position: absolute;border-left: 1px solid gray;box-sizing: border-box;top: 0;bottom: 0;left: 50%;z-index: 0;}#sk-container-id-6 div.sk-serial {display: flex;flex-direction: column;align-items: center;background-color: white;padding-right: 0.2em;padding-left: 0.2em;position: relative;}#sk-container-id-6 div.sk-item {position: relative;z-index: 1;}#sk-container-id-6 div.sk-parallel {display: flex;align-items: stretch;justify-content: center;background-color: white;position: relative;}#sk-container-id-6 div.sk-item::before, #sk-container-id-6 div.sk-parallel-item::before {content: \"\";position: absolute;border-left: 1px solid gray;box-sizing: border-box;top: 0;bottom: 0;left: 50%;z-index: -1;}#sk-container-id-6 div.sk-parallel-item {display: flex;flex-direction: column;z-index: 1;position: relative;background-color: white;}#sk-container-id-6 div.sk-parallel-item:first-child::after {align-self: flex-end;width: 50%;}#sk-container-id-6 div.sk-parallel-item:last-child::after {align-self: flex-start;width: 50%;}#sk-container-id-6 div.sk-parallel-item:only-child::after {width: 0;}#sk-container-id-6 div.sk-dashed-wrapped {border: 1px dashed gray;margin: 0 0.4em 0.5em 0.4em;box-sizing: border-box;padding-bottom: 0.4em;background-color: white;}#sk-container-id-6 div.sk-label label {font-family: monospace;font-weight: bold;display: inline-block;line-height: 1.2em;}#sk-container-id-6 div.sk-label-container {text-align: center;}#sk-container-id-6 div.sk-container {/* jupyter's `normalize.less` sets `[hidden] { display: none; }` but bootstrap.min.css set `[hidden] { display: none !important; }` so we also need the `!important` here to be able to override the default hidden behavior on the sphinx rendered scikit-learn.org. See: https://github.com/scikit-learn/scikit-learn/issues/21755 */display: inline-block !important;position: relative;}#sk-container-id-6 div.sk-text-repr-fallback {display: none;}</style><div id=\"sk-container-id-6\" class=\"sk-top-container\"><div class=\"sk-text-repr-fallback\"><pre>Pipeline(steps=[(&#x27;scaler&#x27;, StandardScaler()),\n",
              "                (&#x27;SVC&#x27;,\n",
              "                 SVC(C=0.05, class_weight=&#x27;balanced&#x27;, kernel=&#x27;linear&#x27;,\n",
              "                     probability=True))])</pre><b>In a Jupyter environment, please rerun this cell to show the HTML representation or trust the notebook. <br />On GitHub, the HTML representation is unable to render, please try loading this page with nbviewer.org.</b></div><div class=\"sk-container\" hidden><div class=\"sk-item sk-dashed-wrapped\"><div class=\"sk-label-container\"><div class=\"sk-label sk-toggleable\"><input class=\"sk-toggleable__control sk-hidden--visually\" id=\"sk-estimator-id-18\" type=\"checkbox\" ><label for=\"sk-estimator-id-18\" class=\"sk-toggleable__label sk-toggleable__label-arrow\">Pipeline</label><div class=\"sk-toggleable__content\"><pre>Pipeline(steps=[(&#x27;scaler&#x27;, StandardScaler()),\n",
              "                (&#x27;SVC&#x27;,\n",
              "                 SVC(C=0.05, class_weight=&#x27;balanced&#x27;, kernel=&#x27;linear&#x27;,\n",
              "                     probability=True))])</pre></div></div></div><div class=\"sk-serial\"><div class=\"sk-item\"><div class=\"sk-estimator sk-toggleable\"><input class=\"sk-toggleable__control sk-hidden--visually\" id=\"sk-estimator-id-19\" type=\"checkbox\" ><label for=\"sk-estimator-id-19\" class=\"sk-toggleable__label sk-toggleable__label-arrow\">StandardScaler</label><div class=\"sk-toggleable__content\"><pre>StandardScaler()</pre></div></div></div><div class=\"sk-item\"><div class=\"sk-estimator sk-toggleable\"><input class=\"sk-toggleable__control sk-hidden--visually\" id=\"sk-estimator-id-20\" type=\"checkbox\" ><label for=\"sk-estimator-id-20\" class=\"sk-toggleable__label sk-toggleable__label-arrow\">SVC</label><div class=\"sk-toggleable__content\"><pre>SVC(C=0.05, class_weight=&#x27;balanced&#x27;, kernel=&#x27;linear&#x27;, probability=True)</pre></div></div></div></div></div></div></div>"
            ],
            "text/plain": [
              "Pipeline(steps=[('scaler', StandardScaler()),\n",
              "                ('SVC',\n",
              "                 SVC(C=0.05, class_weight='balanced', kernel='linear',\n",
              "                     probability=True))])"
            ]
          },
          "execution_count": 146,
          "metadata": {},
          "output_type": "execute_result"
        }
      ],
      "source": [
        "# get the best estimators\n",
        "svm_model_grid.best_estimator_"
      ]
    },
    {
      "cell_type": "code",
      "execution_count": null,
      "metadata": {
        "id": "--XF3msnP5Pm",
        "outputId": "ce878d93-d7b1-440a-c4db-b04af90650fa"
      },
      "outputs": [
        {
          "data": {
            "text/plain": [
              "mean_test_score     0.995186\n",
              "mean_train_score    0.995196\n",
              "Name: 17, dtype: object"
            ]
          },
          "execution_count": 152,
          "metadata": {},
          "output_type": "execute_result"
        }
      ],
      "source": [
        "# check overfitting\n",
        "pd.DataFrame(svm_model_grid.cv_results_).loc[svm_model_grid.best_index_, [\"mean_test_score\", \"mean_train_score\"]]\n",
        "# recall scores"
      ]
    },
    {
      "cell_type": "code",
      "execution_count": null,
      "metadata": {
        "id": "1Cv-cMkJP5Pm"
      },
      "outputs": [],
      "source": [
        "Without SNR\n",
        "\n",
        "mean_test_score     0.802627\n",
        "mean_train_score    0.817736\n",
        "Name: 33, dtype: object"
      ]
    },
    {
      "cell_type": "code",
      "execution_count": null,
      "metadata": {
        "id": "AL4CytFgP5Pm",
        "outputId": "914124f2-e968-4b98-9cdf-092cb9b2a8fa"
      },
      "outputs": [
        {
          "name": "stdout",
          "output_type": "stream",
          "text": [
            "Test_Set\n",
            "[[752   0   5]\n",
            " [  0 239   2]\n",
            " [  0   0 135]]\n",
            "              precision    recall  f1-score   support\n",
            "\n",
            "           1       1.00      0.99      1.00       757\n",
            "           2       1.00      0.99      1.00       241\n",
            "           3       0.95      1.00      0.97       135\n",
            "\n",
            "    accuracy                           0.99      1133\n",
            "   macro avg       0.98      1.00      0.99      1133\n",
            "weighted avg       0.99      0.99      0.99      1133\n",
            "\n",
            "\n",
            "Train_Set\n",
            "[[3015    0    8]\n",
            " [   2  957    4]\n",
            " [   3    0  539]]\n",
            "              precision    recall  f1-score   support\n",
            "\n",
            "           1       1.00      1.00      1.00      3023\n",
            "           2       1.00      0.99      1.00       963\n",
            "           3       0.98      0.99      0.99       542\n",
            "\n",
            "    accuracy                           1.00      4528\n",
            "   macro avg       0.99      1.00      0.99      4528\n",
            "weighted avg       1.00      1.00      1.00      4528\n",
            "\n"
          ]
        }
      ],
      "source": [
        "# check evaluation metrics and scores\n",
        "eval_metric(svm_model_grid, X_train, y_train, X_test, y_test)\n",
        "\n",
        "# recall has increased significantly for class 3 from 0.18 to 0.64. model can predict 86 of 136 truely. \n",
        "# train recall for class 3 is higher than test recall (0.74 to 0.64).\n",
        "# recall for class 1 decreased sharply for class 1\n"
      ]
    },
    {
      "cell_type": "code",
      "execution_count": null,
      "metadata": {
        "id": "stKGcZUuP5Pm"
      },
      "outputs": [],
      "source": [
        "SVM model without gridsearch with SNR\n",
        "\n",
        "Test_Set\n",
        "[[752   0   5]\n",
        " [  9 230   2]\n",
        " [  3  10 122]]\n",
        "              precision    recall  f1-score   support\n",
        "\n",
        "           1       0.98      0.99      0.99       757\n",
        "           2       0.96      0.95      0.96       241\n",
        "           3       0.95      0.90      0.92       135\n",
        "\n",
        "    accuracy                           0.97      1133\n",
        "   macro avg       0.96      0.95      0.96      1133\n",
        "weighted avg       0.97      0.97      0.97      1133\n",
        "\n",
        "\n",
        "Train_Set\n",
        "[[3023    0    0]\n",
        " [   0  963    0]\n",
        " [   0    0  542]]\n",
        "              precision    recall  f1-score   support\n",
        "\n",
        "           1       1.00      1.00      1.00      3023\n",
        "           2       1.00      1.00      1.00       963\n",
        "           3       1.00      1.00      1.00       542\n",
        "\n",
        "    accuracy                           1.00      4528\n",
        "   macro avg       1.00      1.00      1.00      4528\n",
        "weighted avg       1.00      1.00      1.00      4528\n"
      ]
    },
    {
      "cell_type": "code",
      "execution_count": null,
      "metadata": {
        "id": "I3vLXnHwP5Pn"
      },
      "outputs": [],
      "source": [
        "SVM with gridsearch without SNR\n",
        "\n",
        "Test_Set\n",
        "[[605  16 137]\n",
        " [  9 232  19]\n",
        " [ 38  11  87]]\n",
        "              precision    recall  f1-score   support\n",
        "\n",
        "           1       0.93      0.80      0.86       758\n",
        "           2       0.90      0.89      0.89       260\n",
        "           3       0.36      0.64      0.46       136\n",
        "\n",
        "    accuracy                           0.80      1154\n",
        "   macro avg       0.73      0.78      0.74      1154\n",
        "weighted avg       0.85      0.80      0.82      1154\n",
        "\n",
        "\n",
        "Train_Set\n",
        "[[2454   56  524]\n",
        " [  29  939   70]\n",
        " [  96   45  402]]\n",
        "              precision    recall  f1-score   support\n",
        "\n",
        "           1       0.95      0.81      0.87      3034\n",
        "           2       0.90      0.90      0.90      1038\n",
        "           3       0.40      0.74      0.52       543\n",
        "\n",
        "    accuracy                           0.82      4615\n",
        "   macro avg       0.75      0.82      0.77      4615\n",
        "weighted avg       0.88      0.82      0.84      4615"
      ]
    },
    {
      "cell_type": "raw",
      "metadata": {
        "id": "1W-vUXWRP5Pn"
      },
      "source": [
        "\n",
        "SVM model without gridsearch without SNR\n",
        "\n",
        "Test_Set\n",
        "[[739  12   7]\n",
        " [ 23 234   3]\n",
        " [ 99  13  24]]\n",
        "              precision    recall  f1-score   support\n",
        "\n",
        "           1       0.86      0.97      0.91       758\n",
        "           2       0.90      0.90      0.90       260\n",
        "           3       0.71      0.18      0.28       136\n",
        "\n",
        "    accuracy                           0.86      1154\n",
        "   macro avg       0.82      0.68      0.70      1154\n",
        "weighted avg       0.85      0.86      0.84      1154\n",
        "\n",
        "\n",
        "Train_Set\n",
        "[[3006   13   15]\n",
        " [  65  967    6]\n",
        " [ 327   44  172]]\n",
        "              precision    recall  f1-score   support\n",
        "\n",
        "           1       0.88      0.99      0.93      3034\n",
        "           2       0.94      0.93      0.94      1038\n",
        "           3       0.89      0.32      0.47       543\n",
        "\n",
        "    accuracy                           0.90      4615\n",
        "   macro avg       0.91      0.75      0.78      4615\n",
        "weighted avg       0.90      0.90      0.88      4615"
      ]
    },
    {
      "cell_type": "code",
      "execution_count": null,
      "metadata": {
        "id": "vJnzk_2dP5Pn",
        "outputId": "047717e3-a36e-4cbf-9c5f-4bdd24db30f9"
      },
      "outputs": [
        {
          "data": {
            "text/plain": [
              "test_weighted_precision     0.996313\n",
              "train_weighted_precision    0.996288\n",
              "test_weighted_recall        0.996245\n",
              "train_weighted_recall       0.996246\n",
              "test_weighted_f1            0.996256\n",
              "train_weighted_f1           0.996256\n",
              "test_macro_f1               0.993669\n",
              "train_macro_f1              0.993667\n",
              "dtype: float64"
            ]
          },
          "execution_count": 154,
          "metadata": {},
          "output_type": "execute_result"
        }
      ],
      "source": [
        "# with gridsearch, we don't need cv again, however if we want to see all metrics, we can implement\n",
        "operations = [(\"scaler\", StandardScaler()), \n",
        "              (\"SVC\", SVC(C= 0.01, kernel= 'linear', probability=True, \n",
        "                                                        class_weight=\"balanced\"))]\n",
        "# For kernel='linear', the value of gamma does not affect the model, as gamma is only used for non-linear kernels. \n",
        "# Therefore, the default value of gamma is not used here.\n",
        "\n",
        "# rebuild the model with best hyperparameters found during gridsearch\n",
        "model = Pipeline(steps=operations)\n",
        "\n",
        "scores = cross_validate(model, \n",
        "                        X_train, \n",
        "                        y_train, \n",
        "                        scoring=scoring, \n",
        "                        cv = 10,\n",
        "                        return_train_score=True)\n",
        "df_scores = pd.DataFrame(scores, index = range(1, 11))\n",
        "df_scores.mean()[2:]\n",
        "\n",
        "# no overfitting"
      ]
    },
    {
      "cell_type": "code",
      "execution_count": null,
      "metadata": {
        "id": "_c3ncMD6P5Pn"
      },
      "outputs": [],
      "source": [
        "without SNR\n",
        "\n",
        "test_weighted_precision     0.868959\n",
        "train_weighted_precision    0.875967\n",
        "test_weighted_recall        0.814522\n",
        "train_weighted_recall       0.821837\n",
        "test_weighted_f1            0.832347\n",
        "train_weighted_f1           0.839208\n",
        "test_macro_f1               0.755012\n",
        "train_macro_f1              0.766642\n",
        "dtype: float64"
      ]
    },
    {
      "cell_type": "raw",
      "metadata": {
        "id": "TCO2y1ZsP5Po"
      },
      "source": [
        "# Precision recall display for SVM model\n",
        "\n",
        "from sklearn.metrics import PrecisionRecallDisplay , average_precision_score\n",
        "\n",
        "from sklearn.metrics import precision_recall_curve\n",
        "\n",
        "# Get the best estimator from the grid search\n",
        "best_estimator = svm_model_grid.best_estimator_\n",
        "\n",
        "# Get the predicted probabilities for each class\n",
        "y_proba = best_estimator.predict_proba(X_test)\n",
        "\n",
        "# Calculate the average precision and plot the precision-recall curve for each class\n",
        "n_classes = len(np.unique(y_test))\n",
        "plt.figure(figsize=(8, 6))\n",
        "for i in range(n_classes):\n",
        "    precision, recall, _ = precision_recall_curve(y_test == i, y_proba[:, i])\n",
        "    avg_precision = average_precision_score(y_test == i, y_proba[:, i])\n",
        "    plt.plot(recall, precision, label=f'class {i} (avg. precision = {avg_precision:.2f})')\n",
        "plt.xlabel('Recall')\n",
        "plt.ylabel('Precision')\n",
        "plt.title('Precision-Recall Curve for Multiclass Classification')\n",
        "plt.legend()\n",
        "plt.show()\n",
        "\n"
      ]
    },
    {
      "cell_type": "code",
      "execution_count": null,
      "metadata": {
        "id": "sIlW2s9dP5Pp"
      },
      "outputs": [],
      "source": []
    },
    {
      "cell_type": "markdown",
      "metadata": {
        "heading_collapsed": true,
        "hidden": true,
        "id": "bDX_iLIls74C"
      },
      "source": [
        "## 3. RF"
      ]
    },
    {
      "cell_type": "markdown",
      "metadata": {
        "heading_collapsed": true,
        "hidden": true,
        "id": "qaTzrT6P1b7G"
      },
      "source": [
        "### Vanilla RF Model"
      ]
    },
    {
      "cell_type": "code",
      "execution_count": null,
      "metadata": {
        "id": "gvtqL0Qg2CKf",
        "outputId": "f97e94c6-3969-48ed-c07b-6a22fce0c59a"
      },
      "outputs": [
        {
          "data": {
            "text/html": [
              "<style>#sk-container-id-7 {color: black;background-color: white;}#sk-container-id-7 pre{padding: 0;}#sk-container-id-7 div.sk-toggleable {background-color: white;}#sk-container-id-7 label.sk-toggleable__label {cursor: pointer;display: block;width: 100%;margin-bottom: 0;padding: 0.3em;box-sizing: border-box;text-align: center;}#sk-container-id-7 label.sk-toggleable__label-arrow:before {content: \"▸\";float: left;margin-right: 0.25em;color: #696969;}#sk-container-id-7 label.sk-toggleable__label-arrow:hover:before {color: black;}#sk-container-id-7 div.sk-estimator:hover label.sk-toggleable__label-arrow:before {color: black;}#sk-container-id-7 div.sk-toggleable__content {max-height: 0;max-width: 0;overflow: hidden;text-align: left;background-color: #f0f8ff;}#sk-container-id-7 div.sk-toggleable__content pre {margin: 0.2em;color: black;border-radius: 0.25em;background-color: #f0f8ff;}#sk-container-id-7 input.sk-toggleable__control:checked~div.sk-toggleable__content {max-height: 200px;max-width: 100%;overflow: auto;}#sk-container-id-7 input.sk-toggleable__control:checked~label.sk-toggleable__label-arrow:before {content: \"▾\";}#sk-container-id-7 div.sk-estimator input.sk-toggleable__control:checked~label.sk-toggleable__label {background-color: #d4ebff;}#sk-container-id-7 div.sk-label input.sk-toggleable__control:checked~label.sk-toggleable__label {background-color: #d4ebff;}#sk-container-id-7 input.sk-hidden--visually {border: 0;clip: rect(1px 1px 1px 1px);clip: rect(1px, 1px, 1px, 1px);height: 1px;margin: -1px;overflow: hidden;padding: 0;position: absolute;width: 1px;}#sk-container-id-7 div.sk-estimator {font-family: monospace;background-color: #f0f8ff;border: 1px dotted black;border-radius: 0.25em;box-sizing: border-box;margin-bottom: 0.5em;}#sk-container-id-7 div.sk-estimator:hover {background-color: #d4ebff;}#sk-container-id-7 div.sk-parallel-item::after {content: \"\";width: 100%;border-bottom: 1px solid gray;flex-grow: 1;}#sk-container-id-7 div.sk-label:hover label.sk-toggleable__label {background-color: #d4ebff;}#sk-container-id-7 div.sk-serial::before {content: \"\";position: absolute;border-left: 1px solid gray;box-sizing: border-box;top: 0;bottom: 0;left: 50%;z-index: 0;}#sk-container-id-7 div.sk-serial {display: flex;flex-direction: column;align-items: center;background-color: white;padding-right: 0.2em;padding-left: 0.2em;position: relative;}#sk-container-id-7 div.sk-item {position: relative;z-index: 1;}#sk-container-id-7 div.sk-parallel {display: flex;align-items: stretch;justify-content: center;background-color: white;position: relative;}#sk-container-id-7 div.sk-item::before, #sk-container-id-7 div.sk-parallel-item::before {content: \"\";position: absolute;border-left: 1px solid gray;box-sizing: border-box;top: 0;bottom: 0;left: 50%;z-index: -1;}#sk-container-id-7 div.sk-parallel-item {display: flex;flex-direction: column;z-index: 1;position: relative;background-color: white;}#sk-container-id-7 div.sk-parallel-item:first-child::after {align-self: flex-end;width: 50%;}#sk-container-id-7 div.sk-parallel-item:last-child::after {align-self: flex-start;width: 50%;}#sk-container-id-7 div.sk-parallel-item:only-child::after {width: 0;}#sk-container-id-7 div.sk-dashed-wrapped {border: 1px dashed gray;margin: 0 0.4em 0.5em 0.4em;box-sizing: border-box;padding-bottom: 0.4em;background-color: white;}#sk-container-id-7 div.sk-label label {font-family: monospace;font-weight: bold;display: inline-block;line-height: 1.2em;}#sk-container-id-7 div.sk-label-container {text-align: center;}#sk-container-id-7 div.sk-container {/* jupyter's `normalize.less` sets `[hidden] { display: none; }` but bootstrap.min.css set `[hidden] { display: none !important; }` so we also need the `!important` here to be able to override the default hidden behavior on the sphinx rendered scikit-learn.org. See: https://github.com/scikit-learn/scikit-learn/issues/21755 */display: inline-block !important;position: relative;}#sk-container-id-7 div.sk-text-repr-fallback {display: none;}</style><div id=\"sk-container-id-7\" class=\"sk-top-container\"><div class=\"sk-text-repr-fallback\"><pre>Pipeline(steps=[(&#x27;RF_model&#x27;,\n",
              "                 RandomForestClassifier(class_weight=&#x27;balanced&#x27;,\n",
              "                                        random_state=101))])</pre><b>In a Jupyter environment, please rerun this cell to show the HTML representation or trust the notebook. <br />On GitHub, the HTML representation is unable to render, please try loading this page with nbviewer.org.</b></div><div class=\"sk-container\" hidden><div class=\"sk-item sk-dashed-wrapped\"><div class=\"sk-label-container\"><div class=\"sk-label sk-toggleable\"><input class=\"sk-toggleable__control sk-hidden--visually\" id=\"sk-estimator-id-21\" type=\"checkbox\" ><label for=\"sk-estimator-id-21\" class=\"sk-toggleable__label sk-toggleable__label-arrow\">Pipeline</label><div class=\"sk-toggleable__content\"><pre>Pipeline(steps=[(&#x27;RF_model&#x27;,\n",
              "                 RandomForestClassifier(class_weight=&#x27;balanced&#x27;,\n",
              "                                        random_state=101))])</pre></div></div></div><div class=\"sk-serial\"><div class=\"sk-item\"><div class=\"sk-estimator sk-toggleable\"><input class=\"sk-toggleable__control sk-hidden--visually\" id=\"sk-estimator-id-22\" type=\"checkbox\" ><label for=\"sk-estimator-id-22\" class=\"sk-toggleable__label sk-toggleable__label-arrow\">RandomForestClassifier</label><div class=\"sk-toggleable__content\"><pre>RandomForestClassifier(class_weight=&#x27;balanced&#x27;, random_state=101)</pre></div></div></div></div></div></div></div>"
            ],
            "text/plain": [
              "Pipeline(steps=[('RF_model',\n",
              "                 RandomForestClassifier(class_weight='balanced',\n",
              "                                        random_state=101))])"
            ]
          },
          "execution_count": 148,
          "metadata": {},
          "output_type": "execute_result"
        }
      ],
      "source": [
        "# import RF Classifier\n",
        "from sklearn.ensemble import RandomForestClassifier\n",
        "\n",
        "# define the operations for pipeline\n",
        "# tree-based algorithms do not need scaling\n",
        "# since the data is imbalanced: class_weight=\"balanced\"\n",
        "operations = [(\"RF_model\", RandomForestClassifier(class_weight=\"balanced\",random_state=101))]\n",
        "\n",
        "# build pipe model\n",
        "pipe_model = Pipeline(steps=operations)\n",
        "\n",
        "# fit the train data\n",
        "pipe_model.fit(X_train, y_train)"
      ]
    },
    {
      "cell_type": "markdown",
      "metadata": {
        "id": "GleDKVVBP5Pp"
      },
      "source": [
        "**Model Performance**"
      ]
    },
    {
      "cell_type": "code",
      "execution_count": null,
      "metadata": {
        "id": "bv2GEewvP5Pq"
      },
      "outputs": [],
      "source": [
        "from sklearn.metrics import confusion_matrix, classification_report,\\\n",
        "                            accuracy_score, recall_score, precision_score,\\\n",
        "                            f1_score\n",
        "\n",
        "def eval_metric(model, X_train, y_train, X_test, y_test):\n",
        "    y_train_pred = model.predict(X_train)\n",
        "    y_pred = model.predict(X_test)\n",
        "    \n",
        "    print(\"Test_Set\")\n",
        "    print(confusion_matrix(y_test, y_pred))\n",
        "    print(classification_report(y_test, y_pred))\n",
        "    print()\n",
        "    print(\"Train_Set\")\n",
        "    print(confusion_matrix(y_train, y_train_pred))\n",
        "    print(classification_report(y_train, y_train_pred))"
      ]
    },
    {
      "cell_type": "code",
      "execution_count": null,
      "metadata": {
        "id": "YhfDtEEEP5Pq",
        "outputId": "28e383b4-e513-434b-b332-7d534473091e"
      },
      "outputs": [
        {
          "name": "stdout",
          "output_type": "stream",
          "text": [
            "Test_Set\n",
            "[[752   0   5]\n",
            " [  9 230   2]\n",
            " [  3  10 122]]\n",
            "              precision    recall  f1-score   support\n",
            "\n",
            "           1       0.98      0.99      0.99       757\n",
            "           2       0.96      0.95      0.96       241\n",
            "           3       0.95      0.90      0.92       135\n",
            "\n",
            "    accuracy                           0.97      1133\n",
            "   macro avg       0.96      0.95      0.96      1133\n",
            "weighted avg       0.97      0.97      0.97      1133\n",
            "\n",
            "\n",
            "Train_Set\n",
            "[[3023    0    0]\n",
            " [   0  963    0]\n",
            " [   0    0  542]]\n",
            "              precision    recall  f1-score   support\n",
            "\n",
            "           1       1.00      1.00      1.00      3023\n",
            "           2       1.00      1.00      1.00       963\n",
            "           3       1.00      1.00      1.00       542\n",
            "\n",
            "    accuracy                           1.00      4528\n",
            "   macro avg       1.00      1.00      1.00      4528\n",
            "weighted avg       1.00      1.00      1.00      4528\n",
            "\n"
          ]
        }
      ],
      "source": [
        "eval_metric(pipe_model, X_train, y_train, X_test, y_test)\n",
        "\n",
        "# as seen the scores in the vanilla RF model for the train data are pretty high; however the model\n",
        "# performs very badly for the test data. Compared to the log reg and svm, recall scores of class 2 and class 3\n",
        "# have decreased. For example, for class 3, it can predict only 5 out of 136 correctly.\n",
        "# model is highly overfitted. It will be checked with cross val to be sure"
      ]
    },
    {
      "cell_type": "code",
      "execution_count": null,
      "metadata": {
        "id": "zq-Q6o6BP5Pq"
      },
      "outputs": [],
      "source": [
        "without SNR\n",
        "\n",
        "Test_Set\n",
        "[[747   9   2]\n",
        " [ 78 182   0]\n",
        " [120  11   5]]\n",
        "              precision    recall  f1-score   support\n",
        "\n",
        "           1       0.79      0.99      0.88       758\n",
        "           2       0.90      0.70      0.79       260\n",
        "           3       0.71      0.04      0.07       136\n",
        "\n",
        "    accuracy                           0.81      1154\n",
        "   macro avg       0.80      0.57      0.58      1154\n",
        "weighted avg       0.81      0.81      0.76      1154\n",
        "\n",
        "\n",
        "Train_Set\n",
        "[[3034    0    0]\n",
        " [   0 1038    0]\n",
        " [   0    0  543]]\n",
        "              precision    recall  f1-score   support\n",
        "\n",
        "           1       1.00      1.00      1.00      3034\n",
        "           2       1.00      1.00      1.00      1038\n",
        "           3       1.00      1.00      1.00       543\n",
        "\n",
        "    accuracy                           1.00      4615\n",
        "   macro avg       1.00      1.00      1.00      4615\n",
        "weighted avg       1.00      1.00      1.00      4615\n"
      ]
    },
    {
      "cell_type": "code",
      "execution_count": null,
      "metadata": {
        "id": "lIYq4DKLP5Pq",
        "outputId": "f810f22d-2292-446d-f4d6-7a535e817b28"
      },
      "outputs": [
        {
          "data": {
            "text/plain": [
              "test_accuracy            0.978578\n",
              "train_accuracy           1.000000\n",
              "test_precision_micro     0.978578\n",
              "train_precision_micro    1.000000\n",
              "test_recall_micro        0.978578\n",
              "train_recall_micro       1.000000\n",
              "test_f1_micro            0.978578\n",
              "train_f1_micro           1.000000\n",
              "dtype: float64"
            ]
          },
          "execution_count": 155,
          "metadata": {},
          "output_type": "execute_result"
        }
      ],
      "source": [
        "# cross validation\n",
        "operations = [(\"RF_model\", RandomForestClassifier(class_weight=\"balanced\",random_state=101))]\n",
        "\n",
        "model = Pipeline(steps=operations)\n",
        "\n",
        "scores = cross_validate(model, \n",
        "                        X_train, \n",
        "                        y_train, \n",
        "                        scoring=[\"accuracy\", \n",
        "                                 \"precision_micro\",\n",
        "                                 \"recall_micro\", \n",
        "                                 \"f1_micro\"], \n",
        "                        cv = 10,\n",
        "                        return_train_score=True)\n",
        "df_scores = pd.DataFrame(scores, index = range(1, 11))\n",
        "df_scores.mean()[2:]\n",
        "\n",
        "# model is highly overfitted."
      ]
    },
    {
      "cell_type": "code",
      "execution_count": null,
      "metadata": {
        "id": "15We0msdP5Pr"
      },
      "outputs": [],
      "source": [
        "without SNR\n",
        "\n",
        "test_accuracy            0.8026\n",
        "train_accuracy           1.0000\n",
        "test_precision_micro     0.8026\n",
        "train_precision_micro    1.0000\n",
        "test_recall_micro        0.8026\n",
        "train_recall_micro       1.0000\n",
        "test_f1_micro            0.8026\n",
        "train_f1_micro           1.0000\n",
        "dtype: float64"
      ]
    },
    {
      "cell_type": "code",
      "execution_count": null,
      "metadata": {
        "id": "Nhvn1dpyP5Pr"
      },
      "outputs": [],
      "source": [
        "# Model will be rebuilt by tuning the hyperparameteres to check if the scores can be improved"
      ]
    },
    {
      "cell_type": "markdown",
      "metadata": {
        "heading_collapsed": true,
        "hidden": true,
        "id": "MkLAZ_M41b7G"
      },
      "source": [
        "### RF Model GridsearchCV"
      ]
    },
    {
      "cell_type": "markdown",
      "metadata": {
        "id": "hpmPr3202EbD"
      },
      "source": [
        "Since the data is highly imbalanced and complex (with 98 features), the steps to tune the hyperparameters:\n",
        "\n",
        "- relatively higher max_depth to allow for complex model to capture the patterns in the data, \n",
        "- relatively higher number of trees in the forest (n_estimators) to improve the robustness of the model. \n",
        "- relatively higher min_samples_split to prevent overfitting on the minority class.\n",
        "- class_weight hyperparameter which can help the model to deal with class imbalance is set to 'balanced', 'balanced_subsample', and None to automatically adjust the weights inversely proportional to the class frequencies or sample frequencies respectively. \n"
      ]
    },
    {
      "cell_type": "code",
      "execution_count": null,
      "metadata": {
        "id": "T1GUGPdQP5Ps"
      },
      "outputs": [],
      "source": [
        "# they will be reset in line with the best estimators results below\n",
        "param_grid = {'n_estimators': [150,200],   # 200,300,400          \n",
        "              'max_features': [15, 20,  'sqrt'], # 5,10,15, sqrt\n",
        "              'max_depth': [10,15], # 5,10,15 # default None takes the model to overfitting. thus, manual values are set\n",
        "              'min_samples_split': [5,10],\n",
        "              'min_samples_leaf': [1,5], # 1,5,10\n",
        "              'class_weight': ['balanced', 'balanced_subsample', None]}"
      ]
    },
    {
      "cell_type": "code",
      "execution_count": null,
      "metadata": {
        "id": "5B0PwYfzP5Ps",
        "outputId": "adaba1f9-64f0-4279-f43c-5e87004477f4"
      },
      "outputs": [
        {
          "data": {
            "text/plain": [
              "DODRace\n",
              "1    3780\n",
              "2    1204\n",
              "3     677\n",
              "Name: count, dtype: int64"
            ]
          },
          "execution_count": 133,
          "metadata": {},
          "output_type": "execute_result"
        }
      ],
      "source": [
        "# values counts for each classes\n",
        "df.DODRace.value_counts()"
      ]
    },
    {
      "cell_type": "code",
      "execution_count": null,
      "metadata": {
        "id": "5CTVceAwP5Ps"
      },
      "outputs": [],
      "source": [
        "# how to set the class weights\n",
        "\n",
        "n_samples = [3792, 1298, 679]\n",
        "total_samples = sum(n_samples)\n",
        "class_weight_RF = {i: total_samples / (len(n_samples) * n_samples[i]) for i in range(len(n_samples))}"
      ]
    },
    {
      "cell_type": "code",
      "execution_count": null,
      "metadata": {
        "id": "oIkTWZFyP5Pt",
        "outputId": "cfca8ca1-3c93-4b11-f26c-642c3ee8e68d"
      },
      "outputs": [
        {
          "data": {
            "text/plain": [
              "{0: 0.507120253164557, 1: 1.4815100154083205, 2: 2.8321060382916055}"
            ]
          },
          "execution_count": 135,
          "metadata": {},
          "output_type": "execute_result"
        }
      ],
      "source": [
        "class_weight_RF"
      ]
    },
    {
      "cell_type": "code",
      "execution_count": null,
      "metadata": {
        "id": "ynpQRpM_P5Pt"
      },
      "outputs": [],
      "source": [
        "without SNR\n",
        "\n",
        "{0: 0.507120253164557, 1: 1.4815100154083205, 2: 2.8321060382916055}"
      ]
    },
    {
      "cell_type": "code",
      "execution_count": null,
      "metadata": {
        "scrolled": true,
        "tags": [],
        "id": "o25CW0kVP5Pt",
        "outputId": "5b55b0c3-a7a9-4c10-d492-f299e80cc427"
      },
      "outputs": [
        {
          "name": "stdout",
          "output_type": "stream",
          "text": [
            "Fitting 5 folds for each of 144 candidates, totalling 720 fits\n"
          ]
        }
      ],
      "source": [
        "# RF grid search for imbalanced multiclass data\n",
        "\n",
        "from sklearn.ensemble import RandomForestClassifier\n",
        "from sklearn.metrics import make_scorer\n",
        "from sklearn.metrics import precision_score, recall_score, accuracy_score, f1_score\n",
        "from sklearn.metrics import confusion_matrix, classification_report\n",
        "\n",
        "\n",
        "model = RandomForestClassifier(class_weight=class_weight_RF,\n",
        "                               random_state=101)\n",
        "scoring = {\n",
        "    'weighted_precision': make_scorer(precision_score, average='weighted', zero_division=0),\n",
        "    'weighted_recall': make_scorer(recall_score, average='weighted', zero_division=0),\n",
        "    'weighted_f1': make_scorer(f1_score, average='weighted', zero_division=0),\n",
        "    'macro_f1': make_scorer(f1_score, average='macro', zero_division=0)\n",
        "}\n",
        "\n",
        "rf_grid_model = GridSearchCV(model, \n",
        "                             param_grid, \n",
        "                             scoring=scoring,\n",
        "                             refit=\"weighted_recall\",\n",
        "                             n_jobs = -1, \n",
        "                             verbose=1).fit(X_train, y_train)"
      ]
    },
    {
      "cell_type": "code",
      "execution_count": null,
      "metadata": {
        "id": "9ShZHovSP5Pt",
        "outputId": "4454a364-6735-485b-e8f3-067b9034c081"
      },
      "outputs": [
        {
          "data": {
            "text/html": [
              "<style>#sk-container-id-8 {color: black;background-color: white;}#sk-container-id-8 pre{padding: 0;}#sk-container-id-8 div.sk-toggleable {background-color: white;}#sk-container-id-8 label.sk-toggleable__label {cursor: pointer;display: block;width: 100%;margin-bottom: 0;padding: 0.3em;box-sizing: border-box;text-align: center;}#sk-container-id-8 label.sk-toggleable__label-arrow:before {content: \"▸\";float: left;margin-right: 0.25em;color: #696969;}#sk-container-id-8 label.sk-toggleable__label-arrow:hover:before {color: black;}#sk-container-id-8 div.sk-estimator:hover label.sk-toggleable__label-arrow:before {color: black;}#sk-container-id-8 div.sk-toggleable__content {max-height: 0;max-width: 0;overflow: hidden;text-align: left;background-color: #f0f8ff;}#sk-container-id-8 div.sk-toggleable__content pre {margin: 0.2em;color: black;border-radius: 0.25em;background-color: #f0f8ff;}#sk-container-id-8 input.sk-toggleable__control:checked~div.sk-toggleable__content {max-height: 200px;max-width: 100%;overflow: auto;}#sk-container-id-8 input.sk-toggleable__control:checked~label.sk-toggleable__label-arrow:before {content: \"▾\";}#sk-container-id-8 div.sk-estimator input.sk-toggleable__control:checked~label.sk-toggleable__label {background-color: #d4ebff;}#sk-container-id-8 div.sk-label input.sk-toggleable__control:checked~label.sk-toggleable__label {background-color: #d4ebff;}#sk-container-id-8 input.sk-hidden--visually {border: 0;clip: rect(1px 1px 1px 1px);clip: rect(1px, 1px, 1px, 1px);height: 1px;margin: -1px;overflow: hidden;padding: 0;position: absolute;width: 1px;}#sk-container-id-8 div.sk-estimator {font-family: monospace;background-color: #f0f8ff;border: 1px dotted black;border-radius: 0.25em;box-sizing: border-box;margin-bottom: 0.5em;}#sk-container-id-8 div.sk-estimator:hover {background-color: #d4ebff;}#sk-container-id-8 div.sk-parallel-item::after {content: \"\";width: 100%;border-bottom: 1px solid gray;flex-grow: 1;}#sk-container-id-8 div.sk-label:hover label.sk-toggleable__label {background-color: #d4ebff;}#sk-container-id-8 div.sk-serial::before {content: \"\";position: absolute;border-left: 1px solid gray;box-sizing: border-box;top: 0;bottom: 0;left: 50%;z-index: 0;}#sk-container-id-8 div.sk-serial {display: flex;flex-direction: column;align-items: center;background-color: white;padding-right: 0.2em;padding-left: 0.2em;position: relative;}#sk-container-id-8 div.sk-item {position: relative;z-index: 1;}#sk-container-id-8 div.sk-parallel {display: flex;align-items: stretch;justify-content: center;background-color: white;position: relative;}#sk-container-id-8 div.sk-item::before, #sk-container-id-8 div.sk-parallel-item::before {content: \"\";position: absolute;border-left: 1px solid gray;box-sizing: border-box;top: 0;bottom: 0;left: 50%;z-index: -1;}#sk-container-id-8 div.sk-parallel-item {display: flex;flex-direction: column;z-index: 1;position: relative;background-color: white;}#sk-container-id-8 div.sk-parallel-item:first-child::after {align-self: flex-end;width: 50%;}#sk-container-id-8 div.sk-parallel-item:last-child::after {align-self: flex-start;width: 50%;}#sk-container-id-8 div.sk-parallel-item:only-child::after {width: 0;}#sk-container-id-8 div.sk-dashed-wrapped {border: 1px dashed gray;margin: 0 0.4em 0.5em 0.4em;box-sizing: border-box;padding-bottom: 0.4em;background-color: white;}#sk-container-id-8 div.sk-label label {font-family: monospace;font-weight: bold;display: inline-block;line-height: 1.2em;}#sk-container-id-8 div.sk-label-container {text-align: center;}#sk-container-id-8 div.sk-container {/* jupyter's `normalize.less` sets `[hidden] { display: none; }` but bootstrap.min.css set `[hidden] { display: none !important; }` so we also need the `!important` here to be able to override the default hidden behavior on the sphinx rendered scikit-learn.org. See: https://github.com/scikit-learn/scikit-learn/issues/21755 */display: inline-block !important;position: relative;}#sk-container-id-8 div.sk-text-repr-fallback {display: none;}</style><div id=\"sk-container-id-8\" class=\"sk-top-container\"><div class=\"sk-text-repr-fallback\"><pre>RandomForestClassifier(class_weight=&#x27;balanced&#x27;, max_depth=10, max_features=20,\n",
              "                       min_samples_split=5, n_estimators=150, random_state=101)</pre><b>In a Jupyter environment, please rerun this cell to show the HTML representation or trust the notebook. <br />On GitHub, the HTML representation is unable to render, please try loading this page with nbviewer.org.</b></div><div class=\"sk-container\" hidden><div class=\"sk-item\"><div class=\"sk-estimator sk-toggleable\"><input class=\"sk-toggleable__control sk-hidden--visually\" id=\"sk-estimator-id-23\" type=\"checkbox\" checked><label for=\"sk-estimator-id-23\" class=\"sk-toggleable__label sk-toggleable__label-arrow\">RandomForestClassifier</label><div class=\"sk-toggleable__content\"><pre>RandomForestClassifier(class_weight=&#x27;balanced&#x27;, max_depth=10, max_features=20,\n",
              "                       min_samples_split=5, n_estimators=150, random_state=101)</pre></div></div></div></div></div>"
            ],
            "text/plain": [
              "RandomForestClassifier(class_weight='balanced', max_depth=10, max_features=20,\n",
              "                       min_samples_split=5, n_estimators=150, random_state=101)"
            ]
          },
          "execution_count": 161,
          "metadata": {},
          "output_type": "execute_result"
        }
      ],
      "source": [
        "rf_grid_model.best_estimator_\n",
        "# first results\n",
        "# RandomForestClassifier(max_depth=10, max_features=15, min_samples_leaf=5,\n",
        "                       # min_samples_split=5, n_estimators=200, random_state=101)"
      ]
    },
    {
      "cell_type": "code",
      "execution_count": null,
      "metadata": {
        "id": "_CCX2QllP5Pu",
        "outputId": "432366b8-1391-4d00-ee5d-56bf2b149177"
      },
      "outputs": [
        {
          "data": {
            "text/plain": [
              "0.9960245386801313"
            ]
          },
          "execution_count": 162,
          "metadata": {},
          "output_type": "execute_result"
        }
      ],
      "source": [
        "rf_grid_model.best_score_"
      ]
    },
    {
      "cell_type": "code",
      "execution_count": null,
      "metadata": {
        "id": "e37BpxzZP5Pu"
      },
      "outputs": [],
      "source": [
        "without SNR\n",
        "0.8212351029252438"
      ]
    },
    {
      "cell_type": "code",
      "execution_count": null,
      "metadata": {
        "id": "C8PwN9u5P5Pu",
        "outputId": "7a5e69db-8c24-48bd-aa39-f5d8202037d8"
      },
      "outputs": [
        {
          "name": "stdout",
          "output_type": "stream",
          "text": [
            "Test_Set\n",
            "[[752   0   5]\n",
            " [  0 239   2]\n",
            " [  0   1 134]]\n",
            "              precision    recall  f1-score   support\n",
            "\n",
            "           1       1.00      0.99      1.00       757\n",
            "           2       1.00      0.99      0.99       241\n",
            "           3       0.95      0.99      0.97       135\n",
            "\n",
            "    accuracy                           0.99      1133\n",
            "   macro avg       0.98      0.99      0.99      1133\n",
            "weighted avg       0.99      0.99      0.99      1133\n",
            "\n",
            "\n",
            "Train_Set\n",
            "[[3019    0    4]\n",
            " [   1  962    0]\n",
            " [   0    0  542]]\n",
            "              precision    recall  f1-score   support\n",
            "\n",
            "           1       1.00      1.00      1.00      3023\n",
            "           2       1.00      1.00      1.00       963\n",
            "           3       0.99      1.00      1.00       542\n",
            "\n",
            "    accuracy                           1.00      4528\n",
            "   macro avg       1.00      1.00      1.00      4528\n",
            "weighted avg       1.00      1.00      1.00      4528\n",
            "\n"
          ]
        }
      ],
      "source": [
        "eval_metric(rf_grid_model, X_train, y_train, X_test, y_test)\n",
        "\n",
        "# despite the improvement in the scores compared to RF without gridsearch, the model is still highly overfitted and\n",
        "# performs very poorly for the 3rd class"
      ]
    },
    {
      "cell_type": "code",
      "execution_count": null,
      "metadata": {
        "id": "b27S3T4lP5Pu"
      },
      "outputs": [],
      "source": [
        "without SNR\n",
        "\n",
        "Test_Set\n",
        "[[735  20   3]\n",
        " [ 60 196   4]\n",
        " [114  14   8]]\n",
        "              precision    recall  f1-score   support\n",
        "\n",
        "           1       0.81      0.97      0.88       758\n",
        "           2       0.85      0.75      0.80       260\n",
        "           3       0.53      0.06      0.11       136\n",
        "\n",
        "    accuracy                           0.81      1154\n",
        "   macro avg       0.73      0.59      0.60      1154\n",
        "weighted avg       0.79      0.81      0.77      1154\n",
        "\n",
        "\n",
        "Train_Set\n",
        "[[3034    0    0]\n",
        " [  42  996    0]\n",
        " [ 173    7  363]]\n",
        "              precision    recall  f1-score   support\n",
        "\n",
        "           1       0.93      1.00      0.97      3034\n",
        "           2       0.99      0.96      0.98      1038\n",
        "           3       1.00      0.67      0.80       543\n",
        "\n",
        "    accuracy                           0.95      4615\n",
        "   macro avg       0.98      0.88      0.91      4615\n",
        "weighted avg       0.95      0.95      0.95      4615\n"
      ]
    },
    {
      "cell_type": "code",
      "execution_count": null,
      "metadata": {
        "id": "RcFzuIRiP5Pv",
        "outputId": "8f606913-d078-49c5-c202-366c9a9fffc9"
      },
      "outputs": [
        {
          "data": {
            "text/plain": [
              "test_weighted_precision     0.993008\n",
              "train_weighted_precision    0.996714\n",
              "test_weighted_recall        0.992933\n",
              "train_weighted_recall       0.996687\n",
              "test_weighted_f1            0.992911\n",
              "train_weighted_f1           0.996695\n",
              "test_macro_f1               0.987242\n",
              "train_macro_f1              0.994632\n",
              "dtype: float64"
            ]
          },
          "execution_count": 164,
          "metadata": {},
          "output_type": "execute_result"
        }
      ],
      "source": [
        "# cross val with best hyperparameter scores and overfitting check\n",
        "model = RandomForestClassifier(class_weight={1: 0.507120253164557, 2: 1.4815100154083205, 3: 2.8321060382916055}, \n",
        "                               # class_weight=class_weight_rf the labels are for class_weight_rf 0,1,2\n",
        "                               # but cross val asks for 1,2,3 label. thus they are entered manually\n",
        "                               max_depth=15, \n",
        "                               max_features=15,\n",
        "                               max_samples=0.8, \n",
        "                               min_samples_leaf=5, \n",
        "                               n_estimators=200,\n",
        "                               random_state=101)\n",
        "\n",
        "scores = cross_validate(model, \n",
        "                        X_train, \n",
        "                        y_train, \n",
        "                        scoring=scoring,\n",
        "                        cv=10, \n",
        "                        return_train_score=True)\n",
        "df_scores = pd.DataFrame(scores, index = range(1, 11))\n",
        "\n",
        "df_scores.mean()[2:]\n",
        "# highly overfitted"
      ]
    },
    {
      "cell_type": "code",
      "execution_count": null,
      "metadata": {
        "id": "6j1_TypxP5Pv"
      },
      "outputs": [],
      "source": [
        "Without SNR\n",
        "\n",
        "test_weighted_precision     0.796513\n",
        "train_weighted_precision    0.976517\n",
        "test_weighted_recall        0.818196\n",
        "train_weighted_recall       0.976478\n",
        "test_weighted_f1            0.797589\n",
        "train_weighted_f1           0.976464\n",
        "test_macro_f1               0.663047\n",
        "train_macro_f1              0.968388\n",
        "dtype: float64"
      ]
    },
    {
      "cell_type": "markdown",
      "metadata": {
        "id": "yrei7dkLP5Px"
      },
      "source": [
        "**ROC Curve and AUC**"
      ]
    },
    {
      "cell_type": "code",
      "execution_count": null,
      "metadata": {
        "id": "joi4vTrHP5Px",
        "outputId": "34c1db99-4f1b-429d-bbee-144d027c6e96"
      },
      "outputs": [
        {
          "data": {
            "image/png": "[encoded data removed]",
            "text/plain": [
              "<Figure size 800x550 with 1 Axes>"
            ]
          },
          "metadata": {},
          "output_type": "display_data"
        }
      ],
      "source": [
        "from scikitplot.metrics import plot_roc, precision_recall_curve\n",
        "\n",
        "y_pred_proba = rf_grid_model.predict_proba(X_test)\n",
        "    \n",
        "plot_roc(y_test, y_pred_proba)\n",
        "plt.show();\n",
        "\n",
        "# relatively poor results for class 3; model performs well for class 2 and 3"
      ]
    },
    {
      "cell_type": "markdown",
      "metadata": {
        "id": "rx1J9wfiP5Px"
      },
      "source": [
        "Without SNR\n",
        "![download.png](attachment:download.png)"
      ]
    },
    {
      "cell_type": "markdown",
      "metadata": {
        "id": "tnlRp0VEP5Px"
      },
      "source": [
        "**FEATURE IMPORTANCE WITH RF**"
      ]
    },
    {
      "cell_type": "code",
      "execution_count": null,
      "metadata": {
        "id": "ZpmGkpf1P5Py",
        "outputId": "db4fc672-a452-4d47-9af0-59d296d55746"
      },
      "outputs": [
        {
          "data": {
            "text/html": [
              "<style>#sk-container-id-9 {color: black;background-color: white;}#sk-container-id-9 pre{padding: 0;}#sk-container-id-9 div.sk-toggleable {background-color: white;}#sk-container-id-9 label.sk-toggleable__label {cursor: pointer;display: block;width: 100%;margin-bottom: 0;padding: 0.3em;box-sizing: border-box;text-align: center;}#sk-container-id-9 label.sk-toggleable__label-arrow:before {content: \"▸\";float: left;margin-right: 0.25em;color: #696969;}#sk-container-id-9 label.sk-toggleable__label-arrow:hover:before {color: black;}#sk-container-id-9 div.sk-estimator:hover label.sk-toggleable__label-arrow:before {color: black;}#sk-container-id-9 div.sk-toggleable__content {max-height: 0;max-width: 0;overflow: hidden;text-align: left;background-color: #f0f8ff;}#sk-container-id-9 div.sk-toggleable__content pre {margin: 0.2em;color: black;border-radius: 0.25em;background-color: #f0f8ff;}#sk-container-id-9 input.sk-toggleable__control:checked~div.sk-toggleable__content {max-height: 200px;max-width: 100%;overflow: auto;}#sk-container-id-9 input.sk-toggleable__control:checked~label.sk-toggleable__label-arrow:before {content: \"▾\";}#sk-container-id-9 div.sk-estimator input.sk-toggleable__control:checked~label.sk-toggleable__label {background-color: #d4ebff;}#sk-container-id-9 div.sk-label input.sk-toggleable__control:checked~label.sk-toggleable__label {background-color: #d4ebff;}#sk-container-id-9 input.sk-hidden--visually {border: 0;clip: rect(1px 1px 1px 1px);clip: rect(1px, 1px, 1px, 1px);height: 1px;margin: -1px;overflow: hidden;padding: 0;position: absolute;width: 1px;}#sk-container-id-9 div.sk-estimator {font-family: monospace;background-color: #f0f8ff;border: 1px dotted black;border-radius: 0.25em;box-sizing: border-box;margin-bottom: 0.5em;}#sk-container-id-9 div.sk-estimator:hover {background-color: #d4ebff;}#sk-container-id-9 div.sk-parallel-item::after {content: \"\";width: 100%;border-bottom: 1px solid gray;flex-grow: 1;}#sk-container-id-9 div.sk-label:hover label.sk-toggleable__label {background-color: #d4ebff;}#sk-container-id-9 div.sk-serial::before {content: \"\";position: absolute;border-left: 1px solid gray;box-sizing: border-box;top: 0;bottom: 0;left: 50%;z-index: 0;}#sk-container-id-9 div.sk-serial {display: flex;flex-direction: column;align-items: center;background-color: white;padding-right: 0.2em;padding-left: 0.2em;position: relative;}#sk-container-id-9 div.sk-item {position: relative;z-index: 1;}#sk-container-id-9 div.sk-parallel {display: flex;align-items: stretch;justify-content: center;background-color: white;position: relative;}#sk-container-id-9 div.sk-item::before, #sk-container-id-9 div.sk-parallel-item::before {content: \"\";position: absolute;border-left: 1px solid gray;box-sizing: border-box;top: 0;bottom: 0;left: 50%;z-index: -1;}#sk-container-id-9 div.sk-parallel-item {display: flex;flex-direction: column;z-index: 1;position: relative;background-color: white;}#sk-container-id-9 div.sk-parallel-item:first-child::after {align-self: flex-end;width: 50%;}#sk-container-id-9 div.sk-parallel-item:last-child::after {align-self: flex-start;width: 50%;}#sk-container-id-9 div.sk-parallel-item:only-child::after {width: 0;}#sk-container-id-9 div.sk-dashed-wrapped {border: 1px dashed gray;margin: 0 0.4em 0.5em 0.4em;box-sizing: border-box;padding-bottom: 0.4em;background-color: white;}#sk-container-id-9 div.sk-label label {font-family: monospace;font-weight: bold;display: inline-block;line-height: 1.2em;}#sk-container-id-9 div.sk-label-container {text-align: center;}#sk-container-id-9 div.sk-container {/* jupyter's `normalize.less` sets `[hidden] { display: none; }` but bootstrap.min.css set `[hidden] { display: none !important; }` so we also need the `!important` here to be able to override the default hidden behavior on the sphinx rendered scikit-learn.org. See: https://github.com/scikit-learn/scikit-learn/issues/21755 */display: inline-block !important;position: relative;}#sk-container-id-9 div.sk-text-repr-fallback {display: none;}</style><div id=\"sk-container-id-9\" class=\"sk-top-container\"><div class=\"sk-text-repr-fallback\"><pre>RandomForestClassifier(class_weight={1: 0.507120253164557,\n",
              "                                     2: 1.4815100154083205,\n",
              "                                     3: 2.8321060382916055},\n",
              "                       max_depth=15, max_features=15, max_samples=0.8,\n",
              "                       min_samples_leaf=5, n_estimators=200, random_state=101)</pre><b>In a Jupyter environment, please rerun this cell to show the HTML representation or trust the notebook. <br />On GitHub, the HTML representation is unable to render, please try loading this page with nbviewer.org.</b></div><div class=\"sk-container\" hidden><div class=\"sk-item\"><div class=\"sk-estimator sk-toggleable\"><input class=\"sk-toggleable__control sk-hidden--visually\" id=\"sk-estimator-id-24\" type=\"checkbox\" checked><label for=\"sk-estimator-id-24\" class=\"sk-toggleable__label sk-toggleable__label-arrow\">RandomForestClassifier</label><div class=\"sk-toggleable__content\"><pre>RandomForestClassifier(class_weight={1: 0.507120253164557,\n",
              "                                     2: 1.4815100154083205,\n",
              "                                     3: 2.8321060382916055},\n",
              "                       max_depth=15, max_features=15, max_samples=0.8,\n",
              "                       min_samples_leaf=5, n_estimators=200, random_state=101)</pre></div></div></div></div></div>"
            ],
            "text/plain": [
              "RandomForestClassifier(class_weight={1: 0.507120253164557,\n",
              "                                     2: 1.4815100154083205,\n",
              "                                     3: 2.8321060382916055},\n",
              "                       max_depth=15, max_features=15, max_samples=0.8,\n",
              "                       min_samples_leaf=5, n_estimators=200, random_state=101)"
            ]
          },
          "execution_count": 168,
          "metadata": {},
          "output_type": "execute_result"
        }
      ],
      "source": [
        "rf_grid_model = RandomForestClassifier(class_weight={1: 0.507120253164557, 2: 1.4815100154083205, 3: 2.8321060382916055}, \n",
        "                               max_depth=15, \n",
        "                               max_features=15,\n",
        "                               max_samples=0.8, \n",
        "                               min_samples_leaf=5, \n",
        "                               n_estimators=200,\n",
        "                               random_state=101)\n",
        "\n",
        "rf_grid_model.fit(X_train, y_train)\n",
        "\n",
        "# feature importance bulduğumuz en iyi hyper parametreleri kullanmamız gerektiğini unutmayalım"
      ]
    },
    {
      "cell_type": "code",
      "execution_count": null,
      "metadata": {
        "id": "pV3Z-ASzP5Py"
      },
      "outputs": [],
      "source": [
        "Without SNR\n",
        "\n",
        "RandomForestClassifier(class_weight={1: 0.507120253164557,\n",
        "                                     2: 1.4815100154083205,\n",
        "                                     3: 2.8321060382916055},\n",
        "                       max_depth=15, max_features=15, max_samples=0.8,\n",
        "                       min_samples_leaf=5, n_estimators=200, random_state=101)"
      ]
    },
    {
      "cell_type": "code",
      "execution_count": null,
      "metadata": {
        "id": "trNDCpxGP5Py"
      },
      "outputs": [],
      "source": [
        "rf_grid_model.feature_importances_"
      ]
    },
    {
      "cell_type": "code",
      "execution_count": null,
      "metadata": {
        "id": "CeyBGqocP5Py"
      },
      "outputs": [],
      "source": [
        "Without SNR\n",
        "\n",
        "array([0.00493295, 0.00661655, 0.00580278, 0.00811419, 0.00698262,\n",
        "       0.00486036, 0.00517863, 0.0051321 , 0.00741646, 0.03237707,\n",
        "       0.00594677, 0.0045215 , 0.02047304, 0.00818611, 0.0101234 ,\n",
        "       0.00582511, 0.00662112, 0.0165541 , 0.02933474, 0.03285978,\n",
        "       0.00647382, 0.00785091, 0.00822556, 0.00706047, 0.00538588,\n",
        "       0.00651932, 0.0106903 , 0.00702327, 0.00526062, 0.00415161,\n",
        "       0.01961066, 0.0137585 , 0.03853951, 0.04445912, 0.0046541 ,\n",
        "       0.00571462, 0.01495151, 0.00601061, 0.00559696, 0.01985917,\n",
        "       0.00531161, 0.0047632 , 0.00627242, 0.01876863, 0.00549228,\n",
        "       0.01667045, 0.00814072, 0.0052418 , 0.0289063 , 0.00614372,\n",
        "       0.00591451, 0.00949406, 0.03207882, 0.0060499 , 0.00533867,\n",
        "       0.00509157, 0.00453098, 0.00947274, 0.00917979, 0.00626586,\n",
        "       0.00779042, 0.00695348, 0.00569873, 0.00526231, 0.01470221,\n",
        "       0.0048291 , 0.01827685, 0.0064998 , 0.00725953, 0.00494069,\n",
        "       0.05027851, 0.00554898, 0.00472045, 0.00844967, 0.01162369,\n",
        "       0.00528658, 0.0071535 , 0.00974475, 0.00637118, 0.00660786,\n",
        "       0.00613823, 0.00638361, 0.01214447, 0.00705333, 0.01288305,\n",
        "       0.01469098, 0.00705005, 0.0048478 , 0.0077688 , 0.00910836,\n",
        "       0.00599475, 0.01589682, 0.00556853, 0.00695945, 0.00707608,\n",
        "       0.00365348])"
      ]
    },
    {
      "cell_type": "code",
      "execution_count": null,
      "metadata": {
        "scrolled": true,
        "tags": [],
        "id": "FYVgKO7wP5Py"
      },
      "outputs": [],
      "source": [
        "# get the feature names from X(independent features) and assign them together with the coefficients\n",
        "# to a dataframe \n",
        "\n",
        "df_f_i = pd.DataFrame(data=rf_grid_model.feature_importances_, \n",
        "                      index=X.columns,\n",
        "                      columns=[\"Feature Importance\"])\n",
        "\n",
        "# sort the features according to their importance for the Target\n",
        "df_f_i = df_f_i.sort_values(\"Feature Importance\", ascending=False)\n",
        "df_f_i\n"
      ]
    },
    {
      "cell_type": "code",
      "execution_count": null,
      "metadata": {
        "id": "f37ny1j_P5Pz"
      },
      "outputs": [],
      "source": [
        "Without SNR\n",
        "\n",
        "\n",
        "\tFeature Importance\n",
        "sittingheight\t0.050279\n",
        "eyeheightsitting\t0.044459\n",
        "elbowrestheight\t0.038540\n",
        "buttockpopliteallength\t0.032860\n",
        "bicristalbreadth\t0.032377\n",
        "interpupillarybreadth\t0.032079\n",
        "buttockkneelength\t0.029335\n",
        "heelbreadth\t0.028906\n",
        "bitragionchinarc\t0.020473\n",
        "forearmhandlength\t0.019859\n",
        "earlength\t0.019611\n",
        "handlength\t0.018769\n",
        "radialestylionlength\t0.018277\n",
        "headcircumference\t0.016670\n",
        "buttockheight\t0.016554\n",
        "wristheight\t0.015897\n",
        "forearmcenterofgriplength\t0.014952\n",
        "palmlength\t0.014702\n",
        "waistbreadth\t0.014691\n",
        "earprotrusion\t0.013758\n",
        "waistbacklength\t0.012883\n",
        "trochanterionheight\t0.012144\n",
        "stature\t0.011624\n",
        "crotchheight\t0.010690\n",
        "bizygomaticbreadth\t0.010123\n",
        "thighcircumference\t0.009745\n",
        "iliocristaleheight\t0.009494\n",
        "lateralfemoralepicondyleheight\t0.009473\n",
        "lateralmalleolusheight\t0.009180\n",
        "waistheightomphalion\t0.009108\n",
        "span\t0.008450\n",
        "chestbreadth\t0.008226\n",
        "bitragionsubmandibulararc\t0.008186\n",
        "headlength\t0.008141\n",
        "anklecircumference\t0.008114\n",
        "cervicaleheight\t0.007851\n",
        "mentonsellionlength\t0.007790\n",
        "waistfrontlengthsitting\t0.007769\n",
        "bicepscircumferenceflexed\t0.007416\n",
        "shoulderelbowlength\t0.007260\n",
        "tenthribheight\t0.007154\n",
        "Heightin\t0.007076\n",
        "chestcircumference\t0.007060\n",
        "verticaltrunkcircumferenceusa\t0.007053\n",
        "waistcircumference\t0.007050\n",
        "crotchlengthomphalion\t0.007023\n",
        "axillaheight\t0.006983\n",
        "Age\t0.006959\n",
        "neckcircumference\t0.006953\n",
        "buttockdepth\t0.006621\n",
        "acromialheight\t0.006617\n",
        "thumbtipreach\t0.006608\n",
        "chestheight\t0.006519\n",
        "shouldercircumference\t0.006500\n",
        "calfcircumference\t0.006474\n",
        "tragiontopofhead\t0.006384\n",
        "thighclearance\t0.006371\n",
        "handcircumference\t0.006272\n",
        "lowerthighcircumference\t0.006266\n",
        "hipbreadth\t0.006144\n",
        "tibialheight\t0.006138\n",
        "interscyei\t0.006050\n",
        "forearmcircumferenceflexed\t0.006011\n",
        "wristcircumference\t0.005995\n",
        "bideltoidbreadth\t0.005947\n",
        "hipbreadthsitting\t0.005915\n",
        "buttockcircumference\t0.005825\n",
        "acromionradialelength\t0.005803\n",
        "footlength\t0.005715\n",
        "neckcircumferencebase\t0.005699\n",
        "forearmforearmbreadth\t0.005597\n",
        "Gender\t0.005569\n",
        "sleevelengthspinewrist\t0.005549\n",
        "headbreadth\t0.005492\n",
        "chestdepth\t0.005386\n",
        "interscyeii\t0.005339\n",
        "functionalleglength\t0.005312\n",
        "suprasternaleheight\t0.005287\n",
        "overheadfingertipreachsitting\t0.005262\n",
        "crotchlengthposterioromphalion\t0.005261\n",
        "heelanklecircumference\t0.005242\n",
        "balloffootlength\t0.005179\n",
        "biacromialbreadth\t0.005132\n",
        "kneeheightmidpatella\t0.005092\n",
        "shoulderlength\t0.004941\n",
        "abdominalextensiondepthsitting\t0.004933\n",
        "balloffootcircumference\t0.004860\n",
        "waistdepth\t0.004848\n",
        "poplitealheight\t0.004829\n",
        "handbreadth\t0.004763\n",
        "sleeveoutseam\t0.004720\n",
        "footbreadthhorizontal\t0.004654\n",
        "kneeheightsitting\t0.004531\n",
        "bimalleolarbreadth\t0.004521\n",
        "earbreadth\t0.004152\n",
        "Weightlbs\t0.003653"
      ]
    },
    {
      "cell_type": "code",
      "execution_count": null,
      "metadata": {
        "id": "7HDM2oUyP5Pz",
        "outputId": "ddd60f87-fe02-4acb-e37c-5958652fdced"
      },
      "outputs": [
        {
          "ename": "NameError",
          "evalue": "name 'df_f_i' is not defined",
          "output_type": "error",
          "traceback": [
            "\u001b[1;31m---------------------------------------------------------------------------\u001b[0m",
            "\u001b[1;31mNameError\u001b[0m                                 Traceback (most recent call last)",
            "Cell \u001b[1;32mIn[131], line 3\u001b[0m\n\u001b[0;32m      1\u001b[0m \u001b[38;5;66;03m# visualize the feature importance\u001b[39;00m\n\u001b[0;32m      2\u001b[0m plt\u001b[38;5;241m.\u001b[39mfigure(figsize\u001b[38;5;241m=\u001b[39m(\u001b[38;5;241m12\u001b[39m,\u001b[38;5;241m20\u001b[39m))\n\u001b[1;32m----> 3\u001b[0m ax \u001b[38;5;241m=\u001b[39msns\u001b[38;5;241m.\u001b[39mbarplot(y \u001b[38;5;241m=\u001b[39m \u001b[43mdf_f_i\u001b[49m\u001b[38;5;241m.\u001b[39mindex, \n\u001b[0;32m      4\u001b[0m                 x \u001b[38;5;241m=\u001b[39m \u001b[38;5;124m'\u001b[39m\u001b[38;5;124mFeature Importance\u001b[39m\u001b[38;5;124m'\u001b[39m, \n\u001b[0;32m      5\u001b[0m                 data \u001b[38;5;241m=\u001b[39m df_f_i)\n\u001b[0;32m      6\u001b[0m ax\u001b[38;5;241m.\u001b[39mbar_label(ax\u001b[38;5;241m.\u001b[39mcontainers[\u001b[38;5;241m0\u001b[39m],fmt\u001b[38;5;241m=\u001b[39m\u001b[38;5;124m\"\u001b[39m\u001b[38;5;132;01m%.3f\u001b[39;00m\u001b[38;5;124m\"\u001b[39m)\n\u001b[0;32m      7\u001b[0m plt\u001b[38;5;241m.\u001b[39mxticks(rotation \u001b[38;5;241m=\u001b[39m \u001b[38;5;241m90\u001b[39m)\n",
            "\u001b[1;31mNameError\u001b[0m: name 'df_f_i' is not defined"
          ]
        },
        {
          "data": {
            "text/plain": [
              "<Figure size 1200x2000 with 0 Axes>"
            ]
          },
          "metadata": {},
          "output_type": "display_data"
        }
      ],
      "source": [
        "# visualize the feature importance\n",
        "plt.figure(figsize=(12,20))\n",
        "ax =sns.barplot(y = df_f_i.index, \n",
        "                x = 'Feature Importance', \n",
        "                data = df_f_i)\n",
        "ax.bar_label(ax.containers[0],fmt=\"%.3f\")\n",
        "plt.xticks(rotation = 90)\n",
        "plt.tight_layout()"
      ]
    },
    {
      "cell_type": "markdown",
      "metadata": {
        "id": "x_vB0A1PP5Pz"
      },
      "source": [
        "Without SNR\n",
        "\n",
        "![image.png](attachment:image.png)"
      ]
    },
    {
      "cell_type": "markdown",
      "metadata": {
        "heading_collapsed": true,
        "hidden": true,
        "id": "PvcPc4V81b7H"
      },
      "source": [
        "## 4. XGBoost"
      ]
    },
    {
      "cell_type": "code",
      "execution_count": null,
      "metadata": {
        "id": "TXBUwqktP5P0"
      },
      "outputs": [],
      "source": [
        "X=df.drop([\"DODRace\"], axis=1)\n",
        "y=df[\"DODRace\"]\n",
        "from sklearn.model_selection import train_test_split\n",
        "X_train, X_test, y_train, y_test = train_test_split(X, y, test_size=0.20, stratify=y, random_state=42)"
      ]
    },
    {
      "cell_type": "code",
      "execution_count": null,
      "metadata": {
        "id": "pHKL7dtpP5P0",
        "outputId": "6fca7241-c148-4df1-bca4-570b5fc5b589"
      },
      "outputs": [
        {
          "data": {
            "text/plain": [
              "'1.7.3'"
            ]
          },
          "execution_count": 158,
          "metadata": {},
          "output_type": "execute_result"
        }
      ],
      "source": [
        "import xgboost as xgb\n",
        "\n",
        "xgb.__version__"
      ]
    },
    {
      "cell_type": "code",
      "execution_count": null,
      "metadata": {
        "id": "Nfi1aa152HbR"
      },
      "outputs": [],
      "source": [
        "from xgboost import XGBClassifier"
      ]
    },
    {
      "cell_type": "code",
      "execution_count": null,
      "metadata": {
        "id": "tkAmuQjmP5P0"
      },
      "outputs": [],
      "source": []
    },
    {
      "cell_type": "code",
      "execution_count": null,
      "metadata": {
        "id": "FvUiwfrZP5P1",
        "outputId": "14161c95-2ed6-4ffc-fffd-2301b0e76587"
      },
      "outputs": [
        {
          "ename": "ValueError",
          "evalue": "Invalid classes inferred from unique values of `y`.  Expected: [0 1 2], got [1 2 3]",
          "output_type": "error",
          "traceback": [
            "\u001b[1;31m---------------------------------------------------------------------------\u001b[0m",
            "\u001b[1;31mValueError\u001b[0m                                Traceback (most recent call last)",
            "Cell \u001b[1;32mIn[154], line 2\u001b[0m\n\u001b[0;32m      1\u001b[0m xgb \u001b[38;5;241m=\u001b[39m XGBClassifier()\n\u001b[1;32m----> 2\u001b[0m \u001b[43mxgb\u001b[49m\u001b[38;5;241;43m.\u001b[39;49m\u001b[43mfit\u001b[49m\u001b[43m(\u001b[49m\u001b[43mX_train\u001b[49m\u001b[43m,\u001b[49m\u001b[43m \u001b[49m\u001b[43my_train\u001b[49m\u001b[43m)\u001b[49m\n",
            "File \u001b[1;32m~\\anaconda3_new\\lib\\site-packages\\xgboost\\core.py:620\u001b[0m, in \u001b[0;36mrequire_keyword_args.<locals>.throw_if.<locals>.inner_f\u001b[1;34m(*args, **kwargs)\u001b[0m\n\u001b[0;32m    618\u001b[0m \u001b[38;5;28;01mfor\u001b[39;00m k, arg \u001b[38;5;129;01min\u001b[39;00m \u001b[38;5;28mzip\u001b[39m(sig\u001b[38;5;241m.\u001b[39mparameters, args):\n\u001b[0;32m    619\u001b[0m     kwargs[k] \u001b[38;5;241m=\u001b[39m arg\n\u001b[1;32m--> 620\u001b[0m \u001b[38;5;28;01mreturn\u001b[39;00m func(\u001b[38;5;241m*\u001b[39m\u001b[38;5;241m*\u001b[39mkwargs)\n",
            "File \u001b[1;32m~\\anaconda3_new\\lib\\site-packages\\xgboost\\sklearn.py:1440\u001b[0m, in \u001b[0;36mXGBClassifier.fit\u001b[1;34m(self, X, y, sample_weight, base_margin, eval_set, eval_metric, early_stopping_rounds, verbose, xgb_model, sample_weight_eval_set, base_margin_eval_set, feature_weights, callbacks)\u001b[0m\n\u001b[0;32m   1435\u001b[0m     expected_classes \u001b[38;5;241m=\u001b[39m np\u001b[38;5;241m.\u001b[39marange(\u001b[38;5;28mself\u001b[39m\u001b[38;5;241m.\u001b[39mn_classes_)\n\u001b[0;32m   1436\u001b[0m \u001b[38;5;28;01mif\u001b[39;00m (\n\u001b[0;32m   1437\u001b[0m     \u001b[38;5;28mself\u001b[39m\u001b[38;5;241m.\u001b[39mclasses_\u001b[38;5;241m.\u001b[39mshape \u001b[38;5;241m!=\u001b[39m expected_classes\u001b[38;5;241m.\u001b[39mshape\n\u001b[0;32m   1438\u001b[0m     \u001b[38;5;129;01mor\u001b[39;00m \u001b[38;5;129;01mnot\u001b[39;00m (\u001b[38;5;28mself\u001b[39m\u001b[38;5;241m.\u001b[39mclasses_ \u001b[38;5;241m==\u001b[39m expected_classes)\u001b[38;5;241m.\u001b[39mall()\n\u001b[0;32m   1439\u001b[0m ):\n\u001b[1;32m-> 1440\u001b[0m     \u001b[38;5;28;01mraise\u001b[39;00m \u001b[38;5;167;01mValueError\u001b[39;00m(\n\u001b[0;32m   1441\u001b[0m         \u001b[38;5;124mf\u001b[39m\u001b[38;5;124m\"\u001b[39m\u001b[38;5;124mInvalid classes inferred from unique values of `y`.  \u001b[39m\u001b[38;5;124m\"\u001b[39m\n\u001b[0;32m   1442\u001b[0m         \u001b[38;5;124mf\u001b[39m\u001b[38;5;124m\"\u001b[39m\u001b[38;5;124mExpected: \u001b[39m\u001b[38;5;132;01m{\u001b[39;00mexpected_classes\u001b[38;5;132;01m}\u001b[39;00m\u001b[38;5;124m, got \u001b[39m\u001b[38;5;132;01m{\u001b[39;00m\u001b[38;5;28mself\u001b[39m\u001b[38;5;241m.\u001b[39mclasses_\u001b[38;5;132;01m}\u001b[39;00m\u001b[38;5;124m\"\u001b[39m\n\u001b[0;32m   1443\u001b[0m     )\n\u001b[0;32m   1445\u001b[0m params \u001b[38;5;241m=\u001b[39m \u001b[38;5;28mself\u001b[39m\u001b[38;5;241m.\u001b[39mget_xgb_params()\n\u001b[0;32m   1447\u001b[0m \u001b[38;5;28;01mif\u001b[39;00m callable(\u001b[38;5;28mself\u001b[39m\u001b[38;5;241m.\u001b[39mobjective):\n",
            "\u001b[1;31mValueError\u001b[0m: Invalid classes inferred from unique values of `y`.  Expected: [0 1 2], got [1 2 3]"
          ]
        }
      ],
      "source": [
        "xgb = XGBClassifier()\n",
        "xgb.fit(X_train, y_train)"
      ]
    },
    {
      "cell_type": "markdown",
      "metadata": {
        "id": "sjEQdIi4P5P1"
      },
      "source": [
        "**ChatGBT**\n",
        "\n",
        "- Bu hatanın nedeni, XGBClassifier'in beklediği sınıf etiketleri ile y_train veri kümesindeki etiketler arasında bir\n",
        "- uyumsuzluk olmasıdır. Hata mesajında gösterildiği gibi, model [0, 1, 2] etiketlerini beklerken, eğitim veri kümesindeki\n",
        "- etiketler [1, 2, 3] olarak belirlenmiştir.\n",
        "\n",
        "- Bu sorunu çözmek için, etiketleri modelin beklediği sınıf etiketlerine dönüştürmeniz gerekmektedir. Bu, etiketlerinizin 0 tabanlı olduğundan emin olmak için etiketlerinizden 1 çıkartarak yapılabilir. Hem y_train hem de y_test kümesini güncelleyin:\n",
        "\n",
        "y_train = y_train - 1\n",
        "y_test = y_test - 1\n",
        "\n",
        "- Daha sonra, XGBClassifier modelini tekrar eğitmeyi deneyin:\n",
        "\n",
        "xgb = XGBClassifier()\n",
        "xgb.fit(X_train, y_train)\n",
        "--> bunu almadim\n",
        "\n",
        "- Bu, etiketler arasındaki uyumsuzluğu çözmelidir ve modelin eğitimine devam etmelidir. Lütfen dikkat edin ki bu, etiketlerinizin zaten 0 tabanlı olduğu ve gerçekten 1, 2 ve 3 yerine 0, 1 ve 2 olarak etiketlenmeleri gerektiği varsayımına dayanmaktadır. Eğer etiketlerin 1, 2 ve 3 olması doğruysa, özelleştirilmiş bir hedef fonksiyonu kullanarak modelinizi eğitmeyi düşünebilirsiniz.\n",
        "\n",
        "\n",
        "\n",
        "**1, 2 ve 3 olması doğru**\n",
        "\n",
        "- Eğer etiketlerinizin 1, 2 ve 3 olarak kalması doğruysa, XGBClassifier'ın bu etiketlere uyum sağlaması için özel bir hedef fonksiyonu kullanabilirsiniz. Bu durumda, multi:softmax hedef fonksiyonunu kullanarak XGBClassifier'ı yapılandırabilir ve num_class parametresini etiket sayısına göre ayarlayabilirsiniz.\n",
        "\n",
        "- Öncelikle, XGBClassifier'ı şu şekilde yapılandırın:\n",
        "\n",
        "xgb = XGBClassifier(objective='multi:softmax', num_class=4)\n",
        "\n",
        "\n",
        "- Burada, objective parametresi olarak multi:softmax kullanılmış ve num_class parametresi 4 olarak ayarlanmıştır. Bu, XGBClassifier'ın 4 sınıfı (0, 1, 2 ve 3) desteklemesi için modeli yapılandırmalıdır.\n",
        "\n",
        "- Daha sonra, modeli eğitmeye devam edin:\n",
        "\n",
        "xgb.fit(X_train, y_train)\n",
        "\n",
        "- Bu şekilde, modelinizi 1, 2 ve 3 etiketlerini kullanarak eğitebilirsiniz ve bu hedef fonksiyonu, modelinizin bu özel durumu ele almasına yardımcı olacaktır.\n",
        "\n",
        "- Lütfen dikkat edin ki bu, etiketlerinizin gerçekten 1, 2 ve 3 olarak kalmaları gerektiği varsayımına dayanmaktadır.\n"
      ]
    },
    {
      "cell_type": "code",
      "execution_count": null,
      "metadata": {
        "id": "9ge4-GSUP5P1"
      },
      "outputs": [],
      "source": [
        "y_train = y_train - 1\n",
        "y_test = y_test - 1"
      ]
    },
    {
      "cell_type": "markdown",
      "metadata": {
        "heading_collapsed": true,
        "hidden": true,
        "id": "MuxxUFoW1b7H"
      },
      "source": [
        "### Vanilla XGBoost Model"
      ]
    },
    {
      "cell_type": "code",
      "execution_count": null,
      "metadata": {
        "id": "SIAFWWA3P5P1"
      },
      "outputs": [],
      "source": [
        "from xgboost import XGBClassifier"
      ]
    },
    {
      "cell_type": "code",
      "execution_count": null,
      "metadata": {
        "id": "tjh8KIRAP5P2",
        "outputId": "caa8df2c-3b8b-42ed-8c5f-23d9ef264357"
      },
      "outputs": [
        {
          "data": {
            "text/html": [
              "<style>#sk-container-id-2 {color: black;background-color: white;}#sk-container-id-2 pre{padding: 0;}#sk-container-id-2 div.sk-toggleable {background-color: white;}#sk-container-id-2 label.sk-toggleable__label {cursor: pointer;display: block;width: 100%;margin-bottom: 0;padding: 0.3em;box-sizing: border-box;text-align: center;}#sk-container-id-2 label.sk-toggleable__label-arrow:before {content: \"▸\";float: left;margin-right: 0.25em;color: #696969;}#sk-container-id-2 label.sk-toggleable__label-arrow:hover:before {color: black;}#sk-container-id-2 div.sk-estimator:hover label.sk-toggleable__label-arrow:before {color: black;}#sk-container-id-2 div.sk-toggleable__content {max-height: 0;max-width: 0;overflow: hidden;text-align: left;background-color: #f0f8ff;}#sk-container-id-2 div.sk-toggleable__content pre {margin: 0.2em;color: black;border-radius: 0.25em;background-color: #f0f8ff;}#sk-container-id-2 input.sk-toggleable__control:checked~div.sk-toggleable__content {max-height: 200px;max-width: 100%;overflow: auto;}#sk-container-id-2 input.sk-toggleable__control:checked~label.sk-toggleable__label-arrow:before {content: \"▾\";}#sk-container-id-2 div.sk-estimator input.sk-toggleable__control:checked~label.sk-toggleable__label {background-color: #d4ebff;}#sk-container-id-2 div.sk-label input.sk-toggleable__control:checked~label.sk-toggleable__label {background-color: #d4ebff;}#sk-container-id-2 input.sk-hidden--visually {border: 0;clip: rect(1px 1px 1px 1px);clip: rect(1px, 1px, 1px, 1px);height: 1px;margin: -1px;overflow: hidden;padding: 0;position: absolute;width: 1px;}#sk-container-id-2 div.sk-estimator {font-family: monospace;background-color: #f0f8ff;border: 1px dotted black;border-radius: 0.25em;box-sizing: border-box;margin-bottom: 0.5em;}#sk-container-id-2 div.sk-estimator:hover {background-color: #d4ebff;}#sk-container-id-2 div.sk-parallel-item::after {content: \"\";width: 100%;border-bottom: 1px solid gray;flex-grow: 1;}#sk-container-id-2 div.sk-label:hover label.sk-toggleable__label {background-color: #d4ebff;}#sk-container-id-2 div.sk-serial::before {content: \"\";position: absolute;border-left: 1px solid gray;box-sizing: border-box;top: 0;bottom: 0;left: 50%;z-index: 0;}#sk-container-id-2 div.sk-serial {display: flex;flex-direction: column;align-items: center;background-color: white;padding-right: 0.2em;padding-left: 0.2em;position: relative;}#sk-container-id-2 div.sk-item {position: relative;z-index: 1;}#sk-container-id-2 div.sk-parallel {display: flex;align-items: stretch;justify-content: center;background-color: white;position: relative;}#sk-container-id-2 div.sk-item::before, #sk-container-id-2 div.sk-parallel-item::before {content: \"\";position: absolute;border-left: 1px solid gray;box-sizing: border-box;top: 0;bottom: 0;left: 50%;z-index: -1;}#sk-container-id-2 div.sk-parallel-item {display: flex;flex-direction: column;z-index: 1;position: relative;background-color: white;}#sk-container-id-2 div.sk-parallel-item:first-child::after {align-self: flex-end;width: 50%;}#sk-container-id-2 div.sk-parallel-item:last-child::after {align-self: flex-start;width: 50%;}#sk-container-id-2 div.sk-parallel-item:only-child::after {width: 0;}#sk-container-id-2 div.sk-dashed-wrapped {border: 1px dashed gray;margin: 0 0.4em 0.5em 0.4em;box-sizing: border-box;padding-bottom: 0.4em;background-color: white;}#sk-container-id-2 div.sk-label label {font-family: monospace;font-weight: bold;display: inline-block;line-height: 1.2em;}#sk-container-id-2 div.sk-label-container {text-align: center;}#sk-container-id-2 div.sk-container {/* jupyter's `normalize.less` sets `[hidden] { display: none; }` but bootstrap.min.css set `[hidden] { display: none !important; }` so we also need the `!important` here to be able to override the default hidden behavior on the sphinx rendered scikit-learn.org. See: https://github.com/scikit-learn/scikit-learn/issues/21755 */display: inline-block !important;position: relative;}#sk-container-id-2 div.sk-text-repr-fallback {display: none;}</style><div id=\"sk-container-id-2\" class=\"sk-top-container\"><div class=\"sk-text-repr-fallback\"><pre>XGBClassifier(base_score=None, booster=None, callbacks=None,\n",
              "              colsample_bylevel=None, colsample_bynode=None,\n",
              "              colsample_bytree=None, early_stopping_rounds=None,\n",
              "              enable_categorical=False, eval_metric=None, feature_types=None,\n",
              "              gamma=None, gpu_id=None, grow_policy=None, importance_type=None,\n",
              "              interaction_constraints=None, learning_rate=None, max_bin=None,\n",
              "              max_cat_threshold=None, max_cat_to_onehot=None,\n",
              "              max_delta_step=None, max_depth=None, max_leaves=None,\n",
              "              min_child_weight=None, missing=nan, monotone_constraints=None,\n",
              "              n_estimators=100, n_jobs=None, num_parallel_tree=None,\n",
              "              objective=&#x27;multi:softprob&#x27;, predictor=None, ...)</pre><b>In a Jupyter environment, please rerun this cell to show the HTML representation or trust the notebook. <br />On GitHub, the HTML representation is unable to render, please try loading this page with nbviewer.org.</b></div><div class=\"sk-container\" hidden><div class=\"sk-item\"><div class=\"sk-estimator sk-toggleable\"><input class=\"sk-toggleable__control sk-hidden--visually\" id=\"sk-estimator-id-4\" type=\"checkbox\" checked><label for=\"sk-estimator-id-4\" class=\"sk-toggleable__label sk-toggleable__label-arrow\">XGBClassifier</label><div class=\"sk-toggleable__content\"><pre>XGBClassifier(base_score=None, booster=None, callbacks=None,\n",
              "              colsample_bylevel=None, colsample_bynode=None,\n",
              "              colsample_bytree=None, early_stopping_rounds=None,\n",
              "              enable_categorical=False, eval_metric=None, feature_types=None,\n",
              "              gamma=None, gpu_id=None, grow_policy=None, importance_type=None,\n",
              "              interaction_constraints=None, learning_rate=None, max_bin=None,\n",
              "              max_cat_threshold=None, max_cat_to_onehot=None,\n",
              "              max_delta_step=None, max_depth=None, max_leaves=None,\n",
              "              min_child_weight=None, missing=nan, monotone_constraints=None,\n",
              "              n_estimators=100, n_jobs=None, num_parallel_tree=None,\n",
              "              objective=&#x27;multi:softprob&#x27;, predictor=None, ...)</pre></div></div></div></div></div>"
            ],
            "text/plain": [
              "XGBClassifier(base_score=None, booster=None, callbacks=None,\n",
              "              colsample_bylevel=None, colsample_bynode=None,\n",
              "              colsample_bytree=None, early_stopping_rounds=None,\n",
              "              enable_categorical=False, eval_metric=None, feature_types=None,\n",
              "              gamma=None, gpu_id=None, grow_policy=None, importance_type=None,\n",
              "              interaction_constraints=None, learning_rate=None, max_bin=None,\n",
              "              max_cat_threshold=None, max_cat_to_onehot=None,\n",
              "              max_delta_step=None, max_depth=None, max_leaves=None,\n",
              "              min_child_weight=None, missing=nan, monotone_constraints=None,\n",
              "              n_estimators=100, n_jobs=None, num_parallel_tree=None,\n",
              "              objective='multi:softprob', predictor=None, ...)"
            ]
          },
          "execution_count": 164,
          "metadata": {},
          "output_type": "execute_result"
        }
      ],
      "source": [
        "xgb = XGBClassifier()\n",
        "xgb.fit(X_train, y_train)"
      ]
    },
    {
      "cell_type": "code",
      "execution_count": null,
      "metadata": {
        "id": "jrjluoSuP5P2",
        "outputId": "e2e7a630-f525-407e-a910-06e1e1a567fe"
      },
      "outputs": [
        {
          "name": "stdout",
          "output_type": "stream",
          "text": [
            "Test_Set\n",
            "[[752   0   5]\n",
            " [  0 239   2]\n",
            " [  0   0 135]]\n",
            "              precision    recall  f1-score   support\n",
            "\n",
            "           0       1.00      0.99      1.00       757\n",
            "           1       1.00      0.99      1.00       241\n",
            "           2       0.95      1.00      0.97       135\n",
            "\n",
            "    accuracy                           0.99      1133\n",
            "   macro avg       0.98      1.00      0.99      1133\n",
            "weighted avg       0.99      0.99      0.99      1133\n",
            "\n",
            "\n",
            "Train_Set\n",
            "[[3023    0    0]\n",
            " [   0  963    0]\n",
            " [   0    0  542]]\n",
            "              precision    recall  f1-score   support\n",
            "\n",
            "           0       1.00      1.00      1.00      3023\n",
            "           1       1.00      1.00      1.00       963\n",
            "           2       1.00      1.00      1.00       542\n",
            "\n",
            "    accuracy                           1.00      4528\n",
            "   macro avg       1.00      1.00      1.00      4528\n",
            "weighted avg       1.00      1.00      1.00      4528\n",
            "\n"
          ]
        }
      ],
      "source": [
        "eval_metric(xgb, X_train, y_train, X_test, y_test)"
      ]
    },
    {
      "cell_type": "code",
      "execution_count": null,
      "metadata": {
        "id": "2t60or_KP5P2",
        "outputId": "cdfd135e-61c4-4e5a-f0f5-4edf16502741"
      },
      "outputs": [
        {
          "data": {
            "text/plain": [
              "test_accuracy      0.996245\n",
              "train_accuracy     1.000000\n",
              "test_precision          NaN\n",
              "train_precision         NaN\n",
              "test_recall             NaN\n",
              "train_recall            NaN\n",
              "test_f1                 NaN\n",
              "train_f1                NaN\n",
              "test_roc_auc            NaN\n",
              "train_roc_auc           NaN\n",
              "dtype: float64"
            ]
          },
          "execution_count": 166,
          "metadata": {},
          "output_type": "execute_result"
        }
      ],
      "source": [
        "model = XGBClassifier(random_state=42)\n",
        "\n",
        "scores = cross_validate(model,\n",
        "                        X_train, \n",
        "                        y_train, \n",
        "                        scoring=['accuracy', \n",
        "                                 'precision',\n",
        "                                 'recall',\n",
        "                                 'f1',\n",
        "                                 'roc_auc'],\n",
        "                        cv = 10, \n",
        "                        return_train_score=True)\n",
        "df_scores = pd.DataFrame(scores, index = range(1, 11))\n",
        "df_scores.mean()[2:]\n",
        "\n",
        "# fit fonksiyonu içerisinde tanımladığımız parametreyi CV içinde fit_params parametresinde belirtmemiz gerekiyor."
      ]
    },
    {
      "cell_type": "markdown",
      "metadata": {
        "heading_collapsed": true,
        "hidden": true,
        "id": "p3gH5QvE1b7I"
      },
      "source": [
        "### XGBoost Model GridsearchCV"
      ]
    },
    {
      "cell_type": "code",
      "execution_count": null,
      "metadata": {
        "id": "72E3Cmnm2KOE"
      },
      "outputs": [],
      "source": [
        "param_grid = {\"n_estimators\":[50, 100, 200],\n",
        "              'max_depth':[3,4,5], \n",
        "              \"learning_rate\": [0.1, 0.2],\n",
        "              \"subsample\":[0.5, 0.8, 1], \n",
        "              \"colsample_bytree\":[0.5,0.7, 1]}"
      ]
    },
    {
      "cell_type": "code",
      "execution_count": null,
      "metadata": {
        "id": "xAxyE7JaP5P3"
      },
      "outputs": [],
      "source": [
        "xgb_model = XGBClassifier(random_state=42) # default random_state=42"
      ]
    },
    {
      "cell_type": "code",
      "execution_count": null,
      "metadata": {
        "id": "16Zjo1MxP5P3",
        "outputId": "c9bbc231-a362-4318-9482-5ddd078b416d"
      },
      "outputs": [
        {
          "name": "stdout",
          "output_type": "stream",
          "text": [
            "Fitting 5 folds for each of 162 candidates, totalling 810 fits\n"
          ]
        },
        {
          "data": {
            "text/html": [
              "<style>#sk-container-id-3 {color: black;background-color: white;}#sk-container-id-3 pre{padding: 0;}#sk-container-id-3 div.sk-toggleable {background-color: white;}#sk-container-id-3 label.sk-toggleable__label {cursor: pointer;display: block;width: 100%;margin-bottom: 0;padding: 0.3em;box-sizing: border-box;text-align: center;}#sk-container-id-3 label.sk-toggleable__label-arrow:before {content: \"▸\";float: left;margin-right: 0.25em;color: #696969;}#sk-container-id-3 label.sk-toggleable__label-arrow:hover:before {color: black;}#sk-container-id-3 div.sk-estimator:hover label.sk-toggleable__label-arrow:before {color: black;}#sk-container-id-3 div.sk-toggleable__content {max-height: 0;max-width: 0;overflow: hidden;text-align: left;background-color: #f0f8ff;}#sk-container-id-3 div.sk-toggleable__content pre {margin: 0.2em;color: black;border-radius: 0.25em;background-color: #f0f8ff;}#sk-container-id-3 input.sk-toggleable__control:checked~div.sk-toggleable__content {max-height: 200px;max-width: 100%;overflow: auto;}#sk-container-id-3 input.sk-toggleable__control:checked~label.sk-toggleable__label-arrow:before {content: \"▾\";}#sk-container-id-3 div.sk-estimator input.sk-toggleable__control:checked~label.sk-toggleable__label {background-color: #d4ebff;}#sk-container-id-3 div.sk-label input.sk-toggleable__control:checked~label.sk-toggleable__label {background-color: #d4ebff;}#sk-container-id-3 input.sk-hidden--visually {border: 0;clip: rect(1px 1px 1px 1px);clip: rect(1px, 1px, 1px, 1px);height: 1px;margin: -1px;overflow: hidden;padding: 0;position: absolute;width: 1px;}#sk-container-id-3 div.sk-estimator {font-family: monospace;background-color: #f0f8ff;border: 1px dotted black;border-radius: 0.25em;box-sizing: border-box;margin-bottom: 0.5em;}#sk-container-id-3 div.sk-estimator:hover {background-color: #d4ebff;}#sk-container-id-3 div.sk-parallel-item::after {content: \"\";width: 100%;border-bottom: 1px solid gray;flex-grow: 1;}#sk-container-id-3 div.sk-label:hover label.sk-toggleable__label {background-color: #d4ebff;}#sk-container-id-3 div.sk-serial::before {content: \"\";position: absolute;border-left: 1px solid gray;box-sizing: border-box;top: 0;bottom: 0;left: 50%;z-index: 0;}#sk-container-id-3 div.sk-serial {display: flex;flex-direction: column;align-items: center;background-color: white;padding-right: 0.2em;padding-left: 0.2em;position: relative;}#sk-container-id-3 div.sk-item {position: relative;z-index: 1;}#sk-container-id-3 div.sk-parallel {display: flex;align-items: stretch;justify-content: center;background-color: white;position: relative;}#sk-container-id-3 div.sk-item::before, #sk-container-id-3 div.sk-parallel-item::before {content: \"\";position: absolute;border-left: 1px solid gray;box-sizing: border-box;top: 0;bottom: 0;left: 50%;z-index: -1;}#sk-container-id-3 div.sk-parallel-item {display: flex;flex-direction: column;z-index: 1;position: relative;background-color: white;}#sk-container-id-3 div.sk-parallel-item:first-child::after {align-self: flex-end;width: 50%;}#sk-container-id-3 div.sk-parallel-item:last-child::after {align-self: flex-start;width: 50%;}#sk-container-id-3 div.sk-parallel-item:only-child::after {width: 0;}#sk-container-id-3 div.sk-dashed-wrapped {border: 1px dashed gray;margin: 0 0.4em 0.5em 0.4em;box-sizing: border-box;padding-bottom: 0.4em;background-color: white;}#sk-container-id-3 div.sk-label label {font-family: monospace;font-weight: bold;display: inline-block;line-height: 1.2em;}#sk-container-id-3 div.sk-label-container {text-align: center;}#sk-container-id-3 div.sk-container {/* jupyter's `normalize.less` sets `[hidden] { display: none; }` but bootstrap.min.css set `[hidden] { display: none !important; }` so we also need the `!important` here to be able to override the default hidden behavior on the sphinx rendered scikit-learn.org. See: https://github.com/scikit-learn/scikit-learn/issues/21755 */display: inline-block !important;position: relative;}#sk-container-id-3 div.sk-text-repr-fallback {display: none;}</style><div id=\"sk-container-id-3\" class=\"sk-top-container\"><div class=\"sk-text-repr-fallback\"><pre>GridSearchCV(estimator=XGBClassifier(base_score=None, booster=None,\n",
              "                                     callbacks=None, colsample_bylevel=None,\n",
              "                                     colsample_bynode=None,\n",
              "                                     colsample_bytree=None,\n",
              "                                     early_stopping_rounds=None,\n",
              "                                     enable_categorical=False, eval_metric=None,\n",
              "                                     feature_types=None, gamma=None,\n",
              "                                     gpu_id=None, grow_policy=None,\n",
              "                                     importance_type=None,\n",
              "                                     interaction_constraints=None,\n",
              "                                     learning_rate=None, max_b...\n",
              "                                     max_leaves=None, min_child_weight=None,\n",
              "                                     missing=nan, monotone_constraints=None,\n",
              "                                     n_estimators=100, n_jobs=None,\n",
              "                                     num_parallel_tree=None, predictor=None,\n",
              "                                     random_state=42, ...),\n",
              "             n_jobs=-1,\n",
              "             param_grid={&#x27;colsample_bytree&#x27;: [0.5, 0.7, 1],\n",
              "                         &#x27;learning_rate&#x27;: [0.1, 0.2], &#x27;max_depth&#x27;: [3, 4, 5],\n",
              "                         &#x27;n_estimators&#x27;: [50, 100, 200],\n",
              "                         &#x27;subsample&#x27;: [0.5, 0.8, 1]},\n",
              "             return_train_score=True, scoring=&#x27;f1&#x27;, verbose=2)</pre><b>In a Jupyter environment, please rerun this cell to show the HTML representation or trust the notebook. <br />On GitHub, the HTML representation is unable to render, please try loading this page with nbviewer.org.</b></div><div class=\"sk-container\" hidden><div class=\"sk-item sk-dashed-wrapped\"><div class=\"sk-label-container\"><div class=\"sk-label sk-toggleable\"><input class=\"sk-toggleable__control sk-hidden--visually\" id=\"sk-estimator-id-5\" type=\"checkbox\" ><label for=\"sk-estimator-id-5\" class=\"sk-toggleable__label sk-toggleable__label-arrow\">GridSearchCV</label><div class=\"sk-toggleable__content\"><pre>GridSearchCV(estimator=XGBClassifier(base_score=None, booster=None,\n",
              "                                     callbacks=None, colsample_bylevel=None,\n",
              "                                     colsample_bynode=None,\n",
              "                                     colsample_bytree=None,\n",
              "                                     early_stopping_rounds=None,\n",
              "                                     enable_categorical=False, eval_metric=None,\n",
              "                                     feature_types=None, gamma=None,\n",
              "                                     gpu_id=None, grow_policy=None,\n",
              "                                     importance_type=None,\n",
              "                                     interaction_constraints=None,\n",
              "                                     learning_rate=None, max_b...\n",
              "                                     max_leaves=None, min_child_weight=None,\n",
              "                                     missing=nan, monotone_constraints=None,\n",
              "                                     n_estimators=100, n_jobs=None,\n",
              "                                     num_parallel_tree=None, predictor=None,\n",
              "                                     random_state=42, ...),\n",
              "             n_jobs=-1,\n",
              "             param_grid={&#x27;colsample_bytree&#x27;: [0.5, 0.7, 1],\n",
              "                         &#x27;learning_rate&#x27;: [0.1, 0.2], &#x27;max_depth&#x27;: [3, 4, 5],\n",
              "                         &#x27;n_estimators&#x27;: [50, 100, 200],\n",
              "                         &#x27;subsample&#x27;: [0.5, 0.8, 1]},\n",
              "             return_train_score=True, scoring=&#x27;f1&#x27;, verbose=2)</pre></div></div></div><div class=\"sk-parallel\"><div class=\"sk-parallel-item\"><div class=\"sk-item\"><div class=\"sk-label-container\"><div class=\"sk-label sk-toggleable\"><input class=\"sk-toggleable__control sk-hidden--visually\" id=\"sk-estimator-id-6\" type=\"checkbox\" ><label for=\"sk-estimator-id-6\" class=\"sk-toggleable__label sk-toggleable__label-arrow\">estimator: XGBClassifier</label><div class=\"sk-toggleable__content\"><pre>XGBClassifier(base_score=None, booster=None, callbacks=None,\n",
              "              colsample_bylevel=None, colsample_bynode=None,\n",
              "              colsample_bytree=None, early_stopping_rounds=None,\n",
              "              enable_categorical=False, eval_metric=None, feature_types=None,\n",
              "              gamma=None, gpu_id=None, grow_policy=None, importance_type=None,\n",
              "              interaction_constraints=None, learning_rate=None, max_bin=None,\n",
              "              max_cat_threshold=None, max_cat_to_onehot=None,\n",
              "              max_delta_step=None, max_depth=None, max_leaves=None,\n",
              "              min_child_weight=None, missing=nan, monotone_constraints=None,\n",
              "              n_estimators=100, n_jobs=None, num_parallel_tree=None,\n",
              "              predictor=None, random_state=42, ...)</pre></div></div></div><div class=\"sk-serial\"><div class=\"sk-item\"><div class=\"sk-estimator sk-toggleable\"><input class=\"sk-toggleable__control sk-hidden--visually\" id=\"sk-estimator-id-7\" type=\"checkbox\" ><label for=\"sk-estimator-id-7\" class=\"sk-toggleable__label sk-toggleable__label-arrow\">XGBClassifier</label><div class=\"sk-toggleable__content\"><pre>XGBClassifier(base_score=None, booster=None, callbacks=None,\n",
              "              colsample_bylevel=None, colsample_bynode=None,\n",
              "              colsample_bytree=None, early_stopping_rounds=None,\n",
              "              enable_categorical=False, eval_metric=None, feature_types=None,\n",
              "              gamma=None, gpu_id=None, grow_policy=None, importance_type=None,\n",
              "              interaction_constraints=None, learning_rate=None, max_bin=None,\n",
              "              max_cat_threshold=None, max_cat_to_onehot=None,\n",
              "              max_delta_step=None, max_depth=None, max_leaves=None,\n",
              "              min_child_weight=None, missing=nan, monotone_constraints=None,\n",
              "              n_estimators=100, n_jobs=None, num_parallel_tree=None,\n",
              "              predictor=None, random_state=42, ...)</pre></div></div></div></div></div></div></div></div></div></div>"
            ],
            "text/plain": [
              "GridSearchCV(estimator=XGBClassifier(base_score=None, booster=None,\n",
              "                                     callbacks=None, colsample_bylevel=None,\n",
              "                                     colsample_bynode=None,\n",
              "                                     colsample_bytree=None,\n",
              "                                     early_stopping_rounds=None,\n",
              "                                     enable_categorical=False, eval_metric=None,\n",
              "                                     feature_types=None, gamma=None,\n",
              "                                     gpu_id=None, grow_policy=None,\n",
              "                                     importance_type=None,\n",
              "                                     interaction_constraints=None,\n",
              "                                     learning_rate=None, max_b...\n",
              "                                     max_leaves=None, min_child_weight=None,\n",
              "                                     missing=nan, monotone_constraints=None,\n",
              "                                     n_estimators=100, n_jobs=None,\n",
              "                                     num_parallel_tree=None, predictor=None,\n",
              "                                     random_state=42, ...),\n",
              "             n_jobs=-1,\n",
              "             param_grid={'colsample_bytree': [0.5, 0.7, 1],\n",
              "                         'learning_rate': [0.1, 0.2], 'max_depth': [3, 4, 5],\n",
              "                         'n_estimators': [50, 100, 200],\n",
              "                         'subsample': [0.5, 0.8, 1]},\n",
              "             return_train_score=True, scoring='f1', verbose=2)"
            ]
          },
          "execution_count": 169,
          "metadata": {},
          "output_type": "execute_result"
        }
      ],
      "source": [
        "xgb_grid = GridSearchCV(xgb_model,\n",
        "                        param_grid, \n",
        "                        scoring=\"f1\",\n",
        "                        verbose=2,\n",
        "                        n_jobs=-1,\n",
        "                        return_train_score=True)\n",
        "\n",
        "xgb_grid.fit(X_train, y_train)"
      ]
    },
    {
      "cell_type": "code",
      "execution_count": null,
      "metadata": {
        "id": "PiiFz10VP5P3",
        "outputId": "54228456-5037-449b-ac81-cbcc248d3275"
      },
      "outputs": [
        {
          "data": {
            "text/plain": [
              "{'colsample_bytree': 0.5,\n",
              " 'learning_rate': 0.1,\n",
              " 'max_depth': 3,\n",
              " 'n_estimators': 50,\n",
              " 'subsample': 0.5}"
            ]
          },
          "execution_count": 170,
          "metadata": {},
          "output_type": "execute_result"
        }
      ],
      "source": [
        "xgb_grid.best_params_"
      ]
    },
    {
      "cell_type": "code",
      "execution_count": null,
      "metadata": {
        "id": "9RcNSnk5P5P4",
        "outputId": "cd03a0d8-de32-471a-ac95-f19a167841c4"
      },
      "outputs": [
        {
          "data": {
            "text/html": [
              "<style>#sk-container-id-4 {color: black;background-color: white;}#sk-container-id-4 pre{padding: 0;}#sk-container-id-4 div.sk-toggleable {background-color: white;}#sk-container-id-4 label.sk-toggleable__label {cursor: pointer;display: block;width: 100%;margin-bottom: 0;padding: 0.3em;box-sizing: border-box;text-align: center;}#sk-container-id-4 label.sk-toggleable__label-arrow:before {content: \"▸\";float: left;margin-right: 0.25em;color: #696969;}#sk-container-id-4 label.sk-toggleable__label-arrow:hover:before {color: black;}#sk-container-id-4 div.sk-estimator:hover label.sk-toggleable__label-arrow:before {color: black;}#sk-container-id-4 div.sk-toggleable__content {max-height: 0;max-width: 0;overflow: hidden;text-align: left;background-color: #f0f8ff;}#sk-container-id-4 div.sk-toggleable__content pre {margin: 0.2em;color: black;border-radius: 0.25em;background-color: #f0f8ff;}#sk-container-id-4 input.sk-toggleable__control:checked~div.sk-toggleable__content {max-height: 200px;max-width: 100%;overflow: auto;}#sk-container-id-4 input.sk-toggleable__control:checked~label.sk-toggleable__label-arrow:before {content: \"▾\";}#sk-container-id-4 div.sk-estimator input.sk-toggleable__control:checked~label.sk-toggleable__label {background-color: #d4ebff;}#sk-container-id-4 div.sk-label input.sk-toggleable__control:checked~label.sk-toggleable__label {background-color: #d4ebff;}#sk-container-id-4 input.sk-hidden--visually {border: 0;clip: rect(1px 1px 1px 1px);clip: rect(1px, 1px, 1px, 1px);height: 1px;margin: -1px;overflow: hidden;padding: 0;position: absolute;width: 1px;}#sk-container-id-4 div.sk-estimator {font-family: monospace;background-color: #f0f8ff;border: 1px dotted black;border-radius: 0.25em;box-sizing: border-box;margin-bottom: 0.5em;}#sk-container-id-4 div.sk-estimator:hover {background-color: #d4ebff;}#sk-container-id-4 div.sk-parallel-item::after {content: \"\";width: 100%;border-bottom: 1px solid gray;flex-grow: 1;}#sk-container-id-4 div.sk-label:hover label.sk-toggleable__label {background-color: #d4ebff;}#sk-container-id-4 div.sk-serial::before {content: \"\";position: absolute;border-left: 1px solid gray;box-sizing: border-box;top: 0;bottom: 0;left: 50%;z-index: 0;}#sk-container-id-4 div.sk-serial {display: flex;flex-direction: column;align-items: center;background-color: white;padding-right: 0.2em;padding-left: 0.2em;position: relative;}#sk-container-id-4 div.sk-item {position: relative;z-index: 1;}#sk-container-id-4 div.sk-parallel {display: flex;align-items: stretch;justify-content: center;background-color: white;position: relative;}#sk-container-id-4 div.sk-item::before, #sk-container-id-4 div.sk-parallel-item::before {content: \"\";position: absolute;border-left: 1px solid gray;box-sizing: border-box;top: 0;bottom: 0;left: 50%;z-index: -1;}#sk-container-id-4 div.sk-parallel-item {display: flex;flex-direction: column;z-index: 1;position: relative;background-color: white;}#sk-container-id-4 div.sk-parallel-item:first-child::after {align-self: flex-end;width: 50%;}#sk-container-id-4 div.sk-parallel-item:last-child::after {align-self: flex-start;width: 50%;}#sk-container-id-4 div.sk-parallel-item:only-child::after {width: 0;}#sk-container-id-4 div.sk-dashed-wrapped {border: 1px dashed gray;margin: 0 0.4em 0.5em 0.4em;box-sizing: border-box;padding-bottom: 0.4em;background-color: white;}#sk-container-id-4 div.sk-label label {font-family: monospace;font-weight: bold;display: inline-block;line-height: 1.2em;}#sk-container-id-4 div.sk-label-container {text-align: center;}#sk-container-id-4 div.sk-container {/* jupyter's `normalize.less` sets `[hidden] { display: none; }` but bootstrap.min.css set `[hidden] { display: none !important; }` so we also need the `!important` here to be able to override the default hidden behavior on the sphinx rendered scikit-learn.org. See: https://github.com/scikit-learn/scikit-learn/issues/21755 */display: inline-block !important;position: relative;}#sk-container-id-4 div.sk-text-repr-fallback {display: none;}</style><div id=\"sk-container-id-4\" class=\"sk-top-container\"><div class=\"sk-text-repr-fallback\"><pre>XGBClassifier(base_score=None, booster=None, callbacks=None,\n",
              "              colsample_bylevel=None, colsample_bynode=None,\n",
              "              colsample_bytree=0.5, early_stopping_rounds=None,\n",
              "              enable_categorical=False, eval_metric=None, feature_types=None,\n",
              "              gamma=None, gpu_id=None, grow_policy=None, importance_type=None,\n",
              "              interaction_constraints=None, learning_rate=0.1, max_bin=None,\n",
              "              max_cat_threshold=None, max_cat_to_onehot=None,\n",
              "              max_delta_step=None, max_depth=3, max_leaves=None,\n",
              "              min_child_weight=None, missing=nan, monotone_constraints=None,\n",
              "              n_estimators=50, n_jobs=None, num_parallel_tree=None,\n",
              "              objective=&#x27;multi:softprob&#x27;, predictor=None, ...)</pre><b>In a Jupyter environment, please rerun this cell to show the HTML representation or trust the notebook. <br />On GitHub, the HTML representation is unable to render, please try loading this page with nbviewer.org.</b></div><div class=\"sk-container\" hidden><div class=\"sk-item\"><div class=\"sk-estimator sk-toggleable\"><input class=\"sk-toggleable__control sk-hidden--visually\" id=\"sk-estimator-id-8\" type=\"checkbox\" checked><label for=\"sk-estimator-id-8\" class=\"sk-toggleable__label sk-toggleable__label-arrow\">XGBClassifier</label><div class=\"sk-toggleable__content\"><pre>XGBClassifier(base_score=None, booster=None, callbacks=None,\n",
              "              colsample_bylevel=None, colsample_bynode=None,\n",
              "              colsample_bytree=0.5, early_stopping_rounds=None,\n",
              "              enable_categorical=False, eval_metric=None, feature_types=None,\n",
              "              gamma=None, gpu_id=None, grow_policy=None, importance_type=None,\n",
              "              interaction_constraints=None, learning_rate=0.1, max_bin=None,\n",
              "              max_cat_threshold=None, max_cat_to_onehot=None,\n",
              "              max_delta_step=None, max_depth=3, max_leaves=None,\n",
              "              min_child_weight=None, missing=nan, monotone_constraints=None,\n",
              "              n_estimators=50, n_jobs=None, num_parallel_tree=None,\n",
              "              objective=&#x27;multi:softprob&#x27;, predictor=None, ...)</pre></div></div></div></div></div>"
            ],
            "text/plain": [
              "XGBClassifier(base_score=None, booster=None, callbacks=None,\n",
              "              colsample_bylevel=None, colsample_bynode=None,\n",
              "              colsample_bytree=0.5, early_stopping_rounds=None,\n",
              "              enable_categorical=False, eval_metric=None, feature_types=None,\n",
              "              gamma=None, gpu_id=None, grow_policy=None, importance_type=None,\n",
              "              interaction_constraints=None, learning_rate=0.1, max_bin=None,\n",
              "              max_cat_threshold=None, max_cat_to_onehot=None,\n",
              "              max_delta_step=None, max_depth=3, max_leaves=None,\n",
              "              min_child_weight=None, missing=nan, monotone_constraints=None,\n",
              "              n_estimators=50, n_jobs=None, num_parallel_tree=None,\n",
              "              objective='multi:softprob', predictor=None, ...)"
            ]
          },
          "execution_count": 171,
          "metadata": {},
          "output_type": "execute_result"
        }
      ],
      "source": [
        "xgb_grid.best_estimator_"
      ]
    },
    {
      "cell_type": "code",
      "execution_count": null,
      "metadata": {
        "id": "o7cMdIULP5P4",
        "outputId": "cece1f7b-d792-47ca-c05b-dcf92679478f"
      },
      "outputs": [
        {
          "data": {
            "text/plain": [
              "mean_test_score     NaN\n",
              "mean_train_score    NaN\n",
              "Name: 0, dtype: object"
            ]
          },
          "execution_count": 172,
          "metadata": {},
          "output_type": "execute_result"
        }
      ],
      "source": [
        "pd.DataFrame(xgb_grid.cv_results_).loc[xgb_grid.best_index_, [\"mean_test_score\", \"mean_train_score\"]]"
      ]
    },
    {
      "cell_type": "code",
      "execution_count": null,
      "metadata": {
        "id": "dDe8-BRXP5P4",
        "outputId": "b0540122-cd34-4678-c6ac-6b9d31e139ba"
      },
      "outputs": [
        {
          "ename": "ValueError",
          "evalue": "Target is multiclass but average='binary'. Please choose another average setting, one of [None, 'micro', 'macro', 'weighted'].",
          "output_type": "error",
          "traceback": [
            "\u001b[1;31m---------------------------------------------------------------------------\u001b[0m",
            "\u001b[1;31mValueError\u001b[0m                                Traceback (most recent call last)",
            "Cell \u001b[1;32mIn[173], line 4\u001b[0m\n\u001b[0;32m      1\u001b[0m y_pred \u001b[38;5;241m=\u001b[39m xgb_grid\u001b[38;5;241m.\u001b[39mpredict(X_test)\n\u001b[0;32m      2\u001b[0m y_pred_proba \u001b[38;5;241m=\u001b[39m xgb_grid\u001b[38;5;241m.\u001b[39mpredict_proba(X_test)\n\u001b[1;32m----> 4\u001b[0m xgb_f1 \u001b[38;5;241m=\u001b[39m \u001b[43mf1_score\u001b[49m\u001b[43m(\u001b[49m\u001b[43my_test\u001b[49m\u001b[43m,\u001b[49m\u001b[43m \u001b[49m\u001b[43my_pred\u001b[49m\u001b[43m)\u001b[49m\n\u001b[0;32m      5\u001b[0m xgb_recall \u001b[38;5;241m=\u001b[39m recall_score(y_test, y_pred)\n\u001b[0;32m      6\u001b[0m xgb_auc \u001b[38;5;241m=\u001b[39m roc_auc_score(y_test, y_pred_proba[:,\u001b[38;5;241m1\u001b[39m])\n",
            "File \u001b[1;32m~\\anaconda3_new\\lib\\site-packages\\sklearn\\metrics\\_classification.py:1146\u001b[0m, in \u001b[0;36mf1_score\u001b[1;34m(y_true, y_pred, labels, pos_label, average, sample_weight, zero_division)\u001b[0m\n\u001b[0;32m   1011\u001b[0m \u001b[38;5;28;01mdef\u001b[39;00m \u001b[38;5;21mf1_score\u001b[39m(\n\u001b[0;32m   1012\u001b[0m     y_true,\n\u001b[0;32m   1013\u001b[0m     y_pred,\n\u001b[1;32m   (...)\u001b[0m\n\u001b[0;32m   1019\u001b[0m     zero_division\u001b[38;5;241m=\u001b[39m\u001b[38;5;124m\"\u001b[39m\u001b[38;5;124mwarn\u001b[39m\u001b[38;5;124m\"\u001b[39m,\n\u001b[0;32m   1020\u001b[0m ):\n\u001b[0;32m   1021\u001b[0m     \u001b[38;5;124;03m\"\"\"Compute the F1 score, also known as balanced F-score or F-measure.\u001b[39;00m\n\u001b[0;32m   1022\u001b[0m \n\u001b[0;32m   1023\u001b[0m \u001b[38;5;124;03m    The F1 score can be interpreted as a harmonic mean of the precision and\u001b[39;00m\n\u001b[1;32m   (...)\u001b[0m\n\u001b[0;32m   1144\u001b[0m \u001b[38;5;124;03m    array([0.66666667, 1.        , 0.66666667])\u001b[39;00m\n\u001b[0;32m   1145\u001b[0m \u001b[38;5;124;03m    \"\"\"\u001b[39;00m\n\u001b[1;32m-> 1146\u001b[0m     \u001b[38;5;28;01mreturn\u001b[39;00m \u001b[43mfbeta_score\u001b[49m\u001b[43m(\u001b[49m\n\u001b[0;32m   1147\u001b[0m \u001b[43m        \u001b[49m\u001b[43my_true\u001b[49m\u001b[43m,\u001b[49m\n\u001b[0;32m   1148\u001b[0m \u001b[43m        \u001b[49m\u001b[43my_pred\u001b[49m\u001b[43m,\u001b[49m\n\u001b[0;32m   1149\u001b[0m \u001b[43m        \u001b[49m\u001b[43mbeta\u001b[49m\u001b[38;5;241;43m=\u001b[39;49m\u001b[38;5;241;43m1\u001b[39;49m\u001b[43m,\u001b[49m\n\u001b[0;32m   1150\u001b[0m \u001b[43m        \u001b[49m\u001b[43mlabels\u001b[49m\u001b[38;5;241;43m=\u001b[39;49m\u001b[43mlabels\u001b[49m\u001b[43m,\u001b[49m\n\u001b[0;32m   1151\u001b[0m \u001b[43m        \u001b[49m\u001b[43mpos_label\u001b[49m\u001b[38;5;241;43m=\u001b[39;49m\u001b[43mpos_label\u001b[49m\u001b[43m,\u001b[49m\n\u001b[0;32m   1152\u001b[0m \u001b[43m        \u001b[49m\u001b[43maverage\u001b[49m\u001b[38;5;241;43m=\u001b[39;49m\u001b[43maverage\u001b[49m\u001b[43m,\u001b[49m\n\u001b[0;32m   1153\u001b[0m \u001b[43m        \u001b[49m\u001b[43msample_weight\u001b[49m\u001b[38;5;241;43m=\u001b[39;49m\u001b[43msample_weight\u001b[49m\u001b[43m,\u001b[49m\n\u001b[0;32m   1154\u001b[0m \u001b[43m        \u001b[49m\u001b[43mzero_division\u001b[49m\u001b[38;5;241;43m=\u001b[39;49m\u001b[43mzero_division\u001b[49m\u001b[43m,\u001b[49m\n\u001b[0;32m   1155\u001b[0m \u001b[43m    \u001b[49m\u001b[43m)\u001b[49m\n",
            "File \u001b[1;32m~\\anaconda3_new\\lib\\site-packages\\sklearn\\metrics\\_classification.py:1287\u001b[0m, in \u001b[0;36mfbeta_score\u001b[1;34m(y_true, y_pred, beta, labels, pos_label, average, sample_weight, zero_division)\u001b[0m\n\u001b[0;32m   1158\u001b[0m \u001b[38;5;28;01mdef\u001b[39;00m \u001b[38;5;21mfbeta_score\u001b[39m(\n\u001b[0;32m   1159\u001b[0m     y_true,\n\u001b[0;32m   1160\u001b[0m     y_pred,\n\u001b[1;32m   (...)\u001b[0m\n\u001b[0;32m   1167\u001b[0m     zero_division\u001b[38;5;241m=\u001b[39m\u001b[38;5;124m\"\u001b[39m\u001b[38;5;124mwarn\u001b[39m\u001b[38;5;124m\"\u001b[39m,\n\u001b[0;32m   1168\u001b[0m ):\n\u001b[0;32m   1169\u001b[0m     \u001b[38;5;124;03m\"\"\"Compute the F-beta score.\u001b[39;00m\n\u001b[0;32m   1170\u001b[0m \n\u001b[0;32m   1171\u001b[0m \u001b[38;5;124;03m    The F-beta score is the weighted harmonic mean of precision and recall,\u001b[39;00m\n\u001b[1;32m   (...)\u001b[0m\n\u001b[0;32m   1284\u001b[0m \u001b[38;5;124;03m    array([0.71..., 0.        , 0.        ])\u001b[39;00m\n\u001b[0;32m   1285\u001b[0m \u001b[38;5;124;03m    \"\"\"\u001b[39;00m\n\u001b[1;32m-> 1287\u001b[0m     _, _, f, _ \u001b[38;5;241m=\u001b[39m \u001b[43mprecision_recall_fscore_support\u001b[49m\u001b[43m(\u001b[49m\n\u001b[0;32m   1288\u001b[0m \u001b[43m        \u001b[49m\u001b[43my_true\u001b[49m\u001b[43m,\u001b[49m\n\u001b[0;32m   1289\u001b[0m \u001b[43m        \u001b[49m\u001b[43my_pred\u001b[49m\u001b[43m,\u001b[49m\n\u001b[0;32m   1290\u001b[0m \u001b[43m        \u001b[49m\u001b[43mbeta\u001b[49m\u001b[38;5;241;43m=\u001b[39;49m\u001b[43mbeta\u001b[49m\u001b[43m,\u001b[49m\n\u001b[0;32m   1291\u001b[0m \u001b[43m        \u001b[49m\u001b[43mlabels\u001b[49m\u001b[38;5;241;43m=\u001b[39;49m\u001b[43mlabels\u001b[49m\u001b[43m,\u001b[49m\n\u001b[0;32m   1292\u001b[0m \u001b[43m        \u001b[49m\u001b[43mpos_label\u001b[49m\u001b[38;5;241;43m=\u001b[39;49m\u001b[43mpos_label\u001b[49m\u001b[43m,\u001b[49m\n\u001b[0;32m   1293\u001b[0m \u001b[43m        \u001b[49m\u001b[43maverage\u001b[49m\u001b[38;5;241;43m=\u001b[39;49m\u001b[43maverage\u001b[49m\u001b[43m,\u001b[49m\n\u001b[0;32m   1294\u001b[0m \u001b[43m        \u001b[49m\u001b[43mwarn_for\u001b[49m\u001b[38;5;241;43m=\u001b[39;49m\u001b[43m(\u001b[49m\u001b[38;5;124;43m\"\u001b[39;49m\u001b[38;5;124;43mf-score\u001b[39;49m\u001b[38;5;124;43m\"\u001b[39;49m\u001b[43m,\u001b[49m\u001b[43m)\u001b[49m\u001b[43m,\u001b[49m\n\u001b[0;32m   1295\u001b[0m \u001b[43m        \u001b[49m\u001b[43msample_weight\u001b[49m\u001b[38;5;241;43m=\u001b[39;49m\u001b[43msample_weight\u001b[49m\u001b[43m,\u001b[49m\n\u001b[0;32m   1296\u001b[0m \u001b[43m        \u001b[49m\u001b[43mzero_division\u001b[49m\u001b[38;5;241;43m=\u001b[39;49m\u001b[43mzero_division\u001b[49m\u001b[43m,\u001b[49m\n\u001b[0;32m   1297\u001b[0m \u001b[43m    \u001b[49m\u001b[43m)\u001b[49m\n\u001b[0;32m   1298\u001b[0m     \u001b[38;5;28;01mreturn\u001b[39;00m f\n",
            "File \u001b[1;32m~\\anaconda3_new\\lib\\site-packages\\sklearn\\metrics\\_classification.py:1573\u001b[0m, in \u001b[0;36mprecision_recall_fscore_support\u001b[1;34m(y_true, y_pred, beta, labels, pos_label, average, warn_for, sample_weight, zero_division)\u001b[0m\n\u001b[0;32m   1571\u001b[0m \u001b[38;5;28;01mif\u001b[39;00m beta \u001b[38;5;241m<\u001b[39m \u001b[38;5;241m0\u001b[39m:\n\u001b[0;32m   1572\u001b[0m     \u001b[38;5;28;01mraise\u001b[39;00m \u001b[38;5;167;01mValueError\u001b[39;00m(\u001b[38;5;124m\"\u001b[39m\u001b[38;5;124mbeta should be >=0 in the F-beta score\u001b[39m\u001b[38;5;124m\"\u001b[39m)\n\u001b[1;32m-> 1573\u001b[0m labels \u001b[38;5;241m=\u001b[39m \u001b[43m_check_set_wise_labels\u001b[49m\u001b[43m(\u001b[49m\u001b[43my_true\u001b[49m\u001b[43m,\u001b[49m\u001b[43m \u001b[49m\u001b[43my_pred\u001b[49m\u001b[43m,\u001b[49m\u001b[43m \u001b[49m\u001b[43maverage\u001b[49m\u001b[43m,\u001b[49m\u001b[43m \u001b[49m\u001b[43mlabels\u001b[49m\u001b[43m,\u001b[49m\u001b[43m \u001b[49m\u001b[43mpos_label\u001b[49m\u001b[43m)\u001b[49m\n\u001b[0;32m   1575\u001b[0m \u001b[38;5;66;03m# Calculate tp_sum, pred_sum, true_sum ###\u001b[39;00m\n\u001b[0;32m   1576\u001b[0m samplewise \u001b[38;5;241m=\u001b[39m average \u001b[38;5;241m==\u001b[39m \u001b[38;5;124m\"\u001b[39m\u001b[38;5;124msamples\u001b[39m\u001b[38;5;124m\"\u001b[39m\n",
            "File \u001b[1;32m~\\anaconda3_new\\lib\\site-packages\\sklearn\\metrics\\_classification.py:1391\u001b[0m, in \u001b[0;36m_check_set_wise_labels\u001b[1;34m(y_true, y_pred, average, labels, pos_label)\u001b[0m\n\u001b[0;32m   1389\u001b[0m         \u001b[38;5;28;01mif\u001b[39;00m y_type \u001b[38;5;241m==\u001b[39m \u001b[38;5;124m\"\u001b[39m\u001b[38;5;124mmulticlass\u001b[39m\u001b[38;5;124m\"\u001b[39m:\n\u001b[0;32m   1390\u001b[0m             average_options\u001b[38;5;241m.\u001b[39mremove(\u001b[38;5;124m\"\u001b[39m\u001b[38;5;124msamples\u001b[39m\u001b[38;5;124m\"\u001b[39m)\n\u001b[1;32m-> 1391\u001b[0m         \u001b[38;5;28;01mraise\u001b[39;00m \u001b[38;5;167;01mValueError\u001b[39;00m(\n\u001b[0;32m   1392\u001b[0m             \u001b[38;5;124m\"\u001b[39m\u001b[38;5;124mTarget is \u001b[39m\u001b[38;5;132;01m%s\u001b[39;00m\u001b[38;5;124m but average=\u001b[39m\u001b[38;5;124m'\u001b[39m\u001b[38;5;124mbinary\u001b[39m\u001b[38;5;124m'\u001b[39m\u001b[38;5;124m. Please \u001b[39m\u001b[38;5;124m\"\u001b[39m\n\u001b[0;32m   1393\u001b[0m             \u001b[38;5;124m\"\u001b[39m\u001b[38;5;124mchoose another average setting, one of \u001b[39m\u001b[38;5;132;01m%r\u001b[39;00m\u001b[38;5;124m.\u001b[39m\u001b[38;5;124m\"\u001b[39m \u001b[38;5;241m%\u001b[39m (y_type, average_options)\n\u001b[0;32m   1394\u001b[0m         )\n\u001b[0;32m   1395\u001b[0m \u001b[38;5;28;01melif\u001b[39;00m pos_label \u001b[38;5;129;01mnot\u001b[39;00m \u001b[38;5;129;01min\u001b[39;00m (\u001b[38;5;28;01mNone\u001b[39;00m, \u001b[38;5;241m1\u001b[39m):\n\u001b[0;32m   1396\u001b[0m     warnings\u001b[38;5;241m.\u001b[39mwarn(\n\u001b[0;32m   1397\u001b[0m         \u001b[38;5;124m\"\u001b[39m\u001b[38;5;124mNote that pos_label (set to \u001b[39m\u001b[38;5;132;01m%r\u001b[39;00m\u001b[38;5;124m) is ignored when \u001b[39m\u001b[38;5;124m\"\u001b[39m\n\u001b[0;32m   1398\u001b[0m         \u001b[38;5;124m\"\u001b[39m\u001b[38;5;124maverage != \u001b[39m\u001b[38;5;124m'\u001b[39m\u001b[38;5;124mbinary\u001b[39m\u001b[38;5;124m'\u001b[39m\u001b[38;5;124m (got \u001b[39m\u001b[38;5;132;01m%r\u001b[39;00m\u001b[38;5;124m). You may use \u001b[39m\u001b[38;5;124m\"\u001b[39m\n\u001b[1;32m   (...)\u001b[0m\n\u001b[0;32m   1401\u001b[0m         \u001b[38;5;167;01mUserWarning\u001b[39;00m,\n\u001b[0;32m   1402\u001b[0m     )\n",
            "\u001b[1;31mValueError\u001b[0m: Target is multiclass but average='binary'. Please choose another average setting, one of [None, 'micro', 'macro', 'weighted']."
          ]
        }
      ],
      "source": [
        "Hata, hedef değerlerinizin çok sınıflı olduğu, ancak f1_score, recall_score ve roc_auc_score gibi metriklerin \n",
        "varsayılan olarak ikili sınıflandırma için yapılandırıldığından kaynaklanmaktadır. Bu durumu düzeltmek için,\n",
        "metriklerinizi çok sınıflı sınıflandırma durumunu ele alacak şekilde güncellemeniz gerekmektedir.\n",
        "\n",
        "f1_score ve recall_score için average parametresini \"micro\", \"macro\" veya \"weighted\" olarak belirleyebilirsiniz. \n",
        "\"micro\" ölçümü, tüm sınıflar için toplam doğru tahminlerin oranını hesaplar. \"macro\" ölçümü, sınıf başına F1 puanının \n",
        "ortalamasını alır ve sınıf dengesizliği göz ardı edilir. \"weighted\" ölçümü, sınıf başına F1 puanlarının ortalamasını alır \n",
        "ve sınıf dengesizliğini dikkate alır.\n",
        "\n",
        "Ayrıca, roc_auc_score için çok sınıflı durumu ele alacak şekilde güncellemeniz gerekmektedir. roc_auc_score için average \n",
        "ve multi_class parametrelerini ayarlayabilirsiniz.\n",
        "\n",
        "\n",
        "\n",
        "# y_pred = xgb_grid.predict(X_test)\n",
        "# y_pred_proba = xgb_grid.predict_proba(X_test)\n",
        "\n",
        "# xgb_f1 = f1_score(y_test, y_pred)\n",
        "# xgb_recall = recall_score(y_test, y_pred)\n",
        "# xgb_auc = roc_auc_score(y_test, y_pred_proba[:,1])\n",
        "\n",
        "# eval_metric(xgb_grid, X_train, y_train, X_test, y_test)"
      ]
    },
    {
      "cell_type": "code",
      "execution_count": null,
      "metadata": {
        "id": "hBZkZOePP5P5",
        "outputId": "ff806641-6636-4303-8f2f-ca667602fb8b"
      },
      "outputs": [
        {
          "name": "stdout",
          "output_type": "stream",
          "text": [
            "Test_Set\n",
            "[[752   0   5]\n",
            " [  0 239   2]\n",
            " [  0   1 134]]\n",
            "              precision    recall  f1-score   support\n",
            "\n",
            "           0       1.00      0.99      1.00       757\n",
            "           1       1.00      0.99      0.99       241\n",
            "           2       0.95      0.99      0.97       135\n",
            "\n",
            "    accuracy                           0.99      1133\n",
            "   macro avg       0.98      0.99      0.99      1133\n",
            "weighted avg       0.99      0.99      0.99      1133\n",
            "\n",
            "\n",
            "Train_Set\n",
            "[[3015    0    8]\n",
            " [   2  957    4]\n",
            " [   3    0  539]]\n",
            "              precision    recall  f1-score   support\n",
            "\n",
            "           0       1.00      1.00      1.00      3023\n",
            "           1       1.00      0.99      1.00       963\n",
            "           2       0.98      0.99      0.99       542\n",
            "\n",
            "    accuracy                           1.00      4528\n",
            "   macro avg       0.99      1.00      0.99      4528\n",
            "weighted avg       1.00      1.00      1.00      4528\n",
            "\n"
          ]
        }
      ],
      "source": [
        "from sklearn.metrics import f1_score, recall_score, roc_auc_score\n",
        "\n",
        "y_pred = xgb_grid.predict(X_test)\n",
        "y_pred_proba = xgb_grid.predict_proba(X_test)\n",
        "\n",
        "xgb_f1 = f1_score(y_test, y_pred, average='weighted') # veya 'micro' veya 'macro'\n",
        "xgb_recall = recall_score(y_test, y_pred, average='weighted') # veya 'micro' veya 'macro'\n",
        "xgb_auc = roc_auc_score(y_test, y_pred_proba, multi_class='ovr', average='weighted')\n",
        "\n",
        "eval_metric(xgb_grid, X_train, y_train, X_test, y_test)\n"
      ]
    },
    {
      "cell_type": "code",
      "execution_count": null,
      "metadata": {
        "id": "4iCe_0eKP5P5",
        "outputId": "98be483f-4da4-439c-ca35-c86300bd009a"
      },
      "outputs": [
        {
          "name": "stdout",
          "output_type": "stream",
          "text": [
            "Results for weighted average:\n",
            "F1 Score: 0.9930057849841805\n",
            "Recall: 0.9929390997352162\n",
            "AUC: 0.9985037179564337\n",
            "\n",
            "\n",
            "Results for micro average:\n",
            "F1 Score: 0.9929390997352163\n",
            "Recall: 0.9929390997352162\n",
            "AUC: 0.9994305474301018\n",
            "\n",
            "\n",
            "Results for macro average:\n",
            "F1 Score: 0.9871546779663297\n",
            "Recall: 0.992562939196937\n",
            "AUC: 0.998263912540604\n",
            "\n",
            "\n",
            "Test_Set\n",
            "[[752   0   5]\n",
            " [  0 239   2]\n",
            " [  0   1 134]]\n",
            "              precision    recall  f1-score   support\n",
            "\n",
            "           0       1.00      0.99      1.00       757\n",
            "           1       1.00      0.99      0.99       241\n",
            "           2       0.95      0.99      0.97       135\n",
            "\n",
            "    accuracy                           0.99      1133\n",
            "   macro avg       0.98      0.99      0.99      1133\n",
            "weighted avg       0.99      0.99      0.99      1133\n",
            "\n",
            "\n",
            "Train_Set\n",
            "[[3015    0    8]\n",
            " [   2  957    4]\n",
            " [   3    0  539]]\n",
            "              precision    recall  f1-score   support\n",
            "\n",
            "           0       1.00      1.00      1.00      3023\n",
            "           1       1.00      0.99      1.00       963\n",
            "           2       0.98      0.99      0.99       542\n",
            "\n",
            "    accuracy                           1.00      4528\n",
            "   macro avg       0.99      1.00      0.99      4528\n",
            "weighted avg       1.00      1.00      1.00      4528\n",
            "\n"
          ]
        }
      ],
      "source": [
        "from sklearn.metrics import f1_score, recall_score, roc_auc_score\n",
        "\n",
        "y_pred = xgb_grid.predict(X_test)\n",
        "y_pred_proba = xgb_grid.predict_proba(X_test)\n",
        "\n",
        "averages = ['weighted', 'micro', 'macro']\n",
        "\n",
        "for avg in averages:\n",
        "    xgb_f1 = f1_score(y_test, y_pred, average=avg)\n",
        "    xgb_recall = recall_score(y_test, y_pred, average=avg)\n",
        "    xgb_auc = roc_auc_score(y_test, y_pred_proba, multi_class='ovr', average=avg)\n",
        "\n",
        "    print(f\"Results for {avg} average:\")\n",
        "    print(f\"F1 Score: {xgb_f1}\")\n",
        "    print(f\"Recall: {xgb_recall}\")\n",
        "    print(f\"AUC: {xgb_auc}\")\n",
        "    print(\"\\n\")\n",
        "\n",
        "eval_metric(xgb_grid, X_train, y_train, X_test, y_test)\n"
      ]
    },
    {
      "cell_type": "markdown",
      "metadata": {
        "hidden": true,
        "id": "DbXAmOPVDatl"
      },
      "source": [
        "---\n",
        "---"
      ]
    },
    {
      "cell_type": "markdown",
      "metadata": {
        "id": "MuxLrNDzP5P6"
      },
      "source": [
        "(**weighted, micro and macro**)<https://towardsdatascience.com/micro-macro-weighted-averages-of-f1-score-clearly-explained-b603420b292f>\n",
        "\n",
        "\n",
        "- Çok sınıflı sınıflandırma problemlerinde, performans metriklerini hesaplamak için kullanılan average parametresi, farklı yöntemlerle ortalama almayı ifade eder: \"weighted\", \"micro\" ve \"macro\". Bu yöntemler, sınıfların dengesiz olduğu durumlarda önem kazanır ve model performansını değerlendirmenin farklı yönlerini vurgular.\n",
        "\n",
        "**Weighted:**\n",
        "- \"Weighted\" yöntemi, sınıf başına metrik değerlerinin, sınıf frekanslarına göre ağırlıklı ortalamasını alır. Bu yöntem, sınıf dengesizliğini dikkate alarak, daha büyük sınıfların metrik üzerinde daha fazla etkisi olmasını sağlar. Bu nedenle, dengesiz veri kümesi durumlarında daha iyi bir performans göstergesi olarak kabul edilir.\n",
        "\n",
        "**Micro:**\n",
        "- \"Micro\" yöntemi, tüm sınıflar için toplam doğru tahminlerin oranını hesaplar. Bu yöntemde, her sınıfın doğru tahmin sayısı toplanır ve toplam tahmin sayısına bölünerek metrik değeri hesaplanır. \"Micro\" yöntemi, sınıflar arasında metriklerin eşit ağırlıklandırılmasını sağlar ve tüm sınıfların performansını tek bir değerde birleştirir.\n",
        "\n",
        "**Macro:**\n",
        "- \"Macro\" yöntemi, sınıf başına metrik değerlerinin basit ortalamasını alır. Bu yöntem, her sınıfın eşit ağırlıkta olduğu varsayımıyla çalışır ve sınıf dengesizliğini göz ardı eder. \"Macro\" yöntemi, her sınıfın model performansına eşit önem vermek istediğinizde kullanılabilir, ancak dengesiz veri kümelerinde yanıltıcı olabilir.\n",
        "\n",
        "- Her bir yöntem, model performansını değerlendirmenin farklı yönlerini vurguladığından, hangi yöntemin kullanılacağına karar verirken, problem bağlamı ve iş hedefleri göz önünde bulundurulmalıdır."
      ]
    },
    {
      "cell_type": "markdown",
      "metadata": {
        "id": "9GpzNFFoP5P6"
      },
      "source": [
        "## Feature importances"
      ]
    },
    {
      "cell_type": "code",
      "execution_count": null,
      "metadata": {
        "id": "XH1dBxuzP5P6"
      },
      "outputs": [],
      "source": [
        "model = XGBClassifier(n_estimators=50,\n",
        "                      colsample_bytree=0.5,\n",
        "                      subsample=0.5,\n",
        "                      learning_rate=0.1,\n",
        "                      max_depth= 3)\n",
        "model.fit(X_train, y_train)\n",
        "\n",
        "model.feature_importances_\n",
        "\n",
        "feats = pd.DataFrame(index=X.columns,\n",
        "                     data=model.feature_importances_,\n",
        "                     columns=['xgb_importance'])\n",
        "xgb_imp_feats = feats.sort_values(\"xgb_importance\", ascending=False)\n",
        "xgb_imp_feats"
      ]
    },
    {
      "cell_type": "code",
      "execution_count": null,
      "metadata": {
        "id": "pJ1Pizs3P5P6"
      },
      "outputs": [],
      "source": [
        "ax = sns.barplot(data=xgb_imp_feats, \n",
        "                 x=xgb_imp_feats.index,\n",
        "                 y='xgb_importance')\n",
        "ax.bar_label(ax.containers[0],fmt=\"%.3f\")\n",
        "plt.xticks(rotation=90);"
      ]
    },
    {
      "cell_type": "markdown",
      "metadata": {
        "id": "8GG3L0MGP5P7"
      },
      "source": [
        "## Feature importance comparison"
      ]
    },
    {
      "cell_type": "code",
      "execution_count": null,
      "metadata": {
        "id": "HmjlHmGZP5P7",
        "outputId": "5478dc2d-e9f8-4b7a-ef45-31ba8e40660e"
      },
      "outputs": [
        {
          "ename": "ValueError",
          "evalue": "Expected 'estimator' to be a binary classifier, but got GridSearchCV fit on multiclass (3 classes) data",
          "output_type": "error",
          "traceback": [
            "\u001b[1;31m---------------------------------------------------------------------------\u001b[0m",
            "\u001b[1;31mValueError\u001b[0m                                Traceback (most recent call last)",
            "Cell \u001b[1;32mIn[179], line 1\u001b[0m\n\u001b[1;32m----> 1\u001b[0m \u001b[43mRocCurveDisplay\u001b[49m\u001b[38;5;241;43m.\u001b[39;49m\u001b[43mfrom_estimator\u001b[49m\u001b[43m(\u001b[49m\u001b[43mxgb_grid\u001b[49m\u001b[43m,\u001b[49m\u001b[43m \u001b[49m\u001b[43mX_test\u001b[49m\u001b[43m,\u001b[49m\u001b[43m \u001b[49m\u001b[43my_test\u001b[49m\u001b[43m)\u001b[49m\n",
            "File \u001b[1;32m~\\anaconda3_new\\lib\\site-packages\\sklearn\\metrics\\_plot\\roc_curve.py:234\u001b[0m, in \u001b[0;36mRocCurveDisplay.from_estimator\u001b[1;34m(cls, estimator, X, y, sample_weight, drop_intermediate, response_method, pos_label, name, ax, **kwargs)\u001b[0m\n\u001b[0;32m    230\u001b[0m check_matplotlib_support(\u001b[38;5;124mf\u001b[39m\u001b[38;5;124m\"\u001b[39m\u001b[38;5;132;01m{\u001b[39;00m\u001b[38;5;28mcls\u001b[39m\u001b[38;5;241m.\u001b[39m\u001b[38;5;18m__name__\u001b[39m\u001b[38;5;132;01m}\u001b[39;00m\u001b[38;5;124m.from_estimator\u001b[39m\u001b[38;5;124m\"\u001b[39m)\n\u001b[0;32m    232\u001b[0m name \u001b[38;5;241m=\u001b[39m estimator\u001b[38;5;241m.\u001b[39m\u001b[38;5;18m__class__\u001b[39m\u001b[38;5;241m.\u001b[39m\u001b[38;5;18m__name__\u001b[39m \u001b[38;5;28;01mif\u001b[39;00m name \u001b[38;5;129;01mis\u001b[39;00m \u001b[38;5;28;01mNone\u001b[39;00m \u001b[38;5;28;01melse\u001b[39;00m name\n\u001b[1;32m--> 234\u001b[0m y_pred, pos_label \u001b[38;5;241m=\u001b[39m \u001b[43m_get_response\u001b[49m\u001b[43m(\u001b[49m\n\u001b[0;32m    235\u001b[0m \u001b[43m    \u001b[49m\u001b[43mX\u001b[49m\u001b[43m,\u001b[49m\n\u001b[0;32m    236\u001b[0m \u001b[43m    \u001b[49m\u001b[43mestimator\u001b[49m\u001b[43m,\u001b[49m\n\u001b[0;32m    237\u001b[0m \u001b[43m    \u001b[49m\u001b[43mresponse_method\u001b[49m\u001b[38;5;241;43m=\u001b[39;49m\u001b[43mresponse_method\u001b[49m\u001b[43m,\u001b[49m\n\u001b[0;32m    238\u001b[0m \u001b[43m    \u001b[49m\u001b[43mpos_label\u001b[49m\u001b[38;5;241;43m=\u001b[39;49m\u001b[43mpos_label\u001b[49m\u001b[43m,\u001b[49m\n\u001b[0;32m    239\u001b[0m \u001b[43m\u001b[49m\u001b[43m)\u001b[49m\n\u001b[0;32m    241\u001b[0m \u001b[38;5;28;01mreturn\u001b[39;00m \u001b[38;5;28mcls\u001b[39m\u001b[38;5;241m.\u001b[39mfrom_predictions(\n\u001b[0;32m    242\u001b[0m     y_true\u001b[38;5;241m=\u001b[39my,\n\u001b[0;32m    243\u001b[0m     y_pred\u001b[38;5;241m=\u001b[39my_pred,\n\u001b[1;32m   (...)\u001b[0m\n\u001b[0;32m    249\u001b[0m     \u001b[38;5;241m*\u001b[39m\u001b[38;5;241m*\u001b[39mkwargs,\n\u001b[0;32m    250\u001b[0m )\n",
            "File \u001b[1;32m~\\anaconda3_new\\lib\\site-packages\\sklearn\\metrics\\_plot\\base.py:108\u001b[0m, in \u001b[0;36m_get_response\u001b[1;34m(X, estimator, response_method, pos_label)\u001b[0m\n\u001b[0;32m    106\u001b[0m     y_pred_shape \u001b[38;5;241m=\u001b[39m y_pred\u001b[38;5;241m.\u001b[39mshape[\u001b[38;5;241m1\u001b[39m]\n\u001b[0;32m    107\u001b[0m     \u001b[38;5;28;01mif\u001b[39;00m y_pred_shape \u001b[38;5;241m!=\u001b[39m \u001b[38;5;241m2\u001b[39m:\n\u001b[1;32m--> 108\u001b[0m         \u001b[38;5;28;01mraise\u001b[39;00m \u001b[38;5;167;01mValueError\u001b[39;00m(\n\u001b[0;32m    109\u001b[0m             \u001b[38;5;124mf\u001b[39m\u001b[38;5;124m\"\u001b[39m\u001b[38;5;132;01m{\u001b[39;00mclassification_error\u001b[38;5;132;01m}\u001b[39;00m\u001b[38;5;124m fit on multiclass (\u001b[39m\u001b[38;5;132;01m{\u001b[39;00my_pred_shape\u001b[38;5;132;01m}\u001b[39;00m\u001b[38;5;124m classes)\u001b[39m\u001b[38;5;124m\"\u001b[39m\n\u001b[0;32m    110\u001b[0m             \u001b[38;5;124m\"\u001b[39m\u001b[38;5;124m data\u001b[39m\u001b[38;5;124m\"\u001b[39m\n\u001b[0;32m    111\u001b[0m         )\n\u001b[0;32m    112\u001b[0m     y_pred \u001b[38;5;241m=\u001b[39m y_pred[:, class_idx]\n\u001b[0;32m    113\u001b[0m \u001b[38;5;28;01melif\u001b[39;00m pos_label \u001b[38;5;241m==\u001b[39m estimator\u001b[38;5;241m.\u001b[39mclasses_[\u001b[38;5;241m0\u001b[39m]:  \u001b[38;5;66;03m# `decision_function`\u001b[39;00m\n",
            "\u001b[1;31mValueError\u001b[0m: Expected 'estimator' to be a binary classifier, but got GridSearchCV fit on multiclass (3 classes) data"
          ]
        }
      ],
      "source": [
        "RocCurveDisplay.from_estimator(xgb_grid, X_test, y_test);"
      ]
    },
    {
      "cell_type": "code",
      "execution_count": null,
      "metadata": {
        "id": "78-f5B5zP5P7",
        "outputId": "20e52f0c-77ec-4aaa-bf07-bba843a44726"
      },
      "outputs": [
        {
          "data": {
            "image/png": "[encoded data removed]",
            "text/plain": [
              "<Figure size 800x550 with 1 Axes>"
            ]
          },
          "metadata": {},
          "output_type": "display_data"
        }
      ],
      "source": [
        "# Çok sınıflı sınıflandırma problemleri için ROC eğrisini çizmek, ikili sınıflandırma problemleri için \n",
        "# kullanılan yöntemden biraz farklıdır. ROC eğrisi, temel olarak ikili sınıflandırma için tasarlanmıştır. \n",
        "# Ancak, çok sınıflı problemlerde ROC eğrisini, her sınıfı pozitif sınıf ve diğer sınıfları negatif sınıf olarak \n",
        "# kabul ederek çizebilirsiniz. Bu, \"one-vs-rest\" yaklaşımı olarak bilinir.\n",
        "\n",
        "# Aşağıda, çok sınıflı bir probleme uygun hale getirilmiş ROC eğrisi çizimi için kodu bulabilirsiniz:\n",
        "\n",
        "\n",
        "import matplotlib.pyplot as plt\n",
        "from sklearn.metrics import RocCurveDisplay, roc_curve, auc\n",
        "from sklearn.preprocessing import label_binarize\n",
        "\n",
        "n_classes = len(np.unique(y_test))\n",
        "y_test_binarized = label_binarize(y_test, classes=np.arange(n_classes))\n",
        "y_pred_proba = xgb_grid.predict_proba(X_test)\n",
        "\n",
        "fpr = dict()\n",
        "tpr = dict()\n",
        "roc_auc = dict()\n",
        "\n",
        "for i in range(n_classes):\n",
        "    fpr[i], tpr[i], _ = roc_curve(y_test_binarized[:, i], y_pred_proba[:, i])\n",
        "    roc_auc[i] = auc(fpr[i], tpr[i])\n",
        "\n",
        "fig, ax = plt.subplots()\n",
        "for i in range(n_classes):\n",
        "    RocCurveDisplay(fpr=fpr[i], tpr=tpr[i], roc_auc=roc_auc[i], estimator_name=f\"Class {i+1}\").plot(ax=ax)\n",
        "\n",
        "plt.plot([0, 1], [0, 1], linestyle='--', color='gray')\n",
        "plt.xlim([0.0, 1.0])\n",
        "plt.ylim([0.0, 1.05])\n",
        "plt.xlabel('False Positive Rate')\n",
        "plt.ylabel('True Positive Rate')\n",
        "plt.title('ROC Curves for Multi-Class')\n",
        "plt.legend(loc=\"lower right\")\n",
        "plt.show()\n",
        "\n",
        "\n",
        "# Bu kod, veri kümenizdeki her sınıf için ayrı bir ROC eğrisi çizecektir. Bu, modelinizin sınıflar arasındaki \n",
        "# performansını görselleştirmenize yardımcı olur."
      ]
    },
    {
      "cell_type": "code",
      "execution_count": null,
      "metadata": {
        "id": "Z2cdBPp5P5P7"
      },
      "outputs": [],
      "source": []
    },
    {
      "cell_type": "markdown",
      "metadata": {
        "hidden": true,
        "id": "WvWpInu21b7L"
      },
      "source": [
        "---\n",
        "---"
      ]
    },
    {
      "cell_type": "markdown",
      "metadata": {
        "heading_collapsed": true,
        "id": "xg2k1ScZ1b7L"
      },
      "source": [
        "# SMOTE\n",
        "https://machinelearningmastery.com/smote-oversampling-for-imbalanced-classification/"
      ]
    },
    {
      "cell_type": "markdown",
      "metadata": {
        "hidden": true,
        "id": "9Rqk02x61b7L"
      },
      "source": [
        "##  Smote implement"
      ]
    },
    {
      "cell_type": "code",
      "execution_count": null,
      "metadata": {
        "hidden": true,
        "id": "XTN4iO7i1b7L"
      },
      "outputs": [],
      "source": [
        "# !pip install imblearn"
      ]
    },
    {
      "cell_type": "code",
      "execution_count": null,
      "metadata": {
        "hidden": true,
        "id": "Cv5155AN1b7L"
      },
      "outputs": [],
      "source": [
        "from imblearn.over_sampling import SMOTE\n",
        "from imblearn.under_sampling import RandomUnderSampler\n",
        "from imblearn.pipeline import Pipeline"
      ]
    },
    {
      "cell_type": "markdown",
      "metadata": {
        "hidden": true,
        "id": "aoKU_HZR1b7M"
      },
      "source": [
        "## SVC Over/Under Sampling"
      ]
    },
    {
      "cell_type": "code",
      "execution_count": null,
      "metadata": {
        "id": "JkNSgnut2Z6N"
      },
      "outputs": [],
      "source": [
        "df.DODRace.value_counts()"
      ]
    },
    {
      "cell_type": "markdown",
      "metadata": {
        "id": "-rh97ME3P5P9"
      },
      "source": [
        "**1) SVC OVERSAMPLING**"
      ]
    },
    {
      "cell_type": "code",
      "execution_count": null,
      "metadata": {
        "id": "YlxaSjxQP5P9"
      },
      "outputs": [],
      "source": [
        "X_resampled, y_resampled = SMOTE().fit_resample(X, y)"
      ]
    },
    {
      "cell_type": "code",
      "execution_count": null,
      "metadata": {
        "id": "BcBvDjmvP5P9"
      },
      "outputs": [],
      "source": [
        "# create the SMOTE object\n",
        "smote = SMOTE(random_state=42)\n",
        "\n",
        "# resample the training data only\n",
        "X_train_resampled, y_train_resampled = smote.fit_resample(X_train, y_train)"
      ]
    },
    {
      "cell_type": "code",
      "execution_count": null,
      "metadata": {
        "id": "crVbgZZmP5P9"
      },
      "outputs": [],
      "source": [
        "# find the best hyperparameters with gridsearch\n",
        "\n",
        "param_grid = {'SVC__C': [0.001, 0.05, 0.01],\n",
        "              'SVC__gamma': [\"scale\", \"auto\", 0.2],\n",
        "              'SVC__kernel': ['rbf', 'linear'], \n",
        "              'SVC__class_weight': [\"balanced\", None]}"
      ]
    },
    {
      "cell_type": "code",
      "execution_count": null,
      "metadata": {
        "id": "zOlRSt-9P5P9"
      },
      "outputs": [],
      "source": [
        "from sklearn.metrics import balanced_accuracy_score"
      ]
    },
    {
      "cell_type": "code",
      "execution_count": null,
      "metadata": {
        "id": "CdZhKBiwP5P9"
      },
      "outputs": [],
      "source": [
        "# set the operator order including scaler for pipeline and build SVC model by using pipeline\n",
        "operations = [(\"scaler\", StandardScaler()), (\"SVC\", SVC(probability=True))]\n",
        "pipe_model = Pipeline(steps=operations)\n",
        "\n",
        "# scores for imbalanced multiclass dataset-for CV\n",
        "scoring = {\n",
        "    'weighted_precision': make_scorer(precision_score, average='weighted'),\n",
        "    'weighted_recall': make_scorer(recall_score, average='weighted'),\n",
        "    'weighted_f1': make_scorer(f1_score, average='weighted'),\n",
        "    'macro_f1': make_scorer(f1_score, average='macro'),\n",
        "    'balanced_accuracy': make_scorer(balanced_accuracy_score)\n",
        "}\n",
        "\n",
        "# Perform grid search\n",
        "SMOTE_svm = GridSearchCV(pipe_model, \n",
        "                          param_grid, \n",
        "                          scoring=scoring,\n",
        "                          cv=10, \n",
        "                         refit='macro_f1',\n",
        "                          n_jobs=-1,\n",
        "                          return_train_score=True)"
      ]
    },
    {
      "cell_type": "code",
      "execution_count": null,
      "metadata": {
        "id": "VfPIVV0oP5P-"
      },
      "outputs": [],
      "source": []
    },
    {
      "cell_type": "code",
      "execution_count": null,
      "metadata": {
        "scrolled": true,
        "tags": [],
        "id": "C06k-3NrP5P-"
      },
      "outputs": [],
      "source": [
        "# Fit the model on the balanced dataset\n",
        "SMOTE_svm.fit(X_train_resampled, y_train_resampled)"
      ]
    },
    {
      "cell_type": "code",
      "execution_count": null,
      "metadata": {
        "id": "IpS0yumaP5P-"
      },
      "outputs": [],
      "source": [
        "# get the best estimators\n",
        "SMOTE_svm.best_estimator_"
      ]
    },
    {
      "cell_type": "code",
      "execution_count": null,
      "metadata": {
        "id": "dck3IUz1P5P-"
      },
      "outputs": [],
      "source": [
        "# check overfitting\n",
        "pd.DataFrame(SMOTE_svm.cv_results_).loc[SMOTE_svm.best_index_, [\"mean_test_score\", \"mean_train_score\"]]\n"
      ]
    },
    {
      "cell_type": "code",
      "execution_count": null,
      "metadata": {
        "id": "4QPUHPIjP5P_"
      },
      "outputs": [],
      "source": [
        "# check evaluation metrics and scores\n",
        "eval_metric(SMOTE_svm, X_train_resampled, y_train_resampled, X_test, y_test)"
      ]
    },
    {
      "cell_type": "code",
      "execution_count": null,
      "metadata": {
        "id": "_kqjkhDnP5P_"
      },
      "outputs": [],
      "source": [
        "# with gridsearch, we don't need cv again, however if we want to see all metrics, we can implement\n",
        "operations = [(\"scaler\", StandardScaler()), \n",
        "              (\"SVC\", SVC(C= 0.01, kernel= 'linear', probability=True, \n",
        "                                                        class_weight=\"balanced\"))]"
      ]
    },
    {
      "cell_type": "code",
      "execution_count": null,
      "metadata": {
        "id": "Ps0l-6KJP5P_"
      },
      "outputs": [],
      "source": [
        "\n",
        "# rebuild the model with best hyperparameters found during gridsearch\n",
        "model = Pipeline(steps=operations)\n",
        "\n",
        "scores = cross_validate(model, \n",
        "                        X_train, \n",
        "                        y_train, \n",
        "                        scoring=scoring, \n",
        "                        cv = 10,\n",
        "                        return_train_score=True)\n",
        "df_scores = pd.DataFrame(scores, index = range(1, 11))\n",
        "df_scores.mean()[2:]"
      ]
    },
    {
      "cell_type": "markdown",
      "metadata": {
        "hidden": true,
        "id": "1hBIqmFL1b7O"
      },
      "source": [
        "## Xgboost Over/ Under Sampling"
      ]
    },
    {
      "cell_type": "code",
      "execution_count": null,
      "metadata": {
        "id": "12AItu1M2ds0"
      },
      "outputs": [],
      "source": []
    },
    {
      "cell_type": "markdown",
      "metadata": {
        "hidden": true,
        "id": "T1pPLjpA1b7P"
      },
      "source": [
        "- Evaluation metrics \n",
        "https://towardsdatascience.com/comprehensive-guide-on-multiclass-classification-metrics-af94cfb83fbd"
      ]
    },
    {
      "cell_type": "code",
      "execution_count": null,
      "metadata": {
        "hidden": true,
        "id": "Me3OZtQF1b7P"
      },
      "outputs": [],
      "source": [
        "from sklearn.metrics import matthews_corrcoef\n",
        "\n",
        "matthews_corrcoef(y_test, y_pred)"
      ]
    },
    {
      "cell_type": "code",
      "execution_count": null,
      "metadata": {
        "hidden": true,
        "id": "P74oLhzK1b7P"
      },
      "outputs": [],
      "source": [
        "from sklearn.metrics import cohen_kappa_score\n",
        "\n",
        "cohen_kappa_score(y_test, y_pred)"
      ]
    },
    {
      "cell_type": "markdown",
      "metadata": {
        "heading_collapsed": true,
        "id": "AVnS0UKO1b7P"
      },
      "source": [
        "#  SHAP\n",
        "\n",
        "https://towardsdatascience.com/shap-explain-any-machine-learning-model-in-python-24207127cad7"
      ]
    },
    {
      "cell_type": "code",
      "execution_count": null,
      "metadata": {
        "hidden": true,
        "id": "-vB4oVMU1b7P",
        "scrolled": true
      },
      "outputs": [],
      "source": [
        "# !pip install shap"
      ]
    },
    {
      "cell_type": "code",
      "execution_count": null,
      "metadata": {
        "hidden": true,
        "id": "ryW4sFrT1b7P"
      },
      "outputs": [],
      "source": [
        "import shap\n",
        "explainer = shap.Explainer(log_model,X_train)\n",
        "start_index = 203\n",
        "end_index = 204\n",
        "shap_values = explainer.shap_values(X_test[start_index:end_index])"
      ]
    },
    {
      "cell_type": "code",
      "execution_count": null,
      "metadata": {
        "hidden": true,
        "id": "eTTPiHfB1b7Q",
        "scrolled": true
      },
      "outputs": [],
      "source": [
        "shap_values"
      ]
    },
    {
      "cell_type": "code",
      "execution_count": null,
      "metadata": {
        "hidden": true,
        "id": "IVG77ukO1b7Q"
      },
      "outputs": [],
      "source": [
        "print(shap_values[0].shape)"
      ]
    },
    {
      "cell_type": "code",
      "execution_count": null,
      "metadata": {
        "hidden": true,
        "id": "Ea2YZzkQ1b7Q"
      },
      "outputs": [],
      "source": [
        "# %% >> Visualize local predictions\n",
        "shap.initjs()\n",
        "# Force plot\n",
        "prediction = log_model.predict(X_test[start_index:end_index])[0]\n",
        "print(f\"The log_model predicted: {prediction}\")\n",
        "shap.force_plot(explainer.expected_value[1],\n",
        "                shap_values[1],\n",
        "                X_test[start_index:end_index], # for values\n",
        "                feature_names= X.columns,) "
      ]
    },
    {
      "cell_type": "code",
      "execution_count": null,
      "metadata": {
        "hidden": true,
        "id": "DscXral61b7Q",
        "scrolled": true
      },
      "outputs": [],
      "source": [
        "shap.summary_plot(shap_values, X_train,max_display=300,feature_names = X.columns)"
      ]
    },
    {
      "cell_type": "markdown",
      "metadata": {
        "heading_collapsed": true,
        "id": "9hxUcvZG1b7J"
      },
      "source": [
        "# Before the Deployment \n",
        "- Choose the model that works best based on your chosen metric\n",
        "- For final step, fit the best model with whole dataset to get better performance.\n",
        "- And your model ready to deploy, dump your model and scaler."
      ]
    },
    {
      "cell_type": "code",
      "execution_count": null,
      "metadata": {
        "id": "4UOn_G0n2N2Z"
      },
      "outputs": [],
      "source": []
    },
    {
      "cell_type": "markdown",
      "metadata": {
        "hidden": true,
        "id": "g8_x-BiN1b7Q"
      },
      "source": [
        "___\n",
        "\n",
        "<p style=\"text-align: center;\"><img src=\"https://docs.google.com/uc?id=1lY0Uj5R04yMY3-ZppPWxqCr5pvBLYPnV\" class=\"img-fluid\" alt=\"CLRSWY\"></p>\n",
        "\n",
        "___"
      ]
    }
  ],
  "metadata": {
    "colab": {
      "collapsed_sections": [
        "K7UZHtvu1b62",
        "C5lJeTBu1b65",
        "TMjCTEG51b67",
        "CS5-GZy0sl4s",
        "zfi_NOw0s2fM",
        "p3gH5QvE1b7I",
        "9hxUcvZG1b7J",
        "9Rqk02x61b7L",
        "aoKU_HZR1b7M",
        "1hBIqmFL1b7O",
        "AVnS0UKO1b7P"
      ],
      "provenance": []
    },
    "hide_input": false,
    "interpreter": {
      "hash": "e4e90950cb561445fc7289d5187c528b28750a487d008a70b474c773afaf79b7"
    },
    "kernelspec": {
      "display_name": "Python 3 (ipykernel)",
      "language": "python",
      "name": "python3"
    },
    "language_info": {
      "codemirror_mode": {
        "name": "ipython",
        "version": 3
      },
      "file_extension": ".py",
      "mimetype": "text/x-python",
      "name": "python",
      "nbconvert_exporter": "python",
      "pygments_lexer": "ipython3",
      "version": "3.9.13"
    },
    "toc": {
      "base_numbering": 1,
      "nav_menu": {},
      "number_sections": true,
      "sideBar": true,
      "skip_h1_title": false,
      "title_cell": "Table of Contents",
      "title_sidebar": "Contents",
      "toc_cell": false,
      "toc_position": {
        "height": "calc(100% - 180px)",
        "left": "10px",
        "top": "150px",
        "width": "338.797px"
      },
      "toc_section_display": true,
      "toc_window_display": false
    },
    "varInspector": {
      "cols": {
        "lenName": 16,
        "lenType": 16,
        "lenVar": 40
      },
      "kernels_config": {
        "python": {
          "delete_cmd_postfix": "",
          "delete_cmd_prefix": "del ",
          "library": "var_list.py",
          "varRefreshCmd": "print(var_dic_list())"
        },
        "r": {
          "delete_cmd_postfix": ") ",
          "delete_cmd_prefix": "rm(",
          "library": "var_list.r",
          "varRefreshCmd": "cat(var_dic_list()) "
        }
      },
      "oldHeight": 527,
      "position": {
        "height": "40px",
        "left": "1034px",
        "right": "20px",
        "top": "185px",
        "width": "661px"
      },
      "types_to_exclude": [
        "module",
        "function",
        "builtin_function_or_method",
        "instance",
        "_Feature"
      ],
      "varInspector_section_display": "none",
      "window_display": false
    }
  },
  "nbformat": 4,
  "nbformat_minor": 0
}